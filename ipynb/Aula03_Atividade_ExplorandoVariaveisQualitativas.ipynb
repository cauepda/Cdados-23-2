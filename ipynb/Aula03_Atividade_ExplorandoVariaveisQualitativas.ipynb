{
 "cells": [
  {
   "cell_type": "markdown",
   "metadata": {},
   "source": [
    "___\n",
    "# Atividade: <p> <center> Análise Exploratória de Dados - Variáveis Qualitativas\n",
    "___\n",
    "\n",
    "## Aula 03\n",
    "\n",
    "**Objetivo da aula:** Ao final desta aula, o aluno deve ser capaz de:\n",
    " * Selecionar informações de bancos de dados, tratá-los e prepará-los para processamento; e\n",
    " * Elaborar análises exploratórias de dados (univariadas e multivariadas), utilizando ferramentas estatísticas e computacionais adequadas.\n"
   ]
  },
  {
   "cell_type": "markdown",
   "metadata": {},
   "source": [
    "___\n",
    "<div id=\"indice\"></div>\n",
    "\n",
    "## Índice\n",
    "\n",
    "- [Empresa de TV](#empresa-de-tv)\n",
    "\n",
    "- [Tipos de variáveis](#tipos-de-variaveis)\n",
    "    - [Exercício 1](#ex1)\n",
    "    \n",
    "    \n",
    "- [Definindo as variáveis qualitativas nas colunas do *dataframe* ](#definindo)\n",
    "    - [Modificando o tipo de uma coluna para ser uma variável qualitativa](#astype)\n",
    "    - [Modificando os rótulos de uma variável qualitativa](#categories)\n",
    "    - [Modificando uma variável qualitativa do tipo Nominal para Ordinal](#nominalparaordinal)\n",
    "\n",
    "\n",
    "- [Análise Exploratória Univariada - Tabelas de frequências](#value_counts)\n",
    "    - [Exercício 2](#ex2)\n",
    "    - [Exercício 3](#ex3)\n",
    "\n",
    "\n",
    "- [Análise Exploratória Bivariada - Tabelas cruzadas de frequências](#crosstab)\n",
    "    - [Exercício 4](#ex4)\n",
    "    - [Exercício 5](#ex5)\n",
    "\n",
    "\n",
    "- [Análise Exploratória - Gráficos](#barplot)\n",
    "    - [Exercício 6](#ex6)\n",
    "    - [Exercício 7](#ex7)\n",
    "        "
   ]
  },
  {
   "cell_type": "markdown",
   "metadata": {},
   "source": [
    "___\n",
    "<div id=\"empresa-de-tv\"></div>\n",
    "\n",
    "# Empresa de TV\n",
    "\n",
    "<img src=\"data/empresaTV.jpg\" height=\"400\">\n",
    "\n",
    "Fonte: extraído da internet"
   ]
  },
  {
   "cell_type": "markdown",
   "metadata": {},
   "source": [
    "Uma empresa de TV via satélite criou recentemente dois tipos de planos de canais (A e B).\n",
    "\n",
    "A empresa tem como objetivo estudar o perfil dos clientes que aderiram ao plano para enviar malas diretas aos potenciais clientes de cada tipo de plano.\n",
    "\n",
    "A base de dados apresenta algumas informações para uma amostra de 82 clientes selecionados aleatoriamente dentre aqueles que aderiram aos planos. As variáveis têm os seguintes significados:\n",
    "\n",
    "* CLIENTE: identificador do cliente.\n",
    "* PLANO: apresenta o plano adquirido pelo cliente – (1=A ou 2=B). \n",
    "* EC: apresenta estado civil do cliente informaçõesno momento da adesão ao  plano – (1=Casado, 2=Solteiro e 3=Outros).\n",
    "* SATISFACAO: grau de satisfação do cliente pelo plano – \n",
    "\t(Muito insatisfeito, Insatisfeito, Indiferente, Satisfeito e Muito satisfeito).\n",
    "* RENDA: renda pessoal do cliente, em milhares de reais.\n",
    "\n",
    "O arquivo `EmpresaTV_Cod.xlsx` contém as informações descritas acima."
   ]
  },
  {
   "cell_type": "markdown",
   "metadata": {},
   "source": [
    "<div id=\"tipos-de-variaveis\"></div>\n",
    "\n",
    "# Tipos de variáveis\n",
    "\n",
    "Antes de olhar os dados, vamos refletir sobre os tipos de cada variável disponível. Lembrando que temos:\n",
    "\n",
    "- Variáveis qualitativas (ou categóricas):\n",
    "    - Nominal\n",
    "    - Ordinal\n",
    "- Variáveis quantitativas (ou numéricas):\n",
    "    - Discreta\n",
    "    - Contínua"
   ]
  },
  {
   "cell_type": "markdown",
   "metadata": {},
   "source": [
    "<div id=\"ex1\"></div>\n",
    "\n",
    "### EXERCÍCIO 1:\n",
    "\n",
    "Classifique cada uma das variáveis disponíveis <font color=\"red\">(modifique esta célula)</font>:\n",
    "\n",
    "- PLANO: Qualitativa Nominal\n",
    "- EC: Qualitativa Nominal\n",
    "- SATISFACAO: Qualitativa Ordinal\n",
    "- RENDA: Quantitativa Contínua"
   ]
  },
  {
   "cell_type": "markdown",
   "metadata": {},
   "source": [
    "___\n",
    "Agora sim, vamos carregar os dados do arquivo:"
   ]
  },
  {
   "cell_type": "code",
   "execution_count": 2,
   "metadata": {},
   "outputs": [],
   "source": [
    "%matplotlib inline\n",
    "import pandas as pd\n",
    "import os\n",
    "\n",
    "# Para ter melhor print\n",
    "from IPython.display import display"
   ]
  },
  {
   "cell_type": "code",
   "execution_count": 4,
   "metadata": {},
   "outputs": [
    {
     "name": "stdout",
     "output_type": "stream",
     "text": [
      "Esperamos trabalhar no diretório\n",
      "/Users/cauedagostinho/Documents/Insper/2˚sem/Cdados\n"
     ]
    }
   ],
   "source": [
    "# Listando o diretório de trabalho. Lembre-se que o arquivo com a base de dados precisa estar neste diretório.\n",
    "print('Esperamos trabalhar no diretório')\n",
    "print(os.getcwd())"
   ]
  },
  {
   "cell_type": "code",
   "execution_count": 5,
   "metadata": {},
   "outputs": [],
   "source": [
    "# Carregando os dados do arquivo\n",
    "dados = pd.read_excel('data/EmpresaTV_Cod.xlsx')"
   ]
  },
  {
   "cell_type": "code",
   "execution_count": 6,
   "metadata": {
    "scrolled": false
   },
   "outputs": [
    {
     "data": {
      "text/html": [
       "<div>\n",
       "<style scoped>\n",
       "    .dataframe tbody tr th:only-of-type {\n",
       "        vertical-align: middle;\n",
       "    }\n",
       "\n",
       "    .dataframe tbody tr th {\n",
       "        vertical-align: top;\n",
       "    }\n",
       "\n",
       "    .dataframe thead th {\n",
       "        text-align: right;\n",
       "    }\n",
       "</style>\n",
       "<table border=\"1\" class=\"dataframe\">\n",
       "  <thead>\n",
       "    <tr style=\"text-align: right;\">\n",
       "      <th></th>\n",
       "      <th>CLIENTE</th>\n",
       "      <th>PLANO</th>\n",
       "      <th>EC</th>\n",
       "      <th>SATISFACAO</th>\n",
       "      <th>RENDA</th>\n",
       "    </tr>\n",
       "  </thead>\n",
       "  <tbody>\n",
       "    <tr>\n",
       "      <th>0</th>\n",
       "      <td>1</td>\n",
       "      <td>1</td>\n",
       "      <td>1</td>\n",
       "      <td>Muito Satisfeito</td>\n",
       "      <td>21.4</td>\n",
       "    </tr>\n",
       "    <tr>\n",
       "      <th>1</th>\n",
       "      <td>2</td>\n",
       "      <td>1</td>\n",
       "      <td>2</td>\n",
       "      <td>Muito Satisfeito</td>\n",
       "      <td>17.2</td>\n",
       "    </tr>\n",
       "    <tr>\n",
       "      <th>2</th>\n",
       "      <td>3</td>\n",
       "      <td>1</td>\n",
       "      <td>3</td>\n",
       "      <td>Muito Satisfeito</td>\n",
       "      <td>15.6</td>\n",
       "    </tr>\n",
       "  </tbody>\n",
       "</table>\n",
       "</div>"
      ],
      "text/plain": [
       "   CLIENTE  PLANO  EC        SATISFACAO  RENDA\n",
       "0        1      1   1  Muito Satisfeito   21.4\n",
       "1        2      1   2  Muito Satisfeito   17.2\n",
       "2        3      1   3  Muito Satisfeito   15.6"
      ]
     },
     "execution_count": 6,
     "metadata": {},
     "output_type": "execute_result"
    }
   ],
   "source": [
    "# Visualizando as primeiras 3 linhas\n",
    "dados.head(3)"
   ]
  },
  {
   "cell_type": "markdown",
   "metadata": {},
   "source": [
    "[Volta ao Índice](#indice)"
   ]
  },
  {
   "cell_type": "markdown",
   "metadata": {},
   "source": [
    "___\n",
    "<div id=\"definindo\"></div>\n",
    "\n",
    "# Definindo as variáveis qualitativas nas colunas do *dataframe* \n",
    "\n",
    "No [primeiro exercício](#ex1) você deve ter identificado as variáveis PLANO, EC e SATISFACAO como qualitativas (ou categóricas). <br>\n",
    "O pandas não tem como saber dessa informação ao carregar os dados, então precisamos modificar as colunas do *dataframe* explicitamente por meio de comando.\n"
   ]
  },
  {
   "cell_type": "markdown",
   "metadata": {},
   "source": [
    "<div id=\"astype\"></div>\n",
    "\n",
    "## Modificando o tipo de uma coluna para ser uma variável qualitativa\n",
    "\n",
    "A função `.astype()` devolve uma cópia da coluna do *dataframe* convertida para o tipo desejado. Por exemplo, para transformar uma coluna em categórica devemos utilizar `.astype('category')`.\n",
    "\n",
    "Veja o comando acima aplicado na coluna `PLANO`:"
   ]
  },
  {
   "cell_type": "code",
   "execution_count": 7,
   "metadata": {},
   "outputs": [
    {
     "data": {
      "text/plain": [
       "0     1\n",
       "1     1\n",
       "2     1\n",
       "3     1\n",
       "4     1\n",
       "     ..\n",
       "77    2\n",
       "78    2\n",
       "79    2\n",
       "80    2\n",
       "81    2\n",
       "Name: PLANO, Length: 82, dtype: category\n",
       "Categories (2, int64): [1, 2]"
      ]
     },
     "execution_count": 7,
     "metadata": {},
     "output_type": "execute_result"
    }
   ],
   "source": [
    "dados['PLANO'].astype('category')"
   ]
  },
  {
   "cell_type": "markdown",
   "metadata": {},
   "source": [
    "Vamos verificar se, para o *dataframe* `dados`, a coluna `PLANO` passou a ser considerada como do tipo categórica:"
   ]
  },
  {
   "cell_type": "code",
   "execution_count": 8,
   "metadata": {},
   "outputs": [
    {
     "data": {
      "text/plain": [
       "CLIENTE         int64\n",
       "PLANO           int64\n",
       "EC              int64\n",
       "SATISFACAO     object\n",
       "RENDA         float64\n",
       "dtype: object"
      ]
     },
     "execution_count": 8,
     "metadata": {},
     "output_type": "execute_result"
    }
   ],
   "source": [
    "dados.dtypes"
   ]
  },
  {
   "cell_type": "markdown",
   "metadata": {},
   "source": [
    "Executando o código acima, notamos que a coluna `PLANO` ainda é identificada como do numérica (inteiro). <br>\n",
    "Para modificar o tipo da variável dentro do *dataframe*, deve executar o comando `.astype()` em uma coluna do *dataframe* e guardar a execução do comando dentro da própria coluna utilizada. <br>\n",
    "Veja exemplo:"
   ]
  },
  {
   "cell_type": "code",
   "execution_count": 9,
   "metadata": {},
   "outputs": [],
   "source": [
    "dados['PLANO'] = dados['PLANO'].astype('category')"
   ]
  },
  {
   "cell_type": "markdown",
   "metadata": {},
   "source": [
    "**Aplicação:** Faça o mesmo para a coluna `EC` e `SATISFAÇÃO`."
   ]
  },
  {
   "cell_type": "code",
   "execution_count": null,
   "metadata": {},
   "outputs": [],
   "source": [
    "# ESCREVA SEU CODIGO AQUI"
   ]
  },
  {
   "cell_type": "code",
   "execution_count": 10,
   "metadata": {},
   "outputs": [
    {
     "data": {
      "text/html": [
       "<div>\n",
       "<style scoped>\n",
       "    .dataframe tbody tr th:only-of-type {\n",
       "        vertical-align: middle;\n",
       "    }\n",
       "\n",
       "    .dataframe tbody tr th {\n",
       "        vertical-align: top;\n",
       "    }\n",
       "\n",
       "    .dataframe thead th {\n",
       "        text-align: right;\n",
       "    }\n",
       "</style>\n",
       "<table border=\"1\" class=\"dataframe\">\n",
       "  <thead>\n",
       "    <tr style=\"text-align: right;\">\n",
       "      <th></th>\n",
       "      <th>CLIENTE</th>\n",
       "      <th>PLANO</th>\n",
       "      <th>EC</th>\n",
       "      <th>SATISFACAO</th>\n",
       "      <th>RENDA</th>\n",
       "    </tr>\n",
       "  </thead>\n",
       "  <tbody>\n",
       "    <tr>\n",
       "      <th>0</th>\n",
       "      <td>1</td>\n",
       "      <td>1</td>\n",
       "      <td>1</td>\n",
       "      <td>Muito Satisfeito</td>\n",
       "      <td>21.4</td>\n",
       "    </tr>\n",
       "    <tr>\n",
       "      <th>1</th>\n",
       "      <td>2</td>\n",
       "      <td>1</td>\n",
       "      <td>2</td>\n",
       "      <td>Muito Satisfeito</td>\n",
       "      <td>17.2</td>\n",
       "    </tr>\n",
       "    <tr>\n",
       "      <th>2</th>\n",
       "      <td>3</td>\n",
       "      <td>1</td>\n",
       "      <td>3</td>\n",
       "      <td>Muito Satisfeito</td>\n",
       "      <td>15.6</td>\n",
       "    </tr>\n",
       "    <tr>\n",
       "      <th>3</th>\n",
       "      <td>4</td>\n",
       "      <td>1</td>\n",
       "      <td>1</td>\n",
       "      <td>Satisfeito</td>\n",
       "      <td>10.4</td>\n",
       "    </tr>\n",
       "    <tr>\n",
       "      <th>4</th>\n",
       "      <td>5</td>\n",
       "      <td>1</td>\n",
       "      <td>2</td>\n",
       "      <td>Muito Satisfeito</td>\n",
       "      <td>17.6</td>\n",
       "    </tr>\n",
       "  </tbody>\n",
       "</table>\n",
       "</div>"
      ],
      "text/plain": [
       "   CLIENTE PLANO EC        SATISFACAO  RENDA\n",
       "0        1     1  1  Muito Satisfeito   21.4\n",
       "1        2     1  2  Muito Satisfeito   17.2\n",
       "2        3     1  3  Muito Satisfeito   15.6\n",
       "3        4     1  1        Satisfeito   10.4\n",
       "4        5     1  2  Muito Satisfeito   17.6"
      ]
     },
     "execution_count": 10,
     "metadata": {},
     "output_type": "execute_result"
    }
   ],
   "source": [
    "dados['EC'] = dados['EC'].astype('category')\n",
    "dados['SATISFACAO'] = dados['SATISFACAO'].astype('category')\n",
    "dados.head()"
   ]
  },
  {
   "cell_type": "code",
   "execution_count": 11,
   "metadata": {},
   "outputs": [
    {
     "data": {
      "text/plain": [
       "CLIENTE          int64\n",
       "PLANO         category\n",
       "EC            category\n",
       "SATISFACAO    category\n",
       "RENDA          float64\n",
       "dtype: object"
      ]
     },
     "execution_count": 11,
     "metadata": {},
     "output_type": "execute_result"
    }
   ],
   "source": [
    "dados.dtypes"
   ]
  },
  {
   "cell_type": "markdown",
   "metadata": {},
   "source": [
    "[Volta ao Índice](#indice)"
   ]
  },
  {
   "cell_type": "markdown",
   "metadata": {},
   "source": [
    "<div id=\"categories\"></div>\n",
    "\n",
    "## Modificando os rótulos de uma variável qualitativa\n",
    "\n",
    "O uso de rótulos numéricos das variáveis `PLANO` e `EC` é útil para determinadas finalidades como redução do tamanho da base de dados, mas isso dificulta na compreensão dos *outputs* quando o intuito é fazer análise exploratória dos dados. \n",
    "\n",
    "Vamos substituir os rótulos numéricos das variáveis qualitativas pelos seus respectivos significados.\n",
    "\n",
    "\n",
    "\n",
    "Agora que transformamos as colunas qualitativas em categóricas, podemos listar as categorias com `.cat.categories`:"
   ]
  },
  {
   "cell_type": "code",
   "execution_count": 13,
   "metadata": {
    "scrolled": true
   },
   "outputs": [
    {
     "data": {
      "text/plain": [
       "Int64Index([1, 2], dtype='int64')"
      ]
     },
     "execution_count": 13,
     "metadata": {},
     "output_type": "execute_result"
    }
   ],
   "source": [
    "# Exemplo com a coluna PLANO\n",
    "dados['PLANO'].cat.categories"
   ]
  },
  {
   "cell_type": "markdown",
   "metadata": {},
   "source": [
    "Podemos substituir os códigos todos de uma vez da seguinte maneira:"
   ]
  },
  {
   "cell_type": "code",
   "execution_count": 15,
   "metadata": {},
   "outputs": [
    {
     "data": {
      "text/plain": [
       "Index(['A', 'B'], dtype='object')"
      ]
     },
     "execution_count": 15,
     "metadata": {},
     "output_type": "execute_result"
    }
   ],
   "source": [
    "# Exemplo com a coluna PLANO\n",
    "dados['PLANO'].cat.categories = ['A', 'B']\n",
    "\n",
    "\n",
    "# Visualizando o resultado\n",
    "dados['PLANO'].cat.categories"
   ]
  },
  {
   "cell_type": "markdown",
   "metadata": {},
   "source": [
    "Note que essa ação atualiza todos os valores dessa coluna no `DataFrame`:"
   ]
  },
  {
   "cell_type": "code",
   "execution_count": 16,
   "metadata": {},
   "outputs": [
    {
     "data": {
      "text/plain": [
       "0     A\n",
       "1     A\n",
       "2     A\n",
       "3     A\n",
       "4     A\n",
       "     ..\n",
       "77    B\n",
       "78    B\n",
       "79    B\n",
       "80    B\n",
       "81    B\n",
       "Name: PLANO, Length: 82, dtype: category\n",
       "Categories (2, object): ['A', 'B']"
      ]
     },
     "execution_count": 16,
     "metadata": {},
     "output_type": "execute_result"
    }
   ],
   "source": [
    "dados['PLANO']"
   ]
  },
  {
   "cell_type": "markdown",
   "metadata": {},
   "source": [
    "**Aplicação:** Faça o mesmo para a coluna `EC`."
   ]
  },
  {
   "cell_type": "code",
   "execution_count": null,
   "metadata": {},
   "outputs": [],
   "source": [
    "# ESCREVA SEU CODIGO AQUI"
   ]
  },
  {
   "cell_type": "code",
   "execution_count": 21,
   "metadata": {},
   "outputs": [
    {
     "data": {
      "text/plain": [
       "Index(['CASADO', 'SOLTEIRO', 'OUTROS'], dtype='object')"
      ]
     },
     "execution_count": 21,
     "metadata": {},
     "output_type": "execute_result"
    }
   ],
   "source": [
    "dados['EC'].cat.categories = ['CASADO', 'SOLTEIRO', 'OUTROS']\n",
    "dados['EC'].cat.categories"
   ]
  },
  {
   "cell_type": "markdown",
   "metadata": {},
   "source": [
    "[Volta ao Índice](#indice)"
   ]
  },
  {
   "cell_type": "markdown",
   "metadata": {},
   "source": [
    "<div id=\"nominalparaordinal\"></div>\n",
    "\n",
    "## Modificando a variável qualitativa do tipo Nominal para Ordinal\n",
    "\n",
    "Já definimos para o *dataframe* `dados` que as variáveis `PLANO`, `EC` e `SATISFACAO` são categóricas, ou seja, variáveis qualitativas. Porém, como definir no Pandas se essas variáveis são nominais (onde não existe uma ordenação natural) ou ordinais (em que existe ordenação)?\n",
    "\n",
    "A informação de que uma variável categórica deve ser nominal ou ordinal está no atributo `.cat.ordered` da variável. Por padrão, quando definimos que uma variável é categórica, o Pandas supõe que seja nominal (sem ordem). Confira:"
   ]
  },
  {
   "cell_type": "code",
   "execution_count": 22,
   "metadata": {},
   "outputs": [
    {
     "data": {
      "text/plain": [
       "False"
      ]
     },
     "execution_count": 22,
     "metadata": {},
     "output_type": "execute_result"
    }
   ],
   "source": [
    "dados['PLANO'].cat.ordered"
   ]
  },
  {
   "cell_type": "code",
   "execution_count": 23,
   "metadata": {},
   "outputs": [
    {
     "data": {
      "text/plain": [
       "False"
      ]
     },
     "execution_count": 23,
     "metadata": {},
     "output_type": "execute_result"
    }
   ],
   "source": [
    "dados['EC'].cat.ordered"
   ]
  },
  {
   "cell_type": "code",
   "execution_count": 24,
   "metadata": {},
   "outputs": [
    {
     "data": {
      "text/plain": [
       "False"
      ]
     },
     "execution_count": 24,
     "metadata": {},
     "output_type": "execute_result"
    }
   ],
   "source": [
    "dados['SATISFACAO'].cat.ordered"
   ]
  },
  {
   "cell_type": "markdown",
   "metadata": {},
   "source": [
    "<div id=\"satisfacao-categoria\"></div>\n",
    "\n",
    "Contudo, a variável `SATISFACAO` é ordinal. Para converter esta variável de nominal para ordinal devemos usar o comando `pd.Categorical()`:"
   ]
  },
  {
   "cell_type": "code",
   "execution_count": 25,
   "metadata": {},
   "outputs": [],
   "source": [
    "dados['SATISFACAO'] = pd.Categorical(dados['SATISFACAO'], \n",
    "                                     categories = ['Muito Insatisfeito', 'Insatisfeito', 'Indiferente', \n",
    "                                                   'Satisfeito', 'Muito Satisfeito'], \n",
    "                                     ordered=True)"
   ]
  },
  {
   "cell_type": "code",
   "execution_count": 26,
   "metadata": {},
   "outputs": [
    {
     "data": {
      "text/plain": [
       "True"
      ]
     },
     "execution_count": 26,
     "metadata": {},
     "output_type": "execute_result"
    }
   ],
   "source": [
    "dados['SATISFACAO'].cat.ordered"
   ]
  },
  {
   "cell_type": "code",
   "execution_count": 27,
   "metadata": {
    "scrolled": true
   },
   "outputs": [
    {
     "data": {
      "text/plain": [
       "0       Muito Satisfeito\n",
       "1       Muito Satisfeito\n",
       "2       Muito Satisfeito\n",
       "3             Satisfeito\n",
       "4       Muito Satisfeito\n",
       "             ...        \n",
       "77          Insatisfeito\n",
       "78          Insatisfeito\n",
       "79          Insatisfeito\n",
       "80          Insatisfeito\n",
       "81    Muito Insatisfeito\n",
       "Name: SATISFACAO, Length: 82, dtype: category\n",
       "Categories (5, object): ['Muito Insatisfeito' < 'Insatisfeito' < 'Indiferente' < 'Satisfeito' < 'Muito Satisfeito']"
      ]
     },
     "execution_count": 27,
     "metadata": {},
     "output_type": "execute_result"
    }
   ],
   "source": [
    "dados['SATISFACAO']"
   ]
  },
  {
   "cell_type": "markdown",
   "metadata": {},
   "source": [
    "Observe que agora o relatório informa que 'Muito insatisfeito' vem antes de 'Insatisfeito', etc."
   ]
  },
  {
   "cell_type": "markdown",
   "metadata": {},
   "source": [
    "[Volta ao Índice](#indice)"
   ]
  },
  {
   "cell_type": "markdown",
   "metadata": {},
   "source": [
    "___\n",
    "<div id=\"value_counts\"></div>\n",
    "\n",
    "# Análise Exploratória Univariada - Tabelas de frequências\n",
    "\n",
    "Agora estamos prontos para começar nossa análise. Uma primeira pergunta que podemos nos fazer é: dos 82 clientes selecionados, quantos aderiram ao plano A e quantos aderiram ao plano B? Para isso podemos utilizar uma tabela de frequências.\n",
    "\n",
    "<div id=\"value_counts\"></div>\n",
    "\n",
    "A função `.value_counts()` pode ser utilizada para montar a tabela de frequências **de uma coluna**."
   ]
  },
  {
   "cell_type": "code",
   "execution_count": 28,
   "metadata": {
    "scrolled": true
   },
   "outputs": [
    {
     "data": {
      "text/plain": [
       "A    46\n",
       "B    36\n",
       "Name: PLANO, dtype: int64"
      ]
     },
     "execution_count": 28,
     "metadata": {},
     "output_type": "execute_result"
    }
   ],
   "source": [
    "dados['PLANO'].value_counts()"
   ]
  },
  {
   "cell_type": "markdown",
   "metadata": {},
   "source": [
    "<div id=\"ex2\"></div>\n",
    "\n",
    "### EXERCÍCIO 2:\n",
    "\n",
    "Na célula acima, obtivemos a tabela de frequências absoluta, ou seja, contagem de clientes que fizeram a adesão de cada plano da empresa de TV. \n",
    "\n",
    "Neste exercício, faça:\n",
    "\n",
    " * Pesquise na documentação da função `value_counts()` como obter uma **tabela de frequências relativas**. <br>\n",
    " Faça uma busca por \"pandas value_counts\" em sua *search engine* de preferência.\n",
    " * A seguir, construa uma **tabela de frequências relativas** para cada uma das variáveis qualitativas contidas no *dataframe*  `dados`.\n",
    " \n",
    "\n",
    "**DICA:** Não feche a documentação da função `value_counts()`. Você ainda vai precisar dela."
   ]
  },
  {
   "cell_type": "code",
   "execution_count": null,
   "metadata": {},
   "outputs": [],
   "source": [
    "# ESCREVA SEU CODIGO AQUI"
   ]
  },
  {
   "cell_type": "code",
   "execution_count": 32,
   "metadata": {},
   "outputs": [],
   "source": [
    "df = dados.copy()"
   ]
  },
  {
   "cell_type": "code",
   "execution_count": 55,
   "metadata": {},
   "outputs": [],
   "source": [
    "relative_freq_PLANOS = (df['PLANO'].value_counts(normalize=True)).to_frame()\n",
    "relative_freq_EC = (df['EC'].value_counts(normalize=True)).to_frame()\n",
    "relative_freq_SATISFACAO = (df['SATISFACAO'].value_counts(normalize=True)).to_frame()"
   ]
  },
  {
   "cell_type": "code",
   "execution_count": 67,
   "metadata": {},
   "outputs": [
    {
     "data": {
      "text/html": [
       "<div>\n",
       "<style scoped>\n",
       "    .dataframe tbody tr th:only-of-type {\n",
       "        vertical-align: middle;\n",
       "    }\n",
       "\n",
       "    .dataframe tbody tr th {\n",
       "        vertical-align: top;\n",
       "    }\n",
       "\n",
       "    .dataframe thead th {\n",
       "        text-align: right;\n",
       "    }\n",
       "</style>\n",
       "<table border=\"1\" class=\"dataframe\">\n",
       "  <thead>\n",
       "    <tr style=\"text-align: right;\">\n",
       "      <th></th>\n",
       "      <th>PLANO</th>\n",
       "    </tr>\n",
       "  </thead>\n",
       "  <tbody>\n",
       "    <tr>\n",
       "      <th>A</th>\n",
       "      <td>0.560976</td>\n",
       "    </tr>\n",
       "    <tr>\n",
       "      <th>B</th>\n",
       "      <td>0.439024</td>\n",
       "    </tr>\n",
       "  </tbody>\n",
       "</table>\n",
       "</div>"
      ],
      "text/plain": [
       "      PLANO\n",
       "A  0.560976\n",
       "B  0.439024"
      ]
     },
     "execution_count": 67,
     "metadata": {},
     "output_type": "execute_result"
    }
   ],
   "source": [
    "relative_freq_PLANOS"
   ]
  },
  {
   "cell_type": "code",
   "execution_count": 68,
   "metadata": {},
   "outputs": [
    {
     "data": {
      "text/html": [
       "<div>\n",
       "<style scoped>\n",
       "    .dataframe tbody tr th:only-of-type {\n",
       "        vertical-align: middle;\n",
       "    }\n",
       "\n",
       "    .dataframe tbody tr th {\n",
       "        vertical-align: top;\n",
       "    }\n",
       "\n",
       "    .dataframe thead th {\n",
       "        text-align: right;\n",
       "    }\n",
       "</style>\n",
       "<table border=\"1\" class=\"dataframe\">\n",
       "  <thead>\n",
       "    <tr style=\"text-align: right;\">\n",
       "      <th></th>\n",
       "      <th>EC</th>\n",
       "    </tr>\n",
       "  </thead>\n",
       "  <tbody>\n",
       "    <tr>\n",
       "      <th>CASADO</th>\n",
       "      <td>0.439024</td>\n",
       "    </tr>\n",
       "    <tr>\n",
       "      <th>SOLTEIRO</th>\n",
       "      <td>0.402439</td>\n",
       "    </tr>\n",
       "    <tr>\n",
       "      <th>OUTROS</th>\n",
       "      <td>0.158537</td>\n",
       "    </tr>\n",
       "  </tbody>\n",
       "</table>\n",
       "</div>"
      ],
      "text/plain": [
       "                EC\n",
       "CASADO    0.439024\n",
       "SOLTEIRO  0.402439\n",
       "OUTROS    0.158537"
      ]
     },
     "execution_count": 68,
     "metadata": {},
     "output_type": "execute_result"
    }
   ],
   "source": [
    "relative_freq_EC"
   ]
  },
  {
   "cell_type": "code",
   "execution_count": 69,
   "metadata": {},
   "outputs": [
    {
     "data": {
      "text/html": [
       "<div>\n",
       "<style scoped>\n",
       "    .dataframe tbody tr th:only-of-type {\n",
       "        vertical-align: middle;\n",
       "    }\n",
       "\n",
       "    .dataframe tbody tr th {\n",
       "        vertical-align: top;\n",
       "    }\n",
       "\n",
       "    .dataframe thead th {\n",
       "        text-align: right;\n",
       "    }\n",
       "</style>\n",
       "<table border=\"1\" class=\"dataframe\">\n",
       "  <thead>\n",
       "    <tr style=\"text-align: right;\">\n",
       "      <th></th>\n",
       "      <th>SATISFACAO</th>\n",
       "    </tr>\n",
       "  </thead>\n",
       "  <tbody>\n",
       "    <tr>\n",
       "      <th>Satisfeito</th>\n",
       "      <td>0.329268</td>\n",
       "    </tr>\n",
       "    <tr>\n",
       "      <th>Indiferente</th>\n",
       "      <td>0.231707</td>\n",
       "    </tr>\n",
       "    <tr>\n",
       "      <th>Insatisfeito</th>\n",
       "      <td>0.195122</td>\n",
       "    </tr>\n",
       "    <tr>\n",
       "      <th>Muito Satisfeito</th>\n",
       "      <td>0.146341</td>\n",
       "    </tr>\n",
       "    <tr>\n",
       "      <th>Muito Insatisfeito</th>\n",
       "      <td>0.097561</td>\n",
       "    </tr>\n",
       "  </tbody>\n",
       "</table>\n",
       "</div>"
      ],
      "text/plain": [
       "                    SATISFACAO\n",
       "Satisfeito            0.329268\n",
       "Indiferente           0.231707\n",
       "Insatisfeito          0.195122\n",
       "Muito Satisfeito      0.146341\n",
       "Muito Insatisfeito    0.097561"
      ]
     },
     "execution_count": 69,
     "metadata": {},
     "output_type": "execute_result"
    }
   ],
   "source": [
    "relative_freq_SATISFACAO"
   ]
  },
  {
   "cell_type": "markdown",
   "metadata": {},
   "source": [
    "[Volta ao Índice](#indice)"
   ]
  },
  {
   "cell_type": "markdown",
   "metadata": {},
   "source": [
    "**A seguir, apresentamos DUAS maneiras para extrair os rótulos e as frequências de uma tabela construída com o comando `value_counts()`:**"
   ]
  },
  {
   "cell_type": "markdown",
   "metadata": {},
   "source": [
    "**MANEIRA 1:**"
   ]
  },
  {
   "cell_type": "code",
   "execution_count": 46,
   "metadata": {},
   "outputs": [
    {
     "name": "stdout",
     "output_type": "stream",
     "text": [
      "Tabela de frequências absolutas - ESTADO CIVIL\n"
     ]
    },
    {
     "data": {
      "text/html": [
       "<div>\n",
       "<style scoped>\n",
       "    .dataframe tbody tr th:only-of-type {\n",
       "        vertical-align: middle;\n",
       "    }\n",
       "\n",
       "    .dataframe tbody tr th {\n",
       "        vertical-align: top;\n",
       "    }\n",
       "\n",
       "    .dataframe thead th {\n",
       "        text-align: right;\n",
       "    }\n",
       "</style>\n",
       "<table border=\"1\" class=\"dataframe\">\n",
       "  <thead>\n",
       "    <tr style=\"text-align: right;\">\n",
       "      <th></th>\n",
       "      <th>EC</th>\n",
       "    </tr>\n",
       "  </thead>\n",
       "  <tbody>\n",
       "    <tr>\n",
       "      <th>CASADO</th>\n",
       "      <td>36</td>\n",
       "    </tr>\n",
       "    <tr>\n",
       "      <th>SOLTEIRO</th>\n",
       "      <td>33</td>\n",
       "    </tr>\n",
       "    <tr>\n",
       "      <th>OUTROS</th>\n",
       "      <td>13</td>\n",
       "    </tr>\n",
       "  </tbody>\n",
       "</table>\n",
       "</div>"
      ],
      "text/plain": [
       "          EC\n",
       "CASADO    36\n",
       "SOLTEIRO  33\n",
       "OUTROS    13"
      ]
     },
     "execution_count": 46,
     "metadata": {},
     "output_type": "execute_result"
    }
   ],
   "source": [
    "tab = dados['EC'].value_counts()\n",
    "print('Tabela de frequências absolutas - ESTADO CIVIL')\n",
    "tab.to_frame()"
   ]
  },
  {
   "cell_type": "code",
   "execution_count": 48,
   "metadata": {
    "scrolled": true
   },
   "outputs": [
    {
     "data": {
      "text/plain": [
       "['CASADO', 'SOLTEIRO', 'OUTROS']"
      ]
     },
     "execution_count": 48,
     "metadata": {},
     "output_type": "execute_result"
    }
   ],
   "source": [
    "list(tab.index)"
   ]
  },
  {
   "cell_type": "code",
   "execution_count": 49,
   "metadata": {
    "scrolled": true
   },
   "outputs": [
    {
     "data": {
      "text/plain": [
       "[36, 33, 13]"
      ]
     },
     "execution_count": 49,
     "metadata": {},
     "output_type": "execute_result"
    }
   ],
   "source": [
    "list(tab.values)"
   ]
  },
  {
   "cell_type": "markdown",
   "metadata": {},
   "source": [
    "**MANEIRA 2:**"
   ]
  },
  {
   "cell_type": "code",
   "execution_count": 50,
   "metadata": {},
   "outputs": [
    {
     "data": {
      "text/plain": [
       "[('CASADO', 36), ('SOLTEIRO', 33), ('OUTROS', 13)]"
      ]
     },
     "execution_count": 50,
     "metadata": {},
     "output_type": "execute_result"
    }
   ],
   "source": [
    "list(tab.iteritems())"
   ]
  },
  {
   "cell_type": "code",
   "execution_count": 51,
   "metadata": {
    "scrolled": false
   },
   "outputs": [
    {
     "name": "stdout",
     "output_type": "stream",
     "text": [
      "Categoria CASADO foi encontrada 36 vezes\n",
      "Categoria SOLTEIRO foi encontrada 33 vezes\n",
      "Categoria OUTROS foi encontrada 13 vezes\n"
     ]
    }
   ],
   "source": [
    "for rotulo, contagem in tab.iteritems():\n",
    "    print(f'Categoria {rotulo} foi encontrada {contagem} vezes')"
   ]
  },
  {
   "cell_type": "markdown",
   "metadata": {},
   "source": [
    "**Ver este [link](https://stackoverflow.com/questions/36973387/accessing-first-column-of-pandas-value-counts) para mais detalhes, por exemplo**"
   ]
  },
  {
   "cell_type": "markdown",
   "metadata": {},
   "source": [
    "[Volta ao Índice](#indice)"
   ]
  },
  {
   "cell_type": "markdown",
   "metadata": {},
   "source": [
    "<div id=\"ex3\"></div>\n",
    "\n",
    "### EXERCÍCIO 3:\n",
    "\n",
    "Em particular psaras a variável `SATISFACAO`, as tabelas de frequências absolutas e relativas nos dão as informações que precisamos? <br>\n",
    "Como `SATISFACAO` é qualitativa ORDINAL, será que conseguimos melhorar o *output* dessa tabela de frequências?\n",
    "\n",
    "Procure na documentação da função `value_counts()`:\n",
    " * Por que a tabela construída com o comando `dados['SATISFACAO'].value_counts()` fica com os rótulos apresentados nessa ordem?\n",
    " * Como fazer para não utilizar essa ordem dos rótulos, mas sim utilizar a [ordem natural definida nas categorias dessa variável](#satisfacao-categoria)?\n",
    " * Escreva na célula abaixo, o código que mostra uma **tabela de frequências relativas** na ordem natural desejada."
   ]
  },
  {
   "cell_type": "code",
   "execution_count": null,
   "metadata": {},
   "outputs": [],
   "source": [
    "# ESCREVA SEU CODIGO AQUI"
   ]
  },
  {
   "cell_type": "code",
   "execution_count": 70,
   "metadata": {},
   "outputs": [
    {
     "data": {
      "text/html": [
       "<div>\n",
       "<style scoped>\n",
       "    .dataframe tbody tr th:only-of-type {\n",
       "        vertical-align: middle;\n",
       "    }\n",
       "\n",
       "    .dataframe tbody tr th {\n",
       "        vertical-align: top;\n",
       "    }\n",
       "\n",
       "    .dataframe thead th {\n",
       "        text-align: right;\n",
       "    }\n",
       "</style>\n",
       "<table border=\"1\" class=\"dataframe\">\n",
       "  <thead>\n",
       "    <tr style=\"text-align: right;\">\n",
       "      <th></th>\n",
       "      <th>SATISFACAO</th>\n",
       "    </tr>\n",
       "  </thead>\n",
       "  <tbody>\n",
       "    <tr>\n",
       "      <th>Muito Insatisfeito</th>\n",
       "      <td>0.097561</td>\n",
       "    </tr>\n",
       "    <tr>\n",
       "      <th>Insatisfeito</th>\n",
       "      <td>0.195122</td>\n",
       "    </tr>\n",
       "    <tr>\n",
       "      <th>Indiferente</th>\n",
       "      <td>0.231707</td>\n",
       "    </tr>\n",
       "    <tr>\n",
       "      <th>Satisfeito</th>\n",
       "      <td>0.329268</td>\n",
       "    </tr>\n",
       "    <tr>\n",
       "      <th>Muito Satisfeito</th>\n",
       "      <td>0.146341</td>\n",
       "    </tr>\n",
       "  </tbody>\n",
       "</table>\n",
       "</div>"
      ],
      "text/plain": [
       "                    SATISFACAO\n",
       "Muito Insatisfeito    0.097561\n",
       "Insatisfeito          0.195122\n",
       "Indiferente           0.231707\n",
       "Satisfeito            0.329268\n",
       "Muito Satisfeito      0.146341"
      ]
     },
     "execution_count": 70,
     "metadata": {},
     "output_type": "execute_result"
    }
   ],
   "source": [
    "relative_freq_SATISFACAO = (df['SATISFACAO'].value_counts(normalize=True, sort=False)).to_frame()\n",
    "relative_freq_SATISFACAO"
   ]
  },
  {
   "cell_type": "markdown",
   "metadata": {},
   "source": [
    "[Volta ao Índice](#indice)"
   ]
  },
  {
   "cell_type": "markdown",
   "metadata": {},
   "source": [
    "___\n",
    "<div id=\"crosstab\"></div>\n",
    "\n",
    "## Análise Exploratória Bivariada - Tabelas cruzadas de frequências\n",
    "\n",
    "Nas tabelas de frequências univariadas, já vimos quantos clientes aderiram a cada plano, conhecemos os níveis de estado civil mais frequentes e quantos estão em cada grau de satisfação. \n",
    "\n",
    "Contudo, lembrando do propósito inicial da empresa de TV, essa deseja estudar o perfil dos atuais clientes em cada plano e usá-lo para encontrar novos potenciais clientes com esse mesmo perfil.\n",
    "\n",
    "Para isso, podemos pensar em algumas perguntas como:\n",
    " * Qual plano de maior destaque entre os casados? É o mesmo entre os solteiros? E entre os outros?\n",
    " * Como é a satisfação dos clientes do plano A se comparada à dos clientes do plano B?\n",
    "\n",
    "\n",
    "Nesse caso, um recurso descritivo para explorar os dados e responder as perguntas acima é fazendo uso de uma tabela cruzada de frequências que podem ser absolutas ou relativas. Mantendo o *default* dos demais argumentos, a função `pd.crosstab` coloca nas linhas os rótulas da variável qualitativa colocada no seu primeiro argumento. Já as colunas da tabela são formadas pelos rótulos da variável qualitativa colocada no segundo argumento dessa função.\n",
    "\n",
    "Veja a seguir a sintaxe da função e interprete o *output* frente ao objetivo do problema."
   ]
  },
  {
   "cell_type": "code",
   "execution_count": 71,
   "metadata": {},
   "outputs": [
    {
     "data": {
      "text/html": [
       "<div>\n",
       "<style scoped>\n",
       "    .dataframe tbody tr th:only-of-type {\n",
       "        vertical-align: middle;\n",
       "    }\n",
       "\n",
       "    .dataframe tbody tr th {\n",
       "        vertical-align: top;\n",
       "    }\n",
       "\n",
       "    .dataframe thead th {\n",
       "        text-align: right;\n",
       "    }\n",
       "</style>\n",
       "<table border=\"1\" class=\"dataframe\">\n",
       "  <thead>\n",
       "    <tr style=\"text-align: right;\">\n",
       "      <th>SATISFACAO</th>\n",
       "      <th>Muito Insatisfeito</th>\n",
       "      <th>Insatisfeito</th>\n",
       "      <th>Indiferente</th>\n",
       "      <th>Satisfeito</th>\n",
       "      <th>Muito Satisfeito</th>\n",
       "    </tr>\n",
       "    <tr>\n",
       "      <th>PLANO</th>\n",
       "      <th></th>\n",
       "      <th></th>\n",
       "      <th></th>\n",
       "      <th></th>\n",
       "      <th></th>\n",
       "    </tr>\n",
       "  </thead>\n",
       "  <tbody>\n",
       "    <tr>\n",
       "      <th>A</th>\n",
       "      <td>2</td>\n",
       "      <td>5</td>\n",
       "      <td>7</td>\n",
       "      <td>20</td>\n",
       "      <td>12</td>\n",
       "    </tr>\n",
       "    <tr>\n",
       "      <th>B</th>\n",
       "      <td>6</td>\n",
       "      <td>11</td>\n",
       "      <td>12</td>\n",
       "      <td>7</td>\n",
       "      <td>0</td>\n",
       "    </tr>\n",
       "  </tbody>\n",
       "</table>\n",
       "</div>"
      ],
      "text/plain": [
       "SATISFACAO  Muito Insatisfeito  Insatisfeito  Indiferente  Satisfeito  \\\n",
       "PLANO                                                                   \n",
       "A                            2             5            7          20   \n",
       "B                            6            11           12           7   \n",
       "\n",
       "SATISFACAO  Muito Satisfeito  \n",
       "PLANO                         \n",
       "A                         12  \n",
       "B                          0  "
      ]
     },
     "execution_count": 71,
     "metadata": {},
     "output_type": "execute_result"
    }
   ],
   "source": [
    "pd.crosstab(dados['PLANO'], dados['SATISFACAO'])"
   ]
  },
  {
   "cell_type": "markdown",
   "metadata": {},
   "source": [
    "<div id=\"ex4\"></div>\n",
    "\n",
    "### EXERCÍCIO 4\n",
    "\n",
    "Sabemos que a quantidade de clientes em cada plano na nossa amostra é diferente. <br>\n",
    "Por esse motivo, não podemos comparar os valores absolutos. <br>\n",
    "Procure a documentação da função `pd.crosstab()` no seu navegador (busque por \"pandas crosstab\") e crie uma nova tabela cruzada entre essas variáveis que respeite as seguintes restrições:\n",
    " * Apresente as **frequências relativas do grau de satisfação por plano**. <br>\n",
    " Ou seja, do total de clientes do plano A, qual é a frequência relativa de muito insatisfeito, insatisfeito, etc. E para os do plano B?;\n",
    " * Apresente essas **frequências relativas em percentual e com 3 casas decimais**;\n",
    " * Armazene o resultado em um objeto chamada `plano_x_satisfacao` (é importante que você utilize exatamente esse nome para que as próximas células funcionem).\n",
    " * Interprete essa tabela em termos do problema."
   ]
  },
  {
   "cell_type": "code",
   "execution_count": null,
   "metadata": {},
   "outputs": [],
   "source": [
    "# ESCREVA SEU CODIGO AQUI"
   ]
  },
  {
   "cell_type": "code",
   "execution_count": 79,
   "metadata": {},
   "outputs": [],
   "source": [
    "plano_x_satisfacao = pd.crosstab(dados['PLANO'], dados['SATISFACAO'], normalize='index', \n",
    "                                 margins=True, margins_name='Total')\n",
    "plano_x_satisfacao = plano_x_satisfacao.round(3)"
   ]
  },
  {
   "cell_type": "code",
   "execution_count": 80,
   "metadata": {},
   "outputs": [
    {
     "data": {
      "text/html": [
       "<div>\n",
       "<style scoped>\n",
       "    .dataframe tbody tr th:only-of-type {\n",
       "        vertical-align: middle;\n",
       "    }\n",
       "\n",
       "    .dataframe tbody tr th {\n",
       "        vertical-align: top;\n",
       "    }\n",
       "\n",
       "    .dataframe thead th {\n",
       "        text-align: right;\n",
       "    }\n",
       "</style>\n",
       "<table border=\"1\" class=\"dataframe\">\n",
       "  <thead>\n",
       "    <tr style=\"text-align: right;\">\n",
       "      <th>SATISFACAO</th>\n",
       "      <th>Muito Insatisfeito</th>\n",
       "      <th>Insatisfeito</th>\n",
       "      <th>Indiferente</th>\n",
       "      <th>Satisfeito</th>\n",
       "      <th>Muito Satisfeito</th>\n",
       "    </tr>\n",
       "    <tr>\n",
       "      <th>PLANO</th>\n",
       "      <th></th>\n",
       "      <th></th>\n",
       "      <th></th>\n",
       "      <th></th>\n",
       "      <th></th>\n",
       "    </tr>\n",
       "  </thead>\n",
       "  <tbody>\n",
       "    <tr>\n",
       "      <th>A</th>\n",
       "      <td>0.043</td>\n",
       "      <td>0.109</td>\n",
       "      <td>0.152</td>\n",
       "      <td>0.435</td>\n",
       "      <td>0.261</td>\n",
       "    </tr>\n",
       "    <tr>\n",
       "      <th>B</th>\n",
       "      <td>0.167</td>\n",
       "      <td>0.306</td>\n",
       "      <td>0.333</td>\n",
       "      <td>0.194</td>\n",
       "      <td>0.000</td>\n",
       "    </tr>\n",
       "    <tr>\n",
       "      <th>Total</th>\n",
       "      <td>0.098</td>\n",
       "      <td>0.195</td>\n",
       "      <td>0.232</td>\n",
       "      <td>0.329</td>\n",
       "      <td>0.146</td>\n",
       "    </tr>\n",
       "  </tbody>\n",
       "</table>\n",
       "</div>"
      ],
      "text/plain": [
       "SATISFACAO  Muito Insatisfeito  Insatisfeito  Indiferente  Satisfeito  \\\n",
       "PLANO                                                                   \n",
       "A                        0.043         0.109        0.152       0.435   \n",
       "B                        0.167         0.306        0.333       0.194   \n",
       "Total                    0.098         0.195        0.232       0.329   \n",
       "\n",
       "SATISFACAO  Muito Satisfeito  \n",
       "PLANO                         \n",
       "A                      0.261  \n",
       "B                      0.000  \n",
       "Total                  0.146  "
      ]
     },
     "execution_count": 80,
     "metadata": {},
     "output_type": "execute_result"
    }
   ],
   "source": [
    "plano_x_satisfacao"
   ]
  },
  {
   "cell_type": "markdown",
   "metadata": {},
   "source": [
    "<div id=\"ex5\"></div>\n",
    "\n",
    "### EXERCÍCIO 5\n",
    "\n",
    "Na prática, a variável estadao civil de um cliente poderia ser utilizada para prever (ou palpitar) sobre a escolha de um plano de TV. <br>\n",
    "Aqui, construa uma **tabela de frequências relativas que permita prever um plano mais adequado a partir do perfil do cliente, ou seja, aqui neste exemplo, a partir do seu estado civil**. <br>\n",
    "Interprete-a em termos do problema."
   ]
  },
  {
   "cell_type": "code",
   "execution_count": null,
   "metadata": {},
   "outputs": [],
   "source": [
    "# ESCREVA SEU CODIGO AQUI"
   ]
  },
  {
   "cell_type": "code",
   "execution_count": 81,
   "metadata": {},
   "outputs": [],
   "source": [
    "plano_x_ec = pd.crosstab(dados['PLANO'], dados['EC'], normalize='index', margins=True, margins_name='Total')\n",
    "plano_x_ec = plano_x_ec.round(3)"
   ]
  },
  {
   "cell_type": "code",
   "execution_count": 82,
   "metadata": {},
   "outputs": [
    {
     "data": {
      "text/html": [
       "<div>\n",
       "<style scoped>\n",
       "    .dataframe tbody tr th:only-of-type {\n",
       "        vertical-align: middle;\n",
       "    }\n",
       "\n",
       "    .dataframe tbody tr th {\n",
       "        vertical-align: top;\n",
       "    }\n",
       "\n",
       "    .dataframe thead th {\n",
       "        text-align: right;\n",
       "    }\n",
       "</style>\n",
       "<table border=\"1\" class=\"dataframe\">\n",
       "  <thead>\n",
       "    <tr style=\"text-align: right;\">\n",
       "      <th>EC</th>\n",
       "      <th>CASADO</th>\n",
       "      <th>SOLTEIRO</th>\n",
       "      <th>OUTROS</th>\n",
       "    </tr>\n",
       "    <tr>\n",
       "      <th>PLANO</th>\n",
       "      <th></th>\n",
       "      <th></th>\n",
       "      <th></th>\n",
       "    </tr>\n",
       "  </thead>\n",
       "  <tbody>\n",
       "    <tr>\n",
       "      <th>A</th>\n",
       "      <td>0.565</td>\n",
       "      <td>0.283</td>\n",
       "      <td>0.152</td>\n",
       "    </tr>\n",
       "    <tr>\n",
       "      <th>B</th>\n",
       "      <td>0.278</td>\n",
       "      <td>0.556</td>\n",
       "      <td>0.167</td>\n",
       "    </tr>\n",
       "    <tr>\n",
       "      <th>Total</th>\n",
       "      <td>0.439</td>\n",
       "      <td>0.402</td>\n",
       "      <td>0.159</td>\n",
       "    </tr>\n",
       "  </tbody>\n",
       "</table>\n",
       "</div>"
      ],
      "text/plain": [
       "EC     CASADO  SOLTEIRO  OUTROS\n",
       "PLANO                          \n",
       "A       0.565     0.283   0.152\n",
       "B       0.278     0.556   0.167\n",
       "Total   0.439     0.402   0.159"
      ]
     },
     "execution_count": 82,
     "metadata": {},
     "output_type": "execute_result"
    }
   ],
   "source": [
    "plano_x_ec"
   ]
  },
  {
   "cell_type": "markdown",
   "metadata": {},
   "source": [
    "___\n",
    "<div id=\"barplot\"></div>\n",
    "\n",
    "## Análise Exploratória - Gráficos\n",
    "\n",
    "    \"Data visualization is the practice of translating information into a visual context, such as a map or graph, to make data easier for the human brain to understand and pull insights from. The main goal of data visualization is to make it easier to identify patterns, trends and outliers in large data sets.\"\n",
    "    Fonte: https://www.techtarget.com/searchbusinessanalytics/definition/data-visualization"
   ]
  },
  {
   "cell_type": "markdown",
   "metadata": {},
   "source": [
    "No nosso curso, daremos preferência aos gráficos da biblioteca Matplotlib, apesar do Python fornecer outras bibliotecas que auxiliam na visualização dos dados. Leia [aqui](#https://www.geeksforgeeks.org/data-visualization-with-python/), por exemplo, para mais informações. \n",
    "\n",
    "Importar a biblioteca gráfica como `plt`:"
   ]
  },
  {
   "cell_type": "code",
   "execution_count": 83,
   "metadata": {},
   "outputs": [],
   "source": [
    "import matplotlib.pyplot as plt"
   ]
  },
  {
   "cell_type": "markdown",
   "metadata": {},
   "source": [
    "A biblioteca Pandas também possui códigos para construção de gráficos e, no caso, um gráfico de barras ou colunas pode ser construído a partir de uma tabela de frequências. Leia [aqui](#https://pandas.pydata.org/docs/reference/api/pandas.DataFrame.plot.bar.html) para mais detalhes.\n",
    "\n",
    "Os valores numéricos guardados na tabela `plano_x_satisfacao` estão sendo utilizados no gráfico de colunas abaixo."
   ]
  },
  {
   "cell_type": "code",
   "execution_count": 94,
   "metadata": {
    "scrolled": false
   },
   "outputs": [
    {
     "data": {
      "image/png": "[encoded data removed]",
      "text/plain": [
       "<Figure size 640x480 with 1 Axes>"
      ]
     },
     "metadata": {},
     "output_type": "display_data"
    }
   ],
   "source": [
    "cores = ['darkred','red','yellow','green','darkgreen']\n",
    "\n",
    "plano_x_satisfacao.plot.bar(color = cores)\n",
    "plt.grid()\n",
    "plt.ylabel('Frequência relativa (em %)')\n",
    "plt.xticks(rotation = 'horizontal')\n",
    "# plt.legend(loc='center')\n",
    "plt.legend(bbox_to_anchor=(1.05, 0.95)); # Coloca legenda para fora da janela gráfica\n",
    "plt.show()"
   ]
  },
  {
   "cell_type": "markdown",
   "metadata": {},
   "source": [
    "Já no gráfico, a seguir, a visualização das frequências relativas dos níveis de satisfação aparecem empilhadas por plano."
   ]
  },
  {
   "cell_type": "code",
   "execution_count": 102,
   "metadata": {
    "scrolled": false
   },
   "outputs": [
    {
     "data": {
      "image/png": "[encoded data removed]",
      "text/plain": [
       "<Figure size 640x480 with 1 Axes>"
      ]
     },
     "metadata": {},
     "output_type": "display_data"
    }
   ],
   "source": [
    "cores = ['darkred','red','yellow','green','darkgreen']\n",
    "\n",
    "plano_x_satisfacao.plot.bar(color=cores, stacked=True)\n",
    "plt.grid()\n",
    "plt.ylabel(\"Freq. Relativas (em %)\")\n",
    "plt.xticks(rotation = 0)\n",
    "# plt.legend(loc='center')\n",
    "plt.legend(bbox_to_anchor=(1.05, 0.95)); # Coloca legenda para fora da janela gráfica\n",
    "plt.show()"
   ]
  },
  {
   "cell_type": "markdown",
   "metadata": {},
   "source": [
    "<div id=\"ex6\"></div>\n",
    "\n",
    "### EXERCÍCIO 6\n",
    "\n",
    "Faça:\n",
    " * Remova o `#` da frente da linha de comando da legenda (`plt.legend`) e veja o quanto isso interfere na melhor visualização do gráfico. \n",
    " * Interprete cada um dos gráficos acima e discuta qual é melhor para ser utilizado. \n",
    " * Seria adequado, em termos exploratórios, construir esses gráficos acima com uma tabela cruzada contendo as frequências absolutas? "
   ]
  },
  {
   "cell_type": "code",
   "execution_count": null,
   "metadata": {},
   "outputs": [],
   "source": [
    "# ESCREVA SEU CODIGO AQUI"
   ]
  },
  {
   "cell_type": "markdown",
   "metadata": {},
   "source": [
    "Seria completamente adequado construir gráficos como esses para realizar uma análise dos clientes."
   ]
  },
  {
   "cell_type": "markdown",
   "metadata": {},
   "source": [
    "<div id=\"ex7\"></div>\n",
    "\n",
    "### EXERCÍCIO 7\n",
    "\n",
    "Repita os gráficos anteriores para prever um plano mais adequado a partir do perfil do cliente, ou seja, aqui neste exemplo, a partir do seu estado civil.<br>\n",
    "Interprete-a em termos do problema."
   ]
  },
  {
   "cell_type": "code",
   "execution_count": null,
   "metadata": {},
   "outputs": [],
   "source": [
    "# ESCREVA SEU CODIGO AQUI"
   ]
  },
  {
   "cell_type": "code",
   "execution_count": 121,
   "metadata": {
    "scrolled": false
   },
   "outputs": [
    {
     "data": {
      "image/png": "[encoded data removed]",
      "text/plain": [
       "<Figure size 640x480 with 1 Axes>"
      ]
     },
     "metadata": {},
     "output_type": "display_data"
    },
    {
     "data": {
      "image/png": "[encoded data removed]",
      "text/plain": [
       "<Figure size 640x480 with 1 Axes>"
      ]
     },
     "metadata": {},
     "output_type": "display_data"
    }
   ],
   "source": [
    "cores = ['black','gray','darkgrey']\n",
    "\n",
    "plano_x_ec.plot.bar(color = cores)\n",
    "plt.grid()\n",
    "plt.ylabel('Frequência relativa (em %)')\n",
    "plt.xticks(rotation = 'horizontal')\n",
    "# plt.legend(loc='center')\n",
    "plt.legend(bbox_to_anchor=(1.3, 0.95)); # Coloca legenda para fora da janela gráfica\n",
    "plt.show()\n",
    "\n",
    "plano_x_ec.plot.bar(color = cores, stacked = True)\n",
    "# plt.grid()\n",
    "plt.ylabel(\"Freq. Relativas (em %)\")\n",
    "plt.xticks(rotation = 0)\n",
    "# plt.legend(loc='center')\n",
    "plt.legend(bbox_to_anchor=(1.05, 0.95)); # Coloca legenda para fora da janela gráfica\n",
    "plt.show()"
   ]
  },
  {
   "cell_type": "markdown",
   "metadata": {},
   "source": [
    "[Volta ao Índice](#indice)"
   ]
  }
 ],
 "metadata": {
  "kernelspec": {
   "display_name": "Python 3 (ipykernel)",
   "language": "python",
   "name": "python3"
  },
  "language_info": {
   "codemirror_mode": {
    "name": "ipython",
    "version": 3
   },
   "file_extension": ".py",
   "mimetype": "text/x-python",
   "name": "python",
   "nbconvert_exporter": "python",
   "pygments_lexer": "ipython3",
   "version": "3.9.13"
  }
 },
 "nbformat": 4,
 "nbformat_minor": 4
}
