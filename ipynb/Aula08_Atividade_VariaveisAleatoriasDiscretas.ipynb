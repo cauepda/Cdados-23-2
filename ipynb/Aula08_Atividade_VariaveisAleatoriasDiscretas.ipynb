{
 "cells": [
  {
   "cell_type": "markdown",
   "metadata": {},
   "source": [
    "___\n",
    "# Atividade: <p> <center> Variáveis aleatórias discretas\n",
    "___\n",
    "\n",
    "## Aula 08\n",
    "\n",
    "**Objetivo da aula:** Ao final desta aula, o aluno deve ser capaz de:\n",
    " * Descrever e aplicar propriedades de distribuições de probabilidades de variáveis aleatórias discretas; e\n",
    " * Compreender e aplicar propriedades de esperança e variância.\n"
   ]
  },
  {
   "cell_type": "markdown",
   "metadata": {},
   "source": [
    "___\n",
    "<div id=\"indice\"></div>\n",
    "\n",
    "## Índice\n",
    "\n",
    "- [Corretora de Seguros](#corretora-de-seguros)\n",
    "    - [Exercício 1](#ex1)\n",
    "    - [Exercício 2](#ex2)\n",
    "    - [Exercício 3](#ex3)\n",
    "    - [Exercício 4](#ex4)\n",
    "    - [Exercício 5](#ex5)\n",
    "    - [Exercício 6](#ex6)\n"
   ]
  },
  {
   "cell_type": "code",
   "execution_count": 6,
   "metadata": {},
   "outputs": [],
   "source": [
    "import numpy as np\n",
    "import random\n",
    "import pandas as pd\n",
    "from math import *"
   ]
  },
  {
   "cell_type": "markdown",
   "metadata": {},
   "source": [
    "___\n",
    "<div id=\"corretora-de-seguros\"></div>\n",
    "\n",
    "## Corretora de Seguros\n",
    "\n",
    "Uma corretora de seguros paga uma comissão de R\\\\$ 50,00 a cada novo seguro que um corretor vende. <br>\n",
    "A probabilidade de um cliente adquirir o seguro é de 0,20. <br> \n",
    "a) Descreva como pode se comportar a comissão se um corretor ao abordar 2 clientes de maneira independente um do outro.<br>\n",
    "b) Qual a probabilidade de um corretor ganhar apenas R\\\\$ 50,00?"
   ]
  },
  {
   "cell_type": "markdown",
   "metadata": {},
   "source": [
    "**Resolução:** <p>\n",
    "Primeiramente, vamos definir os seguintes eventos de acordo com enunciado:\n",
    "\n",
    "- $S_i$: o cliente $i$ compra o seguro;\n",
    "- $N_i ou S_i^C$: o cliente $i$ não compra o seguro.\n",
    "\n",
    "Ainda, pelo enunciado sabemos que:\n",
    "\n",
    "- $P(S_i) = 0.2$\n",
    "- $P(N_i) = P(S_i^C) = 1 - P(S_i) = 0.8$"
   ]
  },
  {
   "cell_type": "markdown",
   "metadata": {},
   "source": [
    "**item (a)**<br>\n",
    "Lendo o enunciado, é fácil perceber que os possíveis valores que o corretor pode receber ao final de duas visitas são: \n",
    "**0 reais**, **50 reais** ou **100 reais**. <br>\n",
    "Porém, qual a probabilidade que representa cada um desses valores acontecerem? Seria 1/3? <p>\n",
    "A seguir, mostramos como construir a **distribuição de probabilidades desses possíveis valores que representam a comissão do corretor** ao final das duas visitas."
   ]
  },
  {
   "cell_type": "markdown",
   "metadata": {},
   "source": [
    "Listando todas as possíveis combinações de eventos de compra ou não compra do seguro de cada cliente, temos:\n",
    "\n",
    "Cliente 1 | Cliente 2 | &nbsp; Probabilidade &nbsp; &nbsp;&nbsp; &nbsp; | Valor da comissão\n",
    ":-------: | :-------: | :--------------------------:| :---:\n",
    "$N_1$     | $N_2$     | $P(N_1)P(N_2|N_1)$ = $0.64$ | 0\n",
    "$N_1$     | $S_2$     | $P(N_1)P(S_2|N_1)$ = $0.16$ | 50\n",
    "$S_1$     | $N_2$     | $P(S_1)P(N_2|S_1)$ = $0.16$ | 50\n",
    "$S_1$     | $S_2$     | $P(S_1)P(S_2|S_1)$ = $0.04$ | 100\n",
    "\n",
    "<br>\n",
    "\n",
    "Agora, como estamos interessados em descrever os possíveis valores da comissão de um corretor e suas respectivas probabilidade, vamos definir uma letra que represente essa variável aleatória:\n",
    "\n",
    "- $X$: valor da comissão do corretor ao final do dia, representando um valor aleatório;\n",
    "\n",
    "em que $x$ = 0; 50; e 100 representando os possíveis valores que essa variável aleatória $X$ pode assumir.\n",
    "\n",
    "\n",
    "**item (b)**<br>\n",
    "Assim, o qual é o valor de $P(X=50)$?\n",
    "\n",
    "Consultando a tabela construída acima, vemos que $P(X=50) = 0.16 + 0.16 = 0.32$."
   ]
  },
  {
   "cell_type": "markdown",
   "metadata": {},
   "source": [
    "<div id=\"ex1\"></div>\n",
    "\n",
    "### EXERCÍCIO 1\n",
    "\n",
    "Calcule o valor esperado e a variância da variável $X$.\n",
    "\n",
    "*Resposta esperada para esperança e variância respectivamente: 20.0 reais ; 800.0 reais^2*"
   ]
  },
  {
   "cell_type": "code",
   "execution_count": null,
   "metadata": {},
   "outputs": [],
   "source": [
    "# ESCREVA SEU CÓDIGO AQUI"
   ]
  },
  {
   "cell_type": "code",
   "execution_count": 5,
   "metadata": {},
   "outputs": [
    {
     "name": "stdout",
     "output_type": "stream",
     "text": [
      "X: 20.0\n"
     ]
    }
   ],
   "source": [
    "# Defina uma lista de valores\n",
    "valores = [0, 50, 50, 100]\n",
    "\n",
    "# Defina uma lista de pesos correspondentes\n",
    "pesos = [0.64, 0.16, 0.16, 0.04]\n",
    "\n",
    "# Calcule a média ponderada\n",
    "soma_produto = sum(valor * peso for valor, peso in zip(valores, pesos))\n",
    "soma_pesos = sum(pesos)\n",
    "media_ponderada = soma_produto / soma_pesos\n",
    "print('X:', media_ponderada)"
   ]
  },
  {
   "cell_type": "code",
   "execution_count": 47,
   "metadata": {},
   "outputs": [
    {
     "name": "stdout",
     "output_type": "stream",
     "text": [
      "Variância: 800.0\n",
      "Desvio Padrão: 28.284271247461902\n"
     ]
    }
   ],
   "source": [
    "# Média\n",
    "media_normal = sum(valores) / len(valores)\n",
    "\n",
    "# Variância\n",
    "variancia = sum(pow(valor - media_ponderada, 2) * peso for valor, peso in zip(valores, pesos))\n",
    "print('Variância:', variancia)\n",
    "print('Desvio Padrão:', pow(variancia, 0.5))"
   ]
  },
  {
   "cell_type": "markdown",
   "metadata": {},
   "source": [
    "___\n",
    "## Tomando uma decisão\n",
    "\n",
    "Imagine que a corretora de seguros irá fornecer um aumento na comissão dos corretores. Entretanto, cada corretor poderá escolher uma das seguintes opções:\n",
    "\n",
    "- **Opção 1:** Defina $Y$ como a nova comissão que será a comissão atual mais um fixo de R\\\\$ 30,00;\n",
    "- **Opção 2:** Defina $W$ como a nova comissão será o triplo da atual comissão.\n",
    "\n",
    "<br>\n",
    "\n",
    "A ideia aqui é fazer uma escolha de qual delas é melhor para aumentar o ganho de um corretor. \n",
    "\n",
    "Para isso, resolva os exercícios a seguir para auxiliá-lo nessa escolha."
   ]
  },
  {
   "cell_type": "markdown",
   "metadata": {},
   "source": [
    "<div id=\"ex2\"></div>\n",
    "\n",
    "### EXERCÍCIO 2\n",
    "\n",
    "Construa a distribuição de probabilidade de $Y$ e de $W$ de acordo com cada uma das opções descritas acima.\n"
   ]
  },
  {
   "cell_type": "raw",
   "metadata": {},
   "source": [
    "# ESCREVA SUA RESPOSTA AQUI"
   ]
  },
  {
   "cell_type": "code",
   "execution_count": 34,
   "metadata": {},
   "outputs": [],
   "source": [
    "df_Y = pd.DataFrame(columns=['Probabilidade', 'Valor da comissão'])\n",
    "df_Y['Probabilidade'] = pd.Series(pesos)\n",
    "df_Y['Valor da comissão'] = pd.Series(valores) + 30\n",
    "\n",
    "df_W = pd.DataFrame(columns=['Probabilidade', 'Valor da comissão'])\n",
    "df_W['Probabilidade'] = pd.Series(pesos)\n",
    "df_W['Valor da comissão'] = pd.Series(valores) * 3"
   ]
  },
  {
   "cell_type": "code",
   "execution_count": 38,
   "metadata": {},
   "outputs": [
    {
     "data": {
      "text/html": [
       "<div>\n",
       "<style scoped>\n",
       "    .dataframe tbody tr th:only-of-type {\n",
       "        vertical-align: middle;\n",
       "    }\n",
       "\n",
       "    .dataframe tbody tr th {\n",
       "        vertical-align: top;\n",
       "    }\n",
       "\n",
       "    .dataframe thead th {\n",
       "        text-align: right;\n",
       "    }\n",
       "</style>\n",
       "<table border=\"1\" class=\"dataframe\">\n",
       "  <thead>\n",
       "    <tr style=\"text-align: right;\">\n",
       "      <th></th>\n",
       "      <th>Probabilidade</th>\n",
       "      <th>Valor da comissão</th>\n",
       "    </tr>\n",
       "  </thead>\n",
       "  <tbody>\n",
       "    <tr>\n",
       "      <th>0</th>\n",
       "      <td>0.64</td>\n",
       "      <td>30</td>\n",
       "    </tr>\n",
       "    <tr>\n",
       "      <th>1</th>\n",
       "      <td>0.16</td>\n",
       "      <td>80</td>\n",
       "    </tr>\n",
       "    <tr>\n",
       "      <th>2</th>\n",
       "      <td>0.16</td>\n",
       "      <td>80</td>\n",
       "    </tr>\n",
       "    <tr>\n",
       "      <th>3</th>\n",
       "      <td>0.04</td>\n",
       "      <td>130</td>\n",
       "    </tr>\n",
       "  </tbody>\n",
       "</table>\n",
       "</div>"
      ],
      "text/plain": [
       "   Probabilidade  Valor da comissão\n",
       "0           0.64                 30\n",
       "1           0.16                 80\n",
       "2           0.16                 80\n",
       "3           0.04                130"
      ]
     },
     "execution_count": 38,
     "metadata": {},
     "output_type": "execute_result"
    }
   ],
   "source": [
    "df_Y"
   ]
  },
  {
   "cell_type": "code",
   "execution_count": 39,
   "metadata": {},
   "outputs": [
    {
     "data": {
      "text/html": [
       "<div>\n",
       "<style scoped>\n",
       "    .dataframe tbody tr th:only-of-type {\n",
       "        vertical-align: middle;\n",
       "    }\n",
       "\n",
       "    .dataframe tbody tr th {\n",
       "        vertical-align: top;\n",
       "    }\n",
       "\n",
       "    .dataframe thead th {\n",
       "        text-align: right;\n",
       "    }\n",
       "</style>\n",
       "<table border=\"1\" class=\"dataframe\">\n",
       "  <thead>\n",
       "    <tr style=\"text-align: right;\">\n",
       "      <th></th>\n",
       "      <th>Probabilidade</th>\n",
       "      <th>Valor da comissão</th>\n",
       "    </tr>\n",
       "  </thead>\n",
       "  <tbody>\n",
       "    <tr>\n",
       "      <th>0</th>\n",
       "      <td>0.64</td>\n",
       "      <td>0</td>\n",
       "    </tr>\n",
       "    <tr>\n",
       "      <th>1</th>\n",
       "      <td>0.16</td>\n",
       "      <td>150</td>\n",
       "    </tr>\n",
       "    <tr>\n",
       "      <th>2</th>\n",
       "      <td>0.16</td>\n",
       "      <td>150</td>\n",
       "    </tr>\n",
       "    <tr>\n",
       "      <th>3</th>\n",
       "      <td>0.04</td>\n",
       "      <td>300</td>\n",
       "    </tr>\n",
       "  </tbody>\n",
       "</table>\n",
       "</div>"
      ],
      "text/plain": [
       "   Probabilidade  Valor da comissão\n",
       "0           0.64                  0\n",
       "1           0.16                150\n",
       "2           0.16                150\n",
       "3           0.04                300"
      ]
     },
     "execution_count": 39,
     "metadata": {},
     "output_type": "execute_result"
    }
   ],
   "source": [
    "df_W"
   ]
  },
  {
   "cell_type": "markdown",
   "metadata": {},
   "source": [
    "<div id=\"ex3\"></div>\n",
    "\n",
    "### EXERCÍCIO 3\n",
    "\n",
    "Considerando as respectivas distribuições de probabilidades, calcule o valor esperado e a variância para cada opção. "
   ]
  },
  {
   "cell_type": "code",
   "execution_count": null,
   "metadata": {},
   "outputs": [],
   "source": [
    "# ESCREVA SEU CÓDIGO AQUI"
   ]
  },
  {
   "cell_type": "code",
   "execution_count": 45,
   "metadata": {},
   "outputs": [
    {
     "name": "stdout",
     "output_type": "stream",
     "text": [
      "Valor esperado em Y: 50.0\n",
      "Variância em Y: 800.0\n",
      "Desvio padrão em Y: 28.284271247461902\n"
     ]
    }
   ],
   "source": [
    "pesos_Y = list(df_Y['Probabilidade'])\n",
    "valores_Y = list(df_Y['Valor da comissão'])\n",
    "media_ponderada_Y = sum(peso * valor for peso, valor in zip(pesos_Y, valores_Y))\n",
    "variancia_Y = sum(pow(valor - media_ponderada_Y, 2) * peso for valor, peso in zip(valores_Y, pesos_Y))\n",
    "\n",
    "print('Valor esperado em Y:', media_ponderada_Y)\n",
    "print('Variância em Y:', variancia_Y)\n",
    "print('Desvio padrão em Y:', pow(variancia_Y, 0.5))"
   ]
  },
  {
   "cell_type": "code",
   "execution_count": 48,
   "metadata": {},
   "outputs": [
    {
     "name": "stdout",
     "output_type": "stream",
     "text": [
      "Valor esperado em W: 60.0\n",
      "Variância em W: 7200.0\n",
      "Desvio padrão em W: 84.8528137423857\n"
     ]
    }
   ],
   "source": [
    "pesos_W = list(df_W['Probabilidade'])\n",
    "valores_W = list(df_W['Valor da comissão'])\n",
    "media_ponderada_W = sum(peso * valor for peso, valor in zip(pesos_W, valores_W))\n",
    "variancia_W = sum(pow(valor - media_ponderada_W, 2) * peso for valor, peso in zip(valores_W, pesos_W))\n",
    "\n",
    "print('Valor esperado em W:', media_ponderada_W)\n",
    "print('Variância em W:', variancia_W)\n",
    "print('Desvio padrão em W:', pow(variancia_W, 0.5))"
   ]
  },
  {
   "cell_type": "markdown",
   "metadata": {},
   "source": [
    "<div id=\"ex4\"></div>\n",
    "\n",
    "### EXERCÍCIO 4\n",
    "\n",
    "Baseado nas propriedades da esperança (nos slides), calcule o valor esperado para a nova comissão em cada uma das opções.\n",
    "\n",
    "*Resposta esperada para esperança opção 1 e 2 respectivamente: 50.0 reais ; 60.0 reais*"
   ]
  },
  {
   "cell_type": "code",
   "execution_count": null,
   "metadata": {},
   "outputs": [],
   "source": [
    "# ESCREVA SEU CÓDIGO AQUI"
   ]
  },
  {
   "cell_type": "code",
   "execution_count": 49,
   "metadata": {},
   "outputs": [
    {
     "name": "stdout",
     "output_type": "stream",
     "text": [
      "Valor esperado em Y: 50.0\n",
      "Valor esperado em W: 60.0\n"
     ]
    }
   ],
   "source": [
    "print('Valor esperado em Y:', media_ponderada_Y)\n",
    "print('Valor esperado em W:', media_ponderada_W)"
   ]
  },
  {
   "cell_type": "markdown",
   "metadata": {},
   "source": [
    "<div id=\"ex5\"></div>\n",
    "\n",
    "### EXERCÍCIO 5\n",
    "\n",
    "Baseado nas propriedades da variância (nos slides), calcule a variância para a nova comissão em cada uma das opções.\n",
    "\n",
    "*Resposta esperada para variância opção 1 e 2 respectivamente: 800.0 reais^2 ; 7200.0 reais^2*"
   ]
  },
  {
   "cell_type": "code",
   "execution_count": null,
   "metadata": {},
   "outputs": [],
   "source": [
    "# ESCREVA SEU CÓDIGO AQUI"
   ]
  },
  {
   "cell_type": "code",
   "execution_count": 50,
   "metadata": {},
   "outputs": [
    {
     "name": "stdout",
     "output_type": "stream",
     "text": [
      "Variância em Y: 800.0\n",
      "Variância em W: 7200.0\n"
     ]
    }
   ],
   "source": [
    "print('Variância em Y:', variancia_Y)\n",
    "print('Variância em W:', variancia_W)"
   ]
  },
  {
   "cell_type": "markdown",
   "metadata": {},
   "source": [
    "<div id=\"ex6\"></div>\n",
    "\n",
    "### EXERCÍCIO 6\n",
    "\n",
    "Baseado nos resultados acima, qual opção você recomendaria para um corretor?"
   ]
  },
  {
   "cell_type": "raw",
   "metadata": {},
   "source": [
    "ESCREVA SUA RESPOSTA AQUI\n",
    "Eu recomendaria a opção Y, pois apesar de ter um valor médio de retorno menor, é menos volátil e tem menos dispersão."
   ]
  },
  {
   "cell_type": "markdown",
   "metadata": {},
   "source": [
    "# Referências\n",
    "\n",
    "1. MONTGOMERY, D. et al. Estatística Aplicada e Probabilidade para Engenheiros. 6. ed. Seções 2.8 e 3.1\n",
    "1. MAGALHÃES, M. et al. Noções de Probabilidade e Estatística. 7. ed. Seções 3.1 e definições 4.2 (p. 110) e 4.5 (p. 121)"
   ]
  }
 ],
 "metadata": {
  "kernelspec": {
   "display_name": "Python 3 (ipykernel)",
   "language": "python",
   "name": "python3"
  },
  "language_info": {
   "codemirror_mode": {
    "name": "ipython",
    "version": 3
   },
   "file_extension": ".py",
   "mimetype": "text/x-python",
   "name": "python",
   "nbconvert_exporter": "python",
   "pygments_lexer": "ipython3",
   "version": "3.9.13"
  }
 },
 "nbformat": 4,
 "nbformat_minor": 4
}
