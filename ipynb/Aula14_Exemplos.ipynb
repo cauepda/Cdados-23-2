{
 "cells": [
  {
   "cell_type": "markdown",
   "metadata": {},
   "source": [
    "___\n",
    "# Exemplo: <p> <center>Distribuição Normal\n",
    "___\n",
    "\n",
    "## Aula 14\n"
   ]
  },
  {
   "cell_type": "markdown",
   "metadata": {},
   "source": [
    "___\n",
    "## Lista de comandos:\n",
    "\n",
    "### Distribuição Normal\n",
    "\n",
    "Comandos quando $X\\sim N(\\mu, \\sigma^2)$ a partir da biblioteca `from scipy import stats`:\n",
    "\n",
    "* $f(x)$: `stats.norm.pdf(x, loc=mu, scale=sigma)`\n",
    "\n",
    "* $P(X\\leq x)$: `stats.norm.cdf(x, loc=mu, scale=sigma)`\n",
    "\n",
    "* $x$ tal que $p=P(X\\leq x)$: `stats.norm.ppf(p, loc=mu, scale=sigma)`\n",
    "\n",
    "* $E(X)$: `stats.norm.mean(loc=mu, scale=sigma)`\n",
    "\n",
    "* $Var(X)$: `stats.norm.var(loc=mu, scale=sigma)`\n",
    "\n",
    "* $DP(X)$: `stats.norm.std(loc=mu, scale=sigma)`\n",
    "\n",
    "\n",
    "Link: https://docs.scipy.org/doc/scipy/reference/generated/scipy.stats.norm.html"
   ]
  },
  {
   "cell_type": "code",
   "execution_count": 38,
   "metadata": {},
   "outputs": [],
   "source": [
    "from scipy import stats"
   ]
  },
  {
   "cell_type": "markdown",
   "metadata": {},
   "source": [
    "___\n",
    "# Exemplo 1: Relação entre P(X ≤ x) e P(Z ≤ z) \n",
    "\n",
    "Assuma que $X \\sim N(\\mu, \\sigma^2)$ e que $Z \\sim N(0, 1)$.\n",
    "\n",
    "Considere que $X$: diâmetro de uma peça (em polegadas), em que $X \\sim N(2; 0,02^2)$.\n",
    "\n",
    "**ATENÇÃO:**\n",
    " * **SEM considerar a distribuição de $X$ diretamente e sim a distribuição da Normal Padrão $Z$, responda os itens \n",
    "abaixo.**\n",
    " * **Calcule os itens abaixos mantendo `loc=0` e `scale=1` como definidos na distribuição de $Z$.**\n",
    "\n"
   ]
  },
  {
   "cell_type": "markdown",
   "metadata": {},
   "source": [
    "a) P(X < 2,02) = ?\n",
    "\n",
    "*Resposta esperada: 0.8413447460685431*"
   ]
  },
  {
   "cell_type": "code",
   "execution_count": 37,
   "metadata": {},
   "outputs": [
    {
     "name": "stdout",
     "output_type": "stream",
     "text": [
      "0.8413447460685431 | 0.8413447460685431\n"
     ]
    }
   ],
   "source": [
    "media = 2\n",
    "desvpad = 0.02\n",
    "\n",
    "z = (2.02 - media) / desvpad\n",
    "\n",
    "P_Xmenor_2_02 = stats.norm.cdf(2.02, loc=media, scale=desvpad)\n",
    "P_Xmenor_2_02_z = stats.norm.cdf(z)\n",
    "print(P_Xmenor_2_02, \"|\", P_Xmenor_2_02_z)"
   ]
  },
  {
   "cell_type": "markdown",
   "metadata": {},
   "source": [
    "b) P(X < 2,0325) = ?\n",
    "\n",
    "*Resposta esperada: 0.9479187205847815*"
   ]
  },
  {
   "cell_type": "code",
   "execution_count": 36,
   "metadata": {},
   "outputs": [
    {
     "data": {
      "text/plain": [
       "0.9479187205847815"
      ]
     },
     "execution_count": 36,
     "metadata": {},
     "output_type": "execute_result"
    }
   ],
   "source": [
    "z = (2.0325 - media) / desvpad\n",
    "\n",
    "P_Xmemnor2_0325_z = stats.norm.cdf(z)\n",
    "P_Xmemnor2_0325_z"
   ]
  },
  {
   "cell_type": "markdown",
   "metadata": {},
   "source": [
    "c) 1% das peças são descartadas por possuírem medida muito pequena ou muito grande para o diâmetro dessa peça. Que medidas extremas são essas, assumindo que estão equidistante da média populacional.\n",
    "\n",
    "*Resposta esperada: 1.948483413929022  e  2.051516586070978*"
   ]
  },
  {
   "cell_type": "code",
   "execution_count": 35,
   "metadata": {},
   "outputs": [
    {
     "name": "stdout",
     "output_type": "stream",
     "text": [
      "1.948483413929022 | 2.051516586070978\n"
     ]
    }
   ],
   "source": [
    "z_menor = stats.norm.ppf(0.005)\n",
    "z_maior = stats.norm.ppf(0.995)\n",
    "\n",
    "x_menor = media + z_menor * desvpad\n",
    "x_maior = media + z_maior * desvpad\n",
    "\n",
    "print(x_menor, '|', x_maior)"
   ]
  },
  {
   "cell_type": "code",
   "execution_count": 39,
   "metadata": {},
   "outputs": [
    {
     "name": "stdout",
     "output_type": "stream",
     "text": [
      "1.948483413929022 | 2.051516586070978\n"
     ]
    }
   ],
   "source": [
    "z1, z2 = stats.norm.interval(1-0.01)\n",
    "\n",
    "x1 = media + z1 * desvpad\n",
    "x2 = media + z2 * desvpad\n",
    "\n",
    "print(x1, '|', x2)"
   ]
  },
  {
   "cell_type": "code",
   "execution_count": null,
   "metadata": {},
   "outputs": [],
   "source": []
  }
 ],
 "metadata": {
  "kernelspec": {
   "display_name": "Python 3 (ipykernel)",
   "language": "python",
   "name": "python3"
  },
  "language_info": {
   "codemirror_mode": {
    "name": "ipython",
    "version": 3
   },
   "file_extension": ".py",
   "mimetype": "text/x-python",
   "name": "python",
   "nbconvert_exporter": "python",
   "pygments_lexer": "ipython3",
   "version": "3.9.13"
  },
  "vscode": {
   "interpreter": {
    "hash": "9f42bf53325642b63089e16cd06a69cb97dd86be6a63a88c392fdc3a5fc795ae"
   }
  }
 },
 "nbformat": 4,
 "nbformat_minor": 2
}
