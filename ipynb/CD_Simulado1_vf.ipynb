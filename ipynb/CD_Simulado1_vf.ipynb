{
 "cells": [
  {
   "cell_type": "markdown",
   "metadata": {},
   "source": [
    "## NOME: Coloque seu nome AQUI!"
   ]
  },
  {
   "cell_type": "markdown",
   "metadata": {},
   "source": [
    "___\n",
    "# ATENÇÃO:\n",
    "\n",
    "Leia antes todas as instruções colocadas no teste dentro do Blackboard.\n"
   ]
  },
  {
   "cell_type": "code",
   "execution_count": 1,
   "metadata": {},
   "outputs": [],
   "source": [
    "# %matplotlib inline\n",
    "import math\n",
    "from math import sqrt\n",
    "\n",
    "import os\n",
    "import matplotlib.pyplot as plt\n",
    "import numpy as np\n",
    "from numpy import arange, linspace\n",
    "import pandas as pd\n",
    "\n",
    "from IPython.display import display  # Para ter melhor print.\n",
    "\n",
    "# Pode trazer mais bibliotecas, caso julgue interessante!!"
   ]
  },
  {
   "cell_type": "markdown",
   "metadata": {},
   "source": [
    "<div id=\"indice\"></div>\n",
    "\n",
    "# Índice\n",
    "\n",
    "1. [Pergunta 1](#p1)\n",
    "\n",
    "1. [Pergunta 2](#p2)\n",
    "\n",
    "1. [Pergunta 3](#p3)\n",
    "\n",
    "1. [Pergunta 4](#p4)\n",
    "\n",
    "1. [Pergunta 5](#p5)\n",
    "\n"
   ]
  },
  {
   "cell_type": "markdown",
   "metadata": {},
   "source": [
    "___\n",
    "<div id=\"p1\"></div>\n",
    "\n",
    "## PERGUNTA 1"
   ]
  },
  {
   "cell_type": "markdown",
   "metadata": {},
   "source": [
    "Leia o enunciado da Pergunta 1 descrito no Blackboard."
   ]
  },
  {
   "cell_type": "markdown",
   "metadata": {},
   "source": [
    "**P1** Leia a pergunta no Blackboard."
   ]
  },
  {
   "cell_type": "code",
   "execution_count": 2,
   "metadata": {},
   "outputs": [],
   "source": [
    "# ESCREVA SUA RESPOSTA AQUI\n"
   ]
  },
  {
   "cell_type": "code",
   "execution_count": 3,
   "metadata": {},
   "outputs": [
    {
     "data": {
      "text/html": [
       "<div>\n",
       "<style scoped>\n",
       "    .dataframe tbody tr th:only-of-type {\n",
       "        vertical-align: middle;\n",
       "    }\n",
       "\n",
       "    .dataframe tbody tr th {\n",
       "        vertical-align: top;\n",
       "    }\n",
       "\n",
       "    .dataframe thead th {\n",
       "        text-align: right;\n",
       "    }\n",
       "</style>\n",
       "<table border=\"1\" class=\"dataframe\">\n",
       "  <thead>\n",
       "    <tr style=\"text-align: right;\">\n",
       "      <th></th>\n",
       "      <th>B</th>\n",
       "      <th>Bc</th>\n",
       "    </tr>\n",
       "  </thead>\n",
       "  <tbody>\n",
       "    <tr>\n",
       "      <th>C</th>\n",
       "      <td>0.55115</td>\n",
       "      <td>0.10045</td>\n",
       "    </tr>\n",
       "    <tr>\n",
       "      <th>Cc</th>\n",
       "      <td>0.20385</td>\n",
       "      <td>0.44545</td>\n",
       "    </tr>\n",
       "  </tbody>\n",
       "</table>\n",
       "</div>"
      ],
      "text/plain": [
       "          B       Bc\n",
       "C   0.55115  0.10045\n",
       "Cc  0.20385  0.44545"
      ]
     },
     "execution_count": 3,
     "metadata": {},
     "output_type": "execute_result"
    }
   ],
   "source": [
    "P_B = 0.755\n",
    "P_Bc = 1 - P_B\n",
    "\n",
    "P_C_dado_B = 0.73\n",
    "P_Cc_dado_B = 1 - P_C_dado_B\n",
    "\n",
    "P_C_dado_Bc = 0.41\n",
    "P_Cc_dado_Bc = 1 - P_C_dado_Bc\n",
    "\n",
    "P_C_e_B = P_B * P_C_dado_B\n",
    "P_Cc_e_B = P_B * P_Cc_dado_B\n",
    "\n",
    "\n",
    "P_C_e_Bc = P_Bc * P_C_dado_Bc\n",
    "P_Cc_e_Bc = P_B * P_Cc_dado_Bc\n",
    "\n",
    "# P_Bc_dado_C = P_C_e_Bc / P_C    # pergunta\n",
    "\n",
    "\n",
    "df = pd.DataFrame(index=['C', 'Cc'], columns=['B', 'Bc'])\n",
    "df['B'] = [P_C_e_B, P_Cc_e_B]\n",
    "df['Bc'] = [P_C_e_Bc, P_Cc_e_Bc]\n",
    "df"
   ]
  },
  {
   "cell_type": "code",
   "execution_count": 4,
   "metadata": {},
   "outputs": [
    {
     "data": {
      "text/plain": [
       "15.4159"
      ]
     },
     "execution_count": 4,
     "metadata": {},
     "output_type": "execute_result"
    }
   ],
   "source": [
    "P_C = P_C_e_B + P_C_e_Bc\n",
    "P_Bc_dado_C = P_C_e_Bc / P_C\n",
    "round(P_Bc_dado_C * 100, 4)"
   ]
  },
  {
   "cell_type": "markdown",
   "metadata": {},
   "source": [
    "[Voltar ao Índice](#indice)"
   ]
  },
  {
   "cell_type": "markdown",
   "metadata": {},
   "source": [
    "___\n",
    "<div id=\"p2\"></div>\n",
    "\n",
    "\n",
    "## PERGUNTA 2"
   ]
  },
  {
   "cell_type": "markdown",
   "metadata": {},
   "source": [
    "Leia o enunciado da Pergunta 2 descrito no Blackboard."
   ]
  },
  {
   "cell_type": "markdown",
   "metadata": {},
   "source": [
    "**P2** Leia a pergunta no Blackboard."
   ]
  },
  {
   "cell_type": "code",
   "execution_count": 5,
   "metadata": {},
   "outputs": [],
   "source": [
    "# ESCREVA SUA RESPOSTA AQUI"
   ]
  },
  {
   "cell_type": "code",
   "execution_count": 6,
   "metadata": {},
   "outputs": [
    {
     "data": {
      "text/plain": [
       "50.0172"
      ]
     },
     "execution_count": 6,
     "metadata": {},
     "output_type": "execute_result"
    }
   ],
   "source": [
    "P_B = 0.755\n",
    "P_Ele = 0.4\n",
    "# P_Car = ?\n",
    "\n",
    "P_Edu_dado_B = 0.119\n",
    "P_B_dado_Edu = 0.9\n",
    "\n",
    "P_Edu_e_B = P_Edu_dado_B * P_B\n",
    "\n",
    "P_Edu = P_Edu_e_B / P_B_dado_Edu\n",
    "\n",
    "P_Car = 1 - (P_Edu + P_Ele)\n",
    "round(P_Car * 100, 4)"
   ]
  },
  {
   "cell_type": "code",
   "execution_count": null,
   "metadata": {},
   "outputs": [],
   "source": []
  },
  {
   "cell_type": "markdown",
   "metadata": {},
   "source": [
    "[Voltar ao Índice](#indice)"
   ]
  },
  {
   "cell_type": "markdown",
   "metadata": {},
   "source": [
    "___\n",
    "<div id=\"p3\"></div>\n",
    "\n",
    "\n",
    "## PERGUNTA 3"
   ]
  },
  {
   "cell_type": "markdown",
   "metadata": {},
   "source": [
    "Leia o enunciado da Pergunta 3 descrito no Blackboard."
   ]
  },
  {
   "cell_type": "markdown",
   "metadata": {},
   "source": [
    "**P3** Leia a pergunta no Blackboard."
   ]
  },
  {
   "cell_type": "code",
   "execution_count": 7,
   "metadata": {},
   "outputs": [],
   "source": [
    "# ESCREVA SUA RESPOSTA AQUI"
   ]
  },
  {
   "cell_type": "code",
   "execution_count": 8,
   "metadata": {},
   "outputs": [
    {
     "data": {
      "text/plain": [
       "16.6667"
      ]
     },
     "execution_count": 8,
     "metadata": {},
     "output_type": "execute_result"
    }
   ],
   "source": [
    "P_Ec = 0.7\n",
    "P_E = 0.3\n",
    "\n",
    "P_H_dado_E = 0.65\n",
    "P_H_dado_Ec = 0.25\n",
    "\n",
    "P_H_e_E = P_H_dado_E * P_E\n",
    "P_H_e_Ec = P_H_dado_Ec * P_Ec\n",
    "\n",
    "P_H = P_H_e_E + P_H_e_Ec\n",
    "P_Hc = 1 - P_H\n",
    "\n",
    "P_E_e_Hc = P_E - P_H_e_E\n",
    "\n",
    "P_E_dado_Hc = P_E_e_Hc / P_Hc\n",
    "round(P_E_dado_Hc * 100, 4)"
   ]
  },
  {
   "cell_type": "code",
   "execution_count": null,
   "metadata": {},
   "outputs": [],
   "source": []
  },
  {
   "cell_type": "markdown",
   "metadata": {},
   "source": [
    "[Voltar ao Índice](#indice)"
   ]
  },
  {
   "cell_type": "markdown",
   "metadata": {},
   "source": [
    "___\n",
    "<div id=\"p4\"></div>\n",
    "\n",
    "\n",
    "## PERGUNTA 4"
   ]
  },
  {
   "cell_type": "markdown",
   "metadata": {},
   "source": [
    "Leia o enunciado da Pergunta 4 descrito no Blackboard."
   ]
  },
  {
   "cell_type": "markdown",
   "metadata": {},
   "source": [
    "**P4** Leia a pergunta no Blackboard."
   ]
  },
  {
   "cell_type": "code",
   "execution_count": 9,
   "metadata": {},
   "outputs": [],
   "source": [
    "# ESCREVA SUA RESPOSTA AQUI"
   ]
  },
  {
   "cell_type": "code",
   "execution_count": 10,
   "metadata": {},
   "outputs": [
    {
     "data": {
      "text/plain": [
       "48.0"
      ]
     },
     "execution_count": 10,
     "metadata": {},
     "output_type": "execute_result"
    }
   ],
   "source": [
    "P_E = 0.3\n",
    "P_Ec = 0.7\n",
    "\n",
    "P_D_dado_Ec = 0.3\n",
    "P_E_dado_D = 0.5625\n",
    "P_Ec_dado_D = 1 - P_E_dado_D\n",
    "\n",
    "P_D_e_Ec = P_D_dado_Ec * P_Ec\n",
    "\n",
    "P_D = P_D_e_Ec / P_Ec_dado_D\n",
    "\n",
    "round(P_D * 100, 4)"
   ]
  },
  {
   "cell_type": "code",
   "execution_count": null,
   "metadata": {},
   "outputs": [],
   "source": []
  },
  {
   "cell_type": "markdown",
   "metadata": {},
   "source": [
    "[Voltar ao Índice](#indice)"
   ]
  },
  {
   "cell_type": "markdown",
   "metadata": {},
   "source": [
    "___\n",
    "<div id=\"p5\"></div>\n",
    "\n",
    "\n",
    "## PERGUNTA 5"
   ]
  },
  {
   "cell_type": "markdown",
   "metadata": {},
   "source": [
    "Leia o enunciado da Pergunta 5 descrito no Blackboard."
   ]
  },
  {
   "cell_type": "markdown",
   "metadata": {},
   "source": [
    "**P5** Leia a pergunta no Blackboard."
   ]
  },
  {
   "cell_type": "code",
   "execution_count": 11,
   "metadata": {},
   "outputs": [],
   "source": [
    "# ESCREVA SUA RESPOSTA AQUI"
   ]
  },
  {
   "cell_type": "code",
   "execution_count": 12,
   "metadata": {},
   "outputs": [
    {
     "name": "stdout",
     "output_type": "stream",
     "text": [
      "0.24988166666666678 0.7501183333333332\n"
     ]
    },
    {
     "data": {
      "text/plain": [
       "57.2609"
      ]
     },
     "execution_count": 12,
     "metadata": {},
     "output_type": "execute_result"
    }
   ],
   "source": [
    "P_Ec = 0.7\n",
    "P_E = 0.3\n",
    "\n",
    "P_Feed = 0.607\n",
    "P_Feedc = 1 - P_Feed\n",
    "\n",
    "P_Feedc_dado_Ec = 0.24\n",
    "P_Feed_dado_Ec = 1 - P_Feedc_dado_Ec\n",
    "\n",
    "P_Ec_dado_Feed = 0.8765\n",
    "P_E_dado_Feed = 1 - P_Ec_dado_Feed\n",
    "\n",
    "P_E_e_Feed = P_E_dado_Feed * P_Feed\n",
    "P_Ec_e_Feed = 1 - P_E_e_Feed\n",
    "\n",
    "P_Feed_dado_E = P_E_e_Feed / P_E\n",
    "P_Feedc_dado_E = 1 - P_Feed_dado_E\n",
    "\n",
    "P_Feedc_e_E = P_Feedc_dado_E * P_E\n",
    "\n",
    "P_E_dado_Feedc = P_Feedc_e_E / P_Feedc\n",
    "round(P_E_dado_Feedc * 100, 4)"
   ]
  },
  {
   "cell_type": "code",
   "execution_count": null,
   "metadata": {},
   "outputs": [],
   "source": []
  },
  {
   "cell_type": "markdown",
   "metadata": {},
   "source": [
    "[Voltar ao Índice](#indice)"
   ]
  }
 ],
 "metadata": {
  "kernelspec": {
   "display_name": "base",
   "language": "python",
   "name": "python3"
  },
  "language_info": {
   "codemirror_mode": {
    "name": "ipython",
    "version": 3
   },
   "file_extension": ".py",
   "mimetype": "text/x-python",
   "name": "python",
   "nbconvert_exporter": "python",
   "pygments_lexer": "ipython3",
   "version": "3.9.13"
  },
  "vscode": {
   "interpreter": {
    "hash": "9f42bf53325642b63089e16cd06a69cb97dd86be6a63a88c392fdc3a5fc795ae"
   }
  }
 },
 "nbformat": 4,
 "nbformat_minor": 4
}
