{
 "cells": [
  {
   "cell_type": "markdown",
   "metadata": {},
   "source": [
    "___\n",
    "# Exemplo: <p> <center> Uso do TLC\n",
    "___\n",
    "    \n",
    "## Aula 19"
   ]
  },
  {
   "cell_type": "code",
   "execution_count": 1,
   "metadata": {},
   "outputs": [],
   "source": [
    "from scipy import stats\n",
    "from math import sqrt"
   ]
  },
  {
   "cell_type": "markdown",
   "metadata": {},
   "source": [
    "## Exemplo\n",
    "\n",
    "O tempo que uma recepcionista leva para atender uma chamada segue uma distribuição exponencial com média populacional 60 segundos e com desvio padrão populacional igual a 60 segundos. <br>"
   ]
  },
  {
   "cell_type": "markdown",
   "metadata": {},
   "source": [
    "a) Qual a probabilidade de que uma recepcionista qualquer demore menos do que 40 segundos para atender uma chamada? <br>"
   ]
  },
  {
   "cell_type": "code",
   "execution_count": 4,
   "metadata": {},
   "outputs": [
    {
     "name": "stdout",
     "output_type": "stream",
     "text": [
      "0.48658 chamadas\n"
     ]
    }
   ],
   "source": [
    "# X: tempo que demora para anteder a chamada, em segundos\n",
    "# E(x) = 60 s  |  Var(x) = 60ˆ2 sˆ2\n",
    "# X ~ exp(60)\n",
    "\n",
    "mu = 60\n",
    "desvpad = 60\n",
    "\n",
    "probability = stats.expon.cdf(40, loc=0, scale=60)\n",
    "print(f'{probability:.5f} chamadas')"
   ]
  },
  {
   "cell_type": "markdown",
   "metadata": {},
   "source": [
    "Uma amostra de 90 recepcionistas passou por um treinamento visando diminuir o tempo médio de atendimento. <br>\n",
    "Após o treinamento, elas tiveram o seu tempo de atendimento registrado. <br>\n",
    "Assumindo que esse treinamento não foi eficaz (ou seja, se não houve alteração no tempo médio populacional comparado a antes do treinamento), calcule:"
   ]
  },
  {
   "cell_type": "markdown",
   "metadata": {},
   "source": [
    "b) Qual a probabilidade de encontrar uma amostra cujo tempo médio amostral seja inferior a 40 segundos? <br>"
   ]
  },
  {
   "cell_type": "code",
   "execution_count": 16,
   "metadata": {},
   "outputs": [
    {
     "name": "stdout",
     "output_type": "stream",
     "text": [
      "0.00078\n"
     ]
    }
   ],
   "source": [
    "# Após o treinamento\n",
    "# X: tempo após o treinamento\n",
    "# E(x) = mu  |  DP(x) = ?   (desconhecidos)\n",
    "\n",
    "# amostra n = 90 --> x1, x2, x3, x4, x5, ..., x90 --> xBarra = sum(x) / n\n",
    "# xBarra ~ N (mu; desvpad / n)    (notação)\n",
    "\n",
    "# P(xBarra <= 40 | treinamento não foi eficaz) = xBarra ~ N (60, 60ˆ2 / 90)\n",
    "\n",
    "var = pow(60, 2) / 90\n",
    "desvpad = sqrt(var)\n",
    "\n",
    "probability = stats.norm.cdf(40, loc=60, scale=desvpad)\n",
    "print(f'{probability:.5f}')"
   ]
  },
  {
   "cell_type": "markdown",
   "metadata": {},
   "source": [
    "c) Encontre o tempo médio amostral que separa 1% dos menores tempos médios amostrais dos demais 99% maiores tempos médios amostrais? <br>"
   ]
  },
  {
   "cell_type": "code",
   "execution_count": 18,
   "metadata": {},
   "outputs": [
    {
     "name": "stdout",
     "output_type": "stream",
     "text": [
      "Tempo médio: 45.28688\n"
     ]
    }
   ],
   "source": [
    "tempo_medio = stats.norm.ppf(0.01, loc=60, scale=desvpad)\n",
    "print(f'Tempo médio: {tempo_medio:.5f}')"
   ]
  },
  {
   "cell_type": "markdown",
   "metadata": {},
   "source": [
    "d) Uma amostra de 90 recepcionista foi selecionada e, após treinamento, o tempo médio dessa amostra  foi de 40 segundos. Você considera que há indícios de que o treino foi eficaz? Justifique sua resposta com cálculo de probabilidades.<br>"
   ]
  },
  {
   "attachments": {},
   "cell_type": "markdown",
   "metadata": {},
   "source": [
    "### Reposta: \n",
    "Como a probabilidade de se ter uma média amostral menor ou igual a 40 é pequena sob o cenário de que nada mudou, há evidências de que a verdadeira média populacional está abaixo de 60;\n",
    "Logo, o treinamento foi eficaz."
   ]
  },
  {
   "cell_type": "markdown",
   "metadata": {},
   "source": [
    "e) Que suposições você fez para resolver este problema? <br>"
   ]
  },
  {
   "cell_type": "code",
   "execution_count": null,
   "metadata": {},
   "outputs": [],
   "source": [
    "# ESCREVA SUA RESPOSTA AQUI"
   ]
  },
  {
   "cell_type": "code",
   "execution_count": null,
   "metadata": {},
   "outputs": [],
   "source": []
  }
 ],
 "metadata": {
  "hide_input": false,
  "kernelspec": {
   "display_name": "base",
   "language": "python",
   "name": "python3"
  },
  "language_info": {
   "codemirror_mode": {
    "name": "ipython",
    "version": 3
   },
   "file_extension": ".py",
   "mimetype": "text/x-python",
   "name": "python",
   "nbconvert_exporter": "python",
   "pygments_lexer": "ipython3",
   "version": "3.9.13"
  },
  "vscode": {
   "interpreter": {
    "hash": "9f42bf53325642b63089e16cd06a69cb97dd86be6a63a88c392fdc3a5fc795ae"
   }
  }
 },
 "nbformat": 4,
 "nbformat_minor": 2
}
