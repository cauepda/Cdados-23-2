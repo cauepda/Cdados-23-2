{
 "cells": [
  {
   "cell_type": "markdown",
   "metadata": {},
   "source": [
    "___\n",
    "# Atividade: <p> <center> Experimento dos Resistores\n",
    "___\n",
    "    \n",
    "## Aula 20\n",
    "___\n",
    "\n",
    "### APS EXTRA:\n",
    "  * Grupo: máximo dupla \n",
    "  * Entrega: Anexar este notebook resolvido em link disponibilizado no Blackboard\n",
    "  * Deadline: Hoje final da aula\n",
    "  * Entrega deve ser **Individual**"
   ]
  },
  {
   "cell_type": "code",
   "execution_count": 1,
   "metadata": {},
   "outputs": [],
   "source": [
    "%matplotlib inline\n",
    "import matplotlib.pyplot as plt\n",
    "import pandas as pd\n",
    "import numpy as np\n",
    "from scipy import stats\n",
    "\n",
    "from math import sqrt"
   ]
  },
  {
   "cell_type": "markdown",
   "metadata": {},
   "source": [
    "___\n",
    "<div id=\"resistores\"></div>\n",
    "\n",
    "# Comprar ou não comprar um lote de resistores?\n",
    "\n",
    "Sua empresa está desenvolvendo um produto e o seu departamento ficou responsável por indicar um fabricante de resistores para ser utilizado nesse projeto.\n",
    "\n",
    "Serão comprados muitos resistores e ficaria inviável medi-los individualmente para garantir um mínimo de qualidade ao seu produto.\n",
    "\n",
    "Para auxiliar na sua a tomada de decisão sobre a compra ou não de um lote de resistores, o fabricante enviou uma pequena amostra aleatória de $n$ unidades. Assim, você deve utilizar essa amostra para tomar uma decisão sobre o lote todo (contexto populacional).\n",
    "\n",
    "Considere aqui que o desvio padrão populacional seja conhecido e valha $\\sigma=25 k\\Omega$. \n",
    "\n",
    "Ainda, assuma que não está sendo questionada a qualidade do fabricante decorrente à variabilidade das resistências.\n",
    "\n",
    "\n",
    "**Responda:**"
   ]
  },
  {
   "cell_type": "markdown",
   "metadata": {},
   "source": [
    "**a)** Você receberá um envelope com a amostra de resistores. Faça:\n",
    "\n",
    " * mensure a resistência de cada resistor;\n",
    " * guarde esses valores em uma lista; e\n",
    " * calcule a resistência **média amostral** e o **tamanho da amostra**.\n",
    " \n",
    "Trabalhe em dupla neste item."
   ]
  },
  {
   "cell_type": "code",
   "execution_count": 3,
   "metadata": {},
   "outputs": [],
   "source": [
    "resistores = [1.037e6 , 1.036e6, 1.037e6, 0.997e6, 1.023e6, 1.043e6, 0.998e6, 0.991e6, 1.042e6, 1.018e6, 1.025e6, 1.069e6, 1.071e6]"
   ]
  },
  {
   "cell_type": "code",
   "execution_count": 6,
   "metadata": {},
   "outputs": [
    {
     "name": "stdout",
     "output_type": "stream",
     "text": [
      "Média amostral: 1029769.2308 ohms \n",
      "Tamanho da amostra: 13\n"
     ]
    }
   ],
   "source": [
    "print(f'Média amostral: {(sum(resistores) / len(resistores)):.4f} ohms \\n'\n",
    "      f'Tamanho da amostra: {len(resistores)}')"
   ]
  },
  {
   "cell_type": "markdown",
   "metadata": {},
   "source": [
    "**b)** Considerando o que foi feito no item anterior, descreva:\n",
    "  * Variável de interesse $X$ em termos do problema; e\n",
    "  * Parâmetro de interesse (valor populacional) para ter motivado o cálculo da média amostral."
   ]
  },
  {
   "attachments": {},
   "cell_type": "markdown",
   "metadata": {},
   "source": [
    "<p>X: resistência dos resistores</p>\n",
    "<p>Parâmetro de interesse: Valor do lote de resistores</p>"
   ]
  },
  {
   "cell_type": "markdown",
   "metadata": {},
   "source": [
    "**c)** Seja $\\overline{X}$ a média amostral considerando uma amostra de $n$ resistores selecionados aleatoriamente. Qual é a distribuição de probabilidades de $\\overline{X}$ (qual distribuição e quais os seus respectivos parâmetros)? Aqui foi feito uso do TLC? Justifique porquê."
   ]
  },
  {
   "cell_type": "code",
   "execution_count": 34,
   "metadata": {},
   "outputs": [],
   "source": [
    "mu = sum(resistores) / len(resistores)\n",
    "desvpad = pd.Series(resistores).std()\n"
   ]
  },
  {
   "attachments": {},
   "cell_type": "markdown",
   "metadata": {},
   "source": [
    "<h2>Resposta:</h2>\n",
    "<p>Temos 2 possibilidades, ser normal ou não ser normal, para caso não ser normal, não teríamos certeza de que o valor de n seria grande o suficiente para ver a distribuição e assim definí-la, logo, não foi deito o uso do TLC</p>"
   ]
  },
  {
   "cell_type": "markdown",
   "metadata": {},
   "source": [
    "**d)** Obtenha a margem de erro considerando um coeficiente de confiança igual a $95\\%$.\n",
    "\n",
    "**Dica:** Aqui será necessário fazer uso da Normal Padrão, porém com padronização da média amostral, ou seja,\n",
    "$$Z = \\frac{\\overline{X}-\\mu}{\\sigma/\\sqrt{n}} \\sim N(0; 1)$$"
   ]
  },
  {
   "cell_type": "code",
   "execution_count": 32,
   "metadata": {},
   "outputs": [
    {
     "name": "stdout",
     "output_type": "stream",
     "text": [
      "Margem de erro: 13590.184\n"
     ]
    }
   ],
   "source": [
    "z_menor, z_maior = stats.norm.interval(0.95)\n",
    "\n",
    "e = (z_maior * desvpad) / sqrt(len(resistores))\n",
    "\n",
    "print(f'Margem de erro: {e:.3f}')"
   ]
  },
  {
   "cell_type": "markdown",
   "metadata": {},
   "source": [
    "**e)** Qual deveria ser o tamanho da amostra para se ter uma margem de erro de $3 k\\Omega$, com coeficiente de confiança igual a $95\\%$."
   ]
  },
  {
   "cell_type": "code",
   "execution_count": 37,
   "metadata": {},
   "outputs": [
    {
     "name": "stdout",
     "output_type": "stream",
     "text": [
      "O tamanho da amostra deverá ser de 267 resistores\n"
     ]
    }
   ],
   "source": [
    "tamanho_amostra = pow((z_maior * desvpad) / 3e3, 2)\n",
    "print(f'O tamanho da amostra deverá ser de {tamanho_amostra:.0f} resistores')"
   ]
  },
  {
   "cell_type": "markdown",
   "metadata": {},
   "source": [
    "**f)** Agora, considerando a estimativa para a média populacional obtida no item (a), você compraria ou não o lote?\n",
    "Faça uma tomada de decisão baseada no cálculo de uma probabilidade. *Dica:* será necessário fazer alguma hipótese sobre o lote do fabricante. "
   ]
  },
  {
   "cell_type": "code",
   "execution_count": 46,
   "metadata": {},
   "outputs": [
    {
     "data": {
      "text/plain": [
       "0.9999911978165241"
      ]
     },
     "execution_count": 46,
     "metadata": {},
     "output_type": "execute_result"
    }
   ],
   "source": [
    "n = len(resistores)\n",
    "\n",
    "probability = stats.norm.cdf(x=mu, loc = 1e6, scale = desvpad / sqrt(n))\n",
    "probability"
   ]
  },
  {
   "attachments": {},
   "cell_type": "markdown",
   "metadata": {},
   "source": [
    "<h2>Resposta:</h2>\n",
    "\n",
    "<p>Eu não compraria o lote, pois considerando o valor da probabilidade calculada, seria viável comprar caso essa fosse perto de 0.5, estando conforme a média esperada, porém, estando perto de 1, significa que o lote não obedece à média de 1Mega Ohm</p>"
   ]
  },
  {
   "cell_type": "markdown",
   "metadata": {},
   "source": []
  }
 ],
 "metadata": {
  "hide_input": false,
  "kernelspec": {
   "display_name": "base",
   "language": "python",
   "name": "python3"
  },
  "language_info": {
   "codemirror_mode": {
    "name": "ipython",
    "version": 3
   },
   "file_extension": ".py",
   "mimetype": "text/x-python",
   "name": "python",
   "nbconvert_exporter": "python",
   "pygments_lexer": "ipython3",
   "version": "3.9.13"
  },
  "vscode": {
   "interpreter": {
    "hash": "9f42bf53325642b63089e16cd06a69cb97dd86be6a63a88c392fdc3a5fc795ae"
   }
  }
 },
 "nbformat": 4,
 "nbformat_minor": 2
}
