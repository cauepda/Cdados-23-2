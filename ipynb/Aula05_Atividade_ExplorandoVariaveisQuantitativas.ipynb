{
 "cells": [
  {
   "cell_type": "markdown",
   "metadata": {},
   "source": [
    "___\n",
    "# Atividade: <p> <center> Análise Exploratória - Variáveis Quantitativas\n",
    "___\n",
    "\n",
    "## Aula 05\n",
    "\n",
    "**Objetivo da aula:** Ao final desta aula, o aluno deve ser capaz de elaborar análises exploratórias de variáveis quantitativas, utilizando ferramentas estatísticas e computacionais adequadas.\n",
    "\n"
   ]
  },
  {
   "cell_type": "markdown",
   "metadata": {},
   "source": [
    "___\n",
    "<div id=\"indice\"></div>\n",
    "\n",
    "## Índice\n",
    "\n",
    "- [Empresa de TV](#empresa-de-tv)\n",
    "    \n",
    "\n",
    "- [Uso de tabelas de frequências para variáveis quantitativas](#tab-freq-quanti)\n",
    "    - [Exercício 1](#ex1)\n",
    "\n",
    "\n",
    "- [Criando objetos que contenham `RENDA` separada por `PLANO`](#rendaporplano)\n",
    "    - [Exercício 2](#ex2)\n",
    "\n",
    "\n",
    "- [Análise Exploratória - Medidas resumo](#medidasresumo)\n",
    "    - [Média](#media)     \n",
    "    - [Mediana](#mediana)     \n",
    "    - [Quantil](#quantil)     \n",
    "    - [Quartil](#quantil)     \n",
    "    - [Variância e Desvio padrão](#variabilidade)     \n",
    "    - [Exercício 3](#ex3)\n",
    "    - [Exercício 4](#ex4)\n",
    "    - [Exercício 5](#ex5)\n",
    "    - [Exercício 6](#ex6)\n",
    "    - [Exercício 7](#ex7)\n",
    "    - [Exercício 8](#ex8)\n",
    "    - [Exercício 9](#ex9)\n",
    "\n",
    "\n",
    "- [Análise Exploratória - Boxplot](#boxplot)\n",
    "    - [Exercício 10](#ex10)\n",
    "        "
   ]
  },
  {
   "cell_type": "code",
   "execution_count": 1,
   "metadata": {},
   "outputs": [],
   "source": [
    "%matplotlib inline\n",
    "import pandas as pd\n",
    "import os\n",
    "import matplotlib.pyplot as plt\n",
    "\n",
    "\n",
    "# Para ter melhor print\n",
    "from IPython.display import display"
   ]
  },
  {
   "cell_type": "code",
   "execution_count": 2,
   "metadata": {},
   "outputs": [
    {
     "name": "stdout",
     "output_type": "stream",
     "text": [
      "Esperamos trabalhar no diretório\n",
      "/Users/cauedagostinho/Documents/Insper/2˚sem/Cdados\n"
     ]
    }
   ],
   "source": [
    "# Listando o diretório de trabalho. Lembre-se que o arquivo com a base de dados precisa estar neste diretório.\n",
    "print('Esperamos trabalhar no diretório')\n",
    "print(os.getcwd())"
   ]
  },
  {
   "cell_type": "markdown",
   "metadata": {},
   "source": [
    "___\n",
    "<div id=\"empresa-de-tv\"></div>\n",
    "\n",
    "# Empresa de TV\n",
    "\n",
    "<img src=\"empresaTV.jpg\" height=\"400\">\n",
    "\n",
    "Fonte: extraído da internet"
   ]
  },
  {
   "cell_type": "markdown",
   "metadata": {},
   "source": [
    "Uma empresa de TV via satélite criou recentemente dois tipos de planos de canais (A e B).\n",
    "\n",
    "A empresa tem como objetivo estudar o perfil dos clientes que aderiram ao plano para enviar malas diretas aos potenciais clientes de cada tipo de plano.\n",
    "\n",
    "A base de dados apresenta algumas variáveis para uma amostra de 82 clientes selecionados aleatoriamente dentre aqueles que aderiram aos planos. As variáveis têm os seguintes significados:\n",
    "\n",
    "* CLIENTE: identificador do cliente.\n",
    "* PLANO: apresenta o plano adquirido pelo cliente – (1=A ou 2=B). \n",
    "* EC: apresenta estado civil do cliente no momento da adesão ao  plano – (1=Casado, 2=Solteiro e 3=Outros).\n",
    "* SATISFACAO: grau de satisfação do cliente pelo plano – \n",
    "\t(Muito insatisfeito, Insatisfeito, Indiferente, Satisfeito e Muito satisfeito).\n",
    "* RENDA: renda pessoal do cliente, em milhares de reais.\n",
    "\n",
    "O arquivo `EmpresaTV_Cod.xlsx` contém as variáveis descritas acima."
   ]
  },
  {
   "cell_type": "code",
   "execution_count": 3,
   "metadata": {},
   "outputs": [],
   "source": [
    "# Carregando os dados do arquivo\n",
    "dados = pd.read_excel('data/EmpresaTV_Cod.xlsx')"
   ]
  },
  {
   "cell_type": "markdown",
   "metadata": {},
   "source": [
    "### Comandos da Aula 3"
   ]
  },
  {
   "cell_type": "code",
   "execution_count": 4,
   "metadata": {
    "scrolled": true
   },
   "outputs": [
    {
     "data": {
      "text/html": [
       "<div>\n",
       "<style scoped>\n",
       "    .dataframe tbody tr th:only-of-type {\n",
       "        vertical-align: middle;\n",
       "    }\n",
       "\n",
       "    .dataframe tbody tr th {\n",
       "        vertical-align: top;\n",
       "    }\n",
       "\n",
       "    .dataframe thead th {\n",
       "        text-align: right;\n",
       "    }\n",
       "</style>\n",
       "<table border=\"1\" class=\"dataframe\">\n",
       "  <thead>\n",
       "    <tr style=\"text-align: right;\">\n",
       "      <th></th>\n",
       "      <th>CLIENTE</th>\n",
       "      <th>PLANO</th>\n",
       "      <th>EC</th>\n",
       "      <th>SATISFACAO</th>\n",
       "      <th>RENDA</th>\n",
       "    </tr>\n",
       "  </thead>\n",
       "  <tbody>\n",
       "    <tr>\n",
       "      <th>0</th>\n",
       "      <td>1</td>\n",
       "      <td>A</td>\n",
       "      <td>Casado</td>\n",
       "      <td>Muito Satisfeito</td>\n",
       "      <td>21.4</td>\n",
       "    </tr>\n",
       "    <tr>\n",
       "      <th>1</th>\n",
       "      <td>2</td>\n",
       "      <td>A</td>\n",
       "      <td>Solteiro</td>\n",
       "      <td>Muito Satisfeito</td>\n",
       "      <td>17.2</td>\n",
       "    </tr>\n",
       "    <tr>\n",
       "      <th>2</th>\n",
       "      <td>3</td>\n",
       "      <td>A</td>\n",
       "      <td>Outros</td>\n",
       "      <td>Muito Satisfeito</td>\n",
       "      <td>15.6</td>\n",
       "    </tr>\n",
       "    <tr>\n",
       "      <th>3</th>\n",
       "      <td>4</td>\n",
       "      <td>A</td>\n",
       "      <td>Casado</td>\n",
       "      <td>Satisfeito</td>\n",
       "      <td>10.4</td>\n",
       "    </tr>\n",
       "    <tr>\n",
       "      <th>4</th>\n",
       "      <td>5</td>\n",
       "      <td>A</td>\n",
       "      <td>Solteiro</td>\n",
       "      <td>Muito Satisfeito</td>\n",
       "      <td>17.6</td>\n",
       "    </tr>\n",
       "  </tbody>\n",
       "</table>\n",
       "</div>"
      ],
      "text/plain": [
       "   CLIENTE PLANO        EC        SATISFACAO  RENDA\n",
       "0        1     A    Casado  Muito Satisfeito   21.4\n",
       "1        2     A  Solteiro  Muito Satisfeito   17.2\n",
       "2        3     A    Outros  Muito Satisfeito   15.6\n",
       "3        4     A    Casado        Satisfeito   10.4\n",
       "4        5     A  Solteiro  Muito Satisfeito   17.6"
      ]
     },
     "execution_count": 4,
     "metadata": {},
     "output_type": "execute_result"
    }
   ],
   "source": [
    "dados['PLANO'] = dados['PLANO'].astype('category')\n",
    "dados['EC'] = dados['EC'].astype('category')\n",
    "dados['SATISFACAO'] = dados['SATISFACAO'].astype('category')\n",
    "\n",
    "dados['PLANO'].cat.categories = ['A', 'B']\n",
    "dados['EC'].cat.categories = ['Casado', 'Solteiro', 'Outros']\n",
    "dados['SATISFACAO'] = pd.Categorical(dados.SATISFACAO, \n",
    "                                     categories = ['Muito Insatisfeito', 'Insatisfeito', 'Indiferente', \n",
    "                                                   'Satisfeito', 'Muito Satisfeito'], \n",
    "                                     ordered=True)\n",
    "\n",
    "# Visualizando as cinco primeiras linhas\n",
    "dados.head(5)"
   ]
  },
  {
   "cell_type": "markdown",
   "metadata": {},
   "source": [
    "[Volta ao Índice](#indice)"
   ]
  },
  {
   "cell_type": "markdown",
   "metadata": {},
   "source": [
    "___\n",
    "<div id=\"tab-freq-quanti\"></div>\n",
    "\n",
    "# Uso de tabelas de frequências para variáveis quantitativas\n",
    "\n",
    "Na aula passada, aprendemos algumas ferramentas estatísticas que permitem explorar o comportamento de variáveis qualitativas. <br>\n",
    "Hoje, nosso objetivo será analisar, numérico e graficamente, as informações descritas em variáveis quantativas. <br>\n",
    "Antes, vamos ver o que acontece ao tentarmos montar uma tabela de frequências com a variável `RENDA`."
   ]
  },
  {
   "cell_type": "markdown",
   "metadata": {},
   "source": [
    "# Resumo das Aulas anteriores"
   ]
  },
  {
   "cell_type": "raw",
   "metadata": {},
   "source": [
    "Tabela de frequencias - UNIVARIADO\n",
    "sintaxe:\n",
    "nome_dataframe.nome_da_coluna.value_counts()  -- contagens"
   ]
  },
  {
   "cell_type": "markdown",
   "metadata": {},
   "source": [
    "<div id=\"ex1\"></div>\n",
    "\n",
    "### EXERCÍCIO 1\n",
    "\n",
    "Faça uma tabela de frequências para a variável `RENDA` usando comando adequado visto na aula anterior.\n",
    "\n",
    "O *output* fornecido permite explorar o comportamento da renda dos clientes que fizeram adesão de algum plano de TV?"
   ]
  },
  {
   "cell_type": "code",
   "execution_count": null,
   "metadata": {},
   "outputs": [],
   "source": [
    "# ESCREVA SEU CODIGO AQUI"
   ]
  },
  {
   "cell_type": "code",
   "execution_count": 18,
   "metadata": {},
   "outputs": [],
   "source": [
    "freq_df = dados[['RENDA']]"
   ]
  },
  {
   "cell_type": "code",
   "execution_count": 24,
   "metadata": {},
   "outputs": [
    {
     "data": {
      "text/plain": [
       "5.3     3\n",
       "4.9     3\n",
       "4.7     2\n",
       "13.2    2\n",
       "2.5     2\n",
       "       ..\n",
       "11.5    1\n",
       "10.8    1\n",
       "8.9     1\n",
       "0.7     1\n",
       "0.6     1\n",
       "Name: RENDA, Length: 65, dtype: int64"
      ]
     },
     "execution_count": 24,
     "metadata": {},
     "output_type": "execute_result"
    }
   ],
   "source": [
    "freq_df['RENDA'].value_counts(normalize=False)"
   ]
  },
  {
   "cell_type": "raw",
   "metadata": {},
   "source": [
    "ESCREVA SUA RESPOSTA AQUI"
   ]
  },
  {
   "cell_type": "markdown",
   "metadata": {},
   "source": [
    "[Volta ao Índice](#indice)"
   ]
  },
  {
   "cell_type": "markdown",
   "metadata": {},
   "source": [
    "___\n",
    "<div id=\"rendaporplano\"></div>\n",
    "\n",
    "# Criando objetos que contenham `RENDA` separada por `PLANO`\n",
    "\n",
    "Ainda não consideramos a variável RENDA em nossa análise. \n",
    "Vamos explora-la para melhor compreender o perfil dos clientes dessa empresa.\n",
    "\n",
    "Como o objetivo da empresa é entender o perfil dos clientes em cada plano, então vamos antes criar dois novos *dataframes* e duas novas *Series* conforme exercício a seguir. "
   ]
  },
  {
   "cell_type": "markdown",
   "metadata": {},
   "source": [
    "<div id=\"ex2\"></div>\n",
    "\n",
    "### EXERCÍCIO 2\n",
    "\n",
    "Crie quatro objetos:\n",
    "\n",
    "- `dados_a` contendo somente os dados dos clientes do plano A;\n",
    "- `dados_b` contendo somente os dados dos clientes do plano B;\n",
    "- `renda_a` contendo somente a renda dos clientes do plano A;\n",
    "- `renda_b` contendo somente a renda dos clientes do plano B.\n",
    "\n",
    "**Dica:** Use conhecimentos adquiridos nas aulas anteriores."
   ]
  },
  {
   "cell_type": "code",
   "execution_count": 29,
   "metadata": {},
   "outputs": [
    {
     "data": {
      "text/html": [
       "<div>\n",
       "<style scoped>\n",
       "    .dataframe tbody tr th:only-of-type {\n",
       "        vertical-align: middle;\n",
       "    }\n",
       "\n",
       "    .dataframe tbody tr th {\n",
       "        vertical-align: top;\n",
       "    }\n",
       "\n",
       "    .dataframe thead th {\n",
       "        text-align: right;\n",
       "    }\n",
       "</style>\n",
       "<table border=\"1\" class=\"dataframe\">\n",
       "  <thead>\n",
       "    <tr style=\"text-align: right;\">\n",
       "      <th></th>\n",
       "      <th>CLIENTE</th>\n",
       "      <th>PLANO</th>\n",
       "      <th>EC</th>\n",
       "      <th>SATISFACAO</th>\n",
       "      <th>RENDA</th>\n",
       "    </tr>\n",
       "  </thead>\n",
       "  <tbody>\n",
       "    <tr>\n",
       "      <th>0</th>\n",
       "      <td>1</td>\n",
       "      <td>A</td>\n",
       "      <td>Casado</td>\n",
       "      <td>Muito Satisfeito</td>\n",
       "      <td>21.4</td>\n",
       "    </tr>\n",
       "    <tr>\n",
       "      <th>1</th>\n",
       "      <td>2</td>\n",
       "      <td>A</td>\n",
       "      <td>Solteiro</td>\n",
       "      <td>Muito Satisfeito</td>\n",
       "      <td>17.2</td>\n",
       "    </tr>\n",
       "    <tr>\n",
       "      <th>2</th>\n",
       "      <td>3</td>\n",
       "      <td>A</td>\n",
       "      <td>Outros</td>\n",
       "      <td>Muito Satisfeito</td>\n",
       "      <td>15.6</td>\n",
       "    </tr>\n",
       "    <tr>\n",
       "      <th>3</th>\n",
       "      <td>4</td>\n",
       "      <td>A</td>\n",
       "      <td>Casado</td>\n",
       "      <td>Satisfeito</td>\n",
       "      <td>10.4</td>\n",
       "    </tr>\n",
       "    <tr>\n",
       "      <th>4</th>\n",
       "      <td>5</td>\n",
       "      <td>A</td>\n",
       "      <td>Solteiro</td>\n",
       "      <td>Muito Satisfeito</td>\n",
       "      <td>17.6</td>\n",
       "    </tr>\n",
       "  </tbody>\n",
       "</table>\n",
       "</div>"
      ],
      "text/plain": [
       "   CLIENTE PLANO        EC        SATISFACAO  RENDA\n",
       "0        1     A    Casado  Muito Satisfeito   21.4\n",
       "1        2     A  Solteiro  Muito Satisfeito   17.2\n",
       "2        3     A    Outros  Muito Satisfeito   15.6\n",
       "3        4     A    Casado        Satisfeito   10.4\n",
       "4        5     A  Solteiro  Muito Satisfeito   17.6"
      ]
     },
     "execution_count": 29,
     "metadata": {},
     "output_type": "execute_result"
    }
   ],
   "source": [
    "# ESCREVA SEU CODIGO AQUI\n",
    "dados.head()"
   ]
  },
  {
   "cell_type": "code",
   "execution_count": 30,
   "metadata": {},
   "outputs": [],
   "source": [
    "dados_a = dados.loc[dados['PLANO'] == 'A']\n",
    "dados_b = dados.loc[dados['PLANO'] == 'B']"
   ]
  },
  {
   "cell_type": "code",
   "execution_count": 31,
   "metadata": {},
   "outputs": [],
   "source": [
    "renda_a = pd.Series(dados_a['RENDA'])\n",
    "renda_b = pd.Series(dados_b['RENDA'])"
   ]
  },
  {
   "cell_type": "markdown",
   "metadata": {},
   "source": [
    "[Volta ao Índice](#indice)"
   ]
  },
  {
   "cell_type": "markdown",
   "metadata": {},
   "source": [
    "___\n",
    "<div id=\"medidasresumo\"></div>\n",
    "\n",
    "# Análise Exploratória - Medidas resumo\n",
    "\n",
    "O **Pandas** oferece uma variedade de funções para calcular medidas-resumo, que fornecem *insights* valiosos sobre as características de posição e de dispersão dos dados. <br>\n",
    "Aqui estão algumas dessas funções: "
   ]
  },
  {
   "cell_type": "markdown",
   "metadata": {},
   "source": [
    "<div id=\"media\"></div>\n",
    "\n",
    "  - [Series.mean()](#https://pandas.pydata.org/docs/reference/api/pandas.Series.mean.html)<br>\n",
    "  Calcula a **média aritmética** dos valores em uma coluna quantitativa do *dataframe*, representando o valor médio do conjunto de dados. <br>\n",
    "  A figura a seguir ilustra como um valor atípico ou uma assimetria nos dados podem distorcer a média, deslocando-a para um ponto no eixo x que não esteja alinhado com os valores mais frequentes.<br>\n",
    "  <img src=\"data/figura_media.png\" width=500>\n",
    "  "
   ]
  },
  {
   "cell_type": "markdown",
   "metadata": {},
   "source": [
    "<div id=\"media\"></div>   \n",
    "\n",
    "  - [Series.median()](#https://pandas.pydata.org/docs/reference/api/pandas.Series.median.html)<br>\n",
    "   A **mediana** é uma medida estatística que representa o valor central em um conjunto de dados ordenados. <br>\n",
    "   Para calculá-la, é necessário seguir estes passos: <br>\n",
    "   * Organize os dados em ordem crescente. <br>\n",
    "   * Se o tamanho total de observações for ímpar, a mediana é o valor que está exatamente no meio em termos do tamanho da amostra. <br>\n",
    "    <img src=\"data/figura_mediana_nimpar.png\" width=200>    \n",
    "    \n",
    "   * Se o tamanho total de observações for par, a mediana é a média dos dois valores centrais em termos do tamanho da amostra. <br>\n",
    "    <img src=\"data/figura_mediana_npar.png\" width=200>   \n",
    "    \n",
    "   A mediana não é impactada por valores aberrantes ou assimetria nos dados. A ilustração abaixo exemplifica essa afirmação de forma clara.\n",
    "   <img src=\"data/figura_mediana.png\" width=500>    "
   ]
  },
  {
   "cell_type": "markdown",
   "metadata": {},
   "source": [
    "<div id=\"quantil\"></div>   \n",
    "\n",
    "- [Series.quantile()](#https://pandas.pydata.org/docs/reference/api/pandas.Series.quantile.html)<br>\n",
    "  Um **quantil** ou **percentil** de ordem p (0<p<100) é o valor que divide o conjunto de dados ordenado em duas partes: uma delas com p% dos menores valores e a outra com (100-p)% dos maiores valores.<br>\n",
    "  Nesse contexto, a mediana também é chamada de quantil de ordem 50. <br>\n",
    "  <img src=\"data/figura_quantil.png\" width=500> \n",
    "  \n",
    "  Já os **quartis** são medidas estatísticas que dividem um conjunto de dados ordenados em quatro partes iguais, cada uma representando 25% dos valores. São usados para avaliar a distribuição dos dados e entender como eles estão dispersos ao longo de sua escala. Existem três quartis principais: <br>\n",
    "  * **Primeiro Quartil (Q1):** É o valor que deixa 25% dos dados abaixo e 75% dos dados acima quando os dados estão organizados em ordem crescente. Em outras palavras, é o valor que divide o primeiro quarto dos dados. <br>\n",
    "  * **Segundo Quartil (Q2):** É equivalente à mediana. Separa 50% dos dados abaixo e 50% acima, representando o valor do meio quando os dados estão organizados em ordem. <br>\n",
    "  * **Terceiro Quartil (Q3):** Deixa 75% dos dados abaixo e 25% acima quando os dados estão organizados em ordem crescente. É o valor que separa o terceiro quarto dos dados. <br>\n",
    "  \n",
    "   Os quartis são particularmente úteis para identificar a dispersão e a assimetria dos dados, além de ajudar a detectar a presença de valores extremos (outliers) que podem afetar as análises. A diferença entre o terceiro e o primeiro quartil é chamada de intervalo interquartil (IQR), que fornece informações sobre a dispersão dos dados em torno da mediana.<br>\n",
    "   Essas características a cerca de uma variável quantitativa poderá ser visualizada em um gráfico chamado [Boxplot](#boxplot) como será discutido ao final deste notebook.\n",
    "   \n",
    "   <img src=\"data/figura_quartil.png\" width=500> "
   ]
  },
  {
   "cell_type": "markdown",
   "metadata": {},
   "source": [
    "<div id=\"variabilidade\"></div>   \n",
    "\n",
    "  - [Series.var()](#https://pandas.pydata.org/docs/reference/api/pandas.Series.var.html)<br>\n",
    "  A **variância** é a média das diferenças ao quadrado entre cada uma das observações e a média do conjunto. Características dessa medida: um dos problemas de usar a variância como medida de dispersão é o fato de sua unidade de medida ser a unidade de medida da variável quantitativa ao quadrado. A solução é extrair a raiz quadrada positiva da variância, já que, com isso, se volta à unidade original da variável.  <p>\n",
    "  \n",
    "  - [Series.std()](#https://pandas.pydata.org/docs/reference/api/pandas.Series.std.html) <br>\n",
    "  O **desvio padrão** é a raiz quadrada da variância. Características dessa medida: é positivo; vale zero apenas quando todos os valores dos dados são o mesmo número; o valor do desvio padrão pode crescer dramaticamente com a inclusão de um ou mais valores atípicos; e a unidade de medida é a mesma da definida na variável quantitativa. <br>\n",
    "  \n",
    "  A figura a seguir exemplifica o conceito de mensuração da variabilidade dos dados por meio da distância entre os valores individuais e a média, como é o caso da variância e do desvio padrão. \n",
    "  <img src=\"data/figura_variabilidade.png\" width=500> "
   ]
  },
  {
   "cell_type": "markdown",
   "metadata": {},
   "source": [
    "<div id=\"ex3\"></div>\n",
    "\n",
    "### EXERCÍCIO 3\n",
    "\n",
    "Imprima a média, o primeiro quartil ($Q1$), segundo quartil ou mediana ($Q2$), terceiro quartil ($Q3$) e o desvio padrão das rendas do clientes do plano A e B, separadamente. \n",
    "\n",
    "Interprete os resultados numéricos em termos do problema."
   ]
  },
  {
   "cell_type": "code",
   "execution_count": null,
   "metadata": {},
   "outputs": [],
   "source": [
    "# ESCREVA SEU CODIGO AQUI"
   ]
  },
  {
   "cell_type": "markdown",
   "metadata": {},
   "source": [
    "### Plano A"
   ]
  },
  {
   "cell_type": "code",
   "execution_count": 49,
   "metadata": {},
   "outputs": [],
   "source": [
    "media_renda_A = renda_a.mean()\n",
    "fst_quartil_A = renda_a.quantile(q=0.25)\n",
    "scnd_quartil_A = renda_a.quantile(q=0.5)\n",
    "trd_quartil_A = renda_a.quantile(q=0.75)\n",
    "std_A = renda_a.std()"
   ]
  },
  {
   "cell_type": "code",
   "execution_count": 50,
   "metadata": {},
   "outputs": [
    {
     "name": "stdout",
     "output_type": "stream",
     "text": [
      "Média: 10.42\n",
      "Primeiro Quartil: 7.48\n",
      "Segundo Quartil / Mediana: 10.35\n",
      "Terceiro Quartil: 13.20\n",
      "Desvio Padrão: 4.47\n"
     ]
    }
   ],
   "source": [
    "print(f'Média: {media_renda_A:.2f}')\n",
    "print(f'Primeiro Quartil: {fst_quartil:.2f}')\n",
    "print(f'Segundo Quartil / Mediana: {scnd_quartil:.2f}')\n",
    "print(f'Terceiro Quartil: {trd_quartil:.2f}')\n",
    "print(f'Desvio Padrão: {std:.2f}')"
   ]
  },
  {
   "cell_type": "markdown",
   "metadata": {},
   "source": [
    "### Plano B"
   ]
  },
  {
   "cell_type": "code",
   "execution_count": 53,
   "metadata": {},
   "outputs": [],
   "source": [
    "media_renda_B = renda_b.mean()\n",
    "fst_quartil_B = renda_b.quantile(q=0.25)\n",
    "scnd_quartil_B = renda_b.quantile(q=0.5)\n",
    "trd_quartil_B = renda_b.quantile(q=0.75)\n",
    "std_B = renda_b.std()"
   ]
  },
  {
   "cell_type": "code",
   "execution_count": 54,
   "metadata": {},
   "outputs": [
    {
     "name": "stdout",
     "output_type": "stream",
     "text": [
      "Média: 5.69\n",
      "Primeiro Quartil: 4.15\n",
      "Segundo Quartil / Mediana: 5.15\n",
      "Terceiro Quartil: 6.38\n",
      "Desvio Padrão: 3.29\n"
     ]
    }
   ],
   "source": [
    "print(f'Média: {media_renda_B:.2f}')\n",
    "print(f'Primeiro Quartil: {fst_quartil_B:.2f}')\n",
    "print(f'Segundo Quartil / Mediana: {scnd_quartil_B:.2f}')\n",
    "print(f'Terceiro Quartil: {trd_quartil_B:.2f}')\n",
    "print(f'Desvio Padrão: {std_B:.2f}')"
   ]
  },
  {
   "cell_type": "markdown",
   "metadata": {},
   "source": [
    "[Volta ao Índice](#indice)"
   ]
  },
  {
   "cell_type": "markdown",
   "metadata": {},
   "source": [
    "<div id=\"ex4\"></div>\n",
    "\n",
    "### EXERCÍCIO 4\n",
    "\n",
    "<div id=\"describe\"></div>\n",
    "\n",
    "Uma função bastante útil em uma análise exploratória de variável quantitativa é a `.describe()`. \n",
    "\n",
    "Utilize essa função `.describe()` com as rendas dos planos A e B e compare os resultados numéricos com os obtidos na célula anterior."
   ]
  },
  {
   "cell_type": "code",
   "execution_count": null,
   "metadata": {},
   "outputs": [],
   "source": [
    "# ESCREVA SEU CODIGO AQUI"
   ]
  },
  {
   "cell_type": "code",
   "execution_count": 47,
   "metadata": {},
   "outputs": [
    {
     "name": "stdout",
     "output_type": "stream",
     "text": [
      "count    46.000000\n",
      "mean     10.421739\n",
      "std       4.465568\n",
      "min       0.700000\n",
      "25%       7.475000\n",
      "50%      10.350000\n",
      "75%      13.200000\n",
      "max      21.400000\n",
      "Name: RENDA, dtype: float64\n"
     ]
    }
   ],
   "source": [
    "print(renda_a.describe())"
   ]
  },
  {
   "cell_type": "code",
   "execution_count": 48,
   "metadata": {},
   "outputs": [
    {
     "name": "stdout",
     "output_type": "stream",
     "text": [
      "count    36.000000\n",
      "mean      5.688889\n",
      "std       3.293437\n",
      "min       0.600000\n",
      "25%       4.150000\n",
      "50%       5.150000\n",
      "75%       6.375000\n",
      "max      19.200000\n",
      "Name: RENDA, dtype: float64\n"
     ]
    }
   ],
   "source": [
    "print(renda_b.describe())"
   ]
  },
  {
   "cell_type": "markdown",
   "metadata": {},
   "source": [
    "[Volta ao Índice](#indice)"
   ]
  },
  {
   "cell_type": "markdown",
   "metadata": {},
   "source": [
    "<div id=\"ex5\"></div>\n",
    "\n",
    "### EXERCÍCIO 5\n",
    "\n",
    "Tão importante quanto saber selecionar ferramentas estatísticas adequadas para um contexto específico e saber codifica-las no Python, é a habilidade de interpretar esses resultados em relação ao problema, para uma melhor tomada de decisão.<br>\n",
    "Quais hipóteses você pode formular a partir das medidas-resumo da renda dos clientes dos dois planos?"
   ]
  },
  {
   "cell_type": "raw",
   "metadata": {},
   "source": [
    "#ESCREVA SUA RESPOSTA AQUI\n",
    "Pode-se observar uma classificação de planos seguindo o parâmetro de renda, de modo que, no Pano A, 50% dos assinantes possuem renda inferior a 10.35, enquanto no Plano B, esse valor reduz para 5.15, logo, é possivel associar que aquelas pessoas que não possuem tanta renda optam pelo plano B."
   ]
  },
  {
   "cell_type": "raw",
   "metadata": {},
   "source": [
    "ESCREVA SUA RESPOSTA AQUI"
   ]
  },
  {
   "cell_type": "markdown",
   "metadata": {},
   "source": [
    "[Volta ao Índice](#indice)"
   ]
  },
  {
   "cell_type": "markdown",
   "metadata": {},
   "source": [
    "<div id=\"ex6\"></div>\n",
    "\n",
    "### EXERCÍCIO 6\n",
    "\n",
    "Estude a função `.groupby(by= )` [aqui](#https://pandas.pydata.org/docs/reference/api/pandas.DataFrame.groupby.html) e utilize-a para imprimir as medidas resumo da variável quantitativa `RENDA` para cada categoria da variável `PLANO`, separadamente.\n",
    "\n",
    "\n",
    "**DICAS**: Você deve usar essa função no *dataframe* completo `dados` e pode pedir as medidas-resumo a partir da função `.describe()`."
   ]
  },
  {
   "cell_type": "code",
   "execution_count": null,
   "metadata": {},
   "outputs": [],
   "source": [
    "#ESCREVA SUA RESPOSTA AQUI"
   ]
  },
  {
   "cell_type": "code",
   "execution_count": 93,
   "metadata": {
    "scrolled": true
   },
   "outputs": [
    {
     "data": {
      "text/html": [
       "<div>\n",
       "<style scoped>\n",
       "    .dataframe tbody tr th:only-of-type {\n",
       "        vertical-align: middle;\n",
       "    }\n",
       "\n",
       "    .dataframe tbody tr th {\n",
       "        vertical-align: top;\n",
       "    }\n",
       "\n",
       "    .dataframe thead th {\n",
       "        text-align: right;\n",
       "    }\n",
       "</style>\n",
       "<table border=\"1\" class=\"dataframe\">\n",
       "  <thead>\n",
       "    <tr style=\"text-align: right;\">\n",
       "      <th></th>\n",
       "      <th>count</th>\n",
       "      <th>mean</th>\n",
       "      <th>std</th>\n",
       "      <th>min</th>\n",
       "      <th>25%</th>\n",
       "      <th>50%</th>\n",
       "      <th>75%</th>\n",
       "      <th>max</th>\n",
       "    </tr>\n",
       "    <tr>\n",
       "      <th>PLANO</th>\n",
       "      <th></th>\n",
       "      <th></th>\n",
       "      <th></th>\n",
       "      <th></th>\n",
       "      <th></th>\n",
       "      <th></th>\n",
       "      <th></th>\n",
       "      <th></th>\n",
       "    </tr>\n",
       "  </thead>\n",
       "  <tbody>\n",
       "    <tr>\n",
       "      <th>A</th>\n",
       "      <td>46.0</td>\n",
       "      <td>10.421739</td>\n",
       "      <td>4.465568</td>\n",
       "      <td>0.7</td>\n",
       "      <td>7.475</td>\n",
       "      <td>10.35</td>\n",
       "      <td>13.200</td>\n",
       "      <td>21.4</td>\n",
       "    </tr>\n",
       "    <tr>\n",
       "      <th>B</th>\n",
       "      <td>36.0</td>\n",
       "      <td>5.688889</td>\n",
       "      <td>3.293437</td>\n",
       "      <td>0.6</td>\n",
       "      <td>4.150</td>\n",
       "      <td>5.15</td>\n",
       "      <td>6.375</td>\n",
       "      <td>19.2</td>\n",
       "    </tr>\n",
       "  </tbody>\n",
       "</table>\n",
       "</div>"
      ],
      "text/plain": [
       "       count       mean       std  min    25%    50%     75%   max\n",
       "PLANO                                                             \n",
       "A       46.0  10.421739  4.465568  0.7  7.475  10.35  13.200  21.4\n",
       "B       36.0   5.688889  3.293437  0.6  4.150   5.15   6.375  19.2"
      ]
     },
     "execution_count": 93,
     "metadata": {},
     "output_type": "execute_result"
    }
   ],
   "source": [
    "dados.groupby(by='PLANO')['RENDA'].describe()"
   ]
  },
  {
   "cell_type": "markdown",
   "metadata": {},
   "source": [
    "[Volta ao Índice](#indice)"
   ]
  },
  {
   "cell_type": "markdown",
   "metadata": {},
   "source": [
    "<div id=\"ex7\"></div>\n",
    "\n",
    "### EXERCÍCIO 7 \n",
    "No [Exercício 1](#exe1), vimos que não faz sentido construir uma tabela de frequências na variável `RENDA` devido ao seu tipo de variável ser contínua. \n",
    "\n",
    "Crie uma nova coluna em `dados` chamada `FAIXA_DE_RENDA`que contenha a classificação da renda de cada cliente. Para tanto, use 3 faixas de renda, todas com amplitudes iguais. Note que essa quantidade de faixas não necessariamente é uma boa ideia, mas vamos começar com essa análise simplificada.\n",
    "\n",
    "\n",
    "**DICA**: a função `pd.cut` pode ser útil para resolver este exercício. Consulte [aqui](#https://pandas.pydata.org/docs/reference/api/pandas.cut.html)."
   ]
  },
  {
   "cell_type": "code",
   "execution_count": null,
   "metadata": {},
   "outputs": [],
   "source": [
    "#ESCREVA SUA RESPOSTA AQUI"
   ]
  },
  {
   "cell_type": "code",
   "execution_count": 113,
   "metadata": {},
   "outputs": [],
   "source": [
    "dados['FAIXA_DE_RENDA'] = pd.cut(x=dados['RENDA'], bins=3)"
   ]
  },
  {
   "cell_type": "code",
   "execution_count": 114,
   "metadata": {},
   "outputs": [
    {
     "data": {
      "text/html": [
       "<div>\n",
       "<style scoped>\n",
       "    .dataframe tbody tr th:only-of-type {\n",
       "        vertical-align: middle;\n",
       "    }\n",
       "\n",
       "    .dataframe tbody tr th {\n",
       "        vertical-align: top;\n",
       "    }\n",
       "\n",
       "    .dataframe thead th {\n",
       "        text-align: right;\n",
       "    }\n",
       "</style>\n",
       "<table border=\"1\" class=\"dataframe\">\n",
       "  <thead>\n",
       "    <tr style=\"text-align: right;\">\n",
       "      <th></th>\n",
       "      <th>CLIENTE</th>\n",
       "      <th>PLANO</th>\n",
       "      <th>EC</th>\n",
       "      <th>SATISFACAO</th>\n",
       "      <th>RENDA</th>\n",
       "      <th>FAIXA_DE_RENDA</th>\n",
       "      <th>SENTIMENTO</th>\n",
       "    </tr>\n",
       "  </thead>\n",
       "  <tbody>\n",
       "    <tr>\n",
       "      <th>0</th>\n",
       "      <td>1</td>\n",
       "      <td>A</td>\n",
       "      <td>Casado</td>\n",
       "      <td>Muito Satisfeito</td>\n",
       "      <td>21.4</td>\n",
       "      <td>(14.467, 21.4]</td>\n",
       "      <td>Curtiu</td>\n",
       "    </tr>\n",
       "    <tr>\n",
       "      <th>1</th>\n",
       "      <td>2</td>\n",
       "      <td>A</td>\n",
       "      <td>Solteiro</td>\n",
       "      <td>Muito Satisfeito</td>\n",
       "      <td>17.2</td>\n",
       "      <td>(14.467, 21.4]</td>\n",
       "      <td>Curtiu</td>\n",
       "    </tr>\n",
       "    <tr>\n",
       "      <th>2</th>\n",
       "      <td>3</td>\n",
       "      <td>A</td>\n",
       "      <td>Outros</td>\n",
       "      <td>Muito Satisfeito</td>\n",
       "      <td>15.6</td>\n",
       "      <td>(14.467, 21.4]</td>\n",
       "      <td>Curtiu</td>\n",
       "    </tr>\n",
       "    <tr>\n",
       "      <th>3</th>\n",
       "      <td>4</td>\n",
       "      <td>A</td>\n",
       "      <td>Casado</td>\n",
       "      <td>Satisfeito</td>\n",
       "      <td>10.4</td>\n",
       "      <td>(7.533, 14.467]</td>\n",
       "      <td>Curtiu</td>\n",
       "    </tr>\n",
       "    <tr>\n",
       "      <th>4</th>\n",
       "      <td>5</td>\n",
       "      <td>A</td>\n",
       "      <td>Solteiro</td>\n",
       "      <td>Muito Satisfeito</td>\n",
       "      <td>17.6</td>\n",
       "      <td>(14.467, 21.4]</td>\n",
       "      <td>Curtiu</td>\n",
       "    </tr>\n",
       "    <tr>\n",
       "      <th>...</th>\n",
       "      <td>...</td>\n",
       "      <td>...</td>\n",
       "      <td>...</td>\n",
       "      <td>...</td>\n",
       "      <td>...</td>\n",
       "      <td>...</td>\n",
       "      <td>...</td>\n",
       "    </tr>\n",
       "    <tr>\n",
       "      <th>77</th>\n",
       "      <td>78</td>\n",
       "      <td>B</td>\n",
       "      <td>Outros</td>\n",
       "      <td>Insatisfeito</td>\n",
       "      <td>4.3</td>\n",
       "      <td>(0.579, 7.533]</td>\n",
       "      <td>Não curtiu</td>\n",
       "    </tr>\n",
       "    <tr>\n",
       "      <th>78</th>\n",
       "      <td>79</td>\n",
       "      <td>B</td>\n",
       "      <td>Solteiro</td>\n",
       "      <td>Insatisfeito</td>\n",
       "      <td>5.7</td>\n",
       "      <td>(0.579, 7.533]</td>\n",
       "      <td>Não curtiu</td>\n",
       "    </tr>\n",
       "    <tr>\n",
       "      <th>79</th>\n",
       "      <td>80</td>\n",
       "      <td>B</td>\n",
       "      <td>Casado</td>\n",
       "      <td>Insatisfeito</td>\n",
       "      <td>4.0</td>\n",
       "      <td>(0.579, 7.533]</td>\n",
       "      <td>Não curtiu</td>\n",
       "    </tr>\n",
       "    <tr>\n",
       "      <th>80</th>\n",
       "      <td>81</td>\n",
       "      <td>B</td>\n",
       "      <td>Outros</td>\n",
       "      <td>Insatisfeito</td>\n",
       "      <td>5.4</td>\n",
       "      <td>(0.579, 7.533]</td>\n",
       "      <td>Não curtiu</td>\n",
       "    </tr>\n",
       "    <tr>\n",
       "      <th>81</th>\n",
       "      <td>82</td>\n",
       "      <td>B</td>\n",
       "      <td>Casado</td>\n",
       "      <td>Muito Insatisfeito</td>\n",
       "      <td>0.6</td>\n",
       "      <td>(0.579, 7.533]</td>\n",
       "      <td>Não curtiu</td>\n",
       "    </tr>\n",
       "  </tbody>\n",
       "</table>\n",
       "<p>82 rows × 7 columns</p>\n",
       "</div>"
      ],
      "text/plain": [
       "    CLIENTE PLANO        EC          SATISFACAO  RENDA   FAIXA_DE_RENDA  \\\n",
       "0         1     A    Casado    Muito Satisfeito   21.4   (14.467, 21.4]   \n",
       "1         2     A  Solteiro    Muito Satisfeito   17.2   (14.467, 21.4]   \n",
       "2         3     A    Outros    Muito Satisfeito   15.6   (14.467, 21.4]   \n",
       "3         4     A    Casado          Satisfeito   10.4  (7.533, 14.467]   \n",
       "4         5     A  Solteiro    Muito Satisfeito   17.6   (14.467, 21.4]   \n",
       "..      ...   ...       ...                 ...    ...              ...   \n",
       "77       78     B    Outros        Insatisfeito    4.3   (0.579, 7.533]   \n",
       "78       79     B  Solteiro        Insatisfeito    5.7   (0.579, 7.533]   \n",
       "79       80     B    Casado        Insatisfeito    4.0   (0.579, 7.533]   \n",
       "80       81     B    Outros        Insatisfeito    5.4   (0.579, 7.533]   \n",
       "81       82     B    Casado  Muito Insatisfeito    0.6   (0.579, 7.533]   \n",
       "\n",
       "    SENTIMENTO  \n",
       "0       Curtiu  \n",
       "1       Curtiu  \n",
       "2       Curtiu  \n",
       "3       Curtiu  \n",
       "4       Curtiu  \n",
       "..         ...  \n",
       "77  Não curtiu  \n",
       "78  Não curtiu  \n",
       "79  Não curtiu  \n",
       "80  Não curtiu  \n",
       "81  Não curtiu  \n",
       "\n",
       "[82 rows x 7 columns]"
      ]
     },
     "execution_count": 114,
     "metadata": {},
     "output_type": "execute_result"
    }
   ],
   "source": [
    "dados"
   ]
  },
  {
   "cell_type": "markdown",
   "metadata": {},
   "source": [
    "# Lousa"
   ]
  },
  {
   "cell_type": "code",
   "execution_count": 115,
   "metadata": {},
   "outputs": [
    {
     "data": {
      "text/plain": [
       "IntervalIndex([(0.5, 4.0], (4.0, 7.5], (7.5, 11.0], (11.0, 14.5], (14.5, 18.0], (18.0, 21.5]], dtype='interval[float64, right]')"
      ]
     },
     "execution_count": 115,
     "metadata": {},
     "output_type": "execute_result"
    }
   ],
   "source": [
    "# range(início, fim exclusive, intervalo) -- SOMENTE NÚMEROS INTEIROS\n",
    "# arange(início, fim exclusive, intervalo) -- PODE SER FLOAT\n",
    "\n",
    "from numpy import arange\n",
    "analise = pd.cut(dados['RENDA'], bins=arange(0.5, 22, 3.5)) # Aqui apenas classifica o cliente em uma das faixas\n",
    "analise.cat.categories"
   ]
  },
  {
   "cell_type": "code",
   "execution_count": 116,
   "metadata": {},
   "outputs": [
    {
     "data": {
      "text/html": [
       "<div>\n",
       "<style scoped>\n",
       "    .dataframe tbody tr th:only-of-type {\n",
       "        vertical-align: middle;\n",
       "    }\n",
       "\n",
       "    .dataframe tbody tr th {\n",
       "        vertical-align: top;\n",
       "    }\n",
       "\n",
       "    .dataframe thead th {\n",
       "        text-align: right;\n",
       "    }\n",
       "</style>\n",
       "<table border=\"1\" class=\"dataframe\">\n",
       "  <thead>\n",
       "    <tr style=\"text-align: right;\">\n",
       "      <th></th>\n",
       "      <th>RENDA</th>\n",
       "    </tr>\n",
       "  </thead>\n",
       "  <tbody>\n",
       "    <tr>\n",
       "      <th>(0.5, 4.0]</th>\n",
       "      <td>14.6</td>\n",
       "    </tr>\n",
       "    <tr>\n",
       "      <th>(4.0, 7.5]</th>\n",
       "      <td>34.1</td>\n",
       "    </tr>\n",
       "    <tr>\n",
       "      <th>(7.5, 11.0]</th>\n",
       "      <td>26.8</td>\n",
       "    </tr>\n",
       "    <tr>\n",
       "      <th>(11.0, 14.5]</th>\n",
       "      <td>14.6</td>\n",
       "    </tr>\n",
       "    <tr>\n",
       "      <th>(14.5, 18.0]</th>\n",
       "      <td>6.1</td>\n",
       "    </tr>\n",
       "    <tr>\n",
       "      <th>(18.0, 21.5]</th>\n",
       "      <td>3.7</td>\n",
       "    </tr>\n",
       "  </tbody>\n",
       "</table>\n",
       "</div>"
      ],
      "text/plain": [
       "              RENDA\n",
       "(0.5, 4.0]     14.6\n",
       "(4.0, 7.5]     34.1\n",
       "(7.5, 11.0]    26.8\n",
       "(11.0, 14.5]   14.6\n",
       "(14.5, 18.0]    6.1\n",
       "(18.0, 21.5]    3.7"
      ]
     },
     "execution_count": 116,
     "metadata": {},
     "output_type": "execute_result"
    }
   ],
   "source": [
    "(analise.value_counts(normalize=True, sort=False).round(3)*100).to_frame()"
   ]
  },
  {
   "cell_type": "markdown",
   "metadata": {},
   "source": [
    "[Volta ao Índice](#indice)"
   ]
  },
  {
   "cell_type": "markdown",
   "metadata": {},
   "source": [
    "<div id=\"ex8\"></div>\n",
    "\n",
    "### EXERCÍCIO 8\n",
    "\n",
    "A coluna SATISFACAO está com uma granularidade muito grande para algumas análises. <br>\n",
    "Crie uma coluna `SENTIMENTO` no *dataframe* `dados` com as seguintes categorias:\n",
    "\n",
    "    Não curtiu, se SATISFACAO = Insatisfeito ou Muito Insatisfeito\n",
    "    Indiferente, se SATISFACAO = Indiferente\n",
    "    Curtiu, se SATISFACAO = Satisfeito ou Muito Satisfeito\n",
    "    \n",
    "Ainda, modifique essa nova variável `SENTIMENTO` no *dataframe* `dados` como ordinal.\n",
    "\n",
    "Agora, monte uma tabela cruzada de sentimento versus plano e faixa de renda.\n"
   ]
  },
  {
   "cell_type": "code",
   "execution_count": 117,
   "metadata": {},
   "outputs": [
    {
     "data": {
      "text/html": [
       "<div>\n",
       "<style scoped>\n",
       "    .dataframe tbody tr th:only-of-type {\n",
       "        vertical-align: middle;\n",
       "    }\n",
       "\n",
       "    .dataframe tbody tr th {\n",
       "        vertical-align: top;\n",
       "    }\n",
       "\n",
       "    .dataframe thead th {\n",
       "        text-align: right;\n",
       "    }\n",
       "</style>\n",
       "<table border=\"1\" class=\"dataframe\">\n",
       "  <thead>\n",
       "    <tr style=\"text-align: right;\">\n",
       "      <th></th>\n",
       "      <th>CLIENTE</th>\n",
       "      <th>PLANO</th>\n",
       "      <th>EC</th>\n",
       "      <th>SATISFACAO</th>\n",
       "      <th>RENDA</th>\n",
       "      <th>FAIXA_DE_RENDA</th>\n",
       "      <th>SENTIMENTO</th>\n",
       "    </tr>\n",
       "  </thead>\n",
       "  <tbody>\n",
       "    <tr>\n",
       "      <th>0</th>\n",
       "      <td>1</td>\n",
       "      <td>A</td>\n",
       "      <td>Casado</td>\n",
       "      <td>Muito Satisfeito</td>\n",
       "      <td>21.4</td>\n",
       "      <td>(14.467, 21.4]</td>\n",
       "      <td>Curtiu</td>\n",
       "    </tr>\n",
       "    <tr>\n",
       "      <th>1</th>\n",
       "      <td>2</td>\n",
       "      <td>A</td>\n",
       "      <td>Solteiro</td>\n",
       "      <td>Muito Satisfeito</td>\n",
       "      <td>17.2</td>\n",
       "      <td>(14.467, 21.4]</td>\n",
       "      <td>Curtiu</td>\n",
       "    </tr>\n",
       "    <tr>\n",
       "      <th>2</th>\n",
       "      <td>3</td>\n",
       "      <td>A</td>\n",
       "      <td>Outros</td>\n",
       "      <td>Muito Satisfeito</td>\n",
       "      <td>15.6</td>\n",
       "      <td>(14.467, 21.4]</td>\n",
       "      <td>Curtiu</td>\n",
       "    </tr>\n",
       "    <tr>\n",
       "      <th>3</th>\n",
       "      <td>4</td>\n",
       "      <td>A</td>\n",
       "      <td>Casado</td>\n",
       "      <td>Satisfeito</td>\n",
       "      <td>10.4</td>\n",
       "      <td>(7.533, 14.467]</td>\n",
       "      <td>Curtiu</td>\n",
       "    </tr>\n",
       "    <tr>\n",
       "      <th>4</th>\n",
       "      <td>5</td>\n",
       "      <td>A</td>\n",
       "      <td>Solteiro</td>\n",
       "      <td>Muito Satisfeito</td>\n",
       "      <td>17.6</td>\n",
       "      <td>(14.467, 21.4]</td>\n",
       "      <td>Curtiu</td>\n",
       "    </tr>\n",
       "    <tr>\n",
       "      <th>...</th>\n",
       "      <td>...</td>\n",
       "      <td>...</td>\n",
       "      <td>...</td>\n",
       "      <td>...</td>\n",
       "      <td>...</td>\n",
       "      <td>...</td>\n",
       "      <td>...</td>\n",
       "    </tr>\n",
       "    <tr>\n",
       "      <th>77</th>\n",
       "      <td>78</td>\n",
       "      <td>B</td>\n",
       "      <td>Outros</td>\n",
       "      <td>Insatisfeito</td>\n",
       "      <td>4.3</td>\n",
       "      <td>(0.579, 7.533]</td>\n",
       "      <td>Não curtiu</td>\n",
       "    </tr>\n",
       "    <tr>\n",
       "      <th>78</th>\n",
       "      <td>79</td>\n",
       "      <td>B</td>\n",
       "      <td>Solteiro</td>\n",
       "      <td>Insatisfeito</td>\n",
       "      <td>5.7</td>\n",
       "      <td>(0.579, 7.533]</td>\n",
       "      <td>Não curtiu</td>\n",
       "    </tr>\n",
       "    <tr>\n",
       "      <th>79</th>\n",
       "      <td>80</td>\n",
       "      <td>B</td>\n",
       "      <td>Casado</td>\n",
       "      <td>Insatisfeito</td>\n",
       "      <td>4.0</td>\n",
       "      <td>(0.579, 7.533]</td>\n",
       "      <td>Não curtiu</td>\n",
       "    </tr>\n",
       "    <tr>\n",
       "      <th>80</th>\n",
       "      <td>81</td>\n",
       "      <td>B</td>\n",
       "      <td>Outros</td>\n",
       "      <td>Insatisfeito</td>\n",
       "      <td>5.4</td>\n",
       "      <td>(0.579, 7.533]</td>\n",
       "      <td>Não curtiu</td>\n",
       "    </tr>\n",
       "    <tr>\n",
       "      <th>81</th>\n",
       "      <td>82</td>\n",
       "      <td>B</td>\n",
       "      <td>Casado</td>\n",
       "      <td>Muito Insatisfeito</td>\n",
       "      <td>0.6</td>\n",
       "      <td>(0.579, 7.533]</td>\n",
       "      <td>Não curtiu</td>\n",
       "    </tr>\n",
       "  </tbody>\n",
       "</table>\n",
       "<p>82 rows × 7 columns</p>\n",
       "</div>"
      ],
      "text/plain": [
       "    CLIENTE PLANO        EC          SATISFACAO  RENDA   FAIXA_DE_RENDA  \\\n",
       "0         1     A    Casado    Muito Satisfeito   21.4   (14.467, 21.4]   \n",
       "1         2     A  Solteiro    Muito Satisfeito   17.2   (14.467, 21.4]   \n",
       "2         3     A    Outros    Muito Satisfeito   15.6   (14.467, 21.4]   \n",
       "3         4     A    Casado          Satisfeito   10.4  (7.533, 14.467]   \n",
       "4         5     A  Solteiro    Muito Satisfeito   17.6   (14.467, 21.4]   \n",
       "..      ...   ...       ...                 ...    ...              ...   \n",
       "77       78     B    Outros        Insatisfeito    4.3   (0.579, 7.533]   \n",
       "78       79     B  Solteiro        Insatisfeito    5.7   (0.579, 7.533]   \n",
       "79       80     B    Casado        Insatisfeito    4.0   (0.579, 7.533]   \n",
       "80       81     B    Outros        Insatisfeito    5.4   (0.579, 7.533]   \n",
       "81       82     B    Casado  Muito Insatisfeito    0.6   (0.579, 7.533]   \n",
       "\n",
       "    SENTIMENTO  \n",
       "0       Curtiu  \n",
       "1       Curtiu  \n",
       "2       Curtiu  \n",
       "3       Curtiu  \n",
       "4       Curtiu  \n",
       "..         ...  \n",
       "77  Não curtiu  \n",
       "78  Não curtiu  \n",
       "79  Não curtiu  \n",
       "80  Não curtiu  \n",
       "81  Não curtiu  \n",
       "\n",
       "[82 rows x 7 columns]"
      ]
     },
     "execution_count": 117,
     "metadata": {},
     "output_type": "execute_result"
    }
   ],
   "source": [
    "#ESCREVA SUA RESPOSTA AQUI\n",
    "dados"
   ]
  },
  {
   "cell_type": "code",
   "execution_count": 118,
   "metadata": {},
   "outputs": [],
   "source": [
    "dados.loc[dados['SATISFACAO'].isin(['Insatisfeito', 'Muito Insatisfeito']), 'SENTIMENTO'] = 'Não curtiu'\n",
    "dados.loc[dados['SATISFACAO'].isin(['Indiferente']), 'SENTIMENTO'] = 'Indiferente'\n",
    "dados.loc[dados['SATISFACAO'].isin(['Satisfeito', 'Muito Satisfeito']), 'SENTIMENTO'] = 'Curtiu'\n",
    "\n",
    "dados['SENTIMENTO'] = pd.Categorical(dados['SENTIMENTO'], categories=['Não curtiu', 'Indiferente', 'Curtiu'],\n",
    "                                    ordered=True)"
   ]
  },
  {
   "cell_type": "code",
   "execution_count": 119,
   "metadata": {},
   "outputs": [
    {
     "data": {
      "text/html": [
       "<div>\n",
       "<style scoped>\n",
       "    .dataframe tbody tr th:only-of-type {\n",
       "        vertical-align: middle;\n",
       "    }\n",
       "\n",
       "    .dataframe tbody tr th {\n",
       "        vertical-align: top;\n",
       "    }\n",
       "\n",
       "    .dataframe thead tr th {\n",
       "        text-align: left;\n",
       "    }\n",
       "\n",
       "    .dataframe thead tr:last-of-type th {\n",
       "        text-align: right;\n",
       "    }\n",
       "</style>\n",
       "<table border=\"1\" class=\"dataframe\">\n",
       "  <thead>\n",
       "    <tr>\n",
       "      <th>PLANO</th>\n",
       "      <th colspan=\"3\" halign=\"left\">A</th>\n",
       "      <th colspan=\"3\" halign=\"left\">B</th>\n",
       "      <th>All</th>\n",
       "    </tr>\n",
       "    <tr>\n",
       "      <th>FAIXA_DE_RENDA</th>\n",
       "      <th>(0.579, 7.533]</th>\n",
       "      <th>(7.533, 14.467]</th>\n",
       "      <th>(14.467, 21.4]</th>\n",
       "      <th>(0.579, 7.533]</th>\n",
       "      <th>(7.533, 14.467]</th>\n",
       "      <th>(14.467, 21.4]</th>\n",
       "      <th></th>\n",
       "    </tr>\n",
       "    <tr>\n",
       "      <th>SENTIMENTO</th>\n",
       "      <th></th>\n",
       "      <th></th>\n",
       "      <th></th>\n",
       "      <th></th>\n",
       "      <th></th>\n",
       "      <th></th>\n",
       "      <th></th>\n",
       "    </tr>\n",
       "  </thead>\n",
       "  <tbody>\n",
       "    <tr>\n",
       "      <th>Não curtiu</th>\n",
       "      <td>7</td>\n",
       "      <td>0</td>\n",
       "      <td>0</td>\n",
       "      <td>17</td>\n",
       "      <td>0</td>\n",
       "      <td>0</td>\n",
       "      <td>24</td>\n",
       "    </tr>\n",
       "    <tr>\n",
       "      <th>Indiferente</th>\n",
       "      <td>4</td>\n",
       "      <td>3</td>\n",
       "      <td>0</td>\n",
       "      <td>11</td>\n",
       "      <td>1</td>\n",
       "      <td>0</td>\n",
       "      <td>19</td>\n",
       "    </tr>\n",
       "    <tr>\n",
       "      <th>Curtiu</th>\n",
       "      <td>1</td>\n",
       "      <td>24</td>\n",
       "      <td>7</td>\n",
       "      <td>0</td>\n",
       "      <td>6</td>\n",
       "      <td>1</td>\n",
       "      <td>39</td>\n",
       "    </tr>\n",
       "    <tr>\n",
       "      <th>All</th>\n",
       "      <td>12</td>\n",
       "      <td>27</td>\n",
       "      <td>7</td>\n",
       "      <td>28</td>\n",
       "      <td>7</td>\n",
       "      <td>1</td>\n",
       "      <td>82</td>\n",
       "    </tr>\n",
       "  </tbody>\n",
       "</table>\n",
       "</div>"
      ],
      "text/plain": [
       "PLANO                       A                                             B  \\\n",
       "FAIXA_DE_RENDA (0.579, 7.533] (7.533, 14.467] (14.467, 21.4] (0.579, 7.533]   \n",
       "SENTIMENTO                                                                    \n",
       "Não curtiu                  7               0              0             17   \n",
       "Indiferente                 4               3              0             11   \n",
       "Curtiu                      1              24              7              0   \n",
       "All                        12              27              7             28   \n",
       "\n",
       "PLANO                                         All  \n",
       "FAIXA_DE_RENDA (7.533, 14.467] (14.467, 21.4]      \n",
       "SENTIMENTO                                         \n",
       "Não curtiu                   0              0  24  \n",
       "Indiferente                  1              0  19  \n",
       "Curtiu                       6              1  39  \n",
       "All                          7              1  82  "
      ]
     },
     "execution_count": 119,
     "metadata": {},
     "output_type": "execute_result"
    }
   ],
   "source": [
    "pd.crosstab(dados['SENTIMENTO'], [dados['PLANO'], dados['FAIXA_DE_RENDA']], margins=True)"
   ]
  },
  {
   "cell_type": "markdown",
   "metadata": {},
   "source": [
    "[Volta ao Índice](#indice)"
   ]
  },
  {
   "cell_type": "markdown",
   "metadata": {},
   "source": [
    "<div id=\"ex9\"></div>\n",
    "\n",
    "### EXERCÍCIO 9\n",
    "\n",
    "Por que não faria sentido montar uma tabela cruzada utilizando a variável RENDA no lugar de FAIXA_DE_RENDA?"
   ]
  },
  {
   "cell_type": "raw",
   "metadata": {},
   "source": [
    "#ESCREVA SUA RESPOSTA AQUI"
   ]
  },
  {
   "cell_type": "raw",
   "metadata": {},
   "source": [
    "A variável RENDA é contínua, logo, não teria como organizar assim como acontece quando usamos a variável FAIXA_DE_RENDA"
   ]
  },
  {
   "cell_type": "markdown",
   "metadata": {},
   "source": [
    "[Volta ao Índice](#indice)"
   ]
  },
  {
   "cell_type": "markdown",
   "metadata": {},
   "source": [
    "___\n",
    "<div id=\"boxplot\"></div>\n",
    "\n",
    "# Análise Exploratória - Boxplot\n",
    "\n",
    "O boxplot usa os quartis, os quais segmentam os dados em quatro partes iguais em termos de concentração, ou seja, deixa 25% do tamanho da amostra entre os quartis.\n",
    "\n",
    "Esse gráfico é uma ferramenta estatística muito importante para extrair informações de **variáveis quantitativas**, além de permitir, com facilidade, cruzar variável quantitativa segmentada por rótulos (níveis) de outra variável qualitativa. \n",
    "\n",
    "Outra vantagem desse gráfico é que o mesmo permite identificar possíveis valores aberrantes caso haja observação com valor fora dos limites inferior ($LI$) e superior ($LS$), os quais são calculados a partir dos quartis $Q1$ e $Q3$ da seguinte forma:\n",
    "\n",
    " * $LI = Q1 - 1,5 * (Q3 - Q1)$\n",
    " * $LS = Q3 + 1,5 * (Q3 - Q1)$\n",
    "\n",
    "<br>\n",
    "\n",
    "**Valores que são considerados na construção do boxplot:**\n",
    "\n",
    "  * A **caixa do boxplot** é formada pelos quartis $Q1$ e $Q3$ e dentro é colocada uma linha de acordo com o valor obtido para a mediana ($Q2$).\n",
    "  * A **haste inferior** representa o menor valor numérico contido no conjunto de dados desde que esse seja maior que o limite inferior ($LI$). Caso haja valores no conjunto de dados menores do que o $LI$, esses devem ser identificados como *outliers* no gráfico.\n",
    "  * A **haste superior** representa o maior valor numérico contido no conjunto de dados desde que esse seja menor que o limite superior ($LS$). Caso haja valores no conjunto de dados maiores do que o $LS$, esses devem ser identificados como *outliers* no gráfico.\n",
    "\n",
    "\n",
    "Para consultar uso de cores na edição de um boxplot, consulte [link1](https://www.geeksforgeeks.org/box-plot-in-python-using-matplotlib/) e [link2](https://stackoverflow.com/questions/41997493/python-matplotlib-boxplot-color), por exemplo.\n",
    "\n",
    "<br>\n",
    "\n",
    "A seguir, apresentamos o comando para gerar o **BOXPLOT** a partir do *matplotlib*. <br>\n",
    "Aproveite para entender o uso do comando `plt.subplot(linhas,colunas,posição)` útil para visualização da análise exploratória dos dados."
   ]
  },
  {
   "cell_type": "code",
   "execution_count": 141,
   "metadata": {
    "scrolled": false
   },
   "outputs": [
    {
     "data": {
      "image/png": "[encoded data removed]",
      "text/plain": [
       "<Figure size 1800x800 with 2 Axes>"
      ]
     },
     "metadata": {},
     "output_type": "display_data"
    }
   ],
   "source": [
    "plt.figure(figsize=(18,8))\n",
    "\n",
    "plt.subplot(1,2,1)\n",
    "plt.boxplot(dados['RENDA'])\n",
    "plt.title('Boxplot sem nenhuma edição')\n",
    "\n",
    "plt.subplot(1,2,2)\n",
    "plt.boxplot(dados['RENDA'], labels = ['todos os clientes'],  \n",
    "            boxprops=dict(color='blue'),\n",
    "            medianprops=dict(color='deeppink'),\n",
    "            capprops=dict(color='springgreen'),\n",
    "            whiskerprops=dict(color='red'),\n",
    "            flierprops=dict(color='yellow', markeredgecolor='cyan')\n",
    "            )\n",
    "plt.title('RENDA dos clientes com adesão ao plano da empresa de TV')\n",
    "plt.ylabel('em mil reais')\n",
    "\n",
    "plt.show()"
   ]
  },
  {
   "cell_type": "markdown",
   "metadata": {},
   "source": [
    "[Volta ao Índice](#indice)"
   ]
  },
  {
   "cell_type": "markdown",
   "metadata": {},
   "source": [
    "<div id=\"ex10\"></div>\n",
    "\n",
    "### EXERCÍCIO 10\n",
    "\n",
    "Estude o comportamento da variável quantitativa `RENDA` segmentado por `PLANO` utilizando a ferramenta gráfica Boxplot.\n",
    "\n",
    "Faça de duas formas diferentes:\n",
    "  1. Construção dos boxplots da renda para cada plano em gráficos separados. Aqui, podem usar o comando `plt.subplot()` para organizar o *output*.\n",
    "  1. Construção de um único gráfico (apenas um eixo y) contendo os dois boxplots da renda para cada plano.\n",
    "  1. Discuta prols e contras de cada caso."
   ]
  },
  {
   "cell_type": "code",
   "execution_count": null,
   "metadata": {},
   "outputs": [],
   "source": [
    "#ESCREVA SUA RESPOSTA AQUI"
   ]
  },
  {
   "cell_type": "code",
   "execution_count": null,
   "metadata": {},
   "outputs": [],
   "source": []
  },
  {
   "cell_type": "markdown",
   "metadata": {},
   "source": [
    "[Volta ao Índice](#indice)"
   ]
  }
 ],
 "metadata": {
  "kernelspec": {
   "display_name": "Python 3 (ipykernel)",
   "language": "python",
   "name": "python3"
  },
  "language_info": {
   "codemirror_mode": {
    "name": "ipython",
    "version": 3
   },
   "file_extension": ".py",
   "mimetype": "text/x-python",
   "name": "python",
   "nbconvert_exporter": "python",
   "pygments_lexer": "ipython3",
   "version": "3.9.13"
  }
 },
 "nbformat": 4,
 "nbformat_minor": 4
}
