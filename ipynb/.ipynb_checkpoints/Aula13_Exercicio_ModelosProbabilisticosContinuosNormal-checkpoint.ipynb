{
 "cells": [
  {
   "cell_type": "markdown",
   "metadata": {},
   "source": [
    "___\n",
    "# Exercício: <p> <center> Modelos probabilísticos contínuos\n",
    "___\n",
    "\n",
    "## Aula 13\n",
    "\n",
    "**Objetivo da aula:** Ao final desta aula, o aluno deve ser capaz de descrever e aplicar as distribuições de probabilidades adequadas para variáveis aleatórias contínuas considerando modelos probabilísticos contínuos já bem definidos na literatura estatística.\n"
   ]
  },
  {
   "cell_type": "markdown",
   "metadata": {},
   "source": [
    "___\n",
    "<div id=\"indice\"></div>\n",
    "\n",
    "## Índice\n",
    "\n",
    "  - [Exercício 1](#ex1)\n",
    "  - [Exercício 2](#ex2)\n",
    "  - [Exercício 3](#ex3)\n",
    "  - [Exercício 4](#ex4)\n",
    "  - [Exercício 5](#ex5) **- APS7 disponível no Blackboard**\n",
    "___"
   ]
  },
  {
   "cell_type": "code",
   "execution_count": 1,
   "metadata": {},
   "outputs": [],
   "source": [
    "from scipy import stats #importa apenas as funções de estatísticas da biblioteca SciPy."
   ]
  },
  {
   "cell_type": "markdown",
   "metadata": {},
   "source": [
    "<div id=\"ex1\"></div>\n",
    "\n",
    "### EXERCÍCIO 1\n",
    "\n",
    "Para X ~ N(90, 100), calcular:\n",
    "\n",
    "a) $P(X \\leq 115)$\n",
    "\n",
    "b) $P(X \\geq 80 | X < 100)$\n",
    "\n",
    "c) O número $c$ tal que $P(X < c) = 0,975$\n",
    "\n",
    "d) O número $d$ tal que $P(X > d) = 0,95$\n",
    "\n",
    "e) O valor de $e$ tal que $P(90 - e \\leq X \\leq 90 + e) = 0,99$\n",
    "\n",
    "*Respostas esperadas: (a)0.9937903346742238  (b)0.8114265826549397  (c)109.59963984540053 (d)73.55146373048528 (e)25.758293035489004*\n"
   ]
  },
  {
   "cell_type": "code",
   "execution_count": 20,
   "metadata": {},
   "outputs": [
    {
     "name": "stdout",
     "output_type": "stream",
     "text": [
      "P(X <= 115): 0.9937903346742238\n",
      "P(X >= 80 | X < 100): 0.8114265826549397\n",
      "P(X <= c) = 0.975: 109.59963984540053\n",
      "P(X > d) = 0.95: 73.55146373048527\n",
      "P(X 90 - e <= X <= 90 + e) = 0.99: 25.758293035489004\n"
     ]
    }
   ],
   "source": [
    "# ESCREVA SEU CÓDIGO AQUI\n",
    "mu = 90\n",
    "sigma = 10\n",
    "P_Xmenor115 = stats.norm.cdf(115, loc=mu, scale=sigma)\n",
    "P_Xmaior80_dado_Xmenor100 = (stats.norm.cdf(100, loc=mu, scale=sigma) - stats.norm.cdf(80, loc=mu, scale=sigma)) / stats.norm.cdf(100, loc=mu, scale=sigma)\n",
    "numero_c = stats.norm.ppf(0.975, loc=mu, scale=sigma)\n",
    "numero_d = stats.norm.ppf(0.05, loc=mu, scale=sigma)\n",
    "x1, x2 = stats.norm.interval(0.99, loc=mu, scale=sigma)\n",
    "\n",
    "\n",
    "print(f'P(X <= 115): {P_Xmenor115}')\n",
    "print(f'P(X >= 80 | X < 100): {P_Xmaior80_dado_Xmenor100}')\n",
    "print(f'P(X <= c) = 0.975: {numero_c}')\n",
    "print(f'P(X > d) = 0.95: {numero_d}')\n",
    "print(f'P(X 90 - e <= X <= 90 + e) = 0.99: {90 - x1}')"
   ]
  },
  {
   "cell_type": "code",
   "execution_count": null,
   "metadata": {},
   "outputs": [],
   "source": []
  },
  {
   "cell_type": "markdown",
   "metadata": {},
   "source": [
    "[Voltar ao Índice](#indice)"
   ]
  },
  {
   "cell_type": "markdown",
   "metadata": {},
   "source": [
    "<div id=\"ex2\"></div>\n",
    "\n",
    "### EXERCÍCIO 2\n",
    "\n",
    "As notas no quiz final de Ciência dos Dados distribuem-se segundo uma variável aleatória normal com média 6,5 e desvio padrão 1,6. O professor deseja dividir a classe em 3 categorias, da seguinte forma: os 30% que tiveram as maiores notas serão aprovados, os 50% com notas intermediárias ficarão de exame e os 20% que tiveram as menores notas serão reprovados. \n",
    "\n",
    "a) Quais os limites de nota entre cada uma das categorias?\n",
    "\n",
    "b) Caso a nota para aprovação (sem ir para exame) fosse igual a 7,0 e uma turma tivesse 50 alunos, quantos desses seriam aprovados sem ir para o exame? \n",
    "\n",
    "*Respostas esperadas: (a)5.153406026283337 e 7.339040820332865    (b)19*"
   ]
  },
  {
   "cell_type": "code",
   "execution_count": null,
   "metadata": {},
   "outputs": [],
   "source": [
    "# ESCREVA SEU CÓDIGO AQUI"
   ]
  },
  {
   "cell_type": "code",
   "execution_count": 27,
   "metadata": {},
   "outputs": [
    {
     "name": "stdout",
     "output_type": "stream",
     "text": [
      "a)\n",
      " Aprovados: nota >= 7.339040820332865\n",
      " Exame: 7.339040820332865 < nota <= 5.153406026283337\n",
      " Reprovados: nota < 5.153406026283337\n",
      "b)\n",
      " Aprovados sem ir para exame: 19.0\n"
     ]
    }
   ],
   "source": [
    "mu = 6.5\n",
    "sigma = 1.6\n",
    "\n",
    "aprovados_x_exame = stats.norm.ppf(0.7, loc=mu, scale=sigma)\n",
    "exame_x_reprovados = stats.norm.ppf(0.2,loc=mu, scale=sigma )\n",
    "print(f'a)\\n',\n",
    "      f'Aprovados: nota >= {aprovados_x_exame}\\n',\n",
    "      f'Exame: {aprovados_x_exame} < nota <= {exame_x_reprovados}\\n',\n",
    "      f'Reprovados: nota < {exame_x_reprovados}')\n",
    "\n",
    "\n",
    "aprovados_sem_exame = 1 - stats.norm.cdf(7, loc=mu, scale=sigma)\n",
    "print(f'b)\\n',\n",
    "      f'Aprovados sem ir para exame: {round(aprovados_sem_exame * 50, 0)}')"
   ]
  },
  {
   "cell_type": "markdown",
   "metadata": {},
   "source": [
    "[Voltar ao Índice](#indice)"
   ]
  },
  {
   "cell_type": "markdown",
   "metadata": {},
   "source": [
    "<div id=\"ex3\"></div>\n",
    "\n",
    "### EXERCÍCIO 3\n",
    "\n",
    "Um determinado calçado é vendido em lojas populares e em lojas sofisticadas. De todas as lojas, 70%  são populares e 30%  são sofisticadas. Nas lojas populares seu preço segue uma distribuição normal com média 80 e desvio-padrão 12. Já em lojas sofisticadas, o preço também segue uma distribuição normal de média 160 e desvio-padrão 30. \n",
    "\n",
    "a) Determine maior preço considerando os 25% menores valores na distribuição de preços de uma loja popular.\n",
    "\n",
    "b) Gastou-se mais de $100,00 para comprar o calçado. Qual é a probabilidade da compra ter sido feita numa loja popular?\n",
    "\n",
    "*Respostas esperadas: (a)71.90612299764702    (b)0.10241995600307374*"
   ]
  },
  {
   "cell_type": "code",
   "execution_count": null,
   "metadata": {},
   "outputs": [],
   "source": [
    "# ESCREVA SEU CÓDIGO AQUI"
   ]
  },
  {
   "cell_type": "code",
   "execution_count": 46,
   "metadata": {},
   "outputs": [
    {
     "name": "stdout",
     "output_type": "stream",
     "text": [
      "(a)\n",
      "Maior preço dos 25% menores valores - loja popular: 71.90612299764702\n",
      "(b)\n",
      "Probabilidade de ter sido em loja popular: 1.6772498680518209\n"
     ]
    }
   ],
   "source": [
    "mu = 80\n",
    "sigma = 12\n",
    "\n",
    "meior_preco_popular = stats.norm.ppf(0.25, loc=mu, scale=sigma)\n",
    "print(f'(a)\\n'\n",
    "      f'Maior preço dos 25% menores valores - loja popular: {meior_preco_popular}')\n",
    "\n",
    "# P(Loja Popular | X >= 100) = P(Loja Popular e X >= 100) / P(X >= 100)\n",
    "P_popular_dado_Xmaior100 = (0.7 * (1 - stats.norm.cdf(100, loc=80, scale=12))) / (1 - stats.norm.cdf(100, loc=80, scale=12)) + (1 - stats.norm.cdf(100, loc=160, scale=30))\n",
    "print('(b)\\n'\n",
    "      f'Probabilidade de ter sido em loja popular: {P_popular_dado_Xmaior100}')"
   ]
  },
  {
   "cell_type": "markdown",
   "metadata": {},
   "source": [
    "[Voltar ao Índice](#indice)"
   ]
  },
  {
   "cell_type": "markdown",
   "metadata": {},
   "source": [
    "<div id=\"ex4\"></div>\n",
    "\n",
    "### EXERCÍCIO 4\n",
    "\n",
    "Em um processo industrial, o diâmetro de um rolamento é uma parte importante do processo.\n",
    "\n",
    "Sabe-se que a probabilidade de um rolamento ter diâmetro maior do 2,98 cm é de 80%. \n",
    "\n",
    "Sabe-se, também que a probabilidade de que um rolamento tenha diâmetro abaixo de 2,97 cm é de 10%. \n",
    "\n",
    "a) Admitindo que o diâmetro de um rolamento segue uma distribuição normal, determine a média e o desvio-padrão dos diâmetros dos rolamentos que saem da linha de produção.\n",
    "\n",
    "b) Determine a especificação que represente a maior distância da média, para mais ou para menos, contendo 95% dos rolamentos produzidos. \n",
    "\n",
    "*Respostas esperadas: (a) mu=2.9991307844085426 sigma=0.022730871852326348   (b)0.04455169016775473*"
   ]
  },
  {
   "cell_type": "code",
   "execution_count": 24,
   "metadata": {},
   "outputs": [
    {
     "name": "stdout",
     "output_type": "stream",
     "text": [
      "{mu: 2.99913078440854, sigma: 0.0227308718523268}\n"
     ]
    }
   ],
   "source": [
    "from scipy import stats\n",
    "from sympy import symbols, Eq, solve\n",
    "\n",
    "# P(X > 2.98) = 0.8\n",
    "# P(X < 2.97) = 0.1\n",
    "\n",
    "z1 = stats.norm.ppf(0.2)\n",
    "\n",
    "z2 = stats.norm.ppf(0.1)\n",
    "\n",
    "# Defina os símbolos\n",
    "mu, sigma = symbols('mu sigma')\n",
    "\n",
    "# Defina as equações\n",
    "eq1 = Eq(mu + z1 * sigma, 2.98)\n",
    "eq2 = Eq(mu + z2 * sigma, 2.97)\n",
    "\n",
    "# Resolva o sistema de equações\n",
    "sol = solve((eq1, eq2), (mu, sigma))\n",
    "print(sol)"
   ]
  },
  {
   "cell_type": "markdown",
   "metadata": {},
   "source": [
    "[Voltar ao Índice](#indice)"
   ]
  },
  {
   "cell_type": "markdown",
   "metadata": {},
   "source": [
    "___\n",
    "<div id=\"ex5\"></div>\n",
    "\n",
    "### EXERCÍCIO 5 - Modelagem do Tempo para resolver uma prova de MatVar\n",
    "\n",
    "Um grupo de alunos de cada uma das três turmas que cursam Ciência dos Dados estava discutindo com intuito de modelar o tempo, em horas, que um aluno irá levar para fazer uma prova de Matemática da Variação. \n",
    "\n",
    "Após cada grupo de alunos chegar a um consenso, foi escolhido um modelo probabilístico contínuo diferente para cada turma A, B e C. Dessa forma, os três modelos foram escolhidos com intuito de descrever o comportamento da variável X: tempo, em horas, que um aluno irá levar para entregar uma prova de Matemática da Variação. Lembrando que um aluno tem até duas horas para fazê-la.\n",
    "\n",
    "Esses três modelos são dados por:\n",
    "\n",
    "> * **Turma A:** $X_A$ segue o seguinte modelo:\n",
    "    $ f(x) = \\left\\{ \\begin{array}[ll]\\\\\n",
    "                +0.4-0.8x & \\rm{se }\\hspace{2mm} 0<x<0.5 \\\\\n",
    "                -0.4+0.8x & \\rm{se }\\hspace{2mm} 0.5\\leq x\\leq2 \\\\\n",
    "                0 & \\rm{caso}\\hspace{2mm}\\rm{contrário} \n",
    "             \\end{array} \\right.$\n",
    "\n",
    "> * **Turma B:** $X_B\\sim Normal(1; 0.3^2)$, ou seja, $\\mu=1$ e $\\sigma=0.3$.\n",
    "\n",
    "> * **Turma C:** $X_C\\sim Uniforme(0; 2)$, ou seja, $a=0$ e $b=2$.\n",
    "\n",
    "\n"
   ]
  },
  {
   "cell_type": "markdown",
   "metadata": {},
   "source": [
    "Admitindo que os alunos façam suas provas de forma independente uns dos outros, responda:\n",
    "\t\n",
    "a) Estudando o comportamento da função densidade de probabilidade de cada modelo probabilístico, qual você entende ser o mais adequado para descrever o comportamento da variável X? E qual você entende ser o menos adequado? Justifique suas respostas após estudar o comportamento das fdp’s escolhidas por cada turma. *Nota: a fdp da turma A tem que ser construída usando a f(x) dada e, as demais, usando a função `pdf` do `scipy.stats`.\n",
    "\n",
    "b) Qual a probabilidade de um aluno da turma B demorar mais do que 1 hora e meia para entregar a prova de Matemática da Variação? E na da turma C? \n",
    "\n",
    "c)\tAtualmente, 34% dos alunos estão na turma A, 34% na B e 32% na C. Qual a probabilidade de um aluno qualquer (ou seja, um aluno de qualquer uma dessas três turmas) demorar mais do que uma hora e meia para entregar a prova final dessa disciplina?\n",
    "\n",
    "d) Qual o menor tempo de entrega da prova dentre os últimos 20% de alunos que entregam na sala da turma B? E na da turma C? Interprete os resultados.\n"
   ]
  },
  {
   "cell_type": "code",
   "execution_count": 37,
   "metadata": {},
   "outputs": [],
   "source": [
    "import numpy as np\n",
    "\n",
    "# Função para fazer gráfico Turma A\n",
    "\n",
    "def TurmaA(line):\n",
    "    linha_f_x_A = []\n",
    "    \n",
    "    for i in line:\n",
    "        if i > 0 and i < 0.5:\n",
    "            f_x_1 = 0.4 - 0.8 * i\n",
    "            linha_f_x_A.append(f_x_1)\n",
    "            \n",
    "        elif i >= 0.5 and i <= 2:\n",
    "            f_x_2 = - 0.4 + 0.8 * i\n",
    "            linha_f_x_A.append(f_x_2)\n",
    "            \n",
    "        else:\n",
    "            linha_f_x_A.append(0)\n",
    "            \n",
    "    return linha_f_x_A\n",
    "\n",
    "line = np.linspace(0, 2, 500)\n",
    "\n",
    "f_x_A = TurmaA(line)\n",
    "\n",
    "f_x_B = stats.norm.pdf(line, loc=1, scale=0.3)\n",
    "\n",
    "f_x_C = stats.uniform.pdf(line, loc=0, scale=2)"
   ]
  },
  {
   "cell_type": "code",
   "execution_count": 53,
   "metadata": {},
   "outputs": [
    {
     "data": {
      "image/png": "[encoded data removed]",
      "text/plain": [
       "<Figure size 1600x1000 with 3 Axes>"
      ]
     },
     "metadata": {},
     "output_type": "display_data"
    }
   ],
   "source": [
    "import matplotlib.pyplot as plt\n",
    "\n",
    "plt.figure(figsize=(16, 10))\n",
    "\n",
    "plt.subplot(221)\n",
    "plt.plot(line, f_x_A)\n",
    "plt.hist(f_x_A, density=True, linewidth=1, edgecolor='white', color='grey')\n",
    "plt.ylabel(f'$f$ $(x_a)$')\n",
    "plt.xlabel('$x$')\n",
    "plt.title(f'Turma A')\n",
    "\n",
    "plt.subplot(222)\n",
    "plt.plot(line, f_x_B)\n",
    "plt.hist(f_x_B, density=True, linewidth=1, edgecolor='white', color='grey')\n",
    "plt.ylabel(f'$f$ $(x_b)$')\n",
    "plt.xlabel('$x$')\n",
    "plt.title(f'Turma B')\n",
    "\n",
    "plt.subplot(223)\n",
    "plt.plot(line, f_x_C)\n",
    "plt.hist(f_x_C, density=True, linewidth=1, edgecolor='white', color='grey')\n",
    "plt.ylabel(f'$f$ $(x_c)$')\n",
    "plt.xlabel('$x$')\n",
    "plt.title(f'Turma C')\n",
    "\n",
    "plt.show()"
   ]
  },
  {
   "cell_type": "markdown",
   "metadata": {},
   "source": [
    "<h2>Resposta APS7 letra a</h2>\n",
    "<p>Mais adequado: modelo da Turma A por representar que haverá muitos alunos fazendo prova após uma hora de prova</p>\n",
    "<p>Menos adequado: modelo da Turma C por representar que a cada minuto, alguns alunos entregam a prova</p>"
   ]
  },
  {
   "cell_type": "markdown",
   "metadata": {},
   "source": [
    "# Ítem b)"
   ]
  },
  {
   "cell_type": "code",
   "execution_count": 50,
   "metadata": {},
   "outputs": [
    {
     "name": "stdout",
     "output_type": "stream",
     "text": [
      "Probabilidade da Turma B: 0.0478\n",
      "Probabilidade da Turma C: 0.2500\n"
     ]
    }
   ],
   "source": [
    "probability_b = stats.norm.sf(1.5, loc=1, scale=0.3)\n",
    "print(f'Probabilidade da Turma B: {probability_b:.4f}')\n",
    "\n",
    "probability_c = stats.uniform.sf(1.5, loc=0, scale=2)\n",
    "print(f'Probabilidade da Turma C: {probability_c:.4f}')"
   ]
  },
  {
   "cell_type": "markdown",
   "metadata": {},
   "source": [
    "# Ítem c)"
   ]
  },
  {
   "cell_type": "code",
   "execution_count": null,
   "metadata": {},
   "outputs": [],
   "source": []
  },
  {
   "cell_type": "markdown",
   "metadata": {},
   "source": [
    "# Ítem d)"
   ]
  },
  {
   "cell_type": "code",
   "execution_count": 55,
   "metadata": {},
   "outputs": [
    {
     "name": "stdout",
     "output_type": "stream",
     "text": [
      "Probabilidade da Turma B: 1.2525\n",
      "Probabilidade da Turma C: 1.6000\n"
     ]
    }
   ],
   "source": [
    "probability_b = stats.norm.ppf(0.8, loc=1, scale=0.3)\n",
    "print(f'Probabilidade da Turma B: {probability_b:.4f}')\n",
    "\n",
    "probability_c = stats.uniform.ppf(0.8, loc=0, scale=2)\n",
    "print(f'Probabilidade da Turma C: {probability_c:.4f}')"
   ]
  },
  {
   "cell_type": "markdown",
   "metadata": {},
   "source": [
    "[Voltar ao Índice](#indice)"
   ]
  }
 ],
 "metadata": {
  "anaconda-cloud": {},
  "kernelspec": {
   "display_name": "Python 3 (ipykernel)",
   "language": "python",
   "name": "python3"
  },
  "language_info": {
   "codemirror_mode": {
    "name": "ipython",
    "version": 3
   },
   "file_extension": ".py",
   "mimetype": "text/x-python",
   "name": "python",
   "nbconvert_exporter": "python",
   "pygments_lexer": "ipython3",
   "version": "3.9.13"
  },
  "vscode": {
   "interpreter": {
    "hash": "9f42bf53325642b63089e16cd06a69cb97dd86be6a63a88c392fdc3a5fc795ae"
   }
  }
 },
 "nbformat": 4,
 "nbformat_minor": 1
}
