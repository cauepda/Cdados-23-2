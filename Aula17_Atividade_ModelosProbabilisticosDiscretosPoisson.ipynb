{
 "cells": [
  {
   "cell_type": "markdown",
   "metadata": {},
   "source": [
    "___\n",
    "# Atividade: <p> <center> Modelos probabilísticos discretos e Dados\n",
    "___\n",
    "\n",
    "## Aula 17\n",
    "\n",
    "**Objetivo da aula:** Ao final desta aula, o aluno deve ser capaz de descrever e aplicar as distribuições de probabilidades adequadas para variáveis aleatórias discretas considerando modelos probabilísticos discretos já bem definidos na literatura estatística.\n"
   ]
  },
  {
   "cell_type": "markdown",
   "metadata": {},
   "source": [
    "___\n",
    "<div id=\"indice\"></div>\n",
    "\n",
    "## Índice\n",
    "\n",
    "- [Teoria: Distribuição de Poisson](#teoria)\n",
    "    - [Esperança e Variância](#esperanca-variancia)\n",
    "- [Erupções](#erupcoes)\n",
    "    - [Modelo teórico](#modelo-teorico)\n",
    "        - [Exercício 1](#ex1)\n",
    "        - [Exercício 2](#ex2)\n",
    "        - [Exercício 3](#ex3)\n",
    "        - [Exercício 4](#ex4)\n",
    "        - [Exercício 5](#ex5)\n",
    "    - [Resultados empíricos](#resultados-empiricos)\n",
    "        - [Exercício 6](#ex6)\n",
    "        - [Exercício 7](#ex7)\n",
    "        - [Exercício 8](#ex8)\n",
    "    - [Comparação: resultados empíricos *vs* modelo teórico](#comparacao)\n",
    "        - [Exercício 9](#ex9)\n",
    "        - [Exercício 10](#ex10)\n",
    "    - [Exercício extra](#ex-extra)\n",
    "\n",
    "- [Lista de comandos utilizados neste notebook](#comandos)"
   ]
  },
  {
   "cell_type": "markdown",
   "metadata": {},
   "source": [
    "___\n",
    "\n",
    "<div id=\"teoria\"></div>\n",
    "\n",
    "## Teoria: Distribuição de Poisson\n",
    "\n",
    "A distribuição de Poisson é utilizada para modelar estimativas de número de ocorrências em um espaço contínuo (tempo, área, distância, etc.). Seja $\\mu$ o número médio de eventos ocorrendo no intervalo considerado. Dizemos que uma variável aleatória $X$, que modela o número de ocorrências de um evento no intervalo considerado, segue uma distribuição de Poisson com parâmetro $\\mu$ utilizando a seguinte notação: $X$~$Poisson(\\mu)$.\n",
    "\n",
    "A função de probabilidade (lembrando: que associa uma probabilidade a cada valor possível de $X$) é dada por:\n",
    "\n",
    "$\\qquad\\qquad P(X=x)=\\frac{e^{-\\mu}\\mu^x}{x!}$\n",
    "\n",
    "Para que um experimento possa ser modelado por uma distribuição de Poisson, ele precisa ter as seguintes propriedades:\n",
    "\n",
    "- Probabilidade de uma ocorrência é a mesma para dois intervalos quaisquer de igual tamanho;\n",
    "- A ocorrência ou não num dado intervalo é independente da ocorrência ou não em outro intervalo.\n",
    "\n",
    "\n",
    "\n",
    "<div id=\"esperanca-variancia\"></div>\n",
    "\n",
    "### Esperança e Variância\n",
    "\n",
    "Se $X$~$Poisson(\\mu)$, o valor esperado $E(X)$ e a variância $Var(X)$ são dados por:\n",
    "\n",
    "$\\qquad\\qquad E(X) = \\mu$\n",
    "\n",
    "$\\qquad\\qquad Var(X) = \\mu$"
   ]
  },
  {
   "cell_type": "markdown",
   "metadata": {},
   "source": [
    "___\n",
    "\n",
    "<div id=\"erupcoes\"></div>\n",
    "\n",
    "# <font color='blue'>Erupções</font> \n",
    "\n",
    "Kabum Prime é um planetinha no sistema solar de Zica-Centauri. O ano em Kabum Prime tem 50 dias. Em Kabum Prime existe um vulcão que entra em erupção diversas vezes por ano. Estamos no ano 10333 da nova era de Kabum Prime. Os cientistas kabunianos tabelaram as erupções do vulcão nos últimos 1000 anos kabunianos, e guardaram em um arquivo `\"erupcoes.csv\"`. Nesta tabela são registrados o **ano** e o **dia** em que cada erupção vulcânica ocorreu.\n",
    "\n",
    "Sabe-se que as erupções do vulcão acontecem independentemente: pode ser que tenhamos várias erupções por dia, pode ser que não tenhamos nenhuma, uma erupção não impacta a outra. Sabe-se também que o vulcão está permanentemente ativo, sempre com a mesma chance de irromper."
   ]
  },
  {
   "cell_type": "code",
   "execution_count": 1,
   "metadata": {},
   "outputs": [],
   "source": [
    "%matplotlib inline\n",
    "import pandas as pd\n",
    "import matplotlib.pyplot as plt\n",
    "import numpy as np\n",
    "\n",
    "from scipy import stats #importa apenas as funções de estatísticas da biblioteca SciPy."
   ]
  },
  {
   "cell_type": "markdown",
   "metadata": {},
   "source": [
    "<div id=\"modelo-teorico\"></div>\n",
    "\n",
    "## Modelo teórico\n",
    "\n",
    "<div id=\"ex1\"></div>\n",
    "\n",
    "### EXERCÍCIO 1\n",
    "\n",
    "Assuma que a quantidade de erupções por ano possa ser ajustada pelo modelo de Poisson com parâmetro $\\mu=10$. Interprete esse parâmetro para o problema em questão e, ainda, discuta que hipóteses devem ser verdadeiras para que as propriedades da distribuição de Poisson sejam satisfeitas para o problema aqui me questão."
   ]
  },
  {
   "cell_type": "raw",
   "metadata": {},
   "source": [
    "PREENCHA COM AS SUAS RESPOSTAS:\n",
    "\n",
    "- $\\mu = 10$: Esse parâmentro indica que independente do período de tempo que eu for utilizar, a ocorrencia média de erupções vai ser sempre 10;\n",
    "\n",
    "As propriedades da distribuição de Poisson serão satisfeitas para o problema em questão se:\n",
    "Se o ocasionamento de uma erupção não depender do ocasionamento de outra e se independente do período de tempo que for utilizado, a chance de haver erupções for sempre a mesma."
   ]
  },
  {
   "cell_type": "markdown",
   "metadata": {},
   "source": [
    "<div id=\"ex2\"></div>\n",
    "\n",
    "### EXERCÍCIO 2\n",
    "\n",
    "<div id=\"pmf-stats\"></div>\n",
    "\n",
    "Consulte a [documentação dos métodos `stats.poisson.pmf` e `stats.poisson.cdf`](https://docs.scipy.org/doc/scipy-0.14.0/reference/generated/scipy.stats.poisson.html) (dica: o argumento `mu` é a média da Poisson). Utilizando esse método, calcule:\n",
    "\n",
    "1. A probabilidade de em um determinado ano ocorrerem exatamente 15 erupções;\n",
    "2. A probabilidade de em um determinado ano ocorrerem no máximo 15 erupções;\n",
    "3. A probabilidade de em um determinado ano ocorrerem pelo menos 15 erupções;\n",
    "\n",
    "*Para serem consideradas corretas, suas respostas devem ser, respectivamente: 0.034718069630684245, 0.9512595966960213 e 0.0834584729346628.*"
   ]
  },
  {
   "cell_type": "code",
   "execution_count": 2,
   "metadata": {},
   "outputs": [
    {
     "name": "stdout",
     "output_type": "stream",
     "text": [
      "The probability of exactly 15 eruptions in a year is 0.0347\n",
      "The probability of maximum 15 eruptions in a year is 0.9513\n",
      "The probability of minimum 15 eruptions in a year is 0.0835\n"
     ]
    }
   ],
   "source": [
    "mean = 10\n",
    "k = 15\n",
    "\n",
    "# 1:\n",
    "probability = stats.poisson.pmf(k, mean)   # pmf: probability mass function\n",
    "print(f\"The probability of exactly 15 eruptions in a year is {probability:.4f}\")\n",
    "\n",
    "# 2:\n",
    "probability = stats.poisson.cdf(k, mean)   # cdf: cumulative distribution function\n",
    "print(f\"The probability of maximum 15 eruptions in a year is {probability:.4f}\")\n",
    "\n",
    "# 3:\n",
    "probability = stats.poisson.sf(k - 1, mean)   # sf: survival function\n",
    "print(f\"The probability of minimum 15 eruptions in a year is {probability:.4f}\")\n"
   ]
  },
  {
   "cell_type": "code",
   "execution_count": null,
   "metadata": {},
   "outputs": [],
   "source": []
  },
  {
   "cell_type": "code",
   "execution_count": null,
   "metadata": {},
   "outputs": [],
   "source": []
  },
  {
   "cell_type": "markdown",
   "metadata": {},
   "source": [
    "<div id=\"ex3\"></div>\n",
    "\n",
    "### EXERCÍCIO 3\n",
    "\n",
    "O grande sábio e vidente Vaydar Ru-Im prevê que neste ano que se inicia teremos pelo menos 15 erupções - e ele nunca erra. Qual a probabilidade de que teremos um número recorde de erupções este ano, ou seja, mais do que 20 erupções?\n",
    "\n",
    "*Para ser considerada correta, sua resposta deve ser 0.0190305502366599*"
   ]
  },
  {
   "cell_type": "code",
   "execution_count": 3,
   "metadata": {},
   "outputs": [
    {
     "name": "stdout",
     "output_type": "stream",
     "text": [
      "The probability of having more than 20 eruptions this year is 0.0190305502\n"
     ]
    }
   ],
   "source": [
    "sabio = stats.poisson.sf(14, 10)\n",
    "probability = stats.poisson.sf(20, 10) / sabio\n",
    "print(f\"The probability of having more than 20 eruptions this year is {probability:.10f}\")"
   ]
  },
  {
   "cell_type": "markdown",
   "metadata": {},
   "source": [
    "<div id=\"ex4\"></div>\n",
    "\n",
    "### EXERCÍCIO 4\n",
    "\n",
    "O mês kabuniano tem 5 dias (ou seja, o ano tem 10 meses). Se acontece uma erupção no mês, cada kabuniano ganha 100 dinheiros de indenização do governo. Se acontecem 2 erupções, cada kabuniano ganha 150 dinheiros de indenização. Por fim, se acontecem 3 ou mais erupções o governo paga 200 dinheiros de indenização a cada kabuniano. Qual o valor médio de indenizações por kabuniano em um mês? Qual o desvio-padrão?\n",
    "\n",
    "*Para serem consideradas corretas, suas respostas devem ser, respectivamente: 80.43918161928124 e 67.52060476750192*"
   ]
  },
  {
   "cell_type": "code",
   "execution_count": 75,
   "metadata": {},
   "outputs": [
    {
     "data": {
      "text/plain": [
       "80.43918161928124"
      ]
     },
     "execution_count": 75,
     "metadata": {},
     "output_type": "execute_result"
    }
   ],
   "source": [
    "probs = []\n",
    "values = [0, 100, 150, 200]\n",
    "\n",
    "month = 10\n",
    "mean_month = mean / month\n",
    "\n",
    "for i in range(0, 3):\n",
    "    probability = stats.poisson.pmf(i, mean_month)\n",
    "    probs.append(probability)\n",
    "    \n",
    "probs.append(stats.poisson.sf(2, mean_month))\n",
    "\n",
    "media_pond = sum(prob * value for prob, value in zip(probs, values))\n",
    "media_pond"
   ]
  },
  {
   "cell_type": "code",
   "execution_count": 76,
   "metadata": {},
   "outputs": [
    {
     "data": {
      "text/plain": [
       "67.52060476750192"
      ]
     },
     "execution_count": 76,
     "metadata": {},
     "output_type": "execute_result"
    }
   ],
   "source": [
    "from math import *\n",
    "\n",
    "standard_deviation = sum(pow(valor - media_pond, 2) * peso for valor, peso in zip(values, probs))\n",
    "standard_deviation = sqrt(standard_deviation)\n",
    "standard_deviation"
   ]
  },
  {
   "cell_type": "markdown",
   "metadata": {},
   "source": [
    "<div id=\"ex5\"></div>\n",
    "\n",
    "### EXERCÍCIO 5\n",
    "\n",
    "Utilizando o método `stats.poisson.pmf`, obtenha a probabilidade de ocorrerem 0, 1, ..., 25 erupções em um ano. Armazene as probabilidades em uma lista (para as quantidades de erupções de 0 a 25) e guarde esta lista em uma variável chamada `probabilidades_teoricas`."
   ]
  },
  {
   "cell_type": "code",
   "execution_count": 22,
   "metadata": {},
   "outputs": [
    {
     "data": {
      "text/plain": [
       "[4.5399929762484854e-05,\n",
       " 0.0004539992976248486,\n",
       " 0.0022699964881242435,\n",
       " 0.007566654960414144,\n",
       " 0.01891663740103538]"
      ]
     },
     "execution_count": 22,
     "metadata": {},
     "output_type": "execute_result"
    }
   ],
   "source": [
    "probabilidades_teoricas = []\n",
    "mean = 10\n",
    "\n",
    "for k in range(0, 26):\n",
    "    probability = stats.poisson.pmf(k, mean)\n",
    "    probabilidades_teoricas.append(probability)\n",
    "    \n",
    "probabilidades_teoricas[:5]"
   ]
  },
  {
   "cell_type": "markdown",
   "metadata": {},
   "source": [
    "<div id=\"resultados-empiricos\"></div>\n",
    "\n",
    "## Resultados empíricos\n",
    "\n",
    "Vamos utilizar os dados tabulados pelos cientistas kabulianos."
   ]
  },
  {
   "cell_type": "code",
   "execution_count": 23,
   "metadata": {},
   "outputs": [
    {
     "name": "stdout",
     "output_type": "stream",
     "text": [
      "Esperamos trabalhar no diretório: \n",
      "/Users/cauedagostinho/Documents/Insper/2˚sem/Cdados\n",
      "\n"
     ]
    }
   ],
   "source": [
    "import os\n",
    "print(f'Esperamos trabalhar no diretório: \\n{os.getcwd()}\\n')"
   ]
  },
  {
   "cell_type": "code",
   "execution_count": 24,
   "metadata": {},
   "outputs": [
    {
     "name": "stdout",
     "output_type": "stream",
     "text": [
      "Não encontrei o arquivo data/erupcoes.csv\n"
     ]
    }
   ],
   "source": [
    "filename = 'data/erupcoes.csv'\n",
    "\n",
    "if filename in os.listdir():\n",
    "    print(f'Parece que o arquivo {filename} está na mesma pasta do notebook, yay!')\n",
    "    \n",
    "else:\n",
    "    print(f'Não encontrei o arquivo {filename}')"
   ]
  },
  {
   "cell_type": "code",
   "execution_count": 25,
   "metadata": {},
   "outputs": [
    {
     "data": {
      "text/html": [
       "<div>\n",
       "<style scoped>\n",
       "    .dataframe tbody tr th:only-of-type {\n",
       "        vertical-align: middle;\n",
       "    }\n",
       "\n",
       "    .dataframe tbody tr th {\n",
       "        vertical-align: top;\n",
       "    }\n",
       "\n",
       "    .dataframe thead th {\n",
       "        text-align: right;\n",
       "    }\n",
       "</style>\n",
       "<table border=\"1\" class=\"dataframe\">\n",
       "  <thead>\n",
       "    <tr style=\"text-align: right;\">\n",
       "      <th></th>\n",
       "      <th>ano</th>\n",
       "      <th>dia</th>\n",
       "    </tr>\n",
       "  </thead>\n",
       "  <tbody>\n",
       "    <tr>\n",
       "      <th>0</th>\n",
       "      <td>10234</td>\n",
       "      <td>4</td>\n",
       "    </tr>\n",
       "    <tr>\n",
       "      <th>1</th>\n",
       "      <td>10234</td>\n",
       "      <td>17</td>\n",
       "    </tr>\n",
       "    <tr>\n",
       "      <th>2</th>\n",
       "      <td>10234</td>\n",
       "      <td>19</td>\n",
       "    </tr>\n",
       "    <tr>\n",
       "      <th>3</th>\n",
       "      <td>10234</td>\n",
       "      <td>35</td>\n",
       "    </tr>\n",
       "    <tr>\n",
       "      <th>4</th>\n",
       "      <td>10234</td>\n",
       "      <td>44</td>\n",
       "    </tr>\n",
       "  </tbody>\n",
       "</table>\n",
       "</div>"
      ],
      "text/plain": [
       "     ano  dia\n",
       "0  10234    4\n",
       "1  10234   17\n",
       "2  10234   19\n",
       "3  10234   35\n",
       "4  10234   44"
      ]
     },
     "execution_count": 25,
     "metadata": {},
     "output_type": "execute_result"
    }
   ],
   "source": [
    "erupcoes = pd.read_csv('data/erupcoes.csv')\n",
    "erupcoes.head()"
   ]
  },
  {
   "cell_type": "markdown",
   "metadata": {},
   "source": [
    "<div id=\"ex6\"></div>\n",
    "\n",
    "### EXERCÍCIO 6\n",
    "\n",
    "A tabela `erupcoes` contém os dados dos dias nos quais ocorreu uma erupção, mas estamos interessados neste momento pela quantidade de erupções que ocorreram **em cada ano**. Para isso, calcule a tabela de frequências **absolutas** do número de erupções **por ano**. Armazene essa tabela em uma variável chamada `erupcoes_por_ano`."
   ]
  },
  {
   "cell_type": "code",
   "execution_count": 34,
   "metadata": {},
   "outputs": [
    {
     "data": {
      "text/html": [
       "<div>\n",
       "<style scoped>\n",
       "    .dataframe tbody tr th:only-of-type {\n",
       "        vertical-align: middle;\n",
       "    }\n",
       "\n",
       "    .dataframe tbody tr th {\n",
       "        vertical-align: top;\n",
       "    }\n",
       "\n",
       "    .dataframe thead th {\n",
       "        text-align: right;\n",
       "    }\n",
       "</style>\n",
       "<table border=\"1\" class=\"dataframe\">\n",
       "  <thead>\n",
       "    <tr style=\"text-align: right;\">\n",
       "      <th></th>\n",
       "      <th>ano</th>\n",
       "    </tr>\n",
       "  </thead>\n",
       "  <tbody>\n",
       "    <tr>\n",
       "      <th>10234</th>\n",
       "      <td>7</td>\n",
       "    </tr>\n",
       "    <tr>\n",
       "      <th>10235</th>\n",
       "      <td>7</td>\n",
       "    </tr>\n",
       "    <tr>\n",
       "      <th>10236</th>\n",
       "      <td>8</td>\n",
       "    </tr>\n",
       "    <tr>\n",
       "      <th>10237</th>\n",
       "      <td>3</td>\n",
       "    </tr>\n",
       "    <tr>\n",
       "      <th>10238</th>\n",
       "      <td>12</td>\n",
       "    </tr>\n",
       "  </tbody>\n",
       "</table>\n",
       "</div>"
      ],
      "text/plain": [
       "       ano\n",
       "10234    7\n",
       "10235    7\n",
       "10236    8\n",
       "10237    3\n",
       "10238   12"
      ]
     },
     "execution_count": 34,
     "metadata": {},
     "output_type": "execute_result"
    }
   ],
   "source": [
    "erupcoes_por_ano = erupcoes['ano'].value_counts(sort=True).to_frame().sort_index()\n",
    "erupcoes_por_ano.head()"
   ]
  },
  {
   "cell_type": "markdown",
   "metadata": {},
   "source": [
    "<div id=\"ex7\"><div>\n",
    "    \n",
    "### EXERCÍCIO 7\n",
    "\n",
    "Gere uma tabela de frequências relativas da quantidade de erupções por ano. Armazene essa tabela em uma variável chamada `frequencias_relativas`. **Observação:** utilize o método `.sort_index()` no resultado do `.value_counts()` para corrigir a ordenação."
   ]
  },
  {
   "cell_type": "code",
   "execution_count": 54,
   "metadata": {},
   "outputs": [
    {
     "data": {
      "text/html": [
       "<div>\n",
       "<style scoped>\n",
       "    .dataframe tbody tr th:only-of-type {\n",
       "        vertical-align: middle;\n",
       "    }\n",
       "\n",
       "    .dataframe tbody tr th {\n",
       "        vertical-align: top;\n",
       "    }\n",
       "\n",
       "    .dataframe thead th {\n",
       "        text-align: right;\n",
       "    }\n",
       "</style>\n",
       "<table border=\"1\" class=\"dataframe\">\n",
       "  <thead>\n",
       "    <tr style=\"text-align: right;\">\n",
       "      <th></th>\n",
       "      <th>ano</th>\n",
       "    </tr>\n",
       "  </thead>\n",
       "  <tbody>\n",
       "    <tr>\n",
       "      <th>10234</th>\n",
       "      <td>0.069500</td>\n",
       "    </tr>\n",
       "    <tr>\n",
       "      <th>10235</th>\n",
       "      <td>0.069500</td>\n",
       "    </tr>\n",
       "    <tr>\n",
       "      <th>10236</th>\n",
       "      <td>0.079428</td>\n",
       "    </tr>\n",
       "    <tr>\n",
       "      <th>10237</th>\n",
       "      <td>0.029786</td>\n",
       "    </tr>\n",
       "    <tr>\n",
       "      <th>10238</th>\n",
       "      <td>0.119142</td>\n",
       "    </tr>\n",
       "    <tr>\n",
       "      <th>...</th>\n",
       "      <td>...</td>\n",
       "    </tr>\n",
       "    <tr>\n",
       "      <th>11229</th>\n",
       "      <td>0.059571</td>\n",
       "    </tr>\n",
       "    <tr>\n",
       "      <th>11230</th>\n",
       "      <td>0.039714</td>\n",
       "    </tr>\n",
       "    <tr>\n",
       "      <th>11231</th>\n",
       "      <td>0.099285</td>\n",
       "    </tr>\n",
       "    <tr>\n",
       "      <th>11232</th>\n",
       "      <td>0.089357</td>\n",
       "    </tr>\n",
       "    <tr>\n",
       "      <th>11233</th>\n",
       "      <td>0.089357</td>\n",
       "    </tr>\n",
       "  </tbody>\n",
       "</table>\n",
       "<p>999 rows × 1 columns</p>\n",
       "</div>"
      ],
      "text/plain": [
       "            ano\n",
       "10234  0.069500\n",
       "10235  0.069500\n",
       "10236  0.079428\n",
       "10237  0.029786\n",
       "10238  0.119142\n",
       "...         ...\n",
       "11229  0.059571\n",
       "11230  0.039714\n",
       "11231  0.099285\n",
       "11232  0.089357\n",
       "11233  0.089357\n",
       "\n",
       "[999 rows x 1 columns]"
      ]
     },
     "execution_count": 54,
     "metadata": {},
     "output_type": "execute_result"
    }
   ],
   "source": [
    "frequencias_relativas = erupcoes['ano'].value_counts(normalize=True).to_frame().sort_index()\n",
    "frequencias_relativas['ano'] = frequencias_relativas['ano'] * 100\n",
    "frequencias_relativas"
   ]
  },
  {
   "cell_type": "markdown",
   "metadata": {},
   "source": [
    "<div id=\"ex8\"></div>\n",
    "\n",
    "### EXERCÍCIO 8\n",
    "\n",
    "Baseado nos dados, qual o percentual dos anos que tem pelo menos $15$ erupções? \n",
    "\n",
    "*Resposta esperada: 8.91%*"
   ]
  },
  {
   "cell_type": "code",
   "execution_count": 39,
   "metadata": {},
   "outputs": [
    {
     "data": {
      "text/plain": [
       "8.90890890890891"
      ]
     },
     "execution_count": 39,
     "metadata": {},
     "output_type": "execute_result"
    }
   ],
   "source": [
    "erupcoes_15 = len(erupcoes_por_ano.loc[erupcoes_por_ano['ano'] >= 15]) / len(erupcoes_por_ano)\n",
    "erupcoes_15 * 100"
   ]
  },
  {
   "cell_type": "markdown",
   "metadata": {},
   "source": [
    "<div id=\"comparacao\"></div>\n",
    "\n",
    "## Comparação: resultados empíricos *vs* modelo teórico"
   ]
  },
  {
   "cell_type": "markdown",
   "metadata": {},
   "source": [
    "<div id=\"ex9\"></div>\n",
    "\n",
    "### EXERCÍCIO 9\n",
    "\n",
    "Qual é a média de erupções por ano? O parâmetro $\\mu$ utilizado no [modelo teórico](#modelo-teorico) é razoável? Justifique.\n",
    "\n",
    "*Resposta esperada: 10.082082082082081*"
   ]
  },
  {
   "cell_type": "code",
   "execution_count": 41,
   "metadata": {},
   "outputs": [
    {
     "data": {
      "text/plain": [
       "10.082082082082081"
      ]
     },
     "execution_count": 41,
     "metadata": {},
     "output_type": "execute_result"
    }
   ],
   "source": [
    "erupcoes_por_ano['ano'].mean()"
   ]
  },
  {
   "attachments": {},
   "cell_type": "markdown",
   "metadata": {},
   "source": [
    "A média de erupções por ano é de 10.82, como estudado no modelo teórico. Logo, o parâmetro \"mu\" é razoável."
   ]
  },
  {
   "cell_type": "markdown",
   "metadata": {},
   "source": [
    "<div id=\"ex10\"></div>\n",
    "\n",
    "### EXERCÍCIO 10\n",
    "\n",
    "Compare as probabilidades teóricas ([exercício 5](#ex5)) com as frequências relativas observadas nos dados ([exercício 7](#ex7)) utilizando o gráfico da opção 1 do **notebook Atividade da aula passada**). Baseado nessa visualização, discuta se você acha razoável ou não modelar a quantidade de erupções por ano como uma Poisson."
   ]
  },
  {
   "cell_type": "code",
   "execution_count": 72,
   "metadata": {},
   "outputs": [
    {
     "data": {
      "image/png": "[encoded data removed]",
      "text/plain": [
       "<Figure size 1500x600 with 2 Axes>"
      ]
     },
     "metadata": {},
     "output_type": "display_data"
    }
   ],
   "source": [
    "# faixa = np.linspace(0, 0.21, 15)\n",
    "\n",
    "plt.figure(figsize=(15, 6))\n",
    "\n",
    "ax1 = plt.subplot(121)\n",
    "theoretical = stats.probplot(probabilidades_teoricas, plot=plt)\n",
    "ax1.set_title('Probabilidades Teóricas')\n",
    "\n",
    "ax2 = plt.subplot(122)\n",
    "relative = stats.probplot(frequencias_relativas['ano'], plot=plt)\n",
    "ax2.set_title('Frequências Relativas')\n",
    "\n",
    "\n",
    "plt.show()\n"
   ]
  },
  {
   "cell_type": "code",
   "execution_count": null,
   "metadata": {},
   "outputs": [],
   "source": []
  },
  {
   "cell_type": "code",
   "execution_count": null,
   "metadata": {},
   "outputs": [],
   "source": []
  },
  {
   "cell_type": "markdown",
   "metadata": {},
   "source": [
    "<div id=\"ex-extra\"></div>\n",
    "<div id=\"ppf\"></div>\n",
    "\n",
    "### EXERCÍCIO EXTRA\n",
    "\n",
    "A cada erupção cada kabuniano tem uma probabilidade $p=10^{-3}$ de ficar azul. Neste caso ele tem que ir ao Grande Hospital de Kabum para voltar a cor normal. Existem 100 mil kabunianos. \n",
    "\n",
    "Para atender corretamente 99% dos kabunianos necessitados, qual deve ser o número máximo de vagas no hospital? \n",
    "\n",
    "\n",
    "\n",
    "\n",
    "  * **Dica 1:** reflita sobre qual distribuição deve ser utilizada para modelar essa questão;\n",
    "  * **Dica 2:** métodos `.ppf` calculam o inverso dos métodos `.cdf`. Por exemplo: `stats.poisson.cdf(15, mu=10)` é aproximadamente `0.95` e `stats.poisson.ppf(0.95, mu=10)` é aproximadamente `15`.\n",
    "\n",
    "*Resposta esperada: 124.0*"
   ]
  },
  {
   "cell_type": "code",
   "execution_count": null,
   "metadata": {},
   "outputs": [],
   "source": [
    "# ESCREVA SEU CÓDIGO AQUI"
   ]
  },
  {
   "cell_type": "code",
   "execution_count": null,
   "metadata": {},
   "outputs": [],
   "source": []
  },
  {
   "cell_type": "code",
   "execution_count": null,
   "metadata": {},
   "outputs": [],
   "source": []
  },
  {
   "cell_type": "markdown",
   "metadata": {},
   "source": [
    "<div id=\"comandos\"></div>\n",
    "\n",
    "___\n",
    "\n",
    "## Lista de comandos utilizados neste notebook\n",
    "\n",
    "Os seguintes comandos foram utilizados neste jupyter notebook. Para facilitar sua consulta, escreva um resumo do que cada um deles faz:\n",
    "\n",
    "- [`.pmf`](#pmf-stats): ESCREVA AQUI O RESUMO\n",
    "- [`.mean`](#pmf-stats): ESCREVA AQUI O RESUMO\n",
    "- [`.var`](#pmf-stats): ESCREVA AQUI O RESUMO\n",
    "- [`.ppf`](#ppf): ESCREVA AQUI O RESUMO"
   ]
  },
  {
   "cell_type": "code",
   "execution_count": null,
   "metadata": {},
   "outputs": [],
   "source": []
  },
  {
   "cell_type": "code",
   "execution_count": null,
   "metadata": {},
   "outputs": [],
   "source": []
  }
 ],
 "metadata": {
  "kernelspec": {
   "display_name": "base",
   "language": "python",
   "name": "python3"
  },
  "language_info": {
   "codemirror_mode": {
    "name": "ipython",
    "version": 3
   },
   "file_extension": ".py",
   "mimetype": "text/x-python",
   "name": "python",
   "nbconvert_exporter": "python",
   "pygments_lexer": "ipython3",
   "version": "3.9.13"
  },
  "vscode": {
   "interpreter": {
    "hash": "9f42bf53325642b63089e16cd06a69cb97dd86be6a63a88c392fdc3a5fc795ae"
   }
  }
 },
 "nbformat": 4,
 "nbformat_minor": 2
}
