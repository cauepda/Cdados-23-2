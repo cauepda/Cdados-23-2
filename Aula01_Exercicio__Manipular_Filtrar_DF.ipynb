{
 "cells": [
  {
   "cell_type": "markdown",
   "metadata": {},
   "source": [
    "___\n",
    "# Exercício: <p> <center> Manipulação de um `DataFrame` com uso do **Pandas**\n",
    "___\n",
    "\n",
    "## Aula 01"
   ]
  },
  {
   "cell_type": "markdown",
   "metadata": {},
   "source": [
    "<div id=\"indice\"></div>\n",
    "\n",
    "## Índice\n",
    "\n",
    "- [Gapminder](#gap)\n",
    "- [Exercício 1](#ex1) **- APS1 disponível no Blackboard**\n",
    "- [Exercício 2](#ex2) **- APS1 disponível no Blackboard**\n",
    "- [Resumo dos comandos](#resumo-comandos)"
   ]
  },
  {
   "cell_type": "markdown",
   "metadata": {},
   "source": [
    "___\n",
    "**IMPORTANTE**: os exercícios marcados com &#x2605;&#x2605;&#x2605; são mais difíceis e vão exigir que você aprenda novas funções do pandas. Recomendamos que vocês tentem fazer esses exercícios mesmo depois da aula.\n"
   ]
  },
  {
   "cell_type": "markdown",
   "metadata": {},
   "source": [
    "<div id=\"gap\"></div>\n",
    "\n",
    "___\n",
    "\n",
    "## Gapminder\n",
    "\n",
    "Gapminder é uma fundação sueca independente, sem afiliações políticas, religiosas ou econômicas.\n",
    "Possui diversas estatísticas socioeconômicas de quase todos países do mundo que podem ser facilmente obtidas por este [link](https://www.gapminder.org/data/).\n",
    "\n",
    "Para visualizar relações entre alguns indicadores dos países, veja [aqui](https://www.gapminder.org/tools/)\n"
   ]
  },
  {
   "cell_type": "markdown",
   "metadata": {},
   "source": [
    "O arquivo `Gapminder.xlsx` contém um *dataset* extraída do software R (mais detalhes [aqui](https://rdrr.io/cran/dslabs/man/gapminder.html)).\n",
    "\n",
    "Essa base de dados precisa de algumas manipulações antes de iniciar a análise exploratória, entretanto, a mesma irá depender do problema traçado. Nesse *dataframe*, os indicadores estão mensurados para 185 países os quais se repetem entre os anos de 1960 e 2016.\n"
   ]
  },
  {
   "cell_type": "code",
   "execution_count": 1,
   "metadata": {},
   "outputs": [],
   "source": [
    "# Importando as bibliotecas necessárias para esta atividade\n",
    "import pandas as pd\n",
    "import os"
   ]
  },
  {
   "cell_type": "code",
   "execution_count": 2,
   "metadata": {},
   "outputs": [
    {
     "name": "stdout",
     "output_type": "stream",
     "text": [
      "Esperamos trabalhar no diretório: \n",
      "/Users/cauedagostinho/Documents/Insper/2˚sem/Cdados\n",
      "\n"
     ]
    }
   ],
   "source": [
    "print(f'Esperamos trabalhar no diretório: \\n{os.getcwd()}\\n')"
   ]
  },
  {
   "cell_type": "code",
   "execution_count": 3,
   "metadata": {},
   "outputs": [
    {
     "name": "stdout",
     "output_type": "stream",
     "text": [
      "Não encontrei o arquivo Gapminder.xlsx.\n",
      "Esse deve ser salvo na mesma pasta em que se encontrar este arquivo jupyter notebook\n"
     ]
    }
   ],
   "source": [
    "filename = 'Gapminder.xlsx'\n",
    "\n",
    "if filename in os.listdir():\n",
    "    print(f'Parece que o arquivo {filename} está na mesma pasta do notebook, yay!')\n",
    "    \n",
    "else:\n",
    "    print(f'Não encontrei o arquivo {filename}.\\n'\n",
    "          f'Esse deve ser salvo na mesma pasta em que se encontrar este arquivo jupyter notebook')"
   ]
  },
  {
   "cell_type": "markdown",
   "metadata": {},
   "source": [
    "**ATENÇÃO:** <br>\n",
    "Prosseguir nesta atividade apenas se a mensagem `Parece que o arquivo Gapminder.xlsx está na mesma pasta do notebook, yay!'` aparecer após ter executado o código acima.<br>\n",
    "\n",
    "...\n",
    "\n",
    "A seguir, o arquivo `Gapminder.xlsx` será aberto com uso da biblioteca **Pandas** e seu conteúdo será armazenado em uma variável nomeada `gap`."
   ]
  },
  {
   "cell_type": "code",
   "execution_count": 11,
   "metadata": {},
   "outputs": [],
   "source": [
    "gap = pd.read_excel('data/Gapminder.xlsx')"
   ]
  },
  {
   "cell_type": "markdown",
   "metadata": {},
   "source": [
    "Aqui, `gap` é uma variável do tipo `DataFrame`. Cada uma das colunas significa:\n",
    "\n",
    "- **country**: nome do país;\n",
    "- **year**: ano;\n",
    "- **infant_mortality**: mortalidade infantil a cada 1000 nascidos;\n",
    "- **life_expectancy**: expectativa de vida;\n",
    "- **fertility**: número médio de filhos por mulher;\n",
    "- **population**: população do país;\n",
    "- **gpd**: PIB de acordo com World Bankdev;\n",
    "- **continent**: continente;\n",
    "- **region**: região geográfica.\n",
    "\n"
   ]
  },
  {
   "cell_type": "code",
   "execution_count": 12,
   "metadata": {
    "scrolled": true
   },
   "outputs": [
    {
     "data": {
      "text/html": [
       "<div>\n",
       "<style scoped>\n",
       "    .dataframe tbody tr th:only-of-type {\n",
       "        vertical-align: middle;\n",
       "    }\n",
       "\n",
       "    .dataframe tbody tr th {\n",
       "        vertical-align: top;\n",
       "    }\n",
       "\n",
       "    .dataframe thead th {\n",
       "        text-align: right;\n",
       "    }\n",
       "</style>\n",
       "<table border=\"1\" class=\"dataframe\">\n",
       "  <thead>\n",
       "    <tr style=\"text-align: right;\">\n",
       "      <th></th>\n",
       "      <th>country</th>\n",
       "      <th>year</th>\n",
       "      <th>infant_mortality</th>\n",
       "      <th>life_expectancy</th>\n",
       "      <th>fertility</th>\n",
       "      <th>population</th>\n",
       "      <th>gdp</th>\n",
       "      <th>continent</th>\n",
       "      <th>region</th>\n",
       "    </tr>\n",
       "  </thead>\n",
       "  <tbody>\n",
       "    <tr>\n",
       "      <th>0</th>\n",
       "      <td>Albania</td>\n",
       "      <td>1960</td>\n",
       "      <td>115.40</td>\n",
       "      <td>62.87</td>\n",
       "      <td>6.19</td>\n",
       "      <td>1636054.0</td>\n",
       "      <td>NaN</td>\n",
       "      <td>Europe</td>\n",
       "      <td>Southern Europe</td>\n",
       "    </tr>\n",
       "    <tr>\n",
       "      <th>1</th>\n",
       "      <td>Algeria</td>\n",
       "      <td>1960</td>\n",
       "      <td>148.20</td>\n",
       "      <td>47.50</td>\n",
       "      <td>7.65</td>\n",
       "      <td>11124892.0</td>\n",
       "      <td>1.382815e+10</td>\n",
       "      <td>Africa</td>\n",
       "      <td>Northern Africa</td>\n",
       "    </tr>\n",
       "    <tr>\n",
       "      <th>2</th>\n",
       "      <td>Angola</td>\n",
       "      <td>1960</td>\n",
       "      <td>208.00</td>\n",
       "      <td>35.98</td>\n",
       "      <td>7.32</td>\n",
       "      <td>5270844.0</td>\n",
       "      <td>NaN</td>\n",
       "      <td>Africa</td>\n",
       "      <td>Middle Africa</td>\n",
       "    </tr>\n",
       "    <tr>\n",
       "      <th>3</th>\n",
       "      <td>Antigua and Barbuda</td>\n",
       "      <td>1960</td>\n",
       "      <td>NaN</td>\n",
       "      <td>62.97</td>\n",
       "      <td>4.43</td>\n",
       "      <td>54681.0</td>\n",
       "      <td>NaN</td>\n",
       "      <td>Americas</td>\n",
       "      <td>Caribbean</td>\n",
       "    </tr>\n",
       "    <tr>\n",
       "      <th>4</th>\n",
       "      <td>Argentina</td>\n",
       "      <td>1960</td>\n",
       "      <td>59.87</td>\n",
       "      <td>65.39</td>\n",
       "      <td>3.11</td>\n",
       "      <td>20619075.0</td>\n",
       "      <td>1.083223e+11</td>\n",
       "      <td>Americas</td>\n",
       "      <td>South America</td>\n",
       "    </tr>\n",
       "  </tbody>\n",
       "</table>\n",
       "</div>"
      ],
      "text/plain": [
       "               country  year  infant_mortality  life_expectancy  fertility  \\\n",
       "0              Albania  1960            115.40            62.87       6.19   \n",
       "1              Algeria  1960            148.20            47.50       7.65   \n",
       "2               Angola  1960            208.00            35.98       7.32   \n",
       "3  Antigua and Barbuda  1960               NaN            62.97       4.43   \n",
       "4            Argentina  1960             59.87            65.39       3.11   \n",
       "\n",
       "   population           gdp continent           region  \n",
       "0   1636054.0           NaN    Europe  Southern Europe  \n",
       "1  11124892.0  1.382815e+10    Africa  Northern Africa  \n",
       "2   5270844.0           NaN    Africa    Middle Africa  \n",
       "3     54681.0           NaN  Americas        Caribbean  \n",
       "4  20619075.0  1.083223e+11  Americas    South America  "
      ]
     },
     "execution_count": 12,
     "metadata": {},
     "output_type": "execute_result"
    }
   ],
   "source": [
    "gap.head()"
   ]
  },
  {
   "cell_type": "markdown",
   "metadata": {},
   "source": [
    "[Voltar ao Índice](#indice)"
   ]
  },
  {
   "cell_type": "markdown",
   "metadata": {},
   "source": [
    "<div id=\"ex1\"></div>\n",
    "\n",
    "___\n",
    "\n",
    "### EXERCÍCIO 1\n",
    "\n",
    "Faça as seguintes manipulações:\n",
    " 1. Filtre apenas as linhas do ano 2010 e selecione as variáveis: `country`, `gdp`, `population` e `continent`\n",
    " 1. Guarde o subconjunto anterior em um novo `DataFrame` chamado `gap2010` e, nele, crie a variável `gdp_cap` que contenha o PIB per capita.\n",
    " 1. Encontre o país com menor PIB per capita em 2010. \n",
    " 1. **Preencha o valor do PIB per capita desse país no campo de resposta do questionário do Blackboard (APS1).**\n",
    "\n",
    "**Dica**: use `gap.dtypes` para saber o tipo de cada variável. Ainda, consulte [aqui](https://cmdlinetips.com/2019/01/3-ways-to-add-new-columns-to-pandas-dataframe/) para entender como criar novas colunas em um *dataframe*."
   ]
  },
  {
   "cell_type": "code",
   "execution_count": 28,
   "metadata": {},
   "outputs": [],
   "source": [
    "# Coloque seu código aqui...\n",
    "gap2010 = gap[gap['year'] == 2010][['country', 'gdp', 'population', 'continent']].copy()\n",
    "gap2010 = gap2010.reset_index(drop=True)"
   ]
  },
  {
   "cell_type": "code",
   "execution_count": 117,
   "metadata": {},
   "outputs": [],
   "source": [
    "gap2010['gdp_cap'] = gap2010['gdp'] / gap2010['population']"
   ]
  },
  {
   "cell_type": "code",
   "execution_count": 134,
   "metadata": {},
   "outputs": [
    {
     "name": "stdout",
     "output_type": "stream",
     "text": [
      "37\n"
     ]
    }
   ],
   "source": [
    "indx = gap2010['gdp_cap'].idxmin()\n",
    "print(indx)"
   ]
  },
  {
   "cell_type": "code",
   "execution_count": 135,
   "metadata": {},
   "outputs": [
    {
     "data": {
      "text/html": [
       "<div>\n",
       "<style scoped>\n",
       "    .dataframe tbody tr th:only-of-type {\n",
       "        vertical-align: middle;\n",
       "    }\n",
       "\n",
       "    .dataframe tbody tr th {\n",
       "        vertical-align: top;\n",
       "    }\n",
       "\n",
       "    .dataframe thead th {\n",
       "        text-align: right;\n",
       "    }\n",
       "</style>\n",
       "<table border=\"1\" class=\"dataframe\">\n",
       "  <thead>\n",
       "    <tr style=\"text-align: right;\">\n",
       "      <th></th>\n",
       "      <th>country</th>\n",
       "      <th>gdp</th>\n",
       "      <th>population</th>\n",
       "      <th>continent</th>\n",
       "      <th>gdp_cap</th>\n",
       "    </tr>\n",
       "  </thead>\n",
       "  <tbody>\n",
       "    <tr>\n",
       "      <th>37</th>\n",
       "      <td>Congo, Dem. Rep.</td>\n",
       "      <td>6.961485e+09</td>\n",
       "      <td>65938712.0</td>\n",
       "      <td>Africa</td>\n",
       "      <td>105.575083</td>\n",
       "    </tr>\n",
       "  </tbody>\n",
       "</table>\n",
       "</div>"
      ],
      "text/plain": [
       "             country           gdp  population continent     gdp_cap\n",
       "37  Congo, Dem. Rep.  6.961485e+09  65938712.0    Africa  105.575083"
      ]
     },
     "execution_count": 135,
     "metadata": {},
     "output_type": "execute_result"
    }
   ],
   "source": [
    "gap2010.iloc[[indx]]"
   ]
  },
  {
   "cell_type": "code",
   "execution_count": 123,
   "metadata": {},
   "outputs": [
    {
     "data": {
      "text/html": [
       "<div>\n",
       "<style scoped>\n",
       "    .dataframe tbody tr th:only-of-type {\n",
       "        vertical-align: middle;\n",
       "    }\n",
       "\n",
       "    .dataframe tbody tr th {\n",
       "        vertical-align: top;\n",
       "    }\n",
       "\n",
       "    .dataframe thead th {\n",
       "        text-align: right;\n",
       "    }\n",
       "</style>\n",
       "<table border=\"1\" class=\"dataframe\">\n",
       "  <thead>\n",
       "    <tr style=\"text-align: right;\">\n",
       "      <th></th>\n",
       "      <th>country</th>\n",
       "      <th>gdp</th>\n",
       "      <th>population</th>\n",
       "      <th>continent</th>\n",
       "      <th>gdp_cap</th>\n",
       "    </tr>\n",
       "  </thead>\n",
       "  <tbody>\n",
       "    <tr>\n",
       "      <th>0</th>\n",
       "      <td>Albania</td>\n",
       "      <td>6.137564e+09</td>\n",
       "      <td>2901883.0</td>\n",
       "      <td>Europe</td>\n",
       "      <td>2115.028051</td>\n",
       "    </tr>\n",
       "    <tr>\n",
       "      <th>1</th>\n",
       "      <td>Algeria</td>\n",
       "      <td>7.916434e+10</td>\n",
       "      <td>36036159.0</td>\n",
       "      <td>Africa</td>\n",
       "      <td>2196.802928</td>\n",
       "    </tr>\n",
       "    <tr>\n",
       "      <th>2</th>\n",
       "      <td>Angola</td>\n",
       "      <td>2.612566e+10</td>\n",
       "      <td>21219954.0</td>\n",
       "      <td>Africa</td>\n",
       "      <td>1231.183784</td>\n",
       "    </tr>\n",
       "    <tr>\n",
       "      <th>3</th>\n",
       "      <td>Antigua and Barbuda</td>\n",
       "      <td>8.366868e+08</td>\n",
       "      <td>87233.0</td>\n",
       "      <td>Americas</td>\n",
       "      <td>9591.402074</td>\n",
       "    </tr>\n",
       "    <tr>\n",
       "      <th>4</th>\n",
       "      <td>Argentina</td>\n",
       "      <td>4.344055e+11</td>\n",
       "      <td>41222875.0</td>\n",
       "      <td>Americas</td>\n",
       "      <td>10537.972673</td>\n",
       "    </tr>\n",
       "    <tr>\n",
       "      <th>...</th>\n",
       "      <td>...</td>\n",
       "      <td>...</td>\n",
       "      <td>...</td>\n",
       "      <td>...</td>\n",
       "      <td>...</td>\n",
       "    </tr>\n",
       "    <tr>\n",
       "      <th>180</th>\n",
       "      <td>West Bank and Gaza</td>\n",
       "      <td>NaN</td>\n",
       "      <td>4068780.0</td>\n",
       "      <td>Asia</td>\n",
       "      <td>NaN</td>\n",
       "    </tr>\n",
       "    <tr>\n",
       "      <th>181</th>\n",
       "      <td>Vietnam</td>\n",
       "      <td>6.283222e+10</td>\n",
       "      <td>88357775.0</td>\n",
       "      <td>Asia</td>\n",
       "      <td>711.111337</td>\n",
       "    </tr>\n",
       "    <tr>\n",
       "      <th>182</th>\n",
       "      <td>Yemen</td>\n",
       "      <td>1.463827e+10</td>\n",
       "      <td>23591972.0</td>\n",
       "      <td>Asia</td>\n",
       "      <td>620.476544</td>\n",
       "    </tr>\n",
       "    <tr>\n",
       "      <th>183</th>\n",
       "      <td>Zambia</td>\n",
       "      <td>5.587390e+09</td>\n",
       "      <td>13917439.0</td>\n",
       "      <td>Africa</td>\n",
       "      <td>401.466811</td>\n",
       "    </tr>\n",
       "    <tr>\n",
       "      <th>184</th>\n",
       "      <td>Zimbabwe</td>\n",
       "      <td>4.032423e+09</td>\n",
       "      <td>13973897.0</td>\n",
       "      <td>Africa</td>\n",
       "      <td>288.568280</td>\n",
       "    </tr>\n",
       "  </tbody>\n",
       "</table>\n",
       "<p>185 rows × 5 columns</p>\n",
       "</div>"
      ],
      "text/plain": [
       "                 country           gdp  population continent       gdp_cap\n",
       "0                Albania  6.137564e+09   2901883.0    Europe   2115.028051\n",
       "1                Algeria  7.916434e+10  36036159.0    Africa   2196.802928\n",
       "2                 Angola  2.612566e+10  21219954.0    Africa   1231.183784\n",
       "3    Antigua and Barbuda  8.366868e+08     87233.0  Americas   9591.402074\n",
       "4              Argentina  4.344055e+11  41222875.0  Americas  10537.972673\n",
       "..                   ...           ...         ...       ...           ...\n",
       "180   West Bank and Gaza           NaN   4068780.0      Asia           NaN\n",
       "181              Vietnam  6.283222e+10  88357775.0      Asia    711.111337\n",
       "182                Yemen  1.463827e+10  23591972.0      Asia    620.476544\n",
       "183               Zambia  5.587390e+09  13917439.0    Africa    401.466811\n",
       "184             Zimbabwe  4.032423e+09  13973897.0    Africa    288.568280\n",
       "\n",
       "[185 rows x 5 columns]"
      ]
     },
     "execution_count": 123,
     "metadata": {},
     "output_type": "execute_result"
    }
   ],
   "source": [
    "gap2010"
   ]
  },
  {
   "cell_type": "markdown",
   "metadata": {},
   "source": [
    "[Voltar ao Índice](#indice)"
   ]
  },
  {
   "cell_type": "markdown",
   "metadata": {},
   "source": [
    "<div id=\"ex2\"></div>\n",
    "\n",
    "___\n",
    "\n",
    "### EXERCÍCIO 2 &#x2605;&#x2605;&#x2605;\n",
    "\n",
    "Faça as seguintes manipulações:\n",
    "  1. Encontre os cinco maiores países (em tamanho populacional) do ano de 2015;\n",
    "  1. Guarde apenas os nomes desses cinco países em uma lista;\n",
    "  1. Considerando a base de dados com todos os anos, filtre as linhas que contenham apenas os cinco países dessa lista e com as colunas  `country`, `year`, `gdp` e `population`. Guarde esse subconjunto em `gap5`;\n",
    "  1. No `DataFrame` `gap5`, crie a variável `dollar_day`, a qual representa uma *proxy* da renda per capita diária do país;\n",
    "  1. **Preencha o valor da renda per capita diária de cada país no ano de 1960, em ordem crescente. no campo de resposta do questionário do Blackboard (APS1).**\n",
    "\n",
    "**Dica**: Para filtrar as linhas apenas dos cinco países selecionados no item 1 deste exercício, pesquise por:\n",
    "  - `isin`: retorna booleano se conteúdo da variável faz parte ou não de uma lista. Consulte sobre esse comando `isin` [aqui](https://pandas.pydata.org/pandas-docs/stable/reference/api/pandas.DataFrame.isin.html)\n",
    "  "
   ]
  },
  {
   "cell_type": "code",
   "execution_count": 105,
   "metadata": {},
   "outputs": [],
   "source": [
    "# Coloque seu código aqui...\n",
    "data = gap.copy()\n",
    "df = data.loc[data['year'] == 2015]"
   ]
  },
  {
   "cell_type": "code",
   "execution_count": 106,
   "metadata": {},
   "outputs": [],
   "source": [
    "maiores_paises = df.nlargest(columns=['population'], n=5)"
   ]
  },
  {
   "cell_type": "code",
   "execution_count": 107,
   "metadata": {},
   "outputs": [
    {
     "data": {
      "text/html": [
       "<div>\n",
       "<style scoped>\n",
       "    .dataframe tbody tr th:only-of-type {\n",
       "        vertical-align: middle;\n",
       "    }\n",
       "\n",
       "    .dataframe tbody tr th {\n",
       "        vertical-align: top;\n",
       "    }\n",
       "\n",
       "    .dataframe thead th {\n",
       "        text-align: right;\n",
       "    }\n",
       "</style>\n",
       "<table border=\"1\" class=\"dataframe\">\n",
       "  <thead>\n",
       "    <tr style=\"text-align: right;\">\n",
       "      <th></th>\n",
       "      <th>country</th>\n",
       "      <th>year</th>\n",
       "      <th>infant_mortality</th>\n",
       "      <th>life_expectancy</th>\n",
       "      <th>fertility</th>\n",
       "      <th>population</th>\n",
       "      <th>gdp</th>\n",
       "      <th>continent</th>\n",
       "      <th>region</th>\n",
       "    </tr>\n",
       "  </thead>\n",
       "  <tbody>\n",
       "    <tr>\n",
       "      <th>10209</th>\n",
       "      <td>China</td>\n",
       "      <td>2015</td>\n",
       "      <td>9.2</td>\n",
       "      <td>76.2</td>\n",
       "      <td>1.57</td>\n",
       "      <td>1.376049e+09</td>\n",
       "      <td>NaN</td>\n",
       "      <td>Asia</td>\n",
       "      <td>Eastern Asia</td>\n",
       "    </tr>\n",
       "    <tr>\n",
       "      <th>10251</th>\n",
       "      <td>India</td>\n",
       "      <td>2015</td>\n",
       "      <td>37.9</td>\n",
       "      <td>67.2</td>\n",
       "      <td>2.43</td>\n",
       "      <td>1.311051e+09</td>\n",
       "      <td>NaN</td>\n",
       "      <td>Asia</td>\n",
       "      <td>Southern Asia</td>\n",
       "    </tr>\n",
       "    <tr>\n",
       "      <th>10350</th>\n",
       "      <td>United States</td>\n",
       "      <td>2015</td>\n",
       "      <td>5.6</td>\n",
       "      <td>79.1</td>\n",
       "      <td>1.97</td>\n",
       "      <td>3.217736e+08</td>\n",
       "      <td>NaN</td>\n",
       "      <td>Americas</td>\n",
       "      <td>Northern America</td>\n",
       "    </tr>\n",
       "    <tr>\n",
       "      <th>10252</th>\n",
       "      <td>Indonesia</td>\n",
       "      <td>2015</td>\n",
       "      <td>22.8</td>\n",
       "      <td>71.1</td>\n",
       "      <td>2.28</td>\n",
       "      <td>2.575638e+08</td>\n",
       "      <td>NaN</td>\n",
       "      <td>Asia</td>\n",
       "      <td>South-Eastern Asia</td>\n",
       "    </tr>\n",
       "    <tr>\n",
       "      <th>10197</th>\n",
       "      <td>Brazil</td>\n",
       "      <td>2015</td>\n",
       "      <td>14.6</td>\n",
       "      <td>74.4</td>\n",
       "      <td>1.78</td>\n",
       "      <td>2.078475e+08</td>\n",
       "      <td>NaN</td>\n",
       "      <td>Americas</td>\n",
       "      <td>South America</td>\n",
       "    </tr>\n",
       "  </tbody>\n",
       "</table>\n",
       "</div>"
      ],
      "text/plain": [
       "             country  year  infant_mortality  life_expectancy  fertility  \\\n",
       "10209          China  2015               9.2             76.2       1.57   \n",
       "10251          India  2015              37.9             67.2       2.43   \n",
       "10350  United States  2015               5.6             79.1       1.97   \n",
       "10252      Indonesia  2015              22.8             71.1       2.28   \n",
       "10197         Brazil  2015              14.6             74.4       1.78   \n",
       "\n",
       "         population  gdp continent              region  \n",
       "10209  1.376049e+09  NaN      Asia        Eastern Asia  \n",
       "10251  1.311051e+09  NaN      Asia       Southern Asia  \n",
       "10350  3.217736e+08  NaN  Americas    Northern America  \n",
       "10252  2.575638e+08  NaN      Asia  South-Eastern Asia  \n",
       "10197  2.078475e+08  NaN  Americas       South America  "
      ]
     },
     "execution_count": 107,
     "metadata": {},
     "output_type": "execute_result"
    }
   ],
   "source": [
    "maiores_paises"
   ]
  },
  {
   "cell_type": "code",
   "execution_count": 108,
   "metadata": {},
   "outputs": [
    {
     "data": {
      "text/plain": [
       "['China', 'India', 'United States', 'Indonesia', 'Brazil']"
      ]
     },
     "execution_count": 108,
     "metadata": {},
     "output_type": "execute_result"
    }
   ],
   "source": [
    "lista_maiores_paises_pop = list(maiores_paises['country'])\n",
    "lista_maiores_paises_pop"
   ]
  },
  {
   "cell_type": "code",
   "execution_count": 127,
   "metadata": {},
   "outputs": [],
   "source": [
    "gap5 = data[['country', 'year', 'gdp', 'population']].copy()\n",
    "gap5 = gap5[gap5['country'].isin(lista_maiores_paises_pop)]"
   ]
  },
  {
   "cell_type": "code",
   "execution_count": 128,
   "metadata": {},
   "outputs": [],
   "source": [
    "gap5['dollar_day'] = (gap5['gdp'] / gap5['population']) / 365"
   ]
  },
  {
   "cell_type": "code",
   "execution_count": 129,
   "metadata": {},
   "outputs": [
    {
     "data": {
      "text/html": [
       "<div>\n",
       "<style scoped>\n",
       "    .dataframe tbody tr th:only-of-type {\n",
       "        vertical-align: middle;\n",
       "    }\n",
       "\n",
       "    .dataframe tbody tr th {\n",
       "        vertical-align: top;\n",
       "    }\n",
       "\n",
       "    .dataframe thead th {\n",
       "        text-align: right;\n",
       "    }\n",
       "</style>\n",
       "<table border=\"1\" class=\"dataframe\">\n",
       "  <thead>\n",
       "    <tr style=\"text-align: right;\">\n",
       "      <th></th>\n",
       "      <th>country</th>\n",
       "      <th>year</th>\n",
       "      <th>gdp</th>\n",
       "      <th>population</th>\n",
       "      <th>dollar_day</th>\n",
       "    </tr>\n",
       "  </thead>\n",
       "  <tbody>\n",
       "    <tr>\n",
       "      <th>22</th>\n",
       "      <td>Brazil</td>\n",
       "      <td>1960</td>\n",
       "      <td>1.053434e+11</td>\n",
       "      <td>72493585.0</td>\n",
       "      <td>3.981207</td>\n",
       "    </tr>\n",
       "    <tr>\n",
       "      <th>34</th>\n",
       "      <td>China</td>\n",
       "      <td>1960</td>\n",
       "      <td>7.034853e+10</td>\n",
       "      <td>644450173.0</td>\n",
       "      <td>0.299070</td>\n",
       "    </tr>\n",
       "    <tr>\n",
       "      <th>76</th>\n",
       "      <td>India</td>\n",
       "      <td>1960</td>\n",
       "      <td>8.104265e+10</td>\n",
       "      <td>449661874.0</td>\n",
       "      <td>0.493781</td>\n",
       "    </tr>\n",
       "    <tr>\n",
       "      <th>77</th>\n",
       "      <td>Indonesia</td>\n",
       "      <td>1960</td>\n",
       "      <td>1.844892e+10</td>\n",
       "      <td>87792512.0</td>\n",
       "      <td>0.575732</td>\n",
       "    </tr>\n",
       "    <tr>\n",
       "      <th>175</th>\n",
       "      <td>United States</td>\n",
       "      <td>1960</td>\n",
       "      <td>2.479391e+12</td>\n",
       "      <td>186176524.0</td>\n",
       "      <td>36.486084</td>\n",
       "    </tr>\n",
       "    <tr>\n",
       "      <th>...</th>\n",
       "      <td>...</td>\n",
       "      <td>...</td>\n",
       "      <td>...</td>\n",
       "      <td>...</td>\n",
       "      <td>...</td>\n",
       "    </tr>\n",
       "    <tr>\n",
       "      <th>10382</th>\n",
       "      <td>Brazil</td>\n",
       "      <td>2016</td>\n",
       "      <td>NaN</td>\n",
       "      <td>NaN</td>\n",
       "      <td>NaN</td>\n",
       "    </tr>\n",
       "    <tr>\n",
       "      <th>10394</th>\n",
       "      <td>China</td>\n",
       "      <td>2016</td>\n",
       "      <td>NaN</td>\n",
       "      <td>NaN</td>\n",
       "      <td>NaN</td>\n",
       "    </tr>\n",
       "    <tr>\n",
       "      <th>10436</th>\n",
       "      <td>India</td>\n",
       "      <td>2016</td>\n",
       "      <td>NaN</td>\n",
       "      <td>NaN</td>\n",
       "      <td>NaN</td>\n",
       "    </tr>\n",
       "    <tr>\n",
       "      <th>10437</th>\n",
       "      <td>Indonesia</td>\n",
       "      <td>2016</td>\n",
       "      <td>NaN</td>\n",
       "      <td>NaN</td>\n",
       "      <td>NaN</td>\n",
       "    </tr>\n",
       "    <tr>\n",
       "      <th>10535</th>\n",
       "      <td>United States</td>\n",
       "      <td>2016</td>\n",
       "      <td>NaN</td>\n",
       "      <td>NaN</td>\n",
       "      <td>NaN</td>\n",
       "    </tr>\n",
       "  </tbody>\n",
       "</table>\n",
       "<p>285 rows × 5 columns</p>\n",
       "</div>"
      ],
      "text/plain": [
       "             country  year           gdp   population  dollar_day\n",
       "22            Brazil  1960  1.053434e+11   72493585.0    3.981207\n",
       "34             China  1960  7.034853e+10  644450173.0    0.299070\n",
       "76             India  1960  8.104265e+10  449661874.0    0.493781\n",
       "77         Indonesia  1960  1.844892e+10   87792512.0    0.575732\n",
       "175    United States  1960  2.479391e+12  186176524.0   36.486084\n",
       "...              ...   ...           ...          ...         ...\n",
       "10382         Brazil  2016           NaN          NaN         NaN\n",
       "10394          China  2016           NaN          NaN         NaN\n",
       "10436          India  2016           NaN          NaN         NaN\n",
       "10437      Indonesia  2016           NaN          NaN         NaN\n",
       "10535  United States  2016           NaN          NaN         NaN\n",
       "\n",
       "[285 rows x 5 columns]"
      ]
     },
     "execution_count": 129,
     "metadata": {},
     "output_type": "execute_result"
    }
   ],
   "source": [
    "gap5"
   ]
  },
  {
   "cell_type": "code",
   "execution_count": 132,
   "metadata": {},
   "outputs": [],
   "source": [
    "ppc1960 = gap5.loc[gap5['year'] == 1960]\n",
    "ppc1960 = list(ppc1960['dollar_day'].values)"
   ]
  },
  {
   "cell_type": "code",
   "execution_count": 137,
   "metadata": {},
   "outputs": [
    {
     "data": {
      "text/plain": [
       "[3.9812074238130437,\n",
       " 0.2990699656826497,\n",
       " 0.4937814029996639,\n",
       " 0.5757322397821697,\n",
       " 36.48608408793266]"
      ]
     },
     "execution_count": 137,
     "metadata": {},
     "output_type": "execute_result"
    }
   ],
   "source": [
    "ppc1960"
   ]
  },
  {
   "cell_type": "markdown",
   "metadata": {},
   "source": [
    "[Voltar ao Índice](#indice)"
   ]
  },
  {
   "cell_type": "markdown",
   "metadata": {},
   "source": [
    "<div id=\"resumo-comandos\"></div>\n",
    "\n",
    "## Resumo dos Comandos\n",
    "\n",
    "Aqui você encontra um resumo dos comandos apresentados neste notebook:\n",
    "\n",
    "- [`dtypes`](#ex1): mostra o tipo de cada variável do *dataframe*.\n",
    "- [`isin`](#ex2): avalia, por exemplo, se conteúdo de uma coluna do *dataframe* faz parte ou não de uma lista.\n",
    "- [`.idxmin()`](#ex3): retorna a linha inteira que está localizado o valor mínimo de certa coluna"
   ]
  },
  {
   "cell_type": "code",
   "execution_count": null,
   "metadata": {},
   "outputs": [],
   "source": []
  }
 ],
 "metadata": {
  "kernelspec": {
   "display_name": "Python 3 (ipykernel)",
   "language": "python",
   "name": "python3"
  },
  "language_info": {
   "codemirror_mode": {
    "name": "ipython",
    "version": 3
   },
   "file_extension": ".py",
   "mimetype": "text/x-python",
   "name": "python",
   "nbconvert_exporter": "python",
   "pygments_lexer": "ipython3",
   "version": "3.9.13"
  }
 },
 "nbformat": 4,
 "nbformat_minor": 4
}
