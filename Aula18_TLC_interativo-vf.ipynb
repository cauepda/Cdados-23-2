{
 "cells": [
  {
   "cell_type": "markdown",
   "metadata": {},
   "source": [
    "\n",
    "___\n",
    "#  Teorema do Limite Central - Interativo\n",
    "___\n"
   ]
  },
  {
   "cell_type": "markdown",
   "metadata": {},
   "source": [
    "**Atenção:** Precisa ser rodado no `Jupyter Notebook`. O `Jupyter Lab` ainda não suporta interação"
   ]
  },
  {
   "cell_type": "markdown",
   "metadata": {},
   "source": [
    "___\n",
    "### Distribuição amostral da média:\n",
    "\n",
    "Assuma que $X$ seja uma variável aleatória com média $\\mu$ e variância $\\sigma^2$, ou seja, $E(X)=\\mu$ e $Var(X)=\\sigma^2$.\n",
    "\n",
    "Dado $X_i$ uma variável aleatória *i.i.d.* (independente e identicamente distribuída) a $X$ com distribuição **normal**, tem-se que:\n",
    "\n",
    "$$\\bar{X}=\\frac{X_1+X_2+...+X_n}{n}=\\frac{\\sum_{i=1}^n X_i}{n} \\sim N\\left(\\mu,\\frac{\\sigma^2}{n}\\right),$$\n",
    "\n",
    "para qualquer $n$, essa distribuição é exata normal.\n",
    "\n",
    "\n",
    "\n",
    "### Teorema do Limite Central:\n",
    "\n",
    "Assuma que $X$ seja uma variável aleatória com média $\\mu$ e variância $\\sigma^2$, ou seja, $E(X)=\\mu$ e $Var(X)=\\sigma^2$.\n",
    "\n",
    "Dado $X_i$ uma variável aleatória *i.i.d.* (independente e identicamente distribuída) a $X$ com distribuição **qualquer**, tem-se que:\n",
    "\n",
    "$$\\bar{X}=\\frac{X_1+X_2+...+X_n}{n}=\\frac{\\sum_{i=1}^n X_i}{n} \\sim N\\left(\\mu,\\frac{\\sigma^2}{n}\\right),$$\n",
    "\n",
    "quando $n$ for suficientemente grande.\n",
    "\n",
    "*Obs:* Em alguns casos específicos, pode-se considerar $X_i$ com distribuições diferentes ou com certa dependência entre elas."
   ]
  },
  {
   "cell_type": "code",
   "execution_count": 1,
   "metadata": {},
   "outputs": [],
   "source": [
    "from scipy import stats\n",
    "\n",
    "%matplotlib inline\n",
    "%reset -f\n",
    "\n",
    "from ipywidgets import interact, interactive, fixed, interact_manual\n",
    "import ipywidgets as widgets\n",
    "\n",
    "import matplotlib.pyplot as plt\n",
    "import pandas as pd\n",
    "import numpy as np\n",
    "from scipy import stats"
   ]
  },
  {
   "cell_type": "code",
   "execution_count": 2,
   "metadata": {
    "scrolled": false
   },
   "outputs": [
    {
     "name": "stdout",
     "output_type": "stream",
     "text": [
      "\n",
      "\n",
      "INPUT DA SIMULAÇÃO:\n",
      "   Escolha a distribuição da variável de interesse X e um valor para o tamanho da amostra: \n",
      "\n"
     ]
    },
    {
     "data": {
      "application/vnd.jupyter.widget-view+json": {
       "model_id": "c7f4d44e342c424aa8d861db1c0be1a3",
       "version_major": 2,
       "version_minor": 0
      },
      "text/plain": [
       "interactive(children=(Dropdown(description='distribuição', index=5, options=('beta', 'chi2', 'expon', 'f', 'ga…"
      ]
     },
     "metadata": {},
     "output_type": "display_data"
    }
   ],
   "source": [
    "func = {'norm': stats.norm, 'expon': stats.expon, 'uniform': stats.uniform, 't': stats.t, \n",
    "        'chi2': stats.chi2, 'f': stats.f, 'gamma': stats.gamma, 'beta': stats.beta}\n",
    "\n",
    "#Se não visualizar o pywidgets:\n",
    "#conda install -c conda-forge ipywidgets\n",
    "\n",
    "print(f'\\n\\nINPUT DA SIMULAÇÃO:\\n' \n",
    "      f'   Escolha a distribuição da variável de interesse X e um valor para o tamanho da amostra: \\n')\n",
    "\n",
    "#Função que utiliza o pywidget\n",
    "@interact(n = (1, 50, 1), distribuição = sorted(list(func.keys())))\n",
    "def f(distribuição = 'norm', n = 1):\n",
    "    \n",
    "    size = 1000\n",
    "    loc = 0\n",
    "    scale = 1\n",
    "    \n",
    "    arg = {'loc': loc, 'scale': scale}\n",
    "    \n",
    "\n",
    "    #Cada distribuição tem seu conjunto de parâmetros específicos\n",
    "    if distribuição == 'norm':\n",
    "        xlimite = (40,100)\n",
    "        arg['loc'] = 70.5\n",
    "        arg['scale'] = 8\n",
    "    elif distribuição == 'expon':\n",
    "        xlimite = (0,6)\n",
    "    elif distribuição == 't':\n",
    "        arg['df'] = 5\n",
    "        xlimite = (-4.5,4.5)\n",
    "    elif distribuição == 'chi2':\n",
    "        arg['df'] = 5\n",
    "        xlimite = (0,25)\n",
    "    elif distribuição == 'f':\n",
    "        arg['dfn'] = 5\n",
    "        arg['dfd'] = 7\n",
    "        xlimite = (0,25)\n",
    "    elif distribuição == 'gamma':\n",
    "        arg['a'] = 1\n",
    "        xlimite = (0,25)\n",
    "    elif distribuição == 'beta':\n",
    "        arg['a'] = 0.5\n",
    "        arg['b'] = 0.5\n",
    "        xlimite = (0,1)\n",
    "    elif distribuição == 'uniform':\n",
    "        xlimite = (10,20)\n",
    "        arg['loc'] = 10\n",
    "        arg['scale'] = 20-10\n",
    "    \n",
    "    # Valores populacionais\n",
    "    mu_true = func[distribuição].mean(**arg)\n",
    "    sigma2_true = func[distribuição].var(**arg)\n",
    "    \n",
    "    print(f'\\n\\nOUTPUT DA SIMULAÇÃO: \\n'\n",
    "          f'   Quando X ~ {distribuição} com tamanho da amostra igual a {n}, analise a distribuição da média amostral:')\n",
    "    \n",
    "    #Gerar n vetores de 1000 amostras cada\n",
    "    arg['size'] = size\n",
    "    Xb = func[distribuição].rvs(**arg)\n",
    "    for i in range(n-1):\n",
    "        Xb += func[distribuição].rvs(**arg)\n",
    "        \n",
    "    #Calcular a média\n",
    "    Xb = Xb / n\n",
    "    \n",
    "    #Prints\n",
    "    fig = plt.figure(figsize=(15,5))\n",
    "    \n",
    "    ax1 = fig.add_subplot(121)\n",
    "    ax2 = fig.add_subplot(122)\n",
    "    \n",
    "    #Histograma\n",
    "    pd.Series(Xb).hist(density=True, ax=ax1, bins=int(size / 50))\n",
    "        \n",
    "    #Fit e print da pdf\n",
    "    (mu, sigma) = stats.norm.fit(Xb)\n",
    "    x = np.arange(Xb.min(), Xb.max(), 0.01)\n",
    "    ax1.plot(x, stats.norm.pdf(x, loc = mu, scale=sigma))\n",
    "    ax1.set_title('Distribuição da Média Amostral')\n",
    "    ax1.set_xlim(xlimite)\n",
    "    \n",
    "    #QQ-Plot\n",
    "    stats.probplot(Xb, dist=stats.norm, sparams=(mu, sigma), plot=ax2)\n",
    "    \n",
    "    print0 = (f'CONCLUSÃO DA SIMULAÇÃO:')\n",
    "    print1 = (f'   Quando a média populacional for E(X)={mu_true:0.3f}, '\n",
    "              f'então a média das médias amostrais será E(Xbarra)={Xb.mean():0.3f} ')\n",
    "    print2 = (f'   Quando a variância populacional for Var(X)={sigma2_true:0.3f}, '\n",
    "              f'então a variância das médias amostrais será Var(Xbarra)={Xb.var():0.3f}')\n",
    "    \n",
    "    return print0, print1, print2\n",
    "                 "
   ]
  },
  {
   "cell_type": "code",
   "execution_count": 24,
   "metadata": {},
   "outputs": [
    {
     "data": {
      "text/html": [
       "<div>\n",
       "<style scoped>\n",
       "    .dataframe tbody tr th:only-of-type {\n",
       "        vertical-align: middle;\n",
       "    }\n",
       "\n",
       "    .dataframe tbody tr th {\n",
       "        vertical-align: top;\n",
       "    }\n",
       "\n",
       "    .dataframe thead th {\n",
       "        text-align: right;\n",
       "    }\n",
       "</style>\n",
       "<table border=\"1\" class=\"dataframe\">\n",
       "  <thead>\n",
       "    <tr style=\"text-align: right;\">\n",
       "      <th></th>\n",
       "      <th>Distribuição</th>\n",
       "      <th>Média</th>\n",
       "      <th>Variância</th>\n",
       "    </tr>\n",
       "  </thead>\n",
       "  <tbody>\n",
       "    <tr>\n",
       "      <th>n=1</th>\n",
       "      <td>Normal</td>\n",
       "      <td>70.5</td>\n",
       "      <td>64</td>\n",
       "    </tr>\n",
       "    <tr>\n",
       "      <th>n=2</th>\n",
       "      <td>Normal</td>\n",
       "      <td>70.659</td>\n",
       "      <td>32.555</td>\n",
       "    </tr>\n",
       "    <tr>\n",
       "      <th>n=10</th>\n",
       "      <td>Normal</td>\n",
       "      <td>70.47</td>\n",
       "      <td>6.514</td>\n",
       "    </tr>\n",
       "    <tr>\n",
       "      <th>n=20</th>\n",
       "      <td>Normal</td>\n",
       "      <td>70.552</td>\n",
       "      <td>3.11</td>\n",
       "    </tr>\n",
       "    <tr>\n",
       "      <th>n=50</th>\n",
       "      <td>Normal</td>\n",
       "      <td>70.581</td>\n",
       "      <td>1.238</td>\n",
       "    </tr>\n",
       "  </tbody>\n",
       "</table>\n",
       "</div>"
      ],
      "text/plain": [
       "     Distribuição   Média Variância\n",
       "n=1        Normal    70.5        64\n",
       "n=2        Normal  70.659    32.555\n",
       "n=10       Normal   70.47     6.514\n",
       "n=20       Normal  70.552      3.11\n",
       "n=50       Normal  70.581     1.238"
      ]
     },
     "execution_count": 24,
     "metadata": {},
     "output_type": "execute_result"
    }
   ],
   "source": [
    "tabela_normal = pd.DataFrame(columns=['Distribuição', 'Média', 'Variância'], index=['n=1', 'n=2', 'n=10', 'n=20', 'n=50'])\n",
    "tabela_normal.loc['n=1', 'Distribuição'] = 'Normal'\n",
    "tabela_normal.loc['n=1', 'Média'] = 70.5\n",
    "tabela_normal.loc['n=1', 'Variância'] = 64\n",
    "\n",
    "tabela_normal.loc['n=2', 'Distribuição'] = 'Normal'\n",
    "tabela_normal.loc['n=2', 'Média'] = 70.659\n",
    "tabela_normal.loc['n=2', 'Variância'] = 32.555\n",
    "\n",
    "tabela_normal.loc['n=10', 'Distribuição'] = 'Normal'\n",
    "tabela_normal.loc['n=10', 'Média'] = 70.470\n",
    "tabela_normal.loc['n=10', 'Variância'] = 6.514\n",
    "\n",
    "tabela_normal.loc['n=20', 'Distribuição'] = 'Normal'\n",
    "tabela_normal.loc['n=20', 'Média'] = 70.552\n",
    "tabela_normal.loc['n=20', 'Variância'] = 3.110\n",
    "\n",
    "tabela_normal.loc['n=50', 'Distribuição'] = 'Normal'\n",
    "tabela_normal.loc['n=50', 'Média'] = 70.581\n",
    "tabela_normal.loc['n=50', 'Variância'] = 1.238\n",
    "tabela_normal"
   ]
  },
  {
   "attachments": {},
   "cell_type": "markdown",
   "metadata": {},
   "source": [
    "## Conclusões:\n",
    "##### Não importa o tamanho da amostra, a Média continua sendo a mesma praticamente, pois traz a informação sobre \"mu\" que é exatamente a Média;\n",
    "##### Já a Variância da Média (Xbarra) vai diminuindo conforme a amostra aumenta, pois conforme a amostra aumenta, há mais amostras onde os valores são mais próximos à média, dessa forma, os valores possuem menos variância."
   ]
  },
  {
   "cell_type": "code",
   "execution_count": null,
   "metadata": {},
   "outputs": [],
   "source": []
  },
  {
   "cell_type": "code",
   "execution_count": null,
   "metadata": {},
   "outputs": [],
   "source": []
  },
  {
   "cell_type": "code",
   "execution_count": null,
   "metadata": {},
   "outputs": [],
   "source": []
  },
  {
   "cell_type": "code",
   "execution_count": null,
   "metadata": {},
   "outputs": [],
   "source": []
  },
  {
   "cell_type": "code",
   "execution_count": null,
   "metadata": {},
   "outputs": [],
   "source": []
  },
  {
   "cell_type": "code",
   "execution_count": null,
   "metadata": {},
   "outputs": [],
   "source": []
  }
 ],
 "metadata": {
  "hide_input": false,
  "kernelspec": {
   "display_name": "base",
   "language": "python",
   "name": "python3"
  },
  "language_info": {
   "codemirror_mode": {
    "name": "ipython",
    "version": 3
   },
   "file_extension": ".py",
   "mimetype": "text/x-python",
   "name": "python",
   "nbconvert_exporter": "python",
   "pygments_lexer": "ipython3",
   "version": "3.9.13"
  },
  "vscode": {
   "interpreter": {
    "hash": "9f42bf53325642b63089e16cd06a69cb97dd86be6a63a88c392fdc3a5fc795ae"
   }
  }
 },
 "nbformat": 4,
 "nbformat_minor": 4
}
