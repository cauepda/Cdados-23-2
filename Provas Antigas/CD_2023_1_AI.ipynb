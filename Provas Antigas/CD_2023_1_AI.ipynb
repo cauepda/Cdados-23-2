{
 "cells": [
  {
   "cell_type": "markdown",
   "metadata": {},
   "source": [
    "# AI - Avaliação INTERMEDIÁRIA de Ciência dos dados \n",
    "\n",
    "## 2023 - 1o. semestre \n",
    "\n",
    "___\n"
   ]
  },
  {
   "cell_type": "markdown",
   "metadata": {},
   "source": [
    "# NOME: Roberta Barros"
   ]
  },
  {
   "cell_type": "markdown",
   "metadata": {},
   "source": [
    "___\n",
    "<div id=\"indice\"></div>\n",
    "\n",
    "## ÍNDICE\n",
    "\n",
    "- [INSTRUÇÕES](#instrucoes)\n",
    "    - [TEMPO DE PROVA](#tempo)\n",
    "    - [AVISOS GERAIS](#avisosgerais)\n",
    "    - [AVISOS SOBRE DESENVOLVIMENTO DA PROVA](#avisosprova)\n",
    "    - [PRECAUCOES DE SEGURANCA](#precaucoes)\n",
    "\n",
    "<br> \n",
    "\n",
    "- [DEFINIÇÃO DE FINANCIMANTO](#financiamento)\n",
    "\n",
    "<br> \n",
    "\n",
    "- [TER CASA PRÓPRIA AJUDA NA OBTENÇÃO DE FINANCIAMENTO? 🏡💲](#p1) \n",
    "    - [PERGUNTA 1](#p1) **[2,00 pontos]**\n",
    "        - [item (a)](#p1a)\n",
    "        - [item (b)](#p1b)\n",
    "\n",
    "<br> \n",
    "\n",
    "- [BEM MAIS FINANCIADO 🚗🎓📱](#p2) \n",
    "    - [PERGUNTA 2](#p2) **[1,50 ponto]**\n",
    "            \n",
    "<br> \n",
    "\n",
    "- [USO DE *App* PARA *DELIVERY* DE REFEIÇÕES 🍕🍔🍟🍝🍣](#p3)\n",
    "    - [PERGUNTA 3](#p3) **[3,50 pontos]**\n",
    "        - [item (a)](#p3a)\n",
    "        - [item (b)](#p3b)\n",
    "        - [item (c)](#p3c)\n",
    "        \n",
    "<br> \n",
    "\n",
    "- [RISCO DE CRÉDITO vs PERFIL 👩🏼👩👩🏽 🎲 🧑🏼🧑🧑🏽](#p4) \n",
    "    - [PERGUNTA 4](#p4) **[3,00 pontos]**\n",
    "        - [ABRINDO A BASE DE DADOS](#dados)\n",
    "        - [CLASSIFICANDO AS VARIÁVEIS QUALITATIVAS](astype)\n",
    "        - [item (a)](#p4a)\n",
    "        - [item (b)](#p4b)\n",
    "        - [item (c)](#p4c)\n",
    "\n"
   ]
  },
  {
   "cell_type": "markdown",
   "metadata": {},
   "source": [
    "___\n",
    "<div id=\"instrucoes\"></div>\n",
    "\n",
    "## INSTRUÇÕES\n",
    "\n",
    "<div id=\"tempo\"></div>\n",
    "\n",
    "#### TEMPO DE PROVA\n",
    "\n",
    "**Leia atentamente as instruções desta avaliação. Essas devem ser seguidas rigorosamente!**\n",
    "\n",
    "**Prezado(a) Aluno(a),**\n",
    "\n",
    "Dia da prova **dia 04/04** das 7:30h às 10h.\n",
    "\n",
    "Esta avaliação terá as seguintes etapas:\n",
    "\n",
    "**7h30 às 7h40**\n",
    "       \n",
    " * **(10 minutos) - PROCTORIO:** Entre no Blackboard e inicie o teste em `Conteúdos/Avaliações/Avaliação Intermediária/AI (Proctorio e Arquivos)`. Caso não ative esse teste em até 10 minutos do início da prova (ou seja, até às 10h10), não terá mais direito de entregar essa prova, obtendo falta na mesma.\n",
    "\n",
    "\n",
    "**7h40 às 9h40**  \n",
    "\n",
    " * **(120 minutos) - Desenvolvimento da prova:** Concentre-se em resolver o notebook.\n",
    " * ATENÇÃO: administre esse tempo da maneira que julgar mais adequada para você. **NÃO utilize o cronômetro do Proctorio como referência, mas sim o tempo 120 minutos de prova para realização da prova.**\n",
    "\n",
    "\n",
    "**9h50 às 10h00**  \n",
    " * **(10 minutos) - Entrega via Blackboard - Notebook:** O arquivo `.ipynb` deve ser entregue em `Conteúdos/Avaliações/Avaliação Intermediária/Entrega da prova`. \n",
    " * ATENÇÃO: **finalize o proctorio APENAS após anexar a avaliação no Blackboard.**\n",
    "\n",
    "\n",
    "<br>\n",
    "\n",
    "Leia atentamente as instruções a seguir e as questões da prova antes de começar a resolvê-la. <br>\n",
    "[Volta ao Índice](#indice)"
   ]
  },
  {
   "cell_type": "markdown",
   "metadata": {},
   "source": [
    "<div id=\"avisosgerais\"></div>\n",
    "\n",
    "#### Avisos GERAIS: \n",
    "\n",
    "1. Identifique-se no cabeçalho deste arquivo. Essa prova é INDIVIDUAL.\n",
    "1. Você terá 120 minutos a partir do início oficial da prova para concluir esta avaliação, administre bem o seu tempo. Leia atentamente as instruções a seguir e as questões da prova antes de começar a resolvê-la. \n",
    "\n",
    "1. Esta avaliação:\n",
    "  * **PERMITE apenas consulta de uma folha A4, escrita, frente e verso, de próprio punho pelo aluno.**\n",
    "  * **PERMITE UTILIZAR APENAS UM COMPUTADOR NO QUAL ESTARÁ REALIZANDO A PROVA.**\n",
    "  * **NÃO PERMITE consulta de caderno ou qualquer outro material físico, com exceção a folha A4.**\n",
    "  * **NÃO PERMITE consulta a colegas (presencial ou remotamente), ou seja, não é permitido ter alguém ao seu lado assim como não é permitido conversar pelo WhatsApp, enviar e-mail ou qualquer outro formato em que converse com outra pessoa**. \n",
    "  * **NÃO PERMITE utilizar CELULAR, TABLET, SEGUNDO COMPUTADOR (ou NOTEBOOK) ou qualquer outro aparelho eletrônico no momento da prova.**\n",
    "  * **O desrespeito as essas regras constituirá violação ao Código de Ética e de Conduta e acarretará sanções nele previstas. Faça o seu trabalho de maneira ética!** \n",
    "\n",
    "1. Sua prova utilizará o sistema de Proctoring.  Para instalar a extensão, acesse o site https://getproctorio.com/ pelo Google Chrome e siga os passos indicados. Caso tenha dúvidas ou dificuldades, avise seu professor pelo chat e entre em contato com o Help Desk por meio de abertura de chamado ou pelo telefone (11) 4504-2550.\n",
    "Para realizar a prova será necessário:\n",
    "  *\tUm desktop ou um notebook com qualquer sistema operacional (dispositivos móveis não serão aceitos)\n",
    "  *\tNavegador Google Chrome (o sistema funciona somente nele)\n",
    "  *\tExtensão da plataforma instalada (sem ela o sistema não funcionará)\n",
    "\n",
    "1. **É proibido o uso de fones de ouvido durante toda a prova. Não leia as questões em voz alta. Não ouvir música.**\n",
    "1. **ENTREGA DO ARQUIVO**: Antes de sair da prova, garanta que entregou a prova no link indicado. Verifique se o arquivo das questões resolvidas teve seu upload concluído e que fechou o teste ao final. Você é o responsável pela entrega adequada de todas as questões de sua prova. Avaliações entregues fora do prazo não serão aceitas para correção.\n",
    "1. Caso precise se ausentar da prova para ir ao banheiro, comunique o(a) professor(a). Lembre-se de ser rápido e retornar prontamente à prova. <br>\n",
    "[Volta ao Índice](#indice)"
   ]
  },
  {
   "cell_type": "markdown",
   "metadata": {},
   "source": [
    "<div id=\"avisosprova\"></div>\n",
    "\n",
    "#### Avisos sobre desenvolvimento da prova:\n",
    "\n",
    "1. Esta Avaliação consiste em responder um arquivo Jupyter que será anexado ao Blackboard ao final da prova.\n",
    "1. Leia atentamente as **Precauções de segurança** abaixo para evitar ter sua prova anulada.\n",
    "1. Você não pode compartilhar material com seus colegas durante a prova.\n",
    "1. Em caso de dúvida sobre alguma questão desta avaliação, redija um texto em uma nova célula deste Jupyter notebook explicitando-a para que o professor avalie a pertinência durante a correção.  \n",
    "1. Leia atentamente cada questão e responda o que for pedido. Erros conceituais serão penalizados, mesmo que o conceito não se relacione com o que foi pedido na questão.\n",
    "1. Caso em algum item você necessite do resultado de um item anterior que você não conseguiu fazer, admita um valor razoável para esse resultado e faça o item normalmente. Indique na questão, caso isso aconteça.\n",
    "1. Todos os resultados devem ser justificados. Números que apareçam sem uma explicação de como foram encontrados serão ignorados na correção.\n",
    "1. **A qualidade do código na resolução em cada item também será levada em consideração, ou seja, códigos complicados para soluções que podem ser simples serão penalizados.**\n",
    "1. Esta avaliação requer **entrega via Blackboard**. **Não serão consideradas entregas por outros meios** (ex: e-mail, MS Teams, etc.). <br>\n",
    "[Volta ao Índice](#indice)"
   ]
  },
  {
   "cell_type": "markdown",
   "metadata": {},
   "source": [
    "<div id=\"precaucoes\"></div>\n",
    "\n",
    "#### Precauções de segurança:\n",
    "\n",
    "1.\tTodas as precauções abaixo podem ser resumidas da seguinte forma: consulte o material que quiser desde que não seja nenhuma pessoa ou material físico. E não compartilhe informações com ninguém durante a prova. \n",
    "2.\tVocê não pode enviar nenhum tipo de mensagem durante a prova para qualquer pessoa dentro ou fora dela, com exceção do(a) professor(a). Por exemplo: e-mail, Skype, mensagens do Facebook, mensagens do WhatsApp, mensagens via Twitter, etc\n",
    "3.\tVocê não pode compartilhar nenhum tipo de informação em nenhum site, incluindo Pastebin, Codeshare, wikis, etc\n",
    "4.\tVocê não pode perguntar questões da prova no StackOverflow, StackExchange, MathExchange, etc. \n",
    "5.\tVocê pode procurar/tirar dúvida no Google.\n",
    "6.\tVocê pode consultar qualquer arquivo no seu computador.\n",
    "7.  Você pode usar folha de sulfite da sala solicitando ao professor. Escreva seu nome na mesma com letras grandes.\n",
    "8.\tQualquer transgressão das normas acima pode zerar a nota da prova e implicar em infração ao código de ética do Insper. <br>\n",
    "[Volta ao Índice](#indice)"
   ]
  },
  {
   "cell_type": "code",
   "execution_count": null,
   "metadata": {},
   "outputs": [],
   "source": [
    "# %matplotlib inline\n",
    "import math\n",
    "import os\n",
    "\n",
    "import matplotlib.pyplot as plt\n",
    "import numpy as np\n",
    "from numpy import arange\n",
    "import pandas as pd\n",
    "from scipy import stats\n",
    "\n",
    "from math import sqrt\n",
    "from scipy.stats import binom, poisson\n",
    "\n",
    "from IPython.display import display  # Para ter melhor print."
   ]
  },
  {
   "cell_type": "markdown",
   "metadata": {},
   "source": [
    "___\n",
    "<div id=\"financiamento\"></div>\n",
    "\n",
    "## DEFINIÇÃO DE FINANCIAMENTO\n",
    "\n",
    "Uma das grandes diferenças entre empréstimo e financiamento é em relação à finalidade. O financiamento, na realidade, é uma das vertentes do empréstimo em que é necessário que a finalidade para a qual o dinheiro será utilizado esteja clara e exposta ao credor. Isso porque, no financiamento, o dinheiro não é entregue ao indivíduo. Ou seja, não é oferecido dinheiro, mas sim o financiamento de um certo bem.\n",
    "\n",
    "[Fonte](https://www.idinheiro.com.br/emprestimos/diferenca-entre-emprestimo-financiamento/) <br>\n",
    "[Volta ao Índice](#indice)"
   ]
  },
  {
   "cell_type": "markdown",
   "metadata": {},
   "source": [
    "___\n",
    "<div id=\"p1\"></div>\n",
    "\n",
    "# TER CASA PRÓPRIA AJUDA NA OBTENÇÃO DE FINANCIAMENTO? 🏡💲\n",
    "\n",
    "## PERGUNTA 1 (2,00 pontos)\n",
    "\n",
    "Em uma financeira, 75,5% das pessoas são rotuladas como bom pagador. <br>\n",
    "Entre esses bons pagadores, a probabilidade delas possuírem casa própria é igual a 73%. <br>\n",
    "Já entre os maus pagadores, essa probabilidade cai para 41%. <br>\n",
    "\n",
    "**Atenção:** <br>\n",
    " (1) Declare os eventos necessários conforme enunciado e use-os na resolução dos itens desta pergunta; e <br>\n",
    " (2) Faça sua resolução da maneira mais clara, apresentando a conta feita para obtenção de cada nova informação numérica a partir das ditas no enunciado.  "
   ]
  },
  {
   "cell_type": "markdown",
   "metadata": {},
   "source": [
    "<div id=\"p1a\"></div>\n",
    "\n",
    "**P1(a)(1,50 ponto)**<br>\n",
    "Se uma nova pessoa que deseja fazer financiamento se declara possuir casa própria, qual a probabilidade de essa ser classificada como mau pagador? <br>"
   ]
  },
  {
   "cell_type": "code",
   "execution_count": null,
   "metadata": {},
   "outputs": [],
   "source": []
  },
  {
   "cell_type": "code",
   "execution_count": null,
   "metadata": {},
   "outputs": [],
   "source": []
  },
  {
   "cell_type": "markdown",
   "metadata": {},
   "source": [
    "<div id=\"p1b\"></div>\n",
    "\n",
    "**P1(b)(0,50 ponto)**<br>\n",
    "Discuta, de maneira objetiva, se, para essa financeira, uma pessoa ter casa própria pode ajudá-la na obtenção de financiamento.<br> \n",
    "Responda considerando, na sua arguição, informações numéricas que tiver até aqui.\n"
   ]
  },
  {
   "cell_type": "raw",
   "metadata": {},
   "source": []
  },
  {
   "cell_type": "code",
   "execution_count": null,
   "metadata": {},
   "outputs": [],
   "source": []
  },
  {
   "cell_type": "code",
   "execution_count": null,
   "metadata": {},
   "outputs": [],
   "source": []
  },
  {
   "cell_type": "markdown",
   "metadata": {},
   "source": [
    "[Volta ao Índice](#indice)"
   ]
  },
  {
   "cell_type": "markdown",
   "metadata": {},
   "source": [
    "___\n",
    "<div id=\"p2\"></div>\n",
    "\n",
    "# BEM MAIS FINANCIADO 🚗🎓📱\n",
    "\n",
    "## PERGUNTA 2 (1,50 ponto)\n",
    "\n",
    "Nessa mesma financeira, já sabemos que 75,5% das pessoas que fazem financiamento são rotuladas como bom pagador. <br>\n",
    "Assuma que essa financeira só faça financiamento dos seguintes bens: carro, educação e eletrônico. <br>\n",
    "\n",
    "Sabe-se que:\n",
    " * 40% dos financiamentos são feitos para aquisição de eletrônico;\n",
    " * Entre os bons pagadores, 11,9% financiaram educação; e\n",
    " * Entre os que financiaram educação, 90% são de bons pagadores. \n",
    " \n",
    "Nesse caso, qual a probabilidade de um financiamento ser feito para aquisição de carro?\n",
    "\n",
    "<br>\n",
    "    \n",
    "**Atenção:** <br>\n",
    " (1) Declare os eventos necessários conforme enunciado e use-os na resolução dos itens desta pergunta; e <br>\n",
    " (2) Faça sua resolução da maneira mais clara, apresentando a conta feita para obtenção de cada nova informação numérica a partir das ditas no enunciado.  "
   ]
  },
  {
   "cell_type": "code",
   "execution_count": null,
   "metadata": {},
   "outputs": [],
   "source": []
  },
  {
   "cell_type": "code",
   "execution_count": null,
   "metadata": {},
   "outputs": [],
   "source": []
  },
  {
   "cell_type": "code",
   "execution_count": null,
   "metadata": {},
   "outputs": [],
   "source": []
  },
  {
   "cell_type": "markdown",
   "metadata": {},
   "source": [
    "[Volta ao Índice](#indice)"
   ]
  },
  {
   "cell_type": "markdown",
   "metadata": {},
   "source": [
    "___\n",
    "<div id=\"p3\"></div>\n",
    "\n",
    "# USO DE *App* PARA *DELIVERY* DE REFEIÇÕES 🍕🍔🍟🍝🍣\n",
    "\n",
    "## PERGUNTA 3 (3,50 ponto)\n",
    "\n",
    "\"Quando a fome bater, o celular pode ser um aliado: há uma diversidade de aplicativos disponíveis para entrega de comida, com cardápios digitais de restaurantes e estabelecimentos locais.\"<br>\n",
    "Fonte: Extraído da internet\n",
    "\n",
    "<br>\n",
    "\n",
    "**Atenção:** <br>\n",
    " (1) Declare as variáveis aleatórias conforme enunciado de cada item e use-as na resolução dos itens desta pergunta; e <br>\n",
    " (2) Faça sua resolução da maneira mais clara, apresentando a conta feita para obtenção de cada nova informação numérica a partir das ditas no enunciado.  "
   ]
  },
  {
   "cell_type": "markdown",
   "metadata": {},
   "source": [
    "<div id=\"p3a\"></div>\n",
    "\n",
    "**P3(a)(0,75 ponto)**<br>\n",
    "Em um *App* para *delivery* de refeições, após às 18h, uma pessoa faz, em média, dois pedidos por semana. <br>\n",
    "No próxima semana, qual a probabilidade de uma pessoa não usar esse *App* para fazer pedido após às 18h?"
   ]
  },
  {
   "cell_type": "code",
   "execution_count": null,
   "metadata": {},
   "outputs": [],
   "source": []
  },
  {
   "cell_type": "markdown",
   "metadata": {},
   "source": [
    "<div id=\"p3b\"></div>\n",
    "\n",
    "**P3(b)(1,25 ponto)**<br>\n",
    "Assuma que a utilização desse *App* por uma pessoa seja segmentada em dois períodos: **antes das 18h** e **após às 18h**. <br>\n",
    "\n",
    "Conforme o item anterior, após às 18h, uma pessoa faz, em média, dois pedidos por semana. <br>\n",
    "Já antes das 18h, uma pessoa faz, em média, 0,15 pedido diariamente. <br>\n",
    "Ainda, nesse *App*, 67% dos pedidos são feitos após às 18h.\n",
    "\n",
    "Para um período qualquer, qual a probabilidade de uma pessoa fazer, nesse *App*, no mínimo três pedidos por semana?"
   ]
  },
  {
   "cell_type": "code",
   "execution_count": null,
   "metadata": {},
   "outputs": [],
   "source": []
  },
  {
   "cell_type": "code",
   "execution_count": null,
   "metadata": {},
   "outputs": [],
   "source": []
  },
  {
   "cell_type": "code",
   "execution_count": null,
   "metadata": {},
   "outputs": [],
   "source": []
  },
  {
   "cell_type": "markdown",
   "metadata": {},
   "source": [
    "<div id=\"p3c\"></div>\n",
    "\n",
    "**P3(c)(1,50 ponto)**<br>\n",
    "Em uma pesquisa feita por esse *App* para *delivery* de refeições, constatou o seguinte: <br>\n",
    "Em 12 pessoas selecionadas de maneira independente, com cadastro no *App*, em média, três usam o App pelo menos sete vezes no mês.<br>\n",
    "\n",
    "Sabendo que menos de seis dessas pessoas usaram o App pelo menos sete vezes no mês, qual a probabilidade de no mínimo três  dessas pessoas terem usado o App pelo menos sete vezes no mês?"
   ]
  },
  {
   "cell_type": "code",
   "execution_count": null,
   "metadata": {},
   "outputs": [],
   "source": []
  },
  {
   "cell_type": "code",
   "execution_count": null,
   "metadata": {},
   "outputs": [],
   "source": []
  },
  {
   "cell_type": "code",
   "execution_count": null,
   "metadata": {},
   "outputs": [],
   "source": []
  },
  {
   "cell_type": "markdown",
   "metadata": {},
   "source": [
    "[Volta ao Índice](#indice)"
   ]
  },
  {
   "cell_type": "markdown",
   "metadata": {},
   "source": [
    "___\n",
    "<div id=\"p4\"></div>\n",
    "\n",
    "# RISCO DE CRÉDITO vs PERFIL 👩🏼👩👩🏽 🎲 🧑🏼🧑🧑🏽\n",
    "\n",
    "## PERGUNTA 4 (3,00 pontos)\n",
    "\n",
    "No *dataframe* `dados` abaixo disponibilizado, cada linha representa uma pessoa que recebeu financiamento de um banco. <br>\n",
    "Ainda, cada pessoa é classificada como risco de crédito bom ou ruim de acordo com seu perfil (ou seja, seus atributos), o qual é descrito pelas seguintes variáveis:\n",
    "\n",
    " * `Age`: informa idade, em anos;\n",
    " * `Sex`: informa sexo da pessoa, categorizada em: `male` e `female`;\n",
    " * `Job`: informa qualificação no emprego, categorizada em: `unskilled and non-resident`, `unskilled and resident`, `skilled`, `highly skilled`;\n",
    " * `Housing`: informa se possui casa própria, alugada ou moradia grátis, categorizada em: `own`, `rent`, `free`;\n",
    " * `Saving accounts`: informa nível de dinheiro na conta popupança, categorizada em: `little`, `moderate`, `quite rich`, `rich`;\n",
    " * `Checking account`: informa nível de dinheiro na conta corrente, categorizada em: `little`, `moderate`, `rich`;\n",
    " * `Credit amount`: informa quantia de crédito, ou seja, quantidade de dinheiro financiado no banco, em dólares;\n",
    " * `Duration`: informa o tempo do financiamento, em meses;\n",
    " * `Purpose`: informa o propósito do financiamento, categorizada em: `car`, `furniture/equipment`, `radio/TV`, `domestic appliances`, `repairs`, `education`, `business`, `vacation/others`; e\n",
    " * `Risk`: informa se o risco do crédito é ruim (maior chance é de ser um mau pagador) ou bom (maior chance é de ser um bom pagador), categorizada respectivamente em: `bad` ou `good`.\n",
    "\n",
    "\n",
    "**Obs.:** Esta pergunta utiliza nesta uma versão da base de dados original preparada por Prof. Hofmann \n",
    "[aqui](https://archive.ics.uci.edu/ml/datasets/statlog+(german+credit+data)). "
   ]
  },
  {
   "cell_type": "markdown",
   "metadata": {},
   "source": [
    "<div id=\"dados\"></div>\n",
    "\n",
    "**ABRINDO A BASE DE DADOS:**"
   ]
  },
  {
   "cell_type": "code",
   "execution_count": null,
   "metadata": {},
   "outputs": [],
   "source": [
    "print(\"Esperamos trabalhar no diretório\")\n",
    "print(os.getcwd())"
   ]
  },
  {
   "cell_type": "code",
   "execution_count": null,
   "metadata": {},
   "outputs": [],
   "source": [
    "filename = 'german_credit_data.csv'\n",
    "if filename in os.listdir():\n",
    "    print(f'Parece que o arquivo {filename} está na mesma pasta do notebook da avaliação, yay!\\n')\n",
    "    \n",
    "else:\n",
    "    print(f'Não encontrei o arquivo {filename}.\\n'\n",
    "          f'O notebook e os arquivos de dados desta avaliação devem ser salvos dentro da mesma pasta no seu computador.\\n')"
   ]
  },
  {
   "cell_type": "code",
   "execution_count": null,
   "metadata": {
    "scrolled": true
   },
   "outputs": [],
   "source": [
    "dados = pd.read_csv(filename)\n",
    "dados.head()"
   ]
  },
  {
   "cell_type": "markdown",
   "metadata": {},
   "source": [
    "<div id=\"astype\"></div>\n",
    "\n",
    "**CLASSIFICANDO AS VARIÁVEIS QUALITATIVAS:**"
   ]
  },
  {
   "cell_type": "code",
   "execution_count": null,
   "metadata": {},
   "outputs": [],
   "source": [
    "# APENAS RODAR\n",
    "for i in range(dados.shape[1]):\n",
    "    if dados.dtypes[i]=='O':\n",
    "        dados.iloc[:,i] = dados.iloc[:,i].astype('category')\n",
    "\n",
    "dados['Job'] = dados['Job'].astype('category')\n",
    "dados['Job'].cat.categories = ['unskilled and non-resident', 'unskilled and resident', 'skilled', 'highly skilled']\n",
    "dados['Saving accounts'] = pd.Categorical(dados['Saving accounts'], \n",
    "                                          categories = ['little', 'moderate', 'quite rich', 'rich'],\n",
    "                                          ordered=True)\n",
    "dados['Checking account'] = pd.Categorical(dados['Checking account'],\n",
    "                                           categories = ['little', 'moderate', 'rich'],\n",
    "                                           ordered=True)"
   ]
  },
  {
   "cell_type": "code",
   "execution_count": null,
   "metadata": {},
   "outputs": [],
   "source": []
  },
  {
   "cell_type": "markdown",
   "metadata": {},
   "source": [
    "**Caso queira consultar nomes das colunas do *dataframe* `dados`, use o comando abaixo:**"
   ]
  },
  {
   "cell_type": "code",
   "execution_count": null,
   "metadata": {
    "scrolled": true
   },
   "outputs": [],
   "source": []
  },
  {
   "cell_type": "markdown",
   "metadata": {},
   "source": [
    "**Caso queira consultar os rótulos de uma variável qualitativa, use o comando abaixo:**"
   ]
  },
  {
   "cell_type": "code",
   "execution_count": null,
   "metadata": {},
   "outputs": [],
   "source": [
    "dados['Sex'].cat.categories"
   ]
  },
  {
   "cell_type": "markdown",
   "metadata": {},
   "source": [
    "<div id=\"p4a\"></div>\n",
    "\n",
    "**P4(a) (1,25 ponto)** \n",
    "\n",
    "*Afirmação:* \"Em cada propósito do financiamento, a maioria das pessoas é considerada de risco de crédito bom.\" <br>\n",
    "\n",
    "No caso, faça **uma única linha de código** que permita:\n",
    "  * Validar a afirmação acima, justificando porquê *output* do código valida essa afirmação; e\n",
    "  * Identificar o rótulo de `Purpose` que, dado ele, contenha o menor percentual de pessoas com risco de crédito bom, ou seja, o financiamento de tal rótulo de `Purpose` apresenta o maior risco de crédito ruim comparado aos demais propósitos de financiamento. "
   ]
  },
  {
   "cell_type": "code",
   "execution_count": null,
   "metadata": {},
   "outputs": [],
   "source": []
  },
  {
   "cell_type": "raw",
   "metadata": {},
   "source": []
  },
  {
   "cell_type": "code",
   "execution_count": null,
   "metadata": {},
   "outputs": [],
   "source": []
  },
  {
   "cell_type": "markdown",
   "metadata": {},
   "source": [
    "<div id=\"p4b\"></div>\n",
    "\n",
    "**P4(b) (1,25 ponto)**\n",
    "\n",
    "Para **cada** nível de dinheiro na conta corrente, construa um gráfico que permita analisar a relação entre tempo de financiamento e quantia de dinheiro financiado.\n",
    "\n",
    "Os gráficos devem:\n",
    "  * Estar organizados todos na mesma janela gráfica\n",
    "  * Ter visualizações que permitam comparar os gráficos com intuito de extrair uma melhor interpretação em termos do problema."
   ]
  },
  {
   "cell_type": "code",
   "execution_count": null,
   "metadata": {},
   "outputs": [],
   "source": []
  },
  {
   "cell_type": "code",
   "execution_count": null,
   "metadata": {},
   "outputs": [],
   "source": []
  },
  {
   "cell_type": "code",
   "execution_count": null,
   "metadata": {},
   "outputs": [],
   "source": []
  },
  {
   "cell_type": "markdown",
   "metadata": {},
   "source": [
    "<div id=\"p4c\"></div>\n",
    "\n",
    "**P4(c) (0,50 ponto)**\n",
    "\n",
    "A partir dos gráficos construídos no item anterior, responda:\n",
    "  * Há relação entre tempo de financiamento e quantia de dinheiro financiado para **cada** nível de dinheiro na conta corrente?  Justifique, de maneira clara e sucinta, sua resposta.\n",
    "  * O financiamento é diferente ou semelhante de acordo com o nível de dinheiro que uma pessoa tem na conta corrente? Justifique, de maneira clara e sucinta, sua resposta.\n"
   ]
  },
  {
   "cell_type": "raw",
   "metadata": {},
   "source": []
  },
  {
   "cell_type": "code",
   "execution_count": null,
   "metadata": {},
   "outputs": [],
   "source": []
  },
  {
   "cell_type": "markdown",
   "metadata": {},
   "source": [
    "[Volta ao Índice](#indice)"
   ]
  }
 ],
 "metadata": {
  "kernelspec": {
   "display_name": "Python 3 (ipykernel)",
   "language": "python",
   "name": "python3"
  },
  "language_info": {
   "codemirror_mode": {
    "name": "ipython",
    "version": 3
   },
   "file_extension": ".py",
   "mimetype": "text/x-python",
   "name": "python",
   "nbconvert_exporter": "python",
   "pygments_lexer": "ipython3",
   "version": "3.9.13"
  }
 },
 "nbformat": 4,
 "nbformat_minor": 4
}
