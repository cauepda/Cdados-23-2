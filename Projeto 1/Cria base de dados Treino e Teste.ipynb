{
 "cells": [
  {
   "cell_type": "code",
   "execution_count": 1,
   "metadata": {},
   "outputs": [],
   "source": [
    "import pandas as pd\n",
    "import random"
   ]
  },
  {
   "cell_type": "code",
   "execution_count": 2,
   "metadata": {},
   "outputs": [],
   "source": [
    "# Transforma string em inteiro\n",
    "def nome_para_inteiro(nome):\n",
    "    nome = nome.upper()  # Converter para maiúsculas para tratar maiúsculas e minúsculas da mesma forma\n",
    "    valor_inteiro = 0\n",
    "    \n",
    "    for letra in nome:\n",
    "        # Verificar se a letra está no alfabeto (A a Z)\n",
    "        if 'A' <= letra <= 'Z':\n",
    "            valor_inteiro += ord(letra) - ord('A') + 1  # Valor de 'A' é 1, 'B' é 2, ..., 'Z' é 26\n",
    "    \n",
    "    return valor_inteiro"
   ]
  },
  {
   "cell_type": "code",
   "execution_count": 3,
   "metadata": {},
   "outputs": [],
   "source": [
    "# Ler o arquivo de dados\n",
    "dados = pd.read_excel('data/dados.xlsx')"
   ]
  },
  {
   "cell_type": "code",
   "execution_count": 4,
   "metadata": {},
   "outputs": [
    {
     "name": "stdout",
     "output_type": "stream",
     "text": [
      "Quantidade de alunos no grupo (2 ou 3): 3\n"
     ]
    }
   ],
   "source": [
    "# Perguntar a quantidade de alunos no grupo (2 ou 3)\n",
    "while True:\n",
    "    try:\n",
    "        quantidade_alunos = int(input(\"Quantidade de alunos no grupo (2 ou 3): \"))\n",
    "        if quantidade_alunos in [2, 3]:\n",
    "            break\n",
    "        else:\n",
    "            print(\"Por favor, insira 2 ou 3.\")\n",
    "    except ValueError:\n",
    "        print(\"Por favor, insira um número válido.\")"
   ]
  },
  {
   "cell_type": "code",
   "execution_count": 5,
   "metadata": {},
   "outputs": [
    {
     "name": "stdout",
     "output_type": "stream",
     "text": [
      "Digite seu nome: Cauê Pileckas\n"
     ]
    }
   ],
   "source": [
    "nome = input(\"Digite seu nome: \")\n",
    "valor_inteiro = nome_para_inteiro(nome)"
   ]
  },
  {
   "cell_type": "code",
   "execution_count": 6,
   "metadata": {},
   "outputs": [],
   "source": [
    "# Embaralhar as linhas do conjunto de dados\n",
    "dados_embaralhados = dados.sample(frac=1, random_state=valor_inteiro)"
   ]
  },
  {
   "cell_type": "code",
   "execution_count": 7,
   "metadata": {},
   "outputs": [
    {
     "data": {
      "text/html": [
       "<div>\n",
       "<style scoped>\n",
       "    .dataframe tbody tr th:only-of-type {\n",
       "        vertical-align: middle;\n",
       "    }\n",
       "\n",
       "    .dataframe tbody tr th {\n",
       "        vertical-align: top;\n",
       "    }\n",
       "\n",
       "    .dataframe thead th {\n",
       "        text-align: right;\n",
       "    }\n",
       "</style>\n",
       "<table border=\"1\" class=\"dataframe\">\n",
       "  <thead>\n",
       "    <tr style=\"text-align: right;\">\n",
       "      <th></th>\n",
       "      <th>Mensagem</th>\n",
       "    </tr>\n",
       "  </thead>\n",
       "  <tbody>\n",
       "    <tr>\n",
       "      <th>525</th>\n",
       "      <td>Pelo menos no Livro 1 - A guerra dos tronos, a...</td>\n",
       "    </tr>\n",
       "    <tr>\n",
       "      <th>298</th>\n",
       "      <td>Não gostei. O livro o tempo todo traz narrativ...</td>\n",
       "    </tr>\n",
       "    <tr>\n",
       "      <th>109</th>\n",
       "      <td>Ok, tem partes picantes legais, mas grande par...</td>\n",
       "    </tr>\n",
       "    <tr>\n",
       "      <th>695</th>\n",
       "      <td>A estoria de amor entre duas pessoas psicologi...</td>\n",
       "    </tr>\n",
       "    <tr>\n",
       "      <th>194</th>\n",
       "      <td>Péssimo livro. Ao mesmo tempo que tenta vanglo...</td>\n",
       "    </tr>\n",
       "    <tr>\n",
       "      <th>...</th>\n",
       "      <td>...</td>\n",
       "    </tr>\n",
       "    <tr>\n",
       "      <th>990</th>\n",
       "      <td>CLARO QUE AS ESTRELAS NÃO SÃO PAR A OBRA, MAS ...</td>\n",
       "    </tr>\n",
       "    <tr>\n",
       "      <th>901</th>\n",
       "      <td>Tenho muitos livros sobre a Segunda Guerra mun...</td>\n",
       "    </tr>\n",
       "    <tr>\n",
       "      <th>475</th>\n",
       "      <td>Na época que estourou eu paguei 105 na edição ...</td>\n",
       "    </tr>\n",
       "    <tr>\n",
       "      <th>160</th>\n",
       "      <td>Livro apenas comenta sobre o que é leitura ráp...</td>\n",
       "    </tr>\n",
       "    <tr>\n",
       "      <th>259</th>\n",
       "      <td>Péssimo. Difícil uma biografia tão ruim como e...</td>\n",
       "    </tr>\n",
       "  </tbody>\n",
       "</table>\n",
       "<p>500 rows × 1 columns</p>\n",
       "</div>"
      ],
      "text/plain": [
       "                                              Mensagem\n",
       "525  Pelo menos no Livro 1 - A guerra dos tronos, a...\n",
       "298  Não gostei. O livro o tempo todo traz narrativ...\n",
       "109  Ok, tem partes picantes legais, mas grande par...\n",
       "695  A estoria de amor entre duas pessoas psicologi...\n",
       "194  Péssimo livro. Ao mesmo tempo que tenta vanglo...\n",
       "..                                                 ...\n",
       "990  CLARO QUE AS ESTRELAS NÃO SÃO PAR A OBRA, MAS ...\n",
       "901  Tenho muitos livros sobre a Segunda Guerra mun...\n",
       "475  Na época que estourou eu paguei 105 na edição ...\n",
       "160  Livro apenas comenta sobre o que é leitura ráp...\n",
       "259  Péssimo. Difícil uma biografia tão ruim como e...\n",
       "\n",
       "[500 rows x 1 columns]"
      ]
     },
     "execution_count": 7,
     "metadata": {},
     "output_type": "execute_result"
    }
   ],
   "source": [
    "# Separar os dados de treino e teste com base na quantidade de alunos\n",
    "if quantidade_alunos == 2:\n",
    "    dados_treino = dados_embaralhados.head(300)\n",
    "    dados_teste = dados_embaralhados.tail(200)\n",
    "else:\n",
    "    dados_treino = dados_embaralhados.head(500)\n",
    "    dados_teste = dados_embaralhados.tail(250)\n",
    "    \n",
    "dados_treino.columns = ['Mensagem']\n",
    "dados_teste.columns = ['Mensagem']\n",
    "dados_treino"
   ]
  },
  {
   "cell_type": "code",
   "execution_count": 9,
   "metadata": {},
   "outputs": [
    {
     "name": "stdout",
     "output_type": "stream",
     "text": [
      "Dados de treino e teste foram salvos em 'dados_treino.xlsx' e 'dados_teste.xlsx'.\n"
     ]
    }
   ],
   "source": [
    "# Salvar os dados de treino e teste em arquivos Excel\n",
    "dados_treino.to_excel('data/dados_treino.xlsx', index=False, engine='openpyxl')\n",
    "dados_teste.to_excel('data/dados_teste.xlsx', index=False, engine='openpyxl')\n",
    "\n",
    "print(\"Dados de treino e teste foram salvos em 'dados_treino.xlsx' e 'dados_teste.xlsx'.\")"
   ]
  },
  {
   "cell_type": "code",
   "execution_count": null,
   "metadata": {},
   "outputs": [],
   "source": []
  }
 ],
 "metadata": {
  "kernelspec": {
   "display_name": "Python 3 (ipykernel)",
   "language": "python",
   "name": "python3"
  },
  "language_info": {
   "codemirror_mode": {
    "name": "ipython",
    "version": 3
   },
   "file_extension": ".py",
   "mimetype": "text/x-python",
   "name": "python",
   "nbconvert_exporter": "python",
   "pygments_lexer": "ipython3",
   "version": "3.9.13"
  }
 },
 "nbformat": 4,
 "nbformat_minor": 2
}
