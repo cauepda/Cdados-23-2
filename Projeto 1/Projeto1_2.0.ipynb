{
 "cells": [
  {
   "cell_type": "markdown",
   "metadata": {},
   "source": [
    "# Projeto 1 - Ciência dos Dados"
   ]
  },
  {
   "cell_type": "markdown",
   "metadata": {},
   "source": [
    "Nome: __Cauê Pileckas___\n",
    "\n",
    "Nome: __Otávio Bianco___\n",
    "\n",
    "Nome: __Victor Faria___"
   ]
  },
  {
   "cell_type": "markdown",
   "metadata": {},
   "source": [
    "Atenção: Serão permitidos grupos de três pessoas, mas com uma rubrica mais exigente. Grupos deste tamanho precisarão fazer um questionário de avaliação de trabalho em equipe"
   ]
  },
  {
   "cell_type": "markdown",
   "metadata": {},
   "source": [
    "___\n",
    "Carregando algumas bibliotecas:"
   ]
  },
  {
   "cell_type": "code",
   "execution_count": 1,
   "metadata": {},
   "outputs": [],
   "source": [
    "%matplotlib inline\n",
    "import pandas as pd\n",
    "import matplotlib.pyplot as plt\n",
    "import numpy as np\n",
    "import os\n",
    "import re \n",
    "from unidecode import unidecode"
   ]
  },
  {
   "cell_type": "code",
   "execution_count": 2,
   "metadata": {
    "scrolled": false
   },
   "outputs": [
    {
     "name": "stdout",
     "output_type": "stream",
     "text": [
      "Esperamos trabalhar no diretório\n",
      "/Users/cauedagostinho/Documents/Insper/2˚sem/Cdados/Projeto 1\n"
     ]
    }
   ],
   "source": [
    "print('Esperamos trabalhar no diretório')\n",
    "print(os.getcwd())"
   ]
  },
  {
   "cell_type": "markdown",
   "metadata": {},
   "source": [
    "### lista com palavras irrelevantes\n",
    "\n",
    "## Colocar explicação bonitinha do pq essas palavras sao irrelevantes "
   ]
  },
  {
   "cell_type": "code",
   "execution_count": 3,
   "metadata": {},
   "outputs": [],
   "source": [
    "lista_index_out = [\"a\", \"o\", \"que\", \"do\", \"da\", \"de\", \"em\", \"um\", \"para\", \"e\", \"com\", \"nao\", \"uma\", \"os\", \"no\", \"se\", \"na\", \"por\",\n",
    "    \"mais\", \"as\", \"dos\", \"como\", \"mas\", \"foi\", \"ao\", \"ele\", \"das\", \"tem\", \"à\", \"seu\", \"sua\", \"ou\", \"ser\", \"quando\",\n",
    "    \"muito\", \"ha\", \"nos\", \"ja\", \"esta\", \"eu\", \"também\", \"so\", \"pelo\", \"pela\", \"ate\", \"isso\", \"ela\", \"entre\", \"era\",\n",
    "    \"depois\", \"sem\", \"mesmo\", \"aos\", \"ter\", \"seus\", \"quem\", \"nas\", \"me\", \"esse\", \"eles\", \"estao\", \"voce\", \"tinha\",\n",
    "    \"foram\", \"essa\", \"num\", \"nem\", \"suas\", \"meu\", \"as\", \"minha\", \"numa\", \"pelos\", \"elas\", \"havia\", \"seja\",\n",
    "    \"qual\", \"sera\", \"nos\", \"tenho\", \"lhe\", \"deles\", \"essas\", \"esses\", \"pelas\", \"este\", \"fosse\", \"dele\", \"tu\", \"te\",\n",
    "    \"voces\", \"vos\", \"lhes\", \"meus\", \"minhas\", \"teu\", \"tua\", \"teus\", \"tuas\", \"nosso\", \"nossa\", \"nossos\", \"nossas\",\n",
    "    \"dela\", \"delas\", \"esta\", \"estes\", \"estas\", \"aquele\", \"aquela\", \"aqueles\", \"aquelas\", \"isto\", \"aquilo\", \"estou\",\n",
    "    \"esta\", \"estamos\", \"estao\", \"estive\", \"esteve\", \"estivemos\", \"estiveram\", \"estava\", \"estavamos\", \"estavam\",\n",
    "    \"estivera\", \"estiveramos\", \"esteja\", \"estejamos\", \"estejam\", \"estivesse\", \"estivessemos\", \"estivessem\", \"estiver\",\n",
    "    \"estivermos\", \"estiverem\", \"hei\", \"ha\", \"havemos\", \"hao\", \"houve\", \"houvemos\", \"houveram\", \"houvera\",\n",
    "    \"houveramos\", \"haja\", \"hajamos\", \"hajam\", \"houvesse\", \"houvessemos\", \"houvessem\", \"houver\", \"houvermos\",\n",
    "    \"houverem\", \"houverei\", \"houverá\", \"houveremos\", \"houverão\", \"houveria\", \"houveríamos\", \"houveriam\", \"sou\",\n",
    "    \"somos\", \"sao\", \"era\", \"eramos\", \"eram\", \"fui\", \"foi\", \"fomos\", \"foram\", \"fora\", \"foramos\", \"seja\", \"sejamos\",\n",
    "    \"sejam\", \"fosse\", \"fossemos\", \"fossem\", \"for\", \"formos\", \"forem\", \"serei\", \"sera\", \"seremos\", \"serao\", \"seria\",\n",
    "    \"seriamos\", \"seriam\", \"tenho\", \"temos\", \"tem\", \"tinha\", \"tinhamos\", \"tinham\", \"tive\", \"teve\", \"tivemos\",\n",
    "    \"tiveram\", \"tivera\", \"tiveramos\", \"tenha\", \"tenhamos\", \"tenham\", \"tivesse\", \"tivessemos\", \"tivessem\", \"tiver\",\n",
    "    \"tivermos\", \"tiverem\", \"terei\", \"tera\", \"teremos\", \"terao\", \"teria\", \"teriamos\", \"teriam\"]"
   ]
  },
  {
   "cell_type": "markdown",
   "metadata": {},
   "source": [
    "Carregando a base de dados com os tweets classificados manualmente:"
   ]
  },
  {
   "cell_type": "code",
   "execution_count": 4,
   "metadata": {},
   "outputs": [
    {
     "data": {
      "text/html": [
       "<div>\n",
       "<style scoped>\n",
       "    .dataframe tbody tr th:only-of-type {\n",
       "        vertical-align: middle;\n",
       "    }\n",
       "\n",
       "    .dataframe tbody tr th {\n",
       "        vertical-align: top;\n",
       "    }\n",
       "\n",
       "    .dataframe thead th {\n",
       "        text-align: right;\n",
       "    }\n",
       "</style>\n",
       "<table border=\"1\" class=\"dataframe\">\n",
       "  <thead>\n",
       "    <tr style=\"text-align: right;\">\n",
       "      <th></th>\n",
       "      <th>Mensagem</th>\n",
       "      <th>Target</th>\n",
       "    </tr>\n",
       "  </thead>\n",
       "  <tbody>\n",
       "    <tr>\n",
       "      <th>0</th>\n",
       "      <td>Pelo menos no Livro 1 - A guerra dos tronos, a...</td>\n",
       "      <td>Conteúdo</td>\n",
       "    </tr>\n",
       "    <tr>\n",
       "      <th>1</th>\n",
       "      <td>Não gostei. O livro o tempo todo traz narrativ...</td>\n",
       "      <td>Conteúdo</td>\n",
       "    </tr>\n",
       "    <tr>\n",
       "      <th>2</th>\n",
       "      <td>Ok, tem partes picantes legais, mas grande par...</td>\n",
       "      <td>Conteúdo</td>\n",
       "    </tr>\n",
       "    <tr>\n",
       "      <th>3</th>\n",
       "      <td>A estoria de amor entre duas pessoas psicologi...</td>\n",
       "      <td>Conteúdo</td>\n",
       "    </tr>\n",
       "    <tr>\n",
       "      <th>4</th>\n",
       "      <td>Péssimo livro. Ao mesmo tempo que tenta vanglo...</td>\n",
       "      <td>Conteúdo</td>\n",
       "    </tr>\n",
       "    <tr>\n",
       "      <th>...</th>\n",
       "      <td>...</td>\n",
       "      <td>...</td>\n",
       "    </tr>\n",
       "    <tr>\n",
       "      <th>495</th>\n",
       "      <td>CLARO QUE AS ESTRELAS NÃO SÃO PAR A OBRA, MAS ...</td>\n",
       "      <td>Outros</td>\n",
       "    </tr>\n",
       "    <tr>\n",
       "      <th>496</th>\n",
       "      <td>Tenho muitos livros sobre a Segunda Guerra mun...</td>\n",
       "      <td>Conteúdo</td>\n",
       "    </tr>\n",
       "    <tr>\n",
       "      <th>497</th>\n",
       "      <td>Na época que estourou eu paguei 105 na edição ...</td>\n",
       "      <td>Conteúdo</td>\n",
       "    </tr>\n",
       "    <tr>\n",
       "      <th>498</th>\n",
       "      <td>Livro apenas comenta sobre o que é leitura ráp...</td>\n",
       "      <td>Outros</td>\n",
       "    </tr>\n",
       "    <tr>\n",
       "      <th>499</th>\n",
       "      <td>Péssimo. Difícil uma biografia tão ruim como e...</td>\n",
       "      <td>Produto</td>\n",
       "    </tr>\n",
       "  </tbody>\n",
       "</table>\n",
       "<p>500 rows × 2 columns</p>\n",
       "</div>"
      ],
      "text/plain": [
       "                                              Mensagem    Target\n",
       "0    Pelo menos no Livro 1 - A guerra dos tronos, a...  Conteúdo\n",
       "1    Não gostei. O livro o tempo todo traz narrativ...  Conteúdo\n",
       "2    Ok, tem partes picantes legais, mas grande par...  Conteúdo\n",
       "3    A estoria de amor entre duas pessoas psicologi...  Conteúdo\n",
       "4    Péssimo livro. Ao mesmo tempo que tenta vanglo...  Conteúdo\n",
       "..                                                 ...       ...\n",
       "495  CLARO QUE AS ESTRELAS NÃO SÃO PAR A OBRA, MAS ...    Outros\n",
       "496  Tenho muitos livros sobre a Segunda Guerra mun...  Conteúdo\n",
       "497  Na época que estourou eu paguei 105 na edição ...  Conteúdo\n",
       "498  Livro apenas comenta sobre o que é leitura ráp...    Outros\n",
       "499  Péssimo. Difícil uma biografia tão ruim como e...   Produto\n",
       "\n",
       "[500 rows x 2 columns]"
      ]
     },
     "execution_count": 4,
     "metadata": {},
     "output_type": "execute_result"
    }
   ],
   "source": [
    "train = pd.read_excel('data/dados_treino.xlsx')\n",
    "train"
   ]
  },
  {
   "cell_type": "code",
   "execution_count": 5,
   "metadata": {},
   "outputs": [
    {
     "data": {
      "text/html": [
       "<div>\n",
       "<style scoped>\n",
       "    .dataframe tbody tr th:only-of-type {\n",
       "        vertical-align: middle;\n",
       "    }\n",
       "\n",
       "    .dataframe tbody tr th {\n",
       "        vertical-align: top;\n",
       "    }\n",
       "\n",
       "    .dataframe thead th {\n",
       "        text-align: right;\n",
       "    }\n",
       "</style>\n",
       "<table border=\"1\" class=\"dataframe\">\n",
       "  <thead>\n",
       "    <tr style=\"text-align: right;\">\n",
       "      <th></th>\n",
       "      <th>Mensagem</th>\n",
       "      <th>Target</th>\n",
       "    </tr>\n",
       "  </thead>\n",
       "  <tbody>\n",
       "    <tr>\n",
       "      <th>0</th>\n",
       "      <td>Um livro sensacional. Tenho aplicado o conceit...</td>\n",
       "      <td>Outros</td>\n",
       "    </tr>\n",
       "    <tr>\n",
       "      <th>1</th>\n",
       "      <td>A edição traz uma introdução que é puro spoile...</td>\n",
       "      <td>Conteúdo</td>\n",
       "    </tr>\n",
       "    <tr>\n",
       "      <th>2</th>\n",
       "      <td>É tão ruim quanto o canal dele.</td>\n",
       "      <td>Outros</td>\n",
       "    </tr>\n",
       "    <tr>\n",
       "      <th>3</th>\n",
       "      <td>É um livro baseado no fator motivacional e em ...</td>\n",
       "      <td>Conteúdo</td>\n",
       "    </tr>\n",
       "    <tr>\n",
       "      <th>4</th>\n",
       "      <td>Olar, Frequentemente tendo sua marca, merecida...</td>\n",
       "      <td>Outros</td>\n",
       "    </tr>\n",
       "    <tr>\n",
       "      <th>...</th>\n",
       "      <td>...</td>\n",
       "      <td>...</td>\n",
       "    </tr>\n",
       "    <tr>\n",
       "      <th>245</th>\n",
       "      <td>Muito fraco e passional. Visão distorcida de d...</td>\n",
       "      <td>Outros</td>\n",
       "    </tr>\n",
       "    <tr>\n",
       "      <th>246</th>\n",
       "      <td>Nas primeiras páginas já temos o propósito do ...</td>\n",
       "      <td>Conteúdo</td>\n",
       "    </tr>\n",
       "    <tr>\n",
       "      <th>247</th>\n",
       "      <td>Achei um livro muito superficial e enfadonho. ...</td>\n",
       "      <td>Outros</td>\n",
       "    </tr>\n",
       "    <tr>\n",
       "      <th>248</th>\n",
       "      <td>A menos que queira uma versão POCKET, não comp...</td>\n",
       "      <td>Outros</td>\n",
       "    </tr>\n",
       "    <tr>\n",
       "      <th>249</th>\n",
       "      <td>A edição é maravilhosa, o preço bom, contudo, ...</td>\n",
       "      <td>Outros</td>\n",
       "    </tr>\n",
       "  </tbody>\n",
       "</table>\n",
       "<p>250 rows × 2 columns</p>\n",
       "</div>"
      ],
      "text/plain": [
       "                                              Mensagem    Target\n",
       "0    Um livro sensacional. Tenho aplicado o conceit...    Outros\n",
       "1    A edição traz uma introdução que é puro spoile...  Conteúdo\n",
       "2                      É tão ruim quanto o canal dele.    Outros\n",
       "3    É um livro baseado no fator motivacional e em ...  Conteúdo\n",
       "4    Olar, Frequentemente tendo sua marca, merecida...    Outros\n",
       "..                                                 ...       ...\n",
       "245  Muito fraco e passional. Visão distorcida de d...    Outros\n",
       "246  Nas primeiras páginas já temos o propósito do ...  Conteúdo\n",
       "247  Achei um livro muito superficial e enfadonho. ...    Outros\n",
       "248  A menos que queira uma versão POCKET, não comp...    Outros\n",
       "249  A edição é maravilhosa, o preço bom, contudo, ...    Outros\n",
       "\n",
       "[250 rows x 2 columns]"
      ]
     },
     "execution_count": 5,
     "metadata": {},
     "output_type": "execute_result"
    }
   ],
   "source": [
    "test = pd.read_excel('data/dados_teste.xlsx')\n",
    "test"
   ]
  },
  {
   "cell_type": "markdown",
   "metadata": {},
   "source": [
    "___\n",
    "## Classificador automático\n"
   ]
  },
  {
   "cell_type": "markdown",
   "metadata": {},
   "source": [
    "Faça aqui uma descrição do seu assunto e o que considerou como relevante ou não relevante na classificação dos reviews (Target).\n",
    "\n",
    "##### CONTEÚDO:\n",
    "\n",
    "Relevante: Reviews que abordam o enredo, personagens, temas, qualidade da escrita, análises críticas, recomendações, citações do livro, discussões sobre a trama, etc.\n",
    "Não relevante: Reviews que não se relacionam ao conteúdo do livro, como anúncios de venda, spam, mensagens pessoais não relacionadas etc.\n",
    "\n",
    "##### PRODUTO:\n",
    "\n",
    "Relevante: Reviews que falam sobre a qualidade física do livro, como a capa, papel, encadernação, impressão, ilustrações, edições especiais, brindes, etc.\n",
    "Não relevante: Reviews que não se referem à qualidade física do livro, como reviews promocionais da editora, anúncios de livros em geral, avaliações de transporte/demora de entrega, mensagens pessoais não relacionadas à qualidade física do livro, etc.\n",
    "\n",
    "##### OUTROS: \n",
    "\n",
    "Relevante: Reviews que abordam temas gerais, não relacionados ao livro, mas que podem ser relevantes para os leitores, como dicas de leitura, eventos literários, escritores famosos, etc.\n",
    "Não relevante: Reviews que não têm relação com o livro ou com interesses literários, como discussões sobre filmes, esportes, política, entre outros assuntos que não têm relevância para os critérios definidos."
   ]
  },
  {
   "cell_type": "markdown",
   "metadata": {},
   "source": [
    "___\n",
    "### Montando um Classificador Naive-Bayes\n",
    "\n",
    "Considerando apenas as mensagens da planilha Treinamento, ensine  seu classificador."
   ]
  },
  {
   "cell_type": "markdown",
   "metadata": {},
   "source": [
    "### Criação das funções para tratamento da base de dados\n",
    "##### Função cleanup: \n",
    "Antes de trabalharmos com nossa base de dados, é necessário estabelecermos alguns padrões para evitar posteriores ruídos que podem prejudircar a análise. Na função **cleanup** removemos alguns sinais de pontuação como aspas, apóstrofos, exclamações, hífens, pontos, dois-pontos, ponto e vírgula, ponto de interrogação e ponto de exclamação. Além de acentos e caracteres especiais do texto através da biblioteca **unicode**.\n",
    "Por fim, o texto resultante foi convertido para letras minúsculas.\n",
    "\n",
    "##### Função retorna_lista_mensagens:\n",
    "Com as mensagens padronizadas e sem ruídos. Vamos iniciar a separação de dados para que possamos calcular as probabilidades posteriormente. Para isso a função **retorna_lista_mensagens** recebe o dataframe juntamente com uma das classificações do target. Com isso, nossa função itera pelas linhas da base de dados, separa as mensagens palavra a palavra criando uma lista que contém todas as palavras das mensagens que correspondem ao alvo especificado.\n",
    "\n",
    "##### Função super_lista: \n",
    "A função **super_lista** itera pelo dataframe divindo as mensagens em palavras novamente e armazenando em uma nova lista. Em seguida a função verifica se alguma palavra pertence a lista de palavras colocadas na lista **lista_index_out** que representa as palavras que podem ser tiradas das mensagens por não representarem ou não darem indício sobre o target a que pertencem. Além disso, a função verifica se a palavra começa com \"link\" ou \"http\". Se a palavra atender a qualquer uma dessas condições, ela é removida da lista.  "
   ]
  },
  {
   "cell_type": "code",
   "execution_count": 6,
   "metadata": {},
   "outputs": [],
   "source": [
    "def cleanup(text):\n",
    "    \"\"\"\n",
    "        Função de limpeza muito simples que troca alguns sinais básicos por espaços\n",
    "    \"\"\"\n",
    "    #import string\n",
    "    punctuation = '[´\"!-.:?;$'']' # Note que os sinais [] são delimitadores de um conjunto.\n",
    "    pattern = re.compile(punctuation)\n",
    "    text_subbed = re.sub(pattern, '', text)\n",
    "    unidecode_text = unidecode(text_subbed)\n",
    "    return unidecode_text.lower()\n",
    "\n",
    "def retorna_lista_mensagens(df, target):\n",
    "    lista_palavras_conteudo = []\n",
    "    palavras_conteudo = []\n",
    "\n",
    "\n",
    "    for index, row in df.iterrows():\n",
    "        if row['Target'] == target:\n",
    "            lista_palavras_conteudo.append(row['Mensagem'].split())\n",
    "        \n",
    "    for lista in lista_palavras_conteudo:\n",
    "        for i in range(len(lista)):\n",
    "            palavras_conteudo.append(lista[i])\n",
    "            \n",
    "    return palavras_conteudo\n",
    "\n",
    "def super_lista(df):\n",
    "    string = []\n",
    "    for mensagem in df['Mensagem']:\n",
    "        lista_com_mensagem = mensagem.split()\n",
    "\n",
    "        for palavra in lista_com_mensagem:\n",
    "            if palavra in lista_index_out:\n",
    "                lista_com_mensagem.remove(palavra)\n",
    "                \n",
    "            elif palavra[:4] == 'link' or palavra[:4] == 'http':\n",
    "                lista_com_mensagem.remove(palavra)\n",
    "\n",
    "        for word in lista_com_mensagem:\n",
    "            string.append(word)\n",
    "\n",
    "    super_string = string\n",
    "    return super_string"
   ]
  },
  {
   "cell_type": "code",
   "execution_count": 7,
   "metadata": {},
   "outputs": [],
   "source": [
    "#Aplicando na base de dados treino a função cleanup\n",
    "train['Mensagem'] = train['Mensagem'].apply(cleanup)"
   ]
  },
  {
   "cell_type": "code",
   "execution_count": 8,
   "metadata": {},
   "outputs": [],
   "source": [
    "#Separando as mensagens por categoria do Target e encontrando suas frequências absolutas\n",
    "\n",
    "# conteúdo -----\n",
    "conteudo = train.loc[train['Target'] == 'Conteúdo']\n",
    "\n",
    "# frequencia absoluta\n",
    "conteudo_freq_abs = conteudo.value_counts()\n",
    "\n",
    "# produto ------\n",
    "produto = train.loc[train['Target'] == 'Produto']\n",
    "\n",
    "# frequencia absoluta\n",
    "produto_freq_abs = produto.value_counts()\n",
    "\n",
    "# outros -------\n",
    "outros = train.loc[train['Target'] == 'Outros']\n",
    "\n",
    "# frequencia absoluta\n",
    "outros_freq_abs = outros.value_counts()"
   ]
  },
  {
   "cell_type": "markdown",
   "metadata": {},
   "source": [
    "### Tratando os dados em listas por categoria:\n",
    "Com as funções de tratamento criadas e as mensagens separadas por categoria, vamos aplicá-las em cada categoria do nosso Target usando a nossa função **super_lista**."
   ]
  },
  {
   "cell_type": "code",
   "execution_count": 9,
   "metadata": {
    "scrolled": false
   },
   "outputs": [],
   "source": [
    "# conteudo\n",
    "str_conteudo = super_lista(conteudo)\n",
    "\n",
    "# produto\n",
    "str_produto = super_lista(produto)\n",
    "\n",
    "# outros\n",
    "str_outros = super_lista(outros)"
   ]
  },
  {
   "cell_type": "markdown",
   "metadata": {},
   "source": [
    "### Agrupando todos os elementos para calcular a frequência relativa\n",
    "Nessa etapa estamos criando novas listas com as listas das palavras de cada categoria. Em seguida, a partir da lista com todas as palavras criamos um Series no pandas.\n",
    "Com essa série criada, podemos então calcular as frequências relativa e absoluta de cada palavra diante de todas as palavras. "
   ]
  },
  {
   "cell_type": "code",
   "execution_count": 10,
   "metadata": {},
   "outputs": [],
   "source": [
    "palavras_juntas = str_conteudo + str_produto + str_outros\n",
    "\n",
    "serie_palavras_juntas = pd.Series(palavras_juntas)\n",
    "\n",
    "# frequencia relativa de todas as palavras\n",
    "palavras_juntas_rel_frame = serie_palavras_juntas.value_counts(normalize=True)\n",
    "\n",
    "# frequencia absoluta de todas as palavras\n",
    "palavras_juntas_frame = serie_palavras_juntas.value_counts()"
   ]
  },
  {
   "cell_type": "code",
   "execution_count": 11,
   "metadata": {},
   "outputs": [],
   "source": [
    "# Criando uma lista que contém todas as palavras únicas presentes em todas as mensagens combinadas.\n",
    "palavras_sem_repeticoes = list(set(palavras_juntas))"
   ]
  },
  {
   "cell_type": "markdown",
   "metadata": {},
   "source": [
    "### Criando Series para cada categoria e suas frequências\n",
    "Aqui criamos para cada categoria do nosso Target uma série do pandas.\n",
    "Em seguida as frequências relativas e por fim as frequências absolutas."
   ]
  },
  {
   "cell_type": "code",
   "execution_count": 12,
   "metadata": {},
   "outputs": [],
   "source": [
    "serie_conteudo = pd.Series(str_conteudo)\n",
    "serie_outros = pd.Series(str_outros)\n",
    "serie_produto = pd.Series(str_produto)\n",
    "\n",
    "# frequencia relativa por Target\n",
    "df_conteudo_rel = serie_conteudo.value_counts(normalize=True)\n",
    "df_outros_rel = serie_outros.value_counts(normalize=True)\n",
    "df_produto_rel = serie_produto.value_counts(normalize=True)\n",
    "\n",
    "# frequencia por \"aparições\"\n",
    "df_conteudo_ap = serie_conteudo.value_counts()\n",
    "df_outros_ap = serie_outros.value_counts()\n",
    "df_produto_ap = serie_produto.value_counts()"
   ]
  },
  {
   "cell_type": "markdown",
   "metadata": {},
   "source": [
    "### Calculando as probabilidades de uma mensagem pertencer à cada categoria"
   ]
  },
  {
   "cell_type": "code",
   "execution_count": 13,
   "metadata": {},
   "outputs": [],
   "source": [
    "prob_conteudo = len(serie_conteudo) / len(serie_palavras_juntas)\n",
    "prob_outros = len(serie_outros)   / len(serie_palavras_juntas)\n",
    "prob_produto = len(serie_produto) / len(serie_palavras_juntas)"
   ]
  },
  {
   "cell_type": "markdown",
   "metadata": {},
   "source": [
    "# O que é um suavizador de laplace"
   ]
  },
  {
   "cell_type": "markdown",
   "metadata": {},
   "source": [
    "### Criando funções para o cálculo da probabilidade condicional\n",
    "\n",
    "Vistos os conceitos de probabilidade condicional do Teorema de Bayes e o suavizador de Laplace, vamos calcular as probabilidades condicionais de cada palavra e aplicar o algoritmo de Laplace para evitar que alguma probabilidade se torne zero caso não esteja no nosso dataframe trabalhado.\n",
    "\n",
    "##### Função Laplace: \n",
    "A função leva como entrada a palavra em questão, a categoria alvo, a frequência absoluta das palavras na categoria alvo e uma lista de palavras únicas em todas as mensagens. Utiliza esses valores para calcular a probabilidade condicional suavizada da palavra na categoria alvo, seguindo o método de Laplace. O resultado é a probabilidade de uma palavra ocorrer na categoria alvo, levando em consideração o contexto e a suavização para evitar valores zero.\n",
    "\n",
    "##### Função Condicional:\n",
    "Nesta função foi calculada a probabilidade condicional, através dos conceitos do Teorema de Bayes, dado uma categoria alvo a partir de uma mensagem e aplicando a suavização de Laplace criada na função acima.\n",
    "\n",
    "##### Função Classificador:\n",
    "A função **Classificador** determina, baseado nos valores das probabilidades das funções anteriores, a categoria com a maior probabilidade condicional como a classificação para o feedback fornecido."
   ]
  },
  {
   "cell_type": "code",
   "execution_count": 14,
   "metadata": {},
   "outputs": [],
   "source": [
    "# criação do suavizador para tratar a probabilidade + aquelas palavras que não tiverem no banco de dados\n",
    "def Laplace(palavra, target, frequencia_absoluta, palavras_sem_repeticao):\n",
    "    freq_total = 1\n",
    "    resultado = 0\n",
    "    \n",
    "    if palavra in frequencia_absoluta:\n",
    "        freq_abs = frequencia_absoluta[palavra]\n",
    "    else:\n",
    "        freq_abs = 0\n",
    "    \n",
    "    if target == 'Conteúdo':\n",
    "        laplace = (freq_abs + freq_total) / (len(str_conteudo) + freq_total * len(palavras_sem_repeticoes))\n",
    "        \n",
    "    elif target == 'Outros':\n",
    "        laplace = (freq_abs + freq_total) / (len(str_outros) + freq_total * len(palavras_sem_repeticoes))\n",
    "        \n",
    "    elif target == 'Produto':\n",
    "        laplace = (freq_abs + freq_total) / (len(str_produto) + freq_total * len(palavras_sem_repeticoes))\n",
    "\n",
    "        \n",
    "    return laplace\n",
    "\n",
    "def Condicional(target, feedback):\n",
    "    \n",
    "    if target == 'Conteúdo':\n",
    "        prob_feedback_dado_conteudo = 1\n",
    "        \n",
    "        for palavra in feedback.split():\n",
    "            prob_feedback_dado_conteudo *= Laplace(palavra, target, df_conteudo_ap, palavras_sem_repeticoes)\n",
    "            \n",
    "        prob_conteudo_dado_feedback = prob_conteudo * prob_feedback_dado_conteudo\n",
    "        return prob_conteudo_dado_feedback\n",
    "    \n",
    "    elif target == 'Outros':\n",
    "        prob_feedback_dado_outros = 1\n",
    "        \n",
    "        for palavra in feedback.split():\n",
    "            prob_feedback_dado_outros *= Laplace(palavra, target, df_outros_ap, palavras_sem_repeticoes)\n",
    "            \n",
    "        prob_outros_dado_feedback = prob_outros * prob_feedback_dado_outros\n",
    "        return prob_outros_dado_feedback\n",
    "    \n",
    "    elif target == 'Produto':\n",
    "        prob_feedback_dado_produto = 1\n",
    "        \n",
    "        for palavra in feedback.split():\n",
    "            prob_feedback_dado_produto *= Laplace(palavra, target, df_produto_ap, palavras_sem_repeticoes)\n",
    "            \n",
    "        prob_produto_dado_feedback = prob_produto * prob_feedback_dado_produto\n",
    "        return prob_produto_dado_feedback\n",
    "    \n",
    "def Classificador(feedback):\n",
    "    if Condicional('Conteúdo', feedback) == max([Condicional('Conteúdo', feedback), Condicional('Outros', feedback), Condicional('Produto', feedback)]):\n",
    "        return 'Conteúdo'\n",
    "    \n",
    "    elif Condicional('Outros', feedback) == max([Condicional('Conteúdo', feedback), Condicional('Outros', feedback), Condicional('Produto', feedback)]):\n",
    "        return 'Outros'\n",
    "    \n",
    "    elif Condicional('Produto', feedback) == max([Condicional('Conteúdo', feedback), Condicional('Outros', feedback), Condicional('Produto', feedback)]):\n",
    "        return 'Produto'"
   ]
  },
  {
   "cell_type": "markdown",
   "metadata": {},
   "source": [
    "## Aplicando a análise na base de dados \"Train\"\n"
   ]
  },
  {
   "cell_type": "code",
   "execution_count": 15,
   "metadata": {},
   "outputs": [],
   "source": [
    "#Fazendo o uso da última função criada, aplica-se a classificação das mensagens e guarda-as em uma nova coluna 'Robot'\n",
    "train['Robot'] = train['Mensagem'].apply(Classificador)"
   ]
  },
  {
   "cell_type": "code",
   "execution_count": 16,
   "metadata": {},
   "outputs": [
    {
     "data": {
      "text/html": [
       "<div>\n",
       "<style scoped>\n",
       "    .dataframe tbody tr th:only-of-type {\n",
       "        vertical-align: middle;\n",
       "    }\n",
       "\n",
       "    .dataframe tbody tr th {\n",
       "        vertical-align: top;\n",
       "    }\n",
       "\n",
       "    .dataframe thead th {\n",
       "        text-align: right;\n",
       "    }\n",
       "</style>\n",
       "<table border=\"1\" class=\"dataframe\">\n",
       "  <thead>\n",
       "    <tr style=\"text-align: right;\">\n",
       "      <th></th>\n",
       "      <th>Mensagem</th>\n",
       "      <th>Target</th>\n",
       "      <th>Robot</th>\n",
       "    </tr>\n",
       "  </thead>\n",
       "  <tbody>\n",
       "    <tr>\n",
       "      <th>0</th>\n",
       "      <td>pelo menos no livro 1  a guerra dos tronos a t...</td>\n",
       "      <td>Conteúdo</td>\n",
       "      <td>Conteúdo</td>\n",
       "    </tr>\n",
       "    <tr>\n",
       "      <th>1</th>\n",
       "      <td>nao gostei o livro o tempo todo traz narrativa...</td>\n",
       "      <td>Conteúdo</td>\n",
       "      <td>Conteúdo</td>\n",
       "    </tr>\n",
       "    <tr>\n",
       "      <th>2</th>\n",
       "      <td>ok tem partes picantes legais mas grande parte...</td>\n",
       "      <td>Conteúdo</td>\n",
       "      <td>Conteúdo</td>\n",
       "    </tr>\n",
       "    <tr>\n",
       "      <th>3</th>\n",
       "      <td>a estoria de amor entre duas pessoas psicologi...</td>\n",
       "      <td>Conteúdo</td>\n",
       "      <td>Conteúdo</td>\n",
       "    </tr>\n",
       "    <tr>\n",
       "      <th>4</th>\n",
       "      <td>pessimo livro ao mesmo tempo que tenta vanglor...</td>\n",
       "      <td>Conteúdo</td>\n",
       "      <td>Conteúdo</td>\n",
       "    </tr>\n",
       "    <tr>\n",
       "      <th>...</th>\n",
       "      <td>...</td>\n",
       "      <td>...</td>\n",
       "      <td>...</td>\n",
       "    </tr>\n",
       "    <tr>\n",
       "      <th>495</th>\n",
       "      <td>claro que as estrelas nao sao par a obra mas p...</td>\n",
       "      <td>Outros</td>\n",
       "      <td>Outros</td>\n",
       "    </tr>\n",
       "    <tr>\n",
       "      <th>496</th>\n",
       "      <td>tenho muitos livros sobre a segunda guerra mun...</td>\n",
       "      <td>Conteúdo</td>\n",
       "      <td>Conteúdo</td>\n",
       "    </tr>\n",
       "    <tr>\n",
       "      <th>497</th>\n",
       "      <td>na epoca que estourou eu paguei 105 na edicao ...</td>\n",
       "      <td>Conteúdo</td>\n",
       "      <td>Conteúdo</td>\n",
       "    </tr>\n",
       "    <tr>\n",
       "      <th>498</th>\n",
       "      <td>livro apenas comenta sobre o que e leitura rap...</td>\n",
       "      <td>Outros</td>\n",
       "      <td>Outros</td>\n",
       "    </tr>\n",
       "    <tr>\n",
       "      <th>499</th>\n",
       "      <td>pessimo dificil uma biografia tao ruim como es...</td>\n",
       "      <td>Produto</td>\n",
       "      <td>Conteúdo</td>\n",
       "    </tr>\n",
       "  </tbody>\n",
       "</table>\n",
       "<p>500 rows × 3 columns</p>\n",
       "</div>"
      ],
      "text/plain": [
       "                                              Mensagem    Target     Robot\n",
       "0    pelo menos no livro 1  a guerra dos tronos a t...  Conteúdo  Conteúdo\n",
       "1    nao gostei o livro o tempo todo traz narrativa...  Conteúdo  Conteúdo\n",
       "2    ok tem partes picantes legais mas grande parte...  Conteúdo  Conteúdo\n",
       "3    a estoria de amor entre duas pessoas psicologi...  Conteúdo  Conteúdo\n",
       "4    pessimo livro ao mesmo tempo que tenta vanglor...  Conteúdo  Conteúdo\n",
       "..                                                 ...       ...       ...\n",
       "495  claro que as estrelas nao sao par a obra mas p...    Outros    Outros\n",
       "496  tenho muitos livros sobre a segunda guerra mun...  Conteúdo  Conteúdo\n",
       "497  na epoca que estourou eu paguei 105 na edicao ...  Conteúdo  Conteúdo\n",
       "498  livro apenas comenta sobre o que e leitura rap...    Outros    Outros\n",
       "499  pessimo dificil uma biografia tao ruim como es...   Produto  Conteúdo\n",
       "\n",
       "[500 rows x 3 columns]"
      ]
     },
     "execution_count": 16,
     "metadata": {},
     "output_type": "execute_result"
    }
   ],
   "source": [
    "train"
   ]
  },
  {
   "cell_type": "markdown",
   "metadata": {},
   "source": [
    "___\n",
    "## Verificando a performance do Classificador\n",
    "\n",
    "Agora você deve testar o seu classificador com a base de Testes."
   ]
  },
  {
   "cell_type": "markdown",
   "metadata": {},
   "source": [
    "### Verificando inicialmente com \"crosstab\""
   ]
  },
  {
   "cell_type": "code",
   "execution_count": 17,
   "metadata": {},
   "outputs": [
    {
     "data": {
      "text/html": [
       "<div>\n",
       "<style scoped>\n",
       "    .dataframe tbody tr th:only-of-type {\n",
       "        vertical-align: middle;\n",
       "    }\n",
       "\n",
       "    .dataframe tbody tr th {\n",
       "        vertical-align: top;\n",
       "    }\n",
       "\n",
       "    .dataframe thead th {\n",
       "        text-align: right;\n",
       "    }\n",
       "</style>\n",
       "<table border=\"1\" class=\"dataframe\">\n",
       "  <thead>\n",
       "    <tr style=\"text-align: right;\">\n",
       "      <th>Target</th>\n",
       "      <th>Conteúdo</th>\n",
       "      <th>Outros</th>\n",
       "      <th>Produto</th>\n",
       "    </tr>\n",
       "    <tr>\n",
       "      <th>Robot</th>\n",
       "      <th></th>\n",
       "      <th></th>\n",
       "      <th></th>\n",
       "    </tr>\n",
       "  </thead>\n",
       "  <tbody>\n",
       "    <tr>\n",
       "      <th>Conteúdo</th>\n",
       "      <td>74.509804</td>\n",
       "      <td>14.845938</td>\n",
       "      <td>10.644258</td>\n",
       "    </tr>\n",
       "    <tr>\n",
       "      <th>Outros</th>\n",
       "      <td>2.439024</td>\n",
       "      <td>91.056911</td>\n",
       "      <td>6.504065</td>\n",
       "    </tr>\n",
       "    <tr>\n",
       "      <th>Produto</th>\n",
       "      <td>0.000000</td>\n",
       "      <td>0.000000</td>\n",
       "      <td>100.000000</td>\n",
       "    </tr>\n",
       "    <tr>\n",
       "      <th>All</th>\n",
       "      <td>53.800000</td>\n",
       "      <td>33.000000</td>\n",
       "      <td>13.200000</td>\n",
       "    </tr>\n",
       "  </tbody>\n",
       "</table>\n",
       "</div>"
      ],
      "text/plain": [
       "Target     Conteúdo     Outros     Produto\n",
       "Robot                                     \n",
       "Conteúdo  74.509804  14.845938   10.644258\n",
       "Outros     2.439024  91.056911    6.504065\n",
       "Produto    0.000000   0.000000  100.000000\n",
       "All       53.800000  33.000000   13.200000"
      ]
     },
     "execution_count": 17,
     "metadata": {},
     "output_type": "execute_result"
    }
   ],
   "source": [
    "#tabela = pd.crosstab(df_teste['Target'], df_teste['Robot'])\n",
    "tabela = pd.crosstab(train['Robot'], train['Target'], normalize='index', margins=True)\n",
    "tabela = tabela*100\n",
    "tabela"
   ]
  },
  {
   "cell_type": "markdown",
   "metadata": {},
   "source": [
    "### Encontrando percentuais de Falsos Targets e Verdadeiros Targets"
   ]
  },
  {
   "cell_type": "code",
   "execution_count": 18,
   "metadata": {},
   "outputs": [
    {
     "name": "stdout",
     "output_type": "stream",
     "text": [
      "Verdadeiros \"Conteúdo\": 74.51%  | Falsos \"Conteúdo\": 25.49%\n",
      "Verdadeiros \"Produto\": 100.00%  | Falsos \"Produto\": 0.00%\n",
      "Verdadeiros \"Outros\": 91.06%    | Falsos \"Outros\": 8.94%\n"
     ]
    }
   ],
   "source": [
    "percent_verdadeiros_cont = len(train.loc[(train['Robot'] == 'Conteúdo') & (train['Target'] == 'Conteúdo')]) / len(train.loc[(train['Robot'] == 'Conteúdo')])\n",
    "percent_falsos_cont = len(train.loc[(train['Robot'] == 'Conteúdo') & (train['Target'] != 'Conteúdo')]) / len(train.loc[(train['Robot'] == 'Conteúdo')])\n",
    "\n",
    "percent_verdadeiros_prod = len(train.loc[(train['Robot'] == 'Produto') & (train['Target'] == 'Produto')]) / len(train.loc[(train['Robot'] == 'Produto')])\n",
    "percent_falsos_prod = len(train.loc[(train['Robot'] == 'Produto') & (train['Target'] != 'Produto')]) / len(train.loc[(train['Robot'] == 'Produto')])\n",
    "\n",
    "percent_verdadeiros_outros = len(train.loc[(train['Robot'] == 'Outros') & (train['Target'] == 'Outros')]) / len(train.loc[(train['Robot'] == 'Outros')])\n",
    "percent_falsos_outros = len(train.loc[(train['Robot'] == 'Outros') & (train['Target'] != 'Outros')]) / len(train.loc[(train['Robot'] == 'Outros')])\n",
    "\n",
    "print(f'Verdadeiros \"Conteúdo\": {percent_verdadeiros_cont*100:.2f}%  | Falsos \"Conteúdo\": {percent_falsos_cont*100:.2f}%')\n",
    "print(f'Verdadeiros \"Produto\": {percent_verdadeiros_prod*100:.2f}%  | Falsos \"Produto\": {percent_falsos_prod*100:.2f}%')\n",
    "print(f'Verdadeiros \"Outros\": {percent_verdadeiros_outros*100:.2f}%    | Falsos \"Outros\": {percent_falsos_outros*100:.2f}%')"
   ]
  },
  {
   "cell_type": "markdown",
   "metadata": {},
   "source": [
    "### Encontrando a acurácia do robô criado para a base de dados \"Train\""
   ]
  },
  {
   "cell_type": "code",
   "execution_count": 19,
   "metadata": {},
   "outputs": [],
   "source": [
    "df_acuracia = train.copy()"
   ]
  },
  {
   "cell_type": "code",
   "execution_count": 20,
   "metadata": {},
   "outputs": [
    {
     "name": "stdout",
     "output_type": "stream",
     "text": [
      "Acurácia do robô: 398.0 mensagens classficadas correntamente, equivalente a 79.60% das mensagens\n"
     ]
    }
   ],
   "source": [
    "df_acuracia.loc[df_acuracia['Target'] == df_acuracia['Robot'], 'Acuracia'] = 1\n",
    "df_acuracia['Acuracia_sum'] = df_acuracia['Acuracia'].sum()\n",
    "\n",
    "acuracia = (df_acuracia['Acuracia_sum']).values[-1]\n",
    "acuracia_percent = (acuracia / len(df_acuracia)) * 100\n",
    "\n",
    "print(f'Acurácia do robô: {acuracia} mensagens classficadas correntamente, equivalente a {acuracia_percent:.2f}% das mensagens')"
   ]
  },
  {
   "cell_type": "markdown",
   "metadata": {},
   "source": [
    "# Repetindo o processo para base de dados \"Test\""
   ]
  },
  {
   "cell_type": "code",
   "execution_count": 21,
   "metadata": {},
   "outputs": [],
   "source": [
    "test['Robot'] = test['Mensagem'].apply(Classificador)"
   ]
  },
  {
   "cell_type": "code",
   "execution_count": 22,
   "metadata": {},
   "outputs": [
    {
     "data": {
      "text/html": [
       "<div>\n",
       "<style scoped>\n",
       "    .dataframe tbody tr th:only-of-type {\n",
       "        vertical-align: middle;\n",
       "    }\n",
       "\n",
       "    .dataframe tbody tr th {\n",
       "        vertical-align: top;\n",
       "    }\n",
       "\n",
       "    .dataframe thead th {\n",
       "        text-align: right;\n",
       "    }\n",
       "</style>\n",
       "<table border=\"1\" class=\"dataframe\">\n",
       "  <thead>\n",
       "    <tr style=\"text-align: right;\">\n",
       "      <th></th>\n",
       "      <th>Mensagem</th>\n",
       "      <th>Target</th>\n",
       "      <th>Robot</th>\n",
       "    </tr>\n",
       "  </thead>\n",
       "  <tbody>\n",
       "    <tr>\n",
       "      <th>0</th>\n",
       "      <td>Um livro sensacional. Tenho aplicado o conceit...</td>\n",
       "      <td>Outros</td>\n",
       "      <td>Produto</td>\n",
       "    </tr>\n",
       "    <tr>\n",
       "      <th>1</th>\n",
       "      <td>A edição traz uma introdução que é puro spoile...</td>\n",
       "      <td>Conteúdo</td>\n",
       "      <td>Produto</td>\n",
       "    </tr>\n",
       "    <tr>\n",
       "      <th>2</th>\n",
       "      <td>É tão ruim quanto o canal dele.</td>\n",
       "      <td>Outros</td>\n",
       "      <td>Outros</td>\n",
       "    </tr>\n",
       "    <tr>\n",
       "      <th>3</th>\n",
       "      <td>É um livro baseado no fator motivacional e em ...</td>\n",
       "      <td>Conteúdo</td>\n",
       "      <td>Conteúdo</td>\n",
       "    </tr>\n",
       "    <tr>\n",
       "      <th>4</th>\n",
       "      <td>Olar, Frequentemente tendo sua marca, merecida...</td>\n",
       "      <td>Outros</td>\n",
       "      <td>Conteúdo</td>\n",
       "    </tr>\n",
       "    <tr>\n",
       "      <th>...</th>\n",
       "      <td>...</td>\n",
       "      <td>...</td>\n",
       "      <td>...</td>\n",
       "    </tr>\n",
       "    <tr>\n",
       "      <th>245</th>\n",
       "      <td>Muito fraco e passional. Visão distorcida de d...</td>\n",
       "      <td>Outros</td>\n",
       "      <td>Produto</td>\n",
       "    </tr>\n",
       "    <tr>\n",
       "      <th>246</th>\n",
       "      <td>Nas primeiras páginas já temos o propósito do ...</td>\n",
       "      <td>Conteúdo</td>\n",
       "      <td>Produto</td>\n",
       "    </tr>\n",
       "    <tr>\n",
       "      <th>247</th>\n",
       "      <td>Achei um livro muito superficial e enfadonho. ...</td>\n",
       "      <td>Outros</td>\n",
       "      <td>Conteúdo</td>\n",
       "    </tr>\n",
       "    <tr>\n",
       "      <th>248</th>\n",
       "      <td>A menos que queira uma versão POCKET, não comp...</td>\n",
       "      <td>Outros</td>\n",
       "      <td>Produto</td>\n",
       "    </tr>\n",
       "    <tr>\n",
       "      <th>249</th>\n",
       "      <td>A edição é maravilhosa, o preço bom, contudo, ...</td>\n",
       "      <td>Outros</td>\n",
       "      <td>Produto</td>\n",
       "    </tr>\n",
       "  </tbody>\n",
       "</table>\n",
       "<p>250 rows × 3 columns</p>\n",
       "</div>"
      ],
      "text/plain": [
       "                                              Mensagem    Target     Robot\n",
       "0    Um livro sensacional. Tenho aplicado o conceit...    Outros   Produto\n",
       "1    A edição traz uma introdução que é puro spoile...  Conteúdo   Produto\n",
       "2                      É tão ruim quanto o canal dele.    Outros    Outros\n",
       "3    É um livro baseado no fator motivacional e em ...  Conteúdo  Conteúdo\n",
       "4    Olar, Frequentemente tendo sua marca, merecida...    Outros  Conteúdo\n",
       "..                                                 ...       ...       ...\n",
       "245  Muito fraco e passional. Visão distorcida de d...    Outros   Produto\n",
       "246  Nas primeiras páginas já temos o propósito do ...  Conteúdo   Produto\n",
       "247  Achei um livro muito superficial e enfadonho. ...    Outros  Conteúdo\n",
       "248  A menos que queira uma versão POCKET, não comp...    Outros   Produto\n",
       "249  A edição é maravilhosa, o preço bom, contudo, ...    Outros   Produto\n",
       "\n",
       "[250 rows x 3 columns]"
      ]
     },
     "execution_count": 22,
     "metadata": {},
     "output_type": "execute_result"
    }
   ],
   "source": [
    "test"
   ]
  },
  {
   "cell_type": "markdown",
   "metadata": {},
   "source": [
    "### Verificando a performance com \"crosstab\""
   ]
  },
  {
   "cell_type": "code",
   "execution_count": 23,
   "metadata": {},
   "outputs": [
    {
     "data": {
      "text/html": [
       "<div>\n",
       "<style scoped>\n",
       "    .dataframe tbody tr th:only-of-type {\n",
       "        vertical-align: middle;\n",
       "    }\n",
       "\n",
       "    .dataframe tbody tr th {\n",
       "        vertical-align: top;\n",
       "    }\n",
       "\n",
       "    .dataframe thead th {\n",
       "        text-align: right;\n",
       "    }\n",
       "</style>\n",
       "<table border=\"1\" class=\"dataframe\">\n",
       "  <thead>\n",
       "    <tr style=\"text-align: right;\">\n",
       "      <th>Target</th>\n",
       "      <th>Conteúdo</th>\n",
       "      <th>Outros</th>\n",
       "      <th>Produto</th>\n",
       "    </tr>\n",
       "    <tr>\n",
       "      <th>Robot</th>\n",
       "      <th></th>\n",
       "      <th></th>\n",
       "      <th></th>\n",
       "    </tr>\n",
       "  </thead>\n",
       "  <tbody>\n",
       "    <tr>\n",
       "      <th>Conteúdo</th>\n",
       "      <td>65.625000</td>\n",
       "      <td>26.562500</td>\n",
       "      <td>7.812500</td>\n",
       "    </tr>\n",
       "    <tr>\n",
       "      <th>Outros</th>\n",
       "      <td>36.666667</td>\n",
       "      <td>45.000000</td>\n",
       "      <td>18.333333</td>\n",
       "    </tr>\n",
       "    <tr>\n",
       "      <th>Produto</th>\n",
       "      <td>41.935484</td>\n",
       "      <td>33.870968</td>\n",
       "      <td>24.193548</td>\n",
       "    </tr>\n",
       "    <tr>\n",
       "      <th>All</th>\n",
       "      <td>52.800000</td>\n",
       "      <td>32.800000</td>\n",
       "      <td>14.400000</td>\n",
       "    </tr>\n",
       "  </tbody>\n",
       "</table>\n",
       "</div>"
      ],
      "text/plain": [
       "Target     Conteúdo     Outros    Produto\n",
       "Robot                                    \n",
       "Conteúdo  65.625000  26.562500   7.812500\n",
       "Outros    36.666667  45.000000  18.333333\n",
       "Produto   41.935484  33.870968  24.193548\n",
       "All       52.800000  32.800000  14.400000"
      ]
     },
     "execution_count": 23,
     "metadata": {},
     "output_type": "execute_result"
    }
   ],
   "source": [
    "tabela = pd.crosstab(test['Robot'], test['Target'], normalize='index', margins=True)\n",
    "tabela = tabela*100\n",
    "tabela"
   ]
  },
  {
   "cell_type": "markdown",
   "metadata": {},
   "source": [
    "### Encontrando percentuais de Falsos Targets e Verdadeiros Targets"
   ]
  },
  {
   "cell_type": "code",
   "execution_count": 24,
   "metadata": {},
   "outputs": [
    {
     "name": "stdout",
     "output_type": "stream",
     "text": [
      "Verdadeiros \"Conteúdo\": 65.62%  | Falsos \"Conteúdo\": 34.38%\n",
      "Verdadeiros \"Produto\": 24.19%   | Falsos \"Produto\": 75.81%\n",
      "Verdadeiros \"Outros\": 45.00%    | Falsos \"Outros\": 55.00%\n"
     ]
    }
   ],
   "source": [
    "percent_verdadeiros_cont = len(test.loc[(test['Robot'] == 'Conteúdo') & (test['Target'] == 'Conteúdo')]) / len(test.loc[(test['Robot'] == 'Conteúdo')])\n",
    "percent_falsos_cont = len(test.loc[(test['Robot'] == 'Conteúdo') & (test['Target'] != 'Conteúdo')]) / len(test.loc[(test['Robot'] == 'Conteúdo')])\n",
    "\n",
    "percent_verdadeiros_prod = len(test.loc[(test['Robot'] == 'Produto') & (test['Target'] == 'Produto')]) / len(test.loc[(test['Robot'] == 'Produto')])\n",
    "percent_falsos_prod = len(test.loc[(test['Robot'] == 'Produto') & (test['Target'] != 'Produto')]) / len(test.loc[(test['Robot'] == 'Produto')])\n",
    "\n",
    "percent_verdadeiros_outros = len(test.loc[(test['Robot'] == 'Outros') & (test['Target'] == 'Outros')]) / len(test.loc[(test['Robot'] == 'Outros')])\n",
    "percent_falsos_outros = len(test.loc[(test['Robot'] == 'Outros') & (test['Target'] != 'Outros')]) / len(test.loc[(test['Robot'] == 'Outros')])\n",
    "\n",
    "print(f'Verdadeiros \"Conteúdo\": {percent_verdadeiros_cont*100:.2f}%  | Falsos \"Conteúdo\": {percent_falsos_cont*100:.2f}%')\n",
    "print(f'Verdadeiros \"Produto\": {percent_verdadeiros_prod*100:.2f}%   | Falsos \"Produto\": {percent_falsos_prod*100:.2f}%')\n",
    "print(f'Verdadeiros \"Outros\": {percent_verdadeiros_outros*100:.2f}%    | Falsos \"Outros\": {percent_falsos_outros*100:.2f}%')"
   ]
  },
  {
   "cell_type": "code",
   "execution_count": 25,
   "metadata": {},
   "outputs": [],
   "source": [
    "df_acuracia = test.copy()"
   ]
  },
  {
   "cell_type": "code",
   "execution_count": 26,
   "metadata": {},
   "outputs": [
    {
     "name": "stdout",
     "output_type": "stream",
     "text": [
      "Acurácia do robô: 126.0 mensagens classificadas corretamente, equivalente a 50.40% das mensagens\n"
     ]
    }
   ],
   "source": [
    "df_acuracia.loc[df_acuracia['Target'] == df_acuracia['Robot'], 'Acuracia'] = 1\n",
    "df_acuracia['Acuracia_sum'] = df_acuracia['Acuracia'].sum()\n",
    "\n",
    "acuracia = (df_acuracia['Acuracia_sum']).values[-1]\n",
    "acuracia_percent = (acuracia / len(df_acuracia)) * 100\n",
    "\n",
    "print(f'Acurácia do robô: {acuracia} mensagens classificadas corretamente, equivalente a {acuracia_percent:.2f}% das mensagens')"
   ]
  },
  {
   "cell_type": "markdown",
   "metadata": {},
   "source": [
    "## Conclusão\n",
    "\n",
    "O classificador criado aqui que tinha como objetivo classificar reviews de livros obteve uma acurácia de 50.40%. A porcentagem de classificações verdadeiras para a categoria \"Conteúdo\" foi de 65.62%, para a categoria \"Produto\" 24.19% e para \"Outros\" 45.00%. De forma complementar a esses valores, as porcentagens de classficações falsas para \"Conteúdo\", \"Produto\" e \"Outros\" foram respectivamente 34.38%, 75.81%, 55.00%. \n",
    "\n",
    "### Comparativo qualitativo sobre os percentuais obtidos\n",
    "Na base de dados de treinamento do classificador, a acurácia foi significativamente mais alta (79.60%) em comparação com a base de dados de teste (50.40%). Fato que já era esperado, isso aconteceu porque o classificador foi treinado na primeira base de dados, portanto tinha menos ruídos e palavras \"desconhecidas\" em comparação com a base de dados teste.<br>\n",
    "Na primeira base de dados, o classificador apresentou taxas muito boas de verdadeiros positivos para todas as categorias.\n",
    "Já na segunda base de dados, embora a taxa de verdadeiros positivos para a categoria \"Conteúdo\" (65.62%) tenha sido próxima da taxa encontrada na base de dados treino (74.51%), as taxas para as categorias \"Produto\" (24.19%) e \"Outros\" (45.00%) foram consideravelmente mais baixas, indicando uma capacidade limitada de identificar com precisão essas categorias.<br>\n",
    "Para os falsos positivos, as taxas apresentadas para as categorias \"Produto\" (75.81%) e \"Outros\" (55.00%) no dataframe teste indica que o classificador apresenta mais dificuldade em classificar mensagens nessas categorias."
   ]
  },
  {
   "cell_type": "markdown",
   "metadata": {},
   "source": [
    "### Demonstração se tratando de sarcasmo\n",
    "A simplicidade do algoritmo Naive Bayes reside em sua análise de palavras de forma independente, justamente por isso leva o nome \"Naive\" como mencionado acima, desconsiderando, assim, o contexto das frases. Nesse sentido, o classificador é incapaz de tratar esse tipo de contexto já que depende da combinação de duas ou mais palavras, do contexto em que está inserida e portanto vai além da análise estritamente sintática. "
   ]
  },
  {
   "cell_type": "code",
   "execution_count": 27,
   "metadata": {},
   "outputs": [
    {
     "name": "stdout",
     "output_type": "stream",
     "text": [
      "Classificação do Robô: Conteúdo\n"
     ]
    }
   ],
   "source": [
    "string = 'oh claro porque esperar que as coisas acontecam por si mesmas sempre deu tao certo'\n",
    "\n",
    "classificacao_robot = Classificador(string)\n",
    "\n",
    "print(f'Classificação do Robô: {classificacao_robot}')"
   ]
  },
  {
   "cell_type": "markdown",
   "metadata": {},
   "source": [
    "### Demonstração se tratando de dupla negação\n",
    "Da mesma forma como ocorre na demonstração de sarcasmo, pelas características do classficador Naive-Bayes, o algoritmo é incapaz de interpretar uma dupla negação com um significado positivo."
   ]
  },
  {
   "cell_type": "code",
   "execution_count": 28,
   "metadata": {},
   "outputs": [
    {
     "name": "stdout",
     "output_type": "stream",
     "text": [
      "Classificação do Robô: Conteúdo\n"
     ]
    }
   ],
   "source": [
    "string = 'o autor nao esta nao escrevendo diversos assuntos iguais'\n",
    "\n",
    "classificacao_robot = Classificador(string)\n",
    "\n",
    "print(f'Classificação do Robô: {classificacao_robot}')"
   ]
  },
  {
   "cell_type": "markdown",
   "metadata": {},
   "source": [
    "### Diferentes cenários de uso para o classificador Naive-Bayes\n",
    "O classficador Naive-Bayes pode ser usado em diversos setores e atividades diferentes. Algumas possíveis situações em que o classificador seria útil:\n",
    "- Classificação de notícias, o Naive Bayes pode ser usado para categorizar notícias em diferentes seções, como política, esportes, entretenimento, entre outras.\n",
    "- Classificação de capítulos de livros, o algoritmo pode analisar as palavras do título de cada capítulo de um livro didático e classifica-los por assunto.\n",
    "- Remoção de mensagens com linguagem ofensiva, poderia ser aplicado em redes sociais e fóruns para identificar posts e mensagens que contenham linguagem ofensiva ou discurso de ódio."
   ]
  },
  {
   "cell_type": "markdown",
   "metadata": {},
   "source": [
    "### Possíveis melhorias no classificador\n",
    "\n",
    "# TERMINAR \n"
   ]
  },
  {
   "cell_type": "markdown",
   "metadata": {},
   "source": [
    "\n",
    "### Qualidade do Classificador a partir de novas separações dos tweets entre Treinamento e Teste\n",
    "\n",
    "Caso for fazer esse item do Projeto"
   ]
  },
  {
   "cell_type": "code",
   "execution_count": 29,
   "metadata": {},
   "outputs": [],
   "source": [
    "df_treino = train\n",
    "df_teste = test\n",
    "for index, row in df_treino.iterrows():\n",
    "    lista_feedback = (row['Mensagem'].split())\n",
    "    \n",
    "    for palavra in lista_feedback:\n",
    "        if palavra in lista_index_out:\n",
    "            lista_feedback.remove(palavra)\n",
    "    \n",
    "    feedback = \" \".join(lista_feedback)\n",
    "    \n",
    "    row['Mensagem'] = feedback\n",
    "\n",
    "for index, row in df_teste.iterrows():\n",
    "    lista_feedback2 = (row['Mensagem'].split())\n",
    "    \n",
    "    for palavra2 in lista_feedback2:\n",
    "        if palavra2 in lista_index_out:\n",
    "            lista_feedback2.remove(palavra2)\n",
    "    \n",
    "    feedback2 = \" \".join(lista_feedback2)\n",
    "    \n",
    "    row['Mensagem'] = feedback2\n",
    "\n"
   ]
  },
  {
   "cell_type": "code",
   "execution_count": 30,
   "metadata": {},
   "outputs": [],
   "source": [
    "df_total = pd.concat([df_teste, df_treino], ignore_index=True)\n",
    "\n",
    "repeticoes = 100\n",
    "new_data_accurency = []\n",
    "\n",
    "verdadeiro_conteudo = []\n",
    "falso_conteudo = []\n",
    "\n",
    "verdadeiro_produto = []\n",
    "falso_produto = []\n",
    "\n",
    "verdadeiro_outros = []\n",
    "falso_outros = []\n",
    "\n",
    "\n",
    "for i in range(repeticoes):\n",
    "    # Embaralhando as linhas do DataFrame\n",
    "    df_embaralhado = df_total.sample(frac=1).reset_index(drop=True)\n",
    "    \n",
    "    # Divida o DataFrame em duas partes: 500 e 250 linhas\n",
    "    parte1 = df_embaralhado[:500].copy()\n",
    "    parte2 = df_embaralhado[500:750].copy()\n",
    "    \n",
    "    conteudo = parte1.loc[train['Target'] == 'Conteúdo']\n",
    "    conteudo_freq_abs = conteudo.value_counts()\n",
    "    produto = parte1.loc[parte1['Target'] == 'Produto']\n",
    "    produto_freq_abs = produto.value_counts()\n",
    "    outros = parte1.loc[parte1['Target'] == 'Outros']\n",
    "    outros_freq_abs = outros.value_counts()\n",
    "    str_conteudo = super_lista(conteudo)\n",
    "    str_produto = super_lista(produto)\n",
    "    str_outros = super_lista(outros)\n",
    "    palavras_juntas = str_conteudo + str_produto + str_outros\n",
    "    serie_palavras_juntas = pd.Series(palavras_juntas)\n",
    "    palavras_juntas_rel_frame = serie_palavras_juntas.value_counts(normalize=True)\n",
    "    palavras_juntas_frame = serie_palavras_juntas.value_counts()\n",
    "    \n",
    "    palavras_sem_repeticoes = list(set(palavras_juntas))\n",
    "    \n",
    "    serie_conteudo = pd.Series(str_conteudo)\n",
    "    serie_outros = pd.Series(str_outros)\n",
    "    serie_produto = pd.Series(str_produto)\n",
    "\n",
    "    # frequencia relativa por Target\n",
    "    df_conteudo_rel = serie_conteudo.value_counts(normalize=True)\n",
    "    df_outros_rel = serie_outros.value_counts(normalize=True)\n",
    "    df_produto_rel = serie_produto.value_counts(normalize=True)\n",
    "\n",
    "    # frequencia por \"aparições\"\n",
    "    df_conteudo_ap = serie_conteudo.value_counts()\n",
    "    df_outros_ap = serie_outros.value_counts()\n",
    "    df_produto_ap = serie_produto.value_counts()\n",
    "    \n",
    "    prob_conteudo = len(serie_conteudo) / len(serie_palavras_juntas)\n",
    "    prob_outros = len(serie_outros)   / len(serie_palavras_juntas)\n",
    "    prob_produto = len(serie_produto) / len(serie_palavras_juntas)\n",
    "    \n",
    "    parte2.loc[:, 'Robot'] = parte2['Mensagem'].apply(Classificador)\n",
    "    len_parte2 = len(parte2)\n",
    "    \n",
    "    # acurácia\n",
    "    len_acuracia = len(parte2.loc[parte2['Robot'] == parte2['Target']])\n",
    "    acuracia_percent = (len_acuracia / len_parte2) * 100\n",
    "    new_data_accurency.append(acuracia_percent)\n",
    "    \n",
    "    # conteúdo\n",
    "    len_acerto_conteudo = len(parte2.loc[(parte2['Robot'] == 'Conteúdo') & (parte2['Target'] == 'Conteúdo')])\n",
    "    len_erro_conteudo = len(parte2.loc[(parte2['Robot'] == 'Conteúdo') & (parte2['Target'] != 'Conteúdo')])\n",
    "    len_conteudo = len(parte2.loc[(parte2['Robot'] == 'Conteúdo')])\n",
    "\n",
    "    conteudo_acerto_percent = (len_acerto_conteudo / len_conteudo) * 100\n",
    "    conteudo_erro_percent = (len_erro_conteudo / len_conteudo) * 100\n",
    "    \n",
    "    verdadeiro_conteudo.append(conteudo_acerto_percent)\n",
    "    falso_conteudo.append(conteudo_erro_percent)\n",
    "\n",
    "    \n",
    "    # produto\n",
    "    len_acerto_produto = len(parte2.loc[(parte2['Robot'] == 'Produto') & (parte2['Target'] == 'Produto')])\n",
    "    len_erro_produto = len(parte2.loc[(parte2['Robot'] == 'Produto') & (parte2['Target'] != 'Produto')])\n",
    "    len_produto = len(parte2.loc[(parte2['Robot'] == 'Produto')])\n",
    "\n",
    "    produto_acerto_percent = (len_acerto_produto / len_produto) * 100\n",
    "    produto_erro_percent = (len_erro_produto / len_produto) * 100\n",
    "    \n",
    "    verdadeiro_produto.append(produto_acerto_percent)\n",
    "    falso_produto.append(produto_erro_percent)\n",
    "    \n",
    "    \n",
    "    # outros\n",
    "    len_acerto_outros = len(parte2.loc[(parte2['Robot'] == 'Outros') & (parte2['Target'] == 'Outros')])\n",
    "    len_erro_outros = len(parte2.loc[(parte2['Robot'] == 'Outros') & (parte2['Target'] != 'Outros')])\n",
    "    len_outros = len(parte2.loc[(parte2['Robot'] == 'Outros')])\n",
    "    \n",
    "    outros_acerto_percent = (len_acerto_outros / len_outros) * 100\n",
    "    outros_erro_percent = (len_erro_outros / len_outros) * 100\n",
    "    \n",
    "    verdadeiro_outros.append(outros_acerto_percent)\n",
    "    falso_outros.append(outros_erro_percent)"
   ]
  },
  {
   "cell_type": "markdown",
   "metadata": {},
   "source": [
    "### Construindo Histogramas - Acurácia"
   ]
  },
  {
   "cell_type": "code",
   "execution_count": 39,
   "metadata": {},
   "outputs": [
    {
     "data": {
      "image/png": "[encoded data removed]",
      "text/plain": [
       "<Figure size 800x800 with 1 Axes>"
      ]
     },
     "metadata": {},
     "output_type": "display_data"
    }
   ],
   "source": [
    "plt.figure(figsize=(8, 8))\n",
    "\n",
    "plt.subplot(111)\n",
    "plt.hist(new_data_accurency, bins=25, edgecolor='white', color='black')\n",
    "plt.xlabel('Percentual de acerto do Robô')\n",
    "plt.ylabel('Frequência absoluta de acertos de um determinado percentual')\n",
    "plt.title('Frequência de acertos do Robô para um determinado percentual')\n",
    "plt.show()"
   ]
  },
  {
   "cell_type": "markdown",
   "metadata": {},
   "source": [
    "### Construindo Histogramas - Produto"
   ]
  },
  {
   "cell_type": "code",
   "execution_count": 38,
   "metadata": {},
   "outputs": [
    {
     "data": {
      "image/png": "[encoded data removed]",
      "text/plain": [
       "<Figure size 1500x800 with 2 Axes>"
      ]
     },
     "metadata": {},
     "output_type": "display_data"
    }
   ],
   "source": [
    "plt.figure(figsize=(15, 8))\n",
    "\n",
    "plt.subplot(121)\n",
    "plt.hist(verdadeiro_produto, bins=25, edgecolor='white', color='black')\n",
    "plt.xlabel('Percentual de acerto do Robô para o target \"Produto\"')\n",
    "plt.ylabel('Frequência absoluta de acertos de um determinado percentual')\n",
    "plt.title('Frequência de acertos do Robô para \"Produto\"')\n",
    "\n",
    "plt.subplot(122)\n",
    "plt.hist(falso_produto, bins=25, edgecolor='white', color='black')\n",
    "plt.xlabel('Percentual de erro do Robô para o target \"Produto\"')\n",
    "plt.ylabel('Frequência absoluta de erros de um determinado percentual')\n",
    "plt.title('Frequência de erros do Robô para \"Produto\"')\n",
    "plt.show()"
   ]
  },
  {
   "cell_type": "markdown",
   "metadata": {},
   "source": [
    "___\n",
    "## Aperfeiçoamento:\n",
    "\n",
    "Trabalhos que conseguirem pelo menos conceito B vão evoluir em conceito dependendo da quantidade de itens avançados:\n",
    "\n",
    "* IMPLEMENTOU outras limpezas e transformações que não afetem a qualidade da informação contida nos tweets. Ex: stemming, lemmatization, stopwords\n",
    "* CONSIDEROU mais de duas categorias na variável Target e INCREMENTOU a quantidade de notícias, mantendo pelo menos 250 notícias por categoria (OBRIGATÓRIO PARA TRIOS, sem contar como item avançado)\n",
    "* Para Target com duas categorias: CRIOU pelo menos quatro categorias intermediárias de relevância baseadas na probabilidade: ex.: muito relevante, relevante, neutro, irrelevante, muito irrelevante\n",
    "* EXPLICOU porquê não pode usar o próprio classificador para gerar mais amostras de treinamento\n",
    "* PROPÔS diferentes cenários para Naïve Bayes fora do contexto do projeto (pelo menos dois cenários, exceto aqueles já apresentados em sala pelos professores: por exemplo, filtro de spam)\n",
    "* SUGERIU e EXPLICOU melhorias reais com indicações concretas de como implementar (indicar como fazer e indicar material de pesquisa)\n",
    "* FEZ o item Qualidade do Classificador a partir de novas separações das Notícias entre Treinamento e Teste descrito no enunciado do projeto (OBRIGATÓRIO para conceitos A ou A+)"
   ]
  },
  {
   "cell_type": "markdown",
   "metadata": {},
   "source": [
    "___\n",
    "## Referências"
   ]
  },
  {
   "cell_type": "markdown",
   "metadata": {},
   "source": [
    "[Naive Bayes and Text Classification](https://arxiv.org/pdf/1410.5329.pdf)  **Mais completo**\n",
    "\n",
    "[A practical explanation of a Naive Bayes Classifier](https://monkeylearn.com/blog/practical-explanation-naive-bayes-classifier/) **Mais simples**"
   ]
  },
  {
   "cell_type": "code",
   "execution_count": null,
   "metadata": {},
   "outputs": [],
   "source": []
  },
  {
   "cell_type": "code",
   "execution_count": null,
   "metadata": {},
   "outputs": [],
   "source": []
  }
 ],
 "metadata": {
  "kernelspec": {
   "display_name": "Python 3 (ipykernel)",
   "language": "python",
   "name": "python3"
  },
  "language_info": {
   "codemirror_mode": {
    "name": "ipython",
    "version": 3
   },
   "file_extension": ".py",
   "mimetype": "text/x-python",
   "name": "python",
   "nbconvert_exporter": "python",
   "pygments_lexer": "ipython3",
   "version": "3.9.13"
  },
  "vscode": {
   "interpreter": {
    "hash": "9f42bf53325642b63089e16cd06a69cb97dd86be6a63a88c392fdc3a5fc795ae"
   }
  }
 },
 "nbformat": 4,
 "nbformat_minor": 4
}
