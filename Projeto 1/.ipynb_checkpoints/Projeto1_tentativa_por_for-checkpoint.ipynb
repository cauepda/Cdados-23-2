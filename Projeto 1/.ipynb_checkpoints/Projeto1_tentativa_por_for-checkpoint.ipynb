{
 "cells": [
  {
   "cell_type": "markdown",
   "metadata": {},
   "source": [
    "# Projeto 1 - Ciência dos Dados"
   ]
  },
  {
   "cell_type": "markdown",
   "metadata": {},
   "source": [
    "Nome: __Cauê Pileckas___\n",
    "\n",
    "Nome: __Otávio Bianco___\n",
    "\n",
    "Nome: __Victor Faria___"
   ]
  },
  {
   "cell_type": "markdown",
   "metadata": {},
   "source": [
    "Atenção: Serão permitidos grupos de três pessoas, mas com uma rubrica mais exigente. Grupos deste tamanho precisarão fazer um questionário de avaliação de trabalho em equipe"
   ]
  },
  {
   "cell_type": "markdown",
   "metadata": {},
   "source": [
    "___\n",
    "Carregando algumas bibliotecas:"
   ]
  },
  {
   "cell_type": "code",
   "execution_count": 1,
   "metadata": {},
   "outputs": [],
   "source": [
    "%matplotlib inline\n",
    "import pandas as pd\n",
    "import matplotlib.pyplot as plt\n",
    "import numpy as np\n",
    "import os\n",
    "import re \n",
    "from unidecode import unidecode"
   ]
  },
  {
   "cell_type": "code",
   "execution_count": 2,
   "metadata": {
    "scrolled": false
   },
   "outputs": [
    {
     "name": "stdout",
     "output_type": "stream",
     "text": [
      "Esperamos trabalhar no diretório\n",
      "/Users/cauedagostinho/Documents/Insper/2˚sem/Cdados/Projeto 1\n"
     ]
    }
   ],
   "source": [
    "print('Esperamos trabalhar no diretório')\n",
    "print(os.getcwd())"
   ]
  },
  {
   "cell_type": "markdown",
   "metadata": {},
   "source": [
    "### lista com palavras irrelevantes"
   ]
  },
  {
   "cell_type": "code",
   "execution_count": 3,
   "metadata": {},
   "outputs": [],
   "source": [
    "lista_index_out = [\"a\", \"o\", \"que\", \"do\", \"da\", \"de\", \"em\", \"um\", \"para\", \"e\", \"com\", \"nao\", \"uma\", \"os\", \"no\", \"se\", \"na\", \"por\",\n",
    "    \"mais\", \"as\", \"dos\", \"como\", \"mas\", \"foi\", \"ao\", \"ele\", \"das\", \"tem\", \"à\", \"seu\", \"sua\", \"ou\", \"ser\", \"quando\",\n",
    "    \"muito\", \"ha\", \"nos\", \"ja\", \"esta\", \"eu\", \"também\", \"so\", \"pelo\", \"pela\", \"ate\", \"isso\", \"ela\", \"entre\", \"era\",\n",
    "    \"depois\", \"sem\", \"mesmo\", \"aos\", \"ter\", \"seus\", \"quem\", \"nas\", \"me\", \"esse\", \"eles\", \"estao\", \"voce\", \"tinha\",\n",
    "    \"foram\", \"essa\", \"num\", \"nem\", \"suas\", \"meu\", \"as\", \"minha\", \"numa\", \"pelos\", \"elas\", \"havia\", \"seja\",\n",
    "    \"qual\", \"sera\", \"nos\", \"tenho\", \"lhe\", \"deles\", \"essas\", \"esses\", \"pelas\", \"este\", \"fosse\", \"dele\", \"tu\", \"te\",\n",
    "    \"voces\", \"vos\", \"lhes\", \"meus\", \"minhas\", \"teu\", \"tua\", \"teus\", \"tuas\", \"nosso\", \"nossa\", \"nossos\", \"nossas\",\n",
    "    \"dela\", \"delas\", \"esta\", \"estes\", \"estas\", \"aquele\", \"aquela\", \"aqueles\", \"aquelas\", \"isto\", \"aquilo\", \"estou\",\n",
    "    \"esta\", \"estamos\", \"estao\", \"estive\", \"esteve\", \"estivemos\", \"estiveram\", \"estava\", \"estavamos\", \"estavam\",\n",
    "    \"estivera\", \"estiveramos\", \"esteja\", \"estejamos\", \"estejam\", \"estivesse\", \"estivessemos\", \"estivessem\", \"estiver\",\n",
    "    \"estivermos\", \"estiverem\", \"hei\", \"ha\", \"havemos\", \"hao\", \"houve\", \"houvemos\", \"houveram\", \"houvera\",\n",
    "    \"houveramos\", \"haja\", \"hajamos\", \"hajam\", \"houvesse\", \"houvessemos\", \"houvessem\", \"houver\", \"houvermos\",\n",
    "    \"houverem\", \"houverei\", \"houverá\", \"houveremos\", \"houverão\", \"houveria\", \"houveríamos\", \"houveriam\", \"sou\",\n",
    "    \"somos\", \"sao\", \"era\", \"eramos\", \"eram\", \"fui\", \"foi\", \"fomos\", \"foram\", \"fora\", \"foramos\", \"seja\", \"sejamos\",\n",
    "    \"sejam\", \"fosse\", \"fossemos\", \"fossem\", \"for\", \"formos\", \"forem\", \"serei\", \"sera\", \"seremos\", \"serao\", \"seria\",\n",
    "    \"seriamos\", \"seriam\", \"tenho\", \"temos\", \"tem\", \"tinha\", \"tinhamos\", \"tinham\", \"tive\", \"teve\", \"tivemos\",\n",
    "    \"tiveram\", \"tivera\", \"tiveramos\", \"tenha\", \"tenhamos\", \"tenham\", \"tivesse\", \"tivessemos\", \"tivessem\", \"tiver\",\n",
    "    \"tivermos\", \"tiverem\", \"terei\", \"tera\", \"teremos\", \"terao\", \"teria\", \"teriamos\", \"teriam\"]"
   ]
  },
  {
   "cell_type": "markdown",
   "metadata": {},
   "source": [
    "Carregando a base de dados com os tweets classificados manualmente:"
   ]
  },
  {
   "cell_type": "code",
   "execution_count": 4,
   "metadata": {},
   "outputs": [
    {
     "data": {
      "text/html": [
       "<div>\n",
       "<style scoped>\n",
       "    .dataframe tbody tr th:only-of-type {\n",
       "        vertical-align: middle;\n",
       "    }\n",
       "\n",
       "    .dataframe tbody tr th {\n",
       "        vertical-align: top;\n",
       "    }\n",
       "\n",
       "    .dataframe thead th {\n",
       "        text-align: right;\n",
       "    }\n",
       "</style>\n",
       "<table border=\"1\" class=\"dataframe\">\n",
       "  <thead>\n",
       "    <tr style=\"text-align: right;\">\n",
       "      <th></th>\n",
       "      <th>Mensagem</th>\n",
       "      <th>Target</th>\n",
       "    </tr>\n",
       "  </thead>\n",
       "  <tbody>\n",
       "    <tr>\n",
       "      <th>0</th>\n",
       "      <td>Pelo menos no Livro 1 - A guerra dos tronos, a...</td>\n",
       "      <td>Conteúdo</td>\n",
       "    </tr>\n",
       "    <tr>\n",
       "      <th>1</th>\n",
       "      <td>Não gostei. O livro o tempo todo traz narrativ...</td>\n",
       "      <td>Conteúdo</td>\n",
       "    </tr>\n",
       "    <tr>\n",
       "      <th>2</th>\n",
       "      <td>Ok, tem partes picantes legais, mas grande par...</td>\n",
       "      <td>Conteúdo</td>\n",
       "    </tr>\n",
       "    <tr>\n",
       "      <th>3</th>\n",
       "      <td>A estoria de amor entre duas pessoas psicologi...</td>\n",
       "      <td>Conteúdo</td>\n",
       "    </tr>\n",
       "    <tr>\n",
       "      <th>4</th>\n",
       "      <td>Péssimo livro. Ao mesmo tempo que tenta vanglo...</td>\n",
       "      <td>Conteúdo</td>\n",
       "    </tr>\n",
       "    <tr>\n",
       "      <th>...</th>\n",
       "      <td>...</td>\n",
       "      <td>...</td>\n",
       "    </tr>\n",
       "    <tr>\n",
       "      <th>495</th>\n",
       "      <td>CLARO QUE AS ESTRELAS NÃO SÃO PAR A OBRA, MAS ...</td>\n",
       "      <td>Outros</td>\n",
       "    </tr>\n",
       "    <tr>\n",
       "      <th>496</th>\n",
       "      <td>Tenho muitos livros sobre a Segunda Guerra mun...</td>\n",
       "      <td>Conteúdo</td>\n",
       "    </tr>\n",
       "    <tr>\n",
       "      <th>497</th>\n",
       "      <td>Na época que estourou eu paguei 105 na edição ...</td>\n",
       "      <td>Conteúdo</td>\n",
       "    </tr>\n",
       "    <tr>\n",
       "      <th>498</th>\n",
       "      <td>Livro apenas comenta sobre o que é leitura ráp...</td>\n",
       "      <td>Outros</td>\n",
       "    </tr>\n",
       "    <tr>\n",
       "      <th>499</th>\n",
       "      <td>Péssimo. Difícil uma biografia tão ruim como e...</td>\n",
       "      <td>Produto</td>\n",
       "    </tr>\n",
       "  </tbody>\n",
       "</table>\n",
       "<p>500 rows × 2 columns</p>\n",
       "</div>"
      ],
      "text/plain": [
       "                                              Mensagem    Target\n",
       "0    Pelo menos no Livro 1 - A guerra dos tronos, a...  Conteúdo\n",
       "1    Não gostei. O livro o tempo todo traz narrativ...  Conteúdo\n",
       "2    Ok, tem partes picantes legais, mas grande par...  Conteúdo\n",
       "3    A estoria de amor entre duas pessoas psicologi...  Conteúdo\n",
       "4    Péssimo livro. Ao mesmo tempo que tenta vanglo...  Conteúdo\n",
       "..                                                 ...       ...\n",
       "495  CLARO QUE AS ESTRELAS NÃO SÃO PAR A OBRA, MAS ...    Outros\n",
       "496  Tenho muitos livros sobre a Segunda Guerra mun...  Conteúdo\n",
       "497  Na época que estourou eu paguei 105 na edição ...  Conteúdo\n",
       "498  Livro apenas comenta sobre o que é leitura ráp...    Outros\n",
       "499  Péssimo. Difícil uma biografia tão ruim como e...   Produto\n",
       "\n",
       "[500 rows x 2 columns]"
      ]
     },
     "execution_count": 4,
     "metadata": {},
     "output_type": "execute_result"
    }
   ],
   "source": [
    "train = pd.read_excel('data/dados_treino.xlsx')\n",
    "train"
   ]
  },
  {
   "cell_type": "code",
   "execution_count": 5,
   "metadata": {},
   "outputs": [
    {
     "data": {
      "text/html": [
       "<div>\n",
       "<style scoped>\n",
       "    .dataframe tbody tr th:only-of-type {\n",
       "        vertical-align: middle;\n",
       "    }\n",
       "\n",
       "    .dataframe tbody tr th {\n",
       "        vertical-align: top;\n",
       "    }\n",
       "\n",
       "    .dataframe thead th {\n",
       "        text-align: right;\n",
       "    }\n",
       "</style>\n",
       "<table border=\"1\" class=\"dataframe\">\n",
       "  <thead>\n",
       "    <tr style=\"text-align: right;\">\n",
       "      <th></th>\n",
       "      <th>Mensagem</th>\n",
       "      <th>Target</th>\n",
       "    </tr>\n",
       "  </thead>\n",
       "  <tbody>\n",
       "    <tr>\n",
       "      <th>0</th>\n",
       "      <td>Um livro sensacional. Tenho aplicado o conceit...</td>\n",
       "      <td>Outros</td>\n",
       "    </tr>\n",
       "    <tr>\n",
       "      <th>1</th>\n",
       "      <td>A edição traz uma introdução que é puro spoile...</td>\n",
       "      <td>Conteúdo</td>\n",
       "    </tr>\n",
       "    <tr>\n",
       "      <th>2</th>\n",
       "      <td>É tão ruim quanto o canal dele.</td>\n",
       "      <td>Outros</td>\n",
       "    </tr>\n",
       "    <tr>\n",
       "      <th>3</th>\n",
       "      <td>É um livro baseado no fator motivacional e em ...</td>\n",
       "      <td>Conteúdo</td>\n",
       "    </tr>\n",
       "    <tr>\n",
       "      <th>4</th>\n",
       "      <td>Olar, Frequentemente tendo sua marca, merecida...</td>\n",
       "      <td>Outros</td>\n",
       "    </tr>\n",
       "    <tr>\n",
       "      <th>...</th>\n",
       "      <td>...</td>\n",
       "      <td>...</td>\n",
       "    </tr>\n",
       "    <tr>\n",
       "      <th>245</th>\n",
       "      <td>Muito fraco e passional. Visão distorcida de d...</td>\n",
       "      <td>Outros</td>\n",
       "    </tr>\n",
       "    <tr>\n",
       "      <th>246</th>\n",
       "      <td>Nas primeiras páginas já temos o propósito do ...</td>\n",
       "      <td>Conteúdo</td>\n",
       "    </tr>\n",
       "    <tr>\n",
       "      <th>247</th>\n",
       "      <td>Achei um livro muito superficial e enfadonho. ...</td>\n",
       "      <td>Outros</td>\n",
       "    </tr>\n",
       "    <tr>\n",
       "      <th>248</th>\n",
       "      <td>A menos que queira uma versão POCKET, não comp...</td>\n",
       "      <td>Outros</td>\n",
       "    </tr>\n",
       "    <tr>\n",
       "      <th>249</th>\n",
       "      <td>A edição é maravilhosa, o preço bom, contudo, ...</td>\n",
       "      <td>Outros</td>\n",
       "    </tr>\n",
       "  </tbody>\n",
       "</table>\n",
       "<p>250 rows × 2 columns</p>\n",
       "</div>"
      ],
      "text/plain": [
       "                                              Mensagem    Target\n",
       "0    Um livro sensacional. Tenho aplicado o conceit...    Outros\n",
       "1    A edição traz uma introdução que é puro spoile...  Conteúdo\n",
       "2                      É tão ruim quanto o canal dele.    Outros\n",
       "3    É um livro baseado no fator motivacional e em ...  Conteúdo\n",
       "4    Olar, Frequentemente tendo sua marca, merecida...    Outros\n",
       "..                                                 ...       ...\n",
       "245  Muito fraco e passional. Visão distorcida de d...    Outros\n",
       "246  Nas primeiras páginas já temos o propósito do ...  Conteúdo\n",
       "247  Achei um livro muito superficial e enfadonho. ...    Outros\n",
       "248  A menos que queira uma versão POCKET, não comp...    Outros\n",
       "249  A edição é maravilhosa, o preço bom, contudo, ...    Outros\n",
       "\n",
       "[250 rows x 2 columns]"
      ]
     },
     "execution_count": 5,
     "metadata": {},
     "output_type": "execute_result"
    }
   ],
   "source": [
    "test = pd.read_excel('data/dados_teste.xlsx')\n",
    "test"
   ]
  },
  {
   "cell_type": "markdown",
   "metadata": {},
   "source": [
    "___\n",
    "## Classificador automático\n"
   ]
  },
  {
   "cell_type": "markdown",
   "metadata": {},
   "source": [
    "Faça aqui uma descrição do seu assunto e o que considerou como relevante ou não relevante na classificação dos tweets (Target).\n",
    "\n",
    "##### CONTEÚDO:\n",
    "\n",
    "Relevante: Tweets que abordam o enredo, personagens, temas, qualidade da escrita, análises críticas, recomendações, citações do livro, discussões sobre a trama, etc.\n",
    "Não relevante: Tweets que não se relacionam ao conteúdo do livro, como anúncios de venda, spam, tweets promocionais não relacionados ao conteúdo, mensagens pessoais não relacionadas ao livro, etc.\n",
    "\n",
    "##### PRODUTO:\n",
    "\n",
    "Relevante: Tweets que falam sobre a qualidade física do livro, como a capa, papel, encadernação, impressão, ilustrações, edições especiais, brindes, etc.\n",
    "Não relevante: Tweets que não se referem à qualidade física do livro, como tweets promocionais da editora, anúncios de livros em geral, avaliações de transporte/demora de entrega, mensagens pessoais não relacionadas à qualidade física do livro, etc.\n",
    "\n",
    "##### OUTROS: \n",
    "\n",
    "Relevante: Tweets que abordam temas gerais, não relacionados ao livro, mas que podem ser relevantes para os leitores, como dicas de leitura, eventos literários, escritores famosos, etc.\n",
    "Não relevante: Tweets que não têm relação com o livro ou com interesses literários, como discussões sobre filmes, esportes, política, entre outros assuntos que não têm relevância para os critérios definidos."
   ]
  },
  {
   "cell_type": "markdown",
   "metadata": {},
   "source": [
    "___\n",
    "### Montando um Classificador Naive-Bayes\n",
    "\n",
    "Considerando apenas as mensagens da planilha Treinamento, ensine  seu classificador."
   ]
  },
  {
   "cell_type": "code",
   "execution_count": 6,
   "metadata": {},
   "outputs": [],
   "source": [
    "def cleanup(text):\n",
    "    \"\"\"\n",
    "        Função de limpeza muito simples que troca alguns sinais básicos por espaços\n",
    "    \"\"\"\n",
    "    #import string\n",
    "    punctuation = '[´\"!-.:?;$'']' # Note que os sinais [] são delimitadores de um conjunto.\n",
    "    pattern = re.compile(punctuation)\n",
    "    text_subbed = re.sub(pattern, '', text)\n",
    "    unidecode_text = unidecode(text_subbed)\n",
    "    return unidecode_text.lower()\n",
    "\n",
    "def retorna_lista_mensagens(df, target):\n",
    "    lista_palavras_conteudo = []\n",
    "    palavras_conteudo = []\n",
    "\n",
    "\n",
    "    for index, row in df.iterrows():\n",
    "        if row['Target'] == target:\n",
    "            lista_palavras_conteudo.append(row['Mensagem'].split())\n",
    "        \n",
    "    for lista in lista_palavras_conteudo:\n",
    "        for i in range(len(lista)):\n",
    "            palavras_conteudo.append(lista[i])\n",
    "            \n",
    "    return palavras_conteudo\n",
    "\n",
    "def super_lista(df):\n",
    "    string = []\n",
    "    for mensagem in df['Mensagem']:\n",
    "        lista_com_mensagem = mensagem.split()\n",
    "\n",
    "        for palavra in lista_com_mensagem:\n",
    "            if palavra in lista_index_out:\n",
    "                lista_com_mensagem.remove(palavra)\n",
    "                \n",
    "            elif palavra[:4] == 'link' or palavra[:4] == 'http':\n",
    "                lista_com_mensagem.remove(palavra)\n",
    "\n",
    "        for word in lista_com_mensagem:\n",
    "            string.append(word)\n",
    "\n",
    "    super_string = string\n",
    "    return super_string"
   ]
  },
  {
   "cell_type": "code",
   "execution_count": 7,
   "metadata": {},
   "outputs": [],
   "source": [
    "train['Mensagem'] = train['Mensagem'].apply(cleanup)"
   ]
  },
  {
   "cell_type": "code",
   "execution_count": 8,
   "metadata": {},
   "outputs": [],
   "source": [
    "# conteúdo -----\n",
    "conteudo = train.loc[train['Target'] == 'Conteúdo']\n",
    "\n",
    "# frequencia absoluta\n",
    "conteudo_freq_abs = conteudo.value_counts()\n",
    "\n",
    "# produto ------\n",
    "produto = train.loc[train['Target'] == 'Produto']\n",
    "\n",
    "# frequencia absoluta\n",
    "produto_freq_abs = produto.value_counts()\n",
    "\n",
    "# outros -------\n",
    "outros = train.loc[train['Target'] == 'Outros']\n",
    "\n",
    "# frequencia absoluta\n",
    "outros_freq_abs = outros.value_counts()"
   ]
  },
  {
   "cell_type": "markdown",
   "metadata": {},
   "source": [
    "### Tratando os dados em listas"
   ]
  },
  {
   "cell_type": "code",
   "execution_count": 9,
   "metadata": {
    "scrolled": false
   },
   "outputs": [],
   "source": [
    "# conteudo\n",
    "str_conteudo = super_lista(conteudo)\n",
    "\n",
    "# produto\n",
    "str_produto = super_lista(produto)\n",
    "\n",
    "# outros\n",
    "str_outros = super_lista(outros)"
   ]
  },
  {
   "cell_type": "markdown",
   "metadata": {},
   "source": [
    "### Juntando tudo para obter frequência relativa"
   ]
  },
  {
   "cell_type": "code",
   "execution_count": 10,
   "metadata": {},
   "outputs": [],
   "source": [
    "palavras_juntas = str_conteudo + str_produto + str_outros\n",
    "\n",
    "serie_palavras_juntas = pd.Series(palavras_juntas)\n",
    "\n",
    "# frequencia relativa de todas as palavras\n",
    "palavras_juntas_rel_frame = serie_palavras_juntas.value_counts(normalize=True)\n",
    "\n",
    "# frequencia absoluta de todas as palavras\n",
    "palavras_juntas_frame = serie_palavras_juntas.value_counts()"
   ]
  },
  {
   "cell_type": "code",
   "execution_count": null,
   "metadata": {},
   "outputs": [],
   "source": []
  },
  {
   "cell_type": "markdown",
   "metadata": {},
   "source": [
    "### Tirando repetições"
   ]
  },
  {
   "cell_type": "code",
   "execution_count": 11,
   "metadata": {},
   "outputs": [],
   "source": [
    "palavras_sem_repeticoes = list(set(palavras_juntas))"
   ]
  },
  {
   "cell_type": "code",
   "execution_count": 12,
   "metadata": {},
   "outputs": [],
   "source": [
    "serie_conteudo = pd.Series(str_conteudo)\n",
    "serie_outros = pd.Series(str_outros)\n",
    "serie_produto = pd.Series(str_produto)\n",
    "\n",
    "# frequencia relativa por Target\n",
    "df_conteudo_rel = serie_conteudo.value_counts(normalize=True)\n",
    "df_outros_rel = serie_outros.value_counts(normalize=True)\n",
    "df_produto_rel = serie_produto.value_counts(normalize=True)\n",
    "\n",
    "# frequencia por \"aparições\"\n",
    "df_conteudo_ap = serie_conteudo.value_counts()\n",
    "df_outros_ap = serie_outros.value_counts()\n",
    "df_produto_ap = serie_produto.value_counts()"
   ]
  },
  {
   "cell_type": "markdown",
   "metadata": {},
   "source": [
    "### Calculando probabilidades por Target"
   ]
  },
  {
   "cell_type": "code",
   "execution_count": 13,
   "metadata": {},
   "outputs": [],
   "source": [
    "prob_conteudo = len(serie_conteudo) / len(serie_palavras_juntas)\n",
    "prob_outros = len(serie_outros) / len(serie_palavras_juntas)\n",
    "prob_produto = len(serie_produto) / len(serie_palavras_juntas)"
   ]
  },
  {
   "cell_type": "markdown",
   "metadata": {},
   "source": [
    "### Criando funções para o cálculo da probabilidade condicional"
   ]
  },
  {
   "cell_type": "code",
   "execution_count": null,
   "metadata": {},
   "outputs": [],
   "source": [
    "# criação do suavizador para tratar a probabilidade + aquelas palavras que não tiverem no banco de dados\n",
    "def Laplace(palavra, target, frequencia_absoluta, palavras_sem_repeticao):\n",
    "    freq_total = 1\n",
    "    resultado = 0\n",
    "    \n",
    "    if palavra in frequencia_absoluta:\n",
    "        freq_abs = frequencia_absoluta[palavra]\n",
    "    else:\n",
    "        freq_abs = 0\n",
    "    \n",
    "    if target == 'Conteúdo':\n",
    "        laplace = (freq_abs + freq_total) / (len(str_conteudo) + freq_total * len(palavras_sem_repeticoes))\n",
    "        \n",
    "    elif target == 'Outros':\n",
    "        laplace = (freq_abs + freq_total) / (len(str_outros) + freq_total * len(palavras_sem_repeticoes))\n",
    "        \n",
    "    elif target == 'Produto':\n",
    "        laplace = (freq_abs + freq_total) / (len(str_produto) + freq_total * len(palavras_sem_repeticoes))\n",
    "\n",
    "        \n",
    "    return laplace\n",
    "\n",
    "def Condicional(target, feedback):\n",
    "    \n",
    "    if target == 'Conteúdo':\n",
    "        prob_feedback_dado_conteudo = 1\n",
    "        \n",
    "        for palavra in feedback.split():\n",
    "            prob_feedback_dado_conteudo *= Laplace(palavra, target, df_conteudo_ap, palavras_sem_repeticoes)\n",
    "            \n",
    "        prob_conteudo_dado_feedback = prob_conteudo * prob_feedback_dado_conteudo\n",
    "        return prob_conteudo_dado_feedback\n",
    "    \n",
    "    elif target == 'Outros':\n",
    "        prob_feedback_dado_outros = 1\n",
    "        \n",
    "        for palavra in feedback.split():\n",
    "            prob_feedback_dado_outros *= Laplace(palavra, target, df_outros_ap, palavras_sem_repeticoes)\n",
    "            \n",
    "        prob_outros_dado_feedback = prob_outros * prob_feedback_dado_outros\n",
    "        return prob_outros_dado_feedback\n",
    "    \n",
    "    elif target == 'Produto':\n",
    "        prob_feedback_dado_produto = 1\n",
    "        \n",
    "        for palavra in feedback.split():\n",
    "            prob_feedback_dado_produto *= Laplace(palavra, target, df_produto_ap, palavras_sem_repeticoes)\n",
    "            \n",
    "        prob_produto_dado_feedback = prob_produto * prob_feedback_dado_produto\n",
    "        return prob_produto_dado_feedback\n",
    "    \n",
    "def Classificador(feedback):\n",
    "    if Condicional('Conteúdo', feedback) == max([Condicional('Conteúdo', feedback), Condicional('Outros', feedback), Condicional('Produto', feedback)]):\n",
    "        return 'Conteúdo'\n",
    "    \n",
    "    elif Condicional('Outros', feedback) == max([Condicional('Conteúdo', feedback), Condicional('Outros', feedback), Condicional('Produto', feedback)]):\n",
    "        return 'Outros'\n",
    "    \n",
    "    elif Condicional('Produto', feedback) == max([Condicional('Conteúdo', feedback), Condicional('Outros', feedback), Condicional('Produto', feedback)]):\n",
    "        return 'Produto'"
   ]
  },
  {
   "cell_type": "markdown",
   "metadata": {},
   "source": [
    "# Aplicando análise em \"Train\""
   ]
  },
  {
   "cell_type": "code",
   "execution_count": 26,
   "metadata": {},
   "outputs": [],
   "source": [
    "freq_total = 1\n",
    "train['Robot'] = None\n",
    "\n",
    "for index, row in train.iterrows():\n",
    "\n",
    "    prob_feedback_dado_conteudo = 1\n",
    "    prob_feedback_dado_outros = 1\n",
    "    prob_feedback_dado_produto = 1\n",
    "\n",
    "    feedback = row['Mensagem']\n",
    "    for palavra in feedback.split():\n",
    "\n",
    "        # Fazendo Laplace com as palavras na mensagem\n",
    "        # conteúdo ------\n",
    "        if palavra in df_conteudo_ap:\n",
    "            freq_abs_conteudo = df_conteudo_ap[palavra]\n",
    "\n",
    "        else:\n",
    "            freq_abs_conteudo = 0\n",
    "\n",
    "        # outros ------\n",
    "        if palavra in df_outros_ap:\n",
    "            freq_abs_outros = df_outros_ap[palavra]\n",
    "\n",
    "        else:\n",
    "            freq_abs_outros = 0\n",
    "\n",
    "        # produto -----\n",
    "        if palavra in df_produto_ap:\n",
    "            freq_abs_produto = df_produto_ap[palavra]\n",
    "\n",
    "        else:\n",
    "            freq_abs_produto = 0\n",
    "\n",
    "\n",
    "\n",
    "        prob_feedback_dado_conteudo *= ((freq_abs_conteudo + freq_total) / (len(str_conteudo) + freq_total * len(palavras_sem_repeticoes)))\n",
    "        prob_feedback_dado_outros *= ((freq_abs_outros + freq_total) / (len(str_outros) + freq_total * len(palavras_sem_repeticoes)))\n",
    "        prob_feedback_dado_produto *= ((freq_abs_produto + freq_total) / (len(str_produto) + freq_total * len(palavras_sem_repeticoes)))\n",
    "\n",
    "    prob_conteudo_dado_feedback = prob_conteudo * prob_feedback_dado_conteudo\n",
    "    prob_outros_dado_feedback = prob_outros * prob_feedback_dado_outros\n",
    "    prob_produto_dado_feedback = prob_produto * prob_feedback_dado_produto\n",
    "\n",
    "    if prob_conteudo_dado_feedback == max([prob_conteudo_dado_feedback, prob_outros_dado_feedback, prob_produto_dado_feedback]):\n",
    "        row['Robot'] = 'Conteúdo'\n",
    "\n",
    "    elif prob_outros_dado_feedback == max([prob_conteudo_dado_feedback, prob_outros_dado_feedback, prob_produto_dado_feedback]):\n",
    "        row['Robot'] = 'Outros'\n",
    "\n",
    "    elif prob_produto_dado_feedback == max([prob_conteudo_dado_feedback, prob_outros_dado_feedback, prob_produto_dado_feedback]):\n",
    "        row['Robot'] = 'Produto'"
   ]
  },
  {
   "cell_type": "code",
   "execution_count": 28,
   "metadata": {},
   "outputs": [
    {
     "data": {
      "text/html": [
       "<div>\n",
       "<style scoped>\n",
       "    .dataframe tbody tr th:only-of-type {\n",
       "        vertical-align: middle;\n",
       "    }\n",
       "\n",
       "    .dataframe tbody tr th {\n",
       "        vertical-align: top;\n",
       "    }\n",
       "\n",
       "    .dataframe thead th {\n",
       "        text-align: right;\n",
       "    }\n",
       "</style>\n",
       "<table border=\"1\" class=\"dataframe\">\n",
       "  <thead>\n",
       "    <tr style=\"text-align: right;\">\n",
       "      <th></th>\n",
       "      <th>Mensagem</th>\n",
       "      <th>Target</th>\n",
       "      <th>Robot</th>\n",
       "    </tr>\n",
       "  </thead>\n",
       "  <tbody>\n",
       "    <tr>\n",
       "      <th>0</th>\n",
       "      <td>pelo menos no livro 1  a guerra dos tronos a t...</td>\n",
       "      <td>Conteúdo</td>\n",
       "      <td>Conteúdo</td>\n",
       "    </tr>\n",
       "    <tr>\n",
       "      <th>1</th>\n",
       "      <td>nao gostei o livro o tempo todo traz narrativa...</td>\n",
       "      <td>Conteúdo</td>\n",
       "      <td>Conteúdo</td>\n",
       "    </tr>\n",
       "    <tr>\n",
       "      <th>2</th>\n",
       "      <td>ok tem partes picantes legais mas grande parte...</td>\n",
       "      <td>Conteúdo</td>\n",
       "      <td>Conteúdo</td>\n",
       "    </tr>\n",
       "    <tr>\n",
       "      <th>3</th>\n",
       "      <td>a estoria de amor entre duas pessoas psicologi...</td>\n",
       "      <td>Conteúdo</td>\n",
       "      <td>Conteúdo</td>\n",
       "    </tr>\n",
       "    <tr>\n",
       "      <th>4</th>\n",
       "      <td>pessimo livro ao mesmo tempo que tenta vanglor...</td>\n",
       "      <td>Conteúdo</td>\n",
       "      <td>Conteúdo</td>\n",
       "    </tr>\n",
       "    <tr>\n",
       "      <th>...</th>\n",
       "      <td>...</td>\n",
       "      <td>...</td>\n",
       "      <td>...</td>\n",
       "    </tr>\n",
       "    <tr>\n",
       "      <th>495</th>\n",
       "      <td>claro que as estrelas nao sao par a obra mas p...</td>\n",
       "      <td>Outros</td>\n",
       "      <td>Outros</td>\n",
       "    </tr>\n",
       "    <tr>\n",
       "      <th>496</th>\n",
       "      <td>tenho muitos livros sobre a segunda guerra mun...</td>\n",
       "      <td>Conteúdo</td>\n",
       "      <td>Conteúdo</td>\n",
       "    </tr>\n",
       "    <tr>\n",
       "      <th>497</th>\n",
       "      <td>na epoca que estourou eu paguei 105 na edicao ...</td>\n",
       "      <td>Conteúdo</td>\n",
       "      <td>Conteúdo</td>\n",
       "    </tr>\n",
       "    <tr>\n",
       "      <th>498</th>\n",
       "      <td>livro apenas comenta sobre o que e leitura rap...</td>\n",
       "      <td>Outros</td>\n",
       "      <td>Outros</td>\n",
       "    </tr>\n",
       "    <tr>\n",
       "      <th>499</th>\n",
       "      <td>pessimo dificil uma biografia tao ruim como es...</td>\n",
       "      <td>Produto</td>\n",
       "      <td>Conteúdo</td>\n",
       "    </tr>\n",
       "  </tbody>\n",
       "</table>\n",
       "<p>500 rows × 3 columns</p>\n",
       "</div>"
      ],
      "text/plain": [
       "                                              Mensagem    Target     Robot\n",
       "0    pelo menos no livro 1  a guerra dos tronos a t...  Conteúdo  Conteúdo\n",
       "1    nao gostei o livro o tempo todo traz narrativa...  Conteúdo  Conteúdo\n",
       "2    ok tem partes picantes legais mas grande parte...  Conteúdo  Conteúdo\n",
       "3    a estoria de amor entre duas pessoas psicologi...  Conteúdo  Conteúdo\n",
       "4    pessimo livro ao mesmo tempo que tenta vanglor...  Conteúdo  Conteúdo\n",
       "..                                                 ...       ...       ...\n",
       "495  claro que as estrelas nao sao par a obra mas p...    Outros    Outros\n",
       "496  tenho muitos livros sobre a segunda guerra mun...  Conteúdo  Conteúdo\n",
       "497  na epoca que estourou eu paguei 105 na edicao ...  Conteúdo  Conteúdo\n",
       "498  livro apenas comenta sobre o que e leitura rap...    Outros    Outros\n",
       "499  pessimo dificil uma biografia tao ruim como es...   Produto  Conteúdo\n",
       "\n",
       "[500 rows x 3 columns]"
      ]
     },
     "execution_count": 28,
     "metadata": {},
     "output_type": "execute_result"
    }
   ],
   "source": [
    "train"
   ]
  },
  {
   "cell_type": "markdown",
   "metadata": {},
   "source": [
    "___\n",
    "### Verificando a performance do Classificador\n",
    "\n",
    "Agora você deve testar o seu classificador com a base de Testes."
   ]
  },
  {
   "cell_type": "markdown",
   "metadata": {},
   "source": [
    "#### Verificando inicialmente com \"crosstab\""
   ]
  },
  {
   "cell_type": "code",
   "execution_count": 29,
   "metadata": {},
   "outputs": [
    {
     "data": {
      "text/html": [
       "<div>\n",
       "<style scoped>\n",
       "    .dataframe tbody tr th:only-of-type {\n",
       "        vertical-align: middle;\n",
       "    }\n",
       "\n",
       "    .dataframe tbody tr th {\n",
       "        vertical-align: top;\n",
       "    }\n",
       "\n",
       "    .dataframe thead th {\n",
       "        text-align: right;\n",
       "    }\n",
       "</style>\n",
       "<table border=\"1\" class=\"dataframe\">\n",
       "  <thead>\n",
       "    <tr style=\"text-align: right;\">\n",
       "      <th>Target</th>\n",
       "      <th>Conteúdo</th>\n",
       "      <th>Outros</th>\n",
       "      <th>Produto</th>\n",
       "    </tr>\n",
       "    <tr>\n",
       "      <th>Robot</th>\n",
       "      <th></th>\n",
       "      <th></th>\n",
       "      <th></th>\n",
       "    </tr>\n",
       "  </thead>\n",
       "  <tbody>\n",
       "    <tr>\n",
       "      <th>Conteúdo</th>\n",
       "      <td>74.509804</td>\n",
       "      <td>14.845938</td>\n",
       "      <td>10.644258</td>\n",
       "    </tr>\n",
       "    <tr>\n",
       "      <th>Outros</th>\n",
       "      <td>2.439024</td>\n",
       "      <td>91.056911</td>\n",
       "      <td>6.504065</td>\n",
       "    </tr>\n",
       "    <tr>\n",
       "      <th>Produto</th>\n",
       "      <td>0.000000</td>\n",
       "      <td>0.000000</td>\n",
       "      <td>100.000000</td>\n",
       "    </tr>\n",
       "    <tr>\n",
       "      <th>All</th>\n",
       "      <td>53.800000</td>\n",
       "      <td>33.000000</td>\n",
       "      <td>13.200000</td>\n",
       "    </tr>\n",
       "  </tbody>\n",
       "</table>\n",
       "</div>"
      ],
      "text/plain": [
       "Target     Conteúdo     Outros     Produto\n",
       "Robot                                     \n",
       "Conteúdo  74.509804  14.845938   10.644258\n",
       "Outros     2.439024  91.056911    6.504065\n",
       "Produto    0.000000   0.000000  100.000000\n",
       "All       53.800000  33.000000   13.200000"
      ]
     },
     "execution_count": 29,
     "metadata": {},
     "output_type": "execute_result"
    }
   ],
   "source": [
    "#tabela = pd.crosstab(df_teste['Target'], df_teste['Robot'])\n",
    "tabela = pd.crosstab(train['Robot'], train['Target'], normalize='index', margins=True)\n",
    "tabela = tabela*100\n",
    "tabela"
   ]
  },
  {
   "cell_type": "markdown",
   "metadata": {},
   "source": [
    "#### Encontrando percentuais de Falsos Targets e Verdadeiros Targets"
   ]
  },
  {
   "cell_type": "code",
   "execution_count": 30,
   "metadata": {},
   "outputs": [
    {
     "name": "stdout",
     "output_type": "stream",
     "text": [
      "Verdadeiros \"Conteúdo\": 74.51%  | Falsos \"Conteúdo\": 25.49%\n",
      "Verdadeiros \"Produto\": 100.00%  | Falsos \"Produto\": 0.00%\n",
      "Verdadeiros \"Outros\": 91.06%    | Falsos \"Outros\": 8.94%\n"
     ]
    }
   ],
   "source": [
    "percent_verdadeiros_cont = len(train.loc[(train['Robot'] == 'Conteúdo') & (train['Target'] == 'Conteúdo')]) / len(train.loc[(train['Robot'] == 'Conteúdo')])\n",
    "percent_falsos_cont = len(train.loc[(train['Robot'] == 'Conteúdo') & (train['Target'] != 'Conteúdo')]) / len(train.loc[(train['Robot'] == 'Conteúdo')])\n",
    "\n",
    "percent_verdadeiros_prod = len(train.loc[(train['Robot'] == 'Produto') & (train['Target'] == 'Produto')]) / len(train.loc[(train['Robot'] == 'Produto')])\n",
    "percent_falsos_prod = len(train.loc[(train['Robot'] == 'Produto') & (train['Target'] != 'Produto')]) / len(train.loc[(train['Robot'] == 'Produto')])\n",
    "\n",
    "percent_verdadeiros_outros = len(train.loc[(train['Robot'] == 'Outros') & (train['Target'] == 'Outros')]) / len(train.loc[(train['Robot'] == 'Outros')])\n",
    "percent_falsos_outros = len(train.loc[(train['Robot'] == 'Outros') & (train['Target'] != 'Outros')]) / len(train.loc[(train['Robot'] == 'Outros')])\n",
    "\n",
    "print(f'Verdadeiros \"Conteúdo\": {percent_verdadeiros_cont*100:.2f}%  | Falsos \"Conteúdo\": {percent_falsos_cont*100:.2f}%')\n",
    "print(f'Verdadeiros \"Produto\": {percent_verdadeiros_prod*100:.2f}%  | Falsos \"Produto\": {percent_falsos_prod*100:.2f}%')\n",
    "print(f'Verdadeiros \"Outros\": {percent_verdadeiros_outros*100:.2f}%    | Falsos \"Outros\": {percent_falsos_outros*100:.2f}%')"
   ]
  },
  {
   "cell_type": "markdown",
   "metadata": {},
   "source": [
    "#### Encontrando Acurácia do robô para \"Train\""
   ]
  },
  {
   "cell_type": "code",
   "execution_count": 32,
   "metadata": {},
   "outputs": [],
   "source": [
    "df_acuracia = train.copy()"
   ]
  },
  {
   "cell_type": "code",
   "execution_count": 34,
   "metadata": {},
   "outputs": [
    {
     "name": "stdout",
     "output_type": "stream",
     "text": [
      "Acurácia do robô: 398.0 mensagens, equivalente a 79.60% das mensagens\n"
     ]
    }
   ],
   "source": [
    "df_acuracia.loc[df_acuracia['Target'] == df_acuracia['Robot'], 'Acuracia'] = 1\n",
    "df_acuracia['Acuracia_sum'] = df_acuracia['Acuracia'].sum()\n",
    "\n",
    "acuracia = (df_acuracia['Acuracia_sum']).values[-1]\n",
    "acuracia_percent = (acuracia / len(df_acuracia)) * 100\n",
    "\n",
    "print(f'Acurácia do robô: {acuracia} mensagens, equivalente a {acuracia_percent:.2f}% das mensagens')"
   ]
  },
  {
   "cell_type": "markdown",
   "metadata": {},
   "source": [
    "# Repetindo o processo para \"Test\""
   ]
  },
  {
   "cell_type": "markdown",
   "metadata": {},
   "source": [
    "### Aplicando análise..."
   ]
  },
  {
   "cell_type": "code",
   "execution_count": 37,
   "metadata": {},
   "outputs": [],
   "source": [
    "freq_total = 1\n",
    "test['Robot'] = None\n",
    "\n",
    "for index, row in test.iterrows():\n",
    "\n",
    "    prob_feedback_dado_conteudo = 1\n",
    "    prob_feedback_dado_outros = 1\n",
    "    prob_feedback_dado_produto = 1\n",
    "\n",
    "    feedback = row['Mensagem']\n",
    "    for palavra in feedback.split():\n",
    "\n",
    "        # Fazendo Laplace com as palavras na mensagem\n",
    "        # conteúdo ------\n",
    "        if palavra in df_conteudo_ap:\n",
    "            freq_abs_conteudo = df_conteudo_ap[palavra]\n",
    "\n",
    "        else:\n",
    "            freq_abs_conteudo = 0\n",
    "\n",
    "        # outros ------\n",
    "        if palavra in df_outros_ap:\n",
    "            freq_abs_outros = df_outros_ap[palavra]\n",
    "\n",
    "        else:\n",
    "            freq_abs_outros = 0\n",
    "\n",
    "        # produto -----\n",
    "        if palavra in df_produto_ap:\n",
    "            freq_abs_produto = df_produto_ap[palavra]\n",
    "\n",
    "        else:\n",
    "            freq_abs_produto = 0\n",
    "\n",
    "\n",
    "\n",
    "        prob_feedback_dado_conteudo *= ((freq_abs_conteudo + freq_total) / (len(str_conteudo) + freq_total * len(palavras_sem_repeticoes)))\n",
    "        prob_feedback_dado_outros *= ((freq_abs_outros + freq_total) / (len(str_outros) + freq_total * len(palavras_sem_repeticoes)))\n",
    "        prob_feedback_dado_produto *= ((freq_abs_produto + freq_total) / (len(str_produto) + freq_total * len(palavras_sem_repeticoes)))\n",
    "\n",
    "    prob_conteudo_dado_feedback = prob_conteudo * prob_feedback_dado_conteudo\n",
    "    prob_outros_dado_feedback = prob_outros * prob_feedback_dado_outros\n",
    "    prob_produto_dado_feedback = prob_produto * prob_feedback_dado_produto\n",
    "\n",
    "    if prob_conteudo_dado_feedback == max([prob_conteudo_dado_feedback, prob_outros_dado_feedback, prob_produto_dado_feedback]):\n",
    "        row['Robot'] = 'Conteúdo'\n",
    "\n",
    "    elif prob_outros_dado_feedback == max([prob_conteudo_dado_feedback, prob_outros_dado_feedback, prob_produto_dado_feedback]):\n",
    "        row['Robot'] = 'Outros'\n",
    "\n",
    "    elif prob_produto_dado_feedback == max([prob_conteudo_dado_feedback, prob_outros_dado_feedback, prob_produto_dado_feedback]):\n",
    "        row['Robot'] = 'Produto'"
   ]
  },
  {
   "cell_type": "code",
   "execution_count": 38,
   "metadata": {},
   "outputs": [
    {
     "data": {
      "text/html": [
       "<div>\n",
       "<style scoped>\n",
       "    .dataframe tbody tr th:only-of-type {\n",
       "        vertical-align: middle;\n",
       "    }\n",
       "\n",
       "    .dataframe tbody tr th {\n",
       "        vertical-align: top;\n",
       "    }\n",
       "\n",
       "    .dataframe thead th {\n",
       "        text-align: right;\n",
       "    }\n",
       "</style>\n",
       "<table border=\"1\" class=\"dataframe\">\n",
       "  <thead>\n",
       "    <tr style=\"text-align: right;\">\n",
       "      <th></th>\n",
       "      <th>Mensagem</th>\n",
       "      <th>Target</th>\n",
       "      <th>Robot</th>\n",
       "    </tr>\n",
       "  </thead>\n",
       "  <tbody>\n",
       "    <tr>\n",
       "      <th>0</th>\n",
       "      <td>Um livro sensacional. Tenho aplicado o conceit...</td>\n",
       "      <td>Outros</td>\n",
       "      <td>Produto</td>\n",
       "    </tr>\n",
       "    <tr>\n",
       "      <th>1</th>\n",
       "      <td>A edição traz uma introdução que é puro spoile...</td>\n",
       "      <td>Conteúdo</td>\n",
       "      <td>Produto</td>\n",
       "    </tr>\n",
       "    <tr>\n",
       "      <th>2</th>\n",
       "      <td>É tão ruim quanto o canal dele.</td>\n",
       "      <td>Outros</td>\n",
       "      <td>Outros</td>\n",
       "    </tr>\n",
       "    <tr>\n",
       "      <th>3</th>\n",
       "      <td>É um livro baseado no fator motivacional e em ...</td>\n",
       "      <td>Conteúdo</td>\n",
       "      <td>Conteúdo</td>\n",
       "    </tr>\n",
       "    <tr>\n",
       "      <th>4</th>\n",
       "      <td>Olar, Frequentemente tendo sua marca, merecida...</td>\n",
       "      <td>Outros</td>\n",
       "      <td>Conteúdo</td>\n",
       "    </tr>\n",
       "    <tr>\n",
       "      <th>...</th>\n",
       "      <td>...</td>\n",
       "      <td>...</td>\n",
       "      <td>...</td>\n",
       "    </tr>\n",
       "    <tr>\n",
       "      <th>245</th>\n",
       "      <td>Muito fraco e passional. Visão distorcida de d...</td>\n",
       "      <td>Outros</td>\n",
       "      <td>Produto</td>\n",
       "    </tr>\n",
       "    <tr>\n",
       "      <th>246</th>\n",
       "      <td>Nas primeiras páginas já temos o propósito do ...</td>\n",
       "      <td>Conteúdo</td>\n",
       "      <td>Produto</td>\n",
       "    </tr>\n",
       "    <tr>\n",
       "      <th>247</th>\n",
       "      <td>Achei um livro muito superficial e enfadonho. ...</td>\n",
       "      <td>Outros</td>\n",
       "      <td>Conteúdo</td>\n",
       "    </tr>\n",
       "    <tr>\n",
       "      <th>248</th>\n",
       "      <td>A menos que queira uma versão POCKET, não comp...</td>\n",
       "      <td>Outros</td>\n",
       "      <td>Produto</td>\n",
       "    </tr>\n",
       "    <tr>\n",
       "      <th>249</th>\n",
       "      <td>A edição é maravilhosa, o preço bom, contudo, ...</td>\n",
       "      <td>Outros</td>\n",
       "      <td>Produto</td>\n",
       "    </tr>\n",
       "  </tbody>\n",
       "</table>\n",
       "<p>250 rows × 3 columns</p>\n",
       "</div>"
      ],
      "text/plain": [
       "                                              Mensagem    Target     Robot\n",
       "0    Um livro sensacional. Tenho aplicado o conceit...    Outros   Produto\n",
       "1    A edição traz uma introdução que é puro spoile...  Conteúdo   Produto\n",
       "2                      É tão ruim quanto o canal dele.    Outros    Outros\n",
       "3    É um livro baseado no fator motivacional e em ...  Conteúdo  Conteúdo\n",
       "4    Olar, Frequentemente tendo sua marca, merecida...    Outros  Conteúdo\n",
       "..                                                 ...       ...       ...\n",
       "245  Muito fraco e passional. Visão distorcida de d...    Outros   Produto\n",
       "246  Nas primeiras páginas já temos o propósito do ...  Conteúdo   Produto\n",
       "247  Achei um livro muito superficial e enfadonho. ...    Outros  Conteúdo\n",
       "248  A menos que queira uma versão POCKET, não comp...    Outros   Produto\n",
       "249  A edição é maravilhosa, o preço bom, contudo, ...    Outros   Produto\n",
       "\n",
       "[250 rows x 3 columns]"
      ]
     },
     "execution_count": 38,
     "metadata": {},
     "output_type": "execute_result"
    }
   ],
   "source": [
    "test"
   ]
  },
  {
   "cell_type": "code",
   "execution_count": 39,
   "metadata": {},
   "outputs": [
    {
     "data": {
      "text/html": [
       "<div>\n",
       "<style scoped>\n",
       "    .dataframe tbody tr th:only-of-type {\n",
       "        vertical-align: middle;\n",
       "    }\n",
       "\n",
       "    .dataframe tbody tr th {\n",
       "        vertical-align: top;\n",
       "    }\n",
       "\n",
       "    .dataframe thead th {\n",
       "        text-align: right;\n",
       "    }\n",
       "</style>\n",
       "<table border=\"1\" class=\"dataframe\">\n",
       "  <thead>\n",
       "    <tr style=\"text-align: right;\">\n",
       "      <th>Target</th>\n",
       "      <th>Conteúdo</th>\n",
       "      <th>Outros</th>\n",
       "      <th>Produto</th>\n",
       "    </tr>\n",
       "    <tr>\n",
       "      <th>Robot</th>\n",
       "      <th></th>\n",
       "      <th></th>\n",
       "      <th></th>\n",
       "    </tr>\n",
       "  </thead>\n",
       "  <tbody>\n",
       "    <tr>\n",
       "      <th>Conteúdo</th>\n",
       "      <td>65.625000</td>\n",
       "      <td>26.562500</td>\n",
       "      <td>7.812500</td>\n",
       "    </tr>\n",
       "    <tr>\n",
       "      <th>Outros</th>\n",
       "      <td>36.666667</td>\n",
       "      <td>45.000000</td>\n",
       "      <td>18.333333</td>\n",
       "    </tr>\n",
       "    <tr>\n",
       "      <th>Produto</th>\n",
       "      <td>41.935484</td>\n",
       "      <td>33.870968</td>\n",
       "      <td>24.193548</td>\n",
       "    </tr>\n",
       "    <tr>\n",
       "      <th>All</th>\n",
       "      <td>52.800000</td>\n",
       "      <td>32.800000</td>\n",
       "      <td>14.400000</td>\n",
       "    </tr>\n",
       "  </tbody>\n",
       "</table>\n",
       "</div>"
      ],
      "text/plain": [
       "Target     Conteúdo     Outros    Produto\n",
       "Robot                                    \n",
       "Conteúdo  65.625000  26.562500   7.812500\n",
       "Outros    36.666667  45.000000  18.333333\n",
       "Produto   41.935484  33.870968  24.193548\n",
       "All       52.800000  32.800000  14.400000"
      ]
     },
     "execution_count": 39,
     "metadata": {},
     "output_type": "execute_result"
    }
   ],
   "source": [
    "tabela = pd.crosstab(test['Robot'], test['Target'], normalize='index', margins=True)\n",
    "tabela = tabela*100\n",
    "tabela"
   ]
  },
  {
   "cell_type": "code",
   "execution_count": 41,
   "metadata": {},
   "outputs": [
    {
     "name": "stdout",
     "output_type": "stream",
     "text": [
      "Verdadeiros \"Conteúdo\": 65.62%  | Falsos \"Conteúdo\": 34.38%\n",
      "Verdadeiros \"Produto\": 24.19%   | Falsos \"Produto\": 75.81%\n",
      "Verdadeiros \"Outros\": 45.00%    | Falsos \"Outros\": 55.00%\n"
     ]
    }
   ],
   "source": [
    "percent_verdadeiros_cont = len(test.loc[(test['Robot'] == 'Conteúdo') & (test['Target'] == 'Conteúdo')]) / len(test.loc[(test['Robot'] == 'Conteúdo')])\n",
    "percent_falsos_cont = len(test.loc[(test['Robot'] == 'Conteúdo') & (test['Target'] != 'Conteúdo')]) / len(test.loc[(test['Robot'] == 'Conteúdo')])\n",
    "\n",
    "percent_verdadeiros_prod = len(test.loc[(test['Robot'] == 'Produto') & (test['Target'] == 'Produto')]) / len(test.loc[(test['Robot'] == 'Produto')])\n",
    "percent_falsos_prod = len(test.loc[(test['Robot'] == 'Produto') & (test['Target'] != 'Produto')]) / len(test.loc[(test['Robot'] == 'Produto')])\n",
    "\n",
    "percent_verdadeiros_outros = len(test.loc[(test['Robot'] == 'Outros') & (test['Target'] == 'Outros')]) / len(test.loc[(test['Robot'] == 'Outros')])\n",
    "percent_falsos_outros = len(test.loc[(test['Robot'] == 'Outros') & (test['Target'] != 'Outros')]) / len(test.loc[(test['Robot'] == 'Outros')])\n",
    "\n",
    "print(f'Verdadeiros \"Conteúdo\": {percent_verdadeiros_cont*100:.2f}%  | Falsos \"Conteúdo\": {percent_falsos_cont*100:.2f}%')\n",
    "print(f'Verdadeiros \"Produto\": {percent_verdadeiros_prod*100:.2f}%   | Falsos \"Produto\": {percent_falsos_prod*100:.2f}%')\n",
    "print(f'Verdadeiros \"Outros\": {percent_verdadeiros_outros*100:.2f}%    | Falsos \"Outros\": {percent_falsos_outros*100:.2f}%')"
   ]
  },
  {
   "cell_type": "code",
   "execution_count": 42,
   "metadata": {},
   "outputs": [],
   "source": [
    "df_acuracia = test.copy()"
   ]
  },
  {
   "cell_type": "code",
   "execution_count": 43,
   "metadata": {},
   "outputs": [
    {
     "name": "stdout",
     "output_type": "stream",
     "text": [
      "Acurácia do robô: 126.0 mensagens, equivalente a 50.40% das mensagens\n"
     ]
    }
   ],
   "source": [
    "df_acuracia.loc[df_acuracia['Target'] == df_acuracia['Robot'], 'Acuracia'] = 1\n",
    "df_acuracia['Acuracia_sum'] = df_acuracia['Acuracia'].sum()\n",
    "\n",
    "acuracia = (df_acuracia['Acuracia_sum']).values[-1]\n",
    "acuracia_percent = (acuracia / len(df_acuracia)) * 100\n",
    "\n",
    "print(f'Acurácia do robô: {acuracia} mensagens, equivalente a {acuracia_percent:.2f}% das mensagens')"
   ]
  },
  {
   "cell_type": "markdown",
   "metadata": {},
   "source": [
    "___\n",
    "### Concluindo"
   ]
  },
  {
   "cell_type": "markdown",
   "metadata": {},
   "source": [
    "#### Respondendo questões:"
   ]
  },
  {
   "cell_type": "markdown",
   "metadata": {},
   "source": [
    "1: Faça um comparativo qualitativo sobre os percentuais obtidos para que possa discutir a performance do seu classificador.\n",
    "\n",
    "Resposta: O classificador teve uma melhor performance quando se trata de classificar as mensagens como \"Conteúdos\", isso se da pois no banco de dados \"treino\" a probabilidade da junção das palavras que formam alguma frase foi maior sempre que classificado como \"Conteúdos\".\n",
    "\n",
    "2: "
   ]
  },
  {
   "cell_type": "code",
   "execution_count": null,
   "metadata": {},
   "outputs": [],
   "source": []
  },
  {
   "cell_type": "markdown",
   "metadata": {},
   "source": [
    "___\n",
    "### Qualidade do Classificador a partir de novas separações dos tweets entre Treinamento e Teste\n",
    "\n",
    "Caso for fazer esse item do Projeto"
   ]
  },
  {
   "cell_type": "code",
   "execution_count": null,
   "metadata": {},
   "outputs": [],
   "source": [
    "df_treino = train\n",
    "\n",
    "for index, row in df_treino.iterrows():\n",
    "    lista_feedback = (row['Mensagem'].split())\n",
    "    \n",
    "    for palavra in lista_feedback:\n",
    "        if palavra in lista_index_out:\n",
    "            lista_feedback.remove(palavra)\n",
    "    \n",
    "    feedback = \" \".join(lista_feedback)\n",
    "    \n",
    "    row['Mensagem'] = feedback"
   ]
  },
  {
   "cell_type": "code",
   "execution_count": null,
   "metadata": {},
   "outputs": [],
   "source": [
    "df_total = pd.concat([dataframe_teste, df_treino], ignore_index=True)\n",
    "\n",
    "repeticoes = 100\n",
    "\n",
    "for i in range(repeticoes):\n",
    "    # Embaralhando as linhas do DataFrame\n",
    "    df_embaralhado = df_total.sample(frac=1).reset_index(drop=True)\n",
    "    \n",
    "    # Divida o DataFrame em duas partes: 500 e 250 linhas\n",
    "    parte1 = df_embaralhado[:500]\n",
    "    parte2 = df_embaralhado[500:750]\n",
    "\n"
   ]
  },
  {
   "cell_type": "markdown",
   "metadata": {},
   "source": [
    "___\n",
    "## Aperfeiçoamento:\n",
    "\n",
    "Trabalhos que conseguirem pelo menos conceito B vão evoluir em conceito dependendo da quantidade de itens avançados:\n",
    "\n",
    "* IMPLEMENTOU outras limpezas e transformações que não afetem a qualidade da informação contida nos tweets. Ex: stemming, lemmatization, stopwords\n",
    "* CONSIDEROU mais de duas categorias na variável Target e INCREMENTOU a quantidade de notícias, mantendo pelo menos 250 notícias por categoria (OBRIGATÓRIO PARA TRIOS, sem contar como item avançado)\n",
    "* Para Target com duas categorias: CRIOU pelo menos quatro categorias intermediárias de relevância baseadas na probabilidade: ex.: muito relevante, relevante, neutro, irrelevante, muito irrelevante\n",
    "* EXPLICOU porquê não pode usar o próprio classificador para gerar mais amostras de treinamento\n",
    "* PROPÔS diferentes cenários para Naïve Bayes fora do contexto do projeto (pelo menos dois cenários, exceto aqueles já apresentados em sala pelos professores: por exemplo, filtro de spam)\n",
    "* SUGERIU e EXPLICOU melhorias reais com indicações concretas de como implementar (indicar como fazer e indicar material de pesquisa)\n",
    "* FEZ o item Qualidade do Classificador a partir de novas separações das Notícias entre Treinamento e Teste descrito no enunciado do projeto (OBRIGATÓRIO para conceitos A ou A+)"
   ]
  },
  {
   "cell_type": "markdown",
   "metadata": {},
   "source": [
    "___\n",
    "## Referências"
   ]
  },
  {
   "cell_type": "markdown",
   "metadata": {},
   "source": [
    "[Naive Bayes and Text Classification](https://arxiv.org/pdf/1410.5329.pdf)  **Mais completo**\n",
    "\n",
    "[A practical explanation of a Naive Bayes Classifier](https://monkeylearn.com/blog/practical-explanation-naive-bayes-classifier/) **Mais simples**"
   ]
  },
  {
   "cell_type": "code",
   "execution_count": null,
   "metadata": {},
   "outputs": [],
   "source": []
  },
  {
   "cell_type": "code",
   "execution_count": null,
   "metadata": {},
   "outputs": [],
   "source": []
  }
 ],
 "metadata": {
  "kernelspec": {
   "display_name": "Python 3 (ipykernel)",
   "language": "python",
   "name": "python3"
  },
  "language_info": {
   "codemirror_mode": {
    "name": "ipython",
    "version": 3
   },
   "file_extension": ".py",
   "mimetype": "text/x-python",
   "name": "python",
   "nbconvert_exporter": "python",
   "pygments_lexer": "ipython3",
   "version": "3.9.13"
  }
 },
 "nbformat": 4,
 "nbformat_minor": 4
}
