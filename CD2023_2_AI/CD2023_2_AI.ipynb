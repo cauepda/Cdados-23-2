{
 "cells": [
  {
   "cell_type": "markdown",
   "metadata": {},
   "source": [
    "# AI - Avaliação INTERMEDIÁRIA de Ciência dos dados \n",
    "\n",
    "## 2023 - 2o. semestre \n",
    "\n",
    "___\n"
   ]
  },
  {
   "cell_type": "markdown",
   "metadata": {},
   "source": [
    "# NOME: "
   ]
  },
  {
   "cell_type": "markdown",
   "metadata": {},
   "source": [
    "___\n",
    "<div id=\"indice\"></div>\n",
    "\n",
    "## ÍNDICE\n",
    "\n",
    "- [INSTRUÇÕES](#instrucoes)\n",
    "    - [TEMPO DE PROVA](#tempo)\n",
    "    - [AVISOS GERAIS](#avisosgerais)\n",
    "    - [AVISOS SOBRE DESENVOLVIMENTO DA PROVA](#avisosprova)\n",
    "    - [PRECAUCOES DE SEGURANCA](#precaucoes)\n",
    "\n",
    "<br> \n",
    "\n",
    " - [ChatGPT 📖](#p1)\n",
    "    - [PERGUNTA 1](#p1) **[2,8 ponto]**\n",
    "        - [item (a)](#p1a)\n",
    "        - [item (b)](#p1b)\n",
    "        \n",
    "        \n",
    " - [COMPONENTES COM DEFEITO 💥](#p2)\n",
    "    - [PERGUNTA 2](#p2) **[4,5 ponto]**\n",
    "        - [item (a)](#p2a)\n",
    "        - [item (b)](#p2b)\n",
    "        - [item (c)](#p2c)\n",
    "        - [item (c)](#p2D)   \n",
    "\n",
    "\n",
    " - [DESEMPENHO DOS FUNCIONÁRIOS 👷](#p3)\n",
    "    - [PERGUNTA 3](#p3) **[2,7 ponto]**\n",
    "        - [item (a)](#p3a)\n",
    "        - [item (b)](#p3b)\n",
    "        - [item (c)](#p3c)            \n",
    "    "
   ]
  },
  {
   "cell_type": "markdown",
   "metadata": {},
   "source": [
    "___\n",
    "<div id=\"instrucoes\"></div>\n",
    "\n",
    "## INSTRUÇÕES\n",
    "\n",
    "<div id=\"tempo\"></div>\n",
    "\n",
    "#### TEMPO DE PROVA\n",
    "\n",
    "**Leia atentamente as instruções desta avaliação. Essas devem ser seguidas rigorosamente!**\n",
    "\n",
    "**Prezado(a) Aluno(a),**\n",
    "\n",
    "Dia da prova **dia 10/10** das 7h30min às 9h50min\n",
    "\n",
    "Esta avaliação terá as seguintes etapas:\n",
    "\n",
    "**7h30 às 7h40**\n",
    "       \n",
    " * **(10 minutos) - PROCTORIO:** Entre no Blackboard e inicie o teste em `Conteúdos/Avaliações/Avaliação Intermediária/AI (Proctorio e Arquivos)`. Caso não ative esse teste em até 10 minutos do início da prova (ou seja, até às 10h10), não terá mais direito de entregar essa prova, obtendo falta na mesma.\n",
    "\n",
    "\n",
    "**7h40 às 9h40**  \n",
    "\n",
    " * **(120 minutos) - Desenvolvimento da prova:** Concentre-se em resolver o notebook.\n",
    " * ATENÇÃO: administre esse tempo da maneira que julgar mais adequada para você. **NÃO utilize o cronômetro do Proctorio como referência, mas sim o tempo 120 minutos de prova para realização da prova.**\n",
    "\n",
    "\n",
    "**9h40 às 9h50**  \n",
    " * **(10 minutos) - Entrega via Blackboard - Notebook:** O arquivo `.ipynb` deve ser entregue em `Conteúdos/Avaliações/Avaliação Intermediária/Entrega da prova`. \n",
    " * ATENÇÃO: **finalize o proctorio APENAS após anexar a avaliação no Blackboard.**\n",
    "\n",
    "\n",
    "<br>\n",
    "\n",
    "Leia atentamente as instruções a seguir e as questões da prova antes de começar a resolvê-la. <br>\n",
    "[Volta ao Índice](#indice)"
   ]
  },
  {
   "cell_type": "markdown",
   "metadata": {},
   "source": [
    "<div id=\"avisosgerais\"></div>\n",
    "\n",
    "#### Avisos GERAIS: \n",
    "\n",
    "1. Identifique-se no cabeçalho deste arquivo. Essa prova é INDIVIDUAL.\n",
    "1. Você terá 120 minutos a partir do início oficial da prova para concluir esta avaliação, administre bem o seu tempo. Leia atentamente as instruções a seguir e as questões da prova antes de começar a resolvê-la. \n",
    "\n",
    "1. Esta avaliação:\n",
    "  * **PERMITE apenas consulta de UMA folha A4, escrita, frente e verso, de próprio punho pelo aluno.**\n",
    "  * **PERMITE UTILIZAR APENAS UM COMPUTADOR NO QUAL ESTARÁ REALIZANDO A PROVA.**\n",
    "  * **NÃO PERMITE consulta de caderno ou qualquer outro material físico, com exceção a folha A4.**\n",
    "  * **NÃO PERMITE abrir qualquer aplicativo ou programa com exceção do: VSCode, Jupyter Notebook ou abas do navegador para consulta de links disponibilizados no Formulário Auxliar.**\n",
    "  * **NÃO PERMITE consulta a colegas (presencial ou remotamente), ou seja, não é permitido ter alguém ao seu lado assim como não é permitido conversar pelo WhatsApp, enviar e-mail ou qualquer outro formato em que converse com outra pessoa**. \n",
    "  * **NÃO PERMITE utilizar CELULAR, TABLET, SEGUNDO COMPUTADOR (ou NOTEBOOK) ou qualquer outro aparelho eletrônico no momento da prova.**\n",
    "  * **O desrespeito as essas regras constituirá violação ao Código de Ética e de Conduta e acarretará sanções nele previstas. Faça o seu trabalho de maneira ética!** \n",
    "\n",
    "1. Sua prova utilizará o sistema de Proctoring.  Para instalar a extensão, acesse o site https://getproctorio.com/ pelo Google Chrome e siga os passos indicados. Caso tenha dúvidas ou dificuldades, avise seu professor pelo chat e entre em contato com o Help Desk por meio de abertura de chamado ou pelo telefone (11) 4504-2550.\n",
    "Para realizar a prova será necessário:\n",
    "  *\tUm desktop ou um notebook com qualquer sistema operacional (dispositivos móveis não serão aceitos)\n",
    "  *\tNavegador Google Chrome (o sistema funciona somente nele)\n",
    "  *\tExtensão da plataforma instalada (sem ela o sistema não funcionará)\n",
    "\n",
    "1. **É proibido o uso de fones de ouvido durante toda a prova. Não leia as questões em voz alta. Não ouvir música.**\n",
    "1. **ENTREGA DO ARQUIVO**: Antes de sair da prova, garanta que entregou a prova no link indicado. Verifique se o arquivo das questões resolvidas teve seu upload concluído e que fechou o teste ao final. Você é o responsável pela entrega adequada de todas as questões de sua prova. Avaliações entregues fora do prazo não serão aceitas para correção.\n",
    "1. Caso precise se ausentar da prova para ir ao banheiro, comunique o(a) professor(a). Lembre-se de ser rápido e retornar prontamente à prova. <br>\n",
    "[Volta ao Índice](#indice)"
   ]
  },
  {
   "cell_type": "markdown",
   "metadata": {},
   "source": [
    "<div id=\"avisosprova\"></div>\n",
    "\n",
    "#### Avisos sobre desenvolvimento da prova:\n",
    "\n",
    "1. Esta Avaliação consiste em responder um arquivo Jupyter que será anexado ao Blackboard ao final da prova.\n",
    "1. Leia atentamente as **Precauções de segurança** abaixo para evitar ter sua prova anulada.\n",
    "1. Você não pode compartilhar material com seus colegas durante a prova.\n",
    "1. Em caso de dúvida sobre alguma questão desta avaliação, redija um texto em uma nova célula deste Jupyter notebook explicitando-a para que o professor avalie a pertinência durante a correção.  \n",
    "1. Leia atentamente cada questão e responda o que for pedido. Erros conceituais serão penalizados, mesmo que o conceito não se relacione com o que foi pedido na questão.\n",
    "1. Caso em algum item você necessite do resultado de um item anterior que você não conseguiu fazer, admita um valor razoável para esse resultado e faça o item normalmente. Indique na questão, caso isso aconteça.\n",
    "1. Todos os resultados devem ser justificados. Números que apareçam sem uma explicação de como foram encontrados serão ignorados na correção.\n",
    "1. **A qualidade do código na resolução em cada item também será levada em consideração, ou seja, códigos complicados para soluções que podem ser simples serão penalizados.**\n",
    "1. Esta avaliação requer **entrega via Blackboard**. **Não serão consideradas entregas por outros meios** (ex: e-mail, MS Teams, etc.). <br>\n",
    "[Volta ao Índice](#indice)"
   ]
  },
  {
   "cell_type": "markdown",
   "metadata": {},
   "source": [
    "<div id=\"precaucoes\"></div>\n",
    "\n",
    "#### Precauções de segurança:\n",
    "\n",
    "1. Você pode consultar os links fornecidos pelos professores ou a folha manuscrita que você trouxe.\n",
    "2.\tVocê não pode enviar nenhum tipo de mensagem durante a prova para qualquer pessoa dentro ou fora dela, com exceção do(a) professor(a). Por exemplo: e-mail, Skype, mensagens do Facebook, mensagens do WhatsApp, mensagens via Twitter, etc\n",
    "3.\tVocê não pode compartilhar nenhum tipo de informação em nenhum site, incluindo Pastebin, Codeshare, wikis, etc\n",
    "4.\tVocê não pode perguntar questões da prova no StackOverflow, StackExchange, MathExchange, etc. \n",
    "5.\tVocê não pode procurar/tirar dúvida no Google.\n",
    "6.\tVocê não pode consultar arquivos no seu computador.\n",
    "7.  Você pode usar folha de sulfite da sala solicitando ao professor. Escreva seu nome na mesma com letras grandes.\n",
    "8. Você não pode consultar ou utilizar IAs como ChatGPT, GitHub Co-Pilot, etc. \n",
    "9.\tQualquer transgressão das normas acima pode zerar a nota da prova e implicar em infração ao código de ética do Insper. <br>\n",
    "[Volta ao Índice](#indice)"
   ]
  },
  {
   "cell_type": "code",
   "execution_count": 76,
   "metadata": {},
   "outputs": [],
   "source": [
    "# %matplotlib inline\n",
    "from math import *\n",
    "import os\n",
    "\n",
    "import matplotlib.pyplot as plt\n",
    "import numpy as np\n",
    "from numpy import arange\n",
    "import pandas as pd\n",
    "from scipy import stats\n",
    "\n",
    "from math import sqrt\n",
    "from scipy.stats import binom, poisson\n",
    "\n",
    "from IPython.display import display  # Para ter melhor print."
   ]
  },
  {
   "cell_type": "markdown",
   "metadata": {},
   "source": [
    "___\n",
    "<div id=\"p1\"></div>\n",
    "\n",
    "# ChatGPT 📖\n",
    "\n",
    "## PERGUNTA 1 (2,8 pontos)\n",
    "\n",
    "Depois da invenção do ChatGPT, vários grupos de pesquisa buscaram encontrar sistemas capazes de identificar se um texto foi gerado por uma IA ou por um ser humano. <br>\n",
    "Esses sistemas todos têm chances de errar. <br>\n",
    "Um dos melhores sistemas identifica 5% dos textos feitos por humanos como sendo de IA, e 10% dos textos feitos com IA como sendo feitos por humanos. <br>\n",
    "Numa turma de 1000 pessoas, sabemos que 2% usaram IA para fazer uma prova. <br>\n",
    "Usamos o sistema de detecção para identificar quais foram as provas feitas com IA. <br>\n",
    "Nessas condições, calcule:\n",
    "\n",
    "**Atenção:** <br>\n",
    " (1) Declare os eventos necessários conforme enunciado e use-os na resolução dos itens desta pergunta; e <br>\n",
    " (2) Faça sua resolução da maneira mais clara, apresentando a conta feita para obtenção de cada nova informação numérica a partir das ditas no enunciado.  "
   ]
  },
  {
   "cell_type": "markdown",
   "metadata": {},
   "source": [
    "<div id=\"p1a\"></div>\n",
    "\n",
    "**P1(a)(1,4 ponto)**<br>\n",
    "Quantas pessoas serão acusadas de terem usado IA?<br>"
   ]
  },
  {
   "cell_type": "code",
   "execution_count": 4,
   "metadata": {},
   "outputs": [],
   "source": [
    "# P1-ITEM(a) ESCREVA SEU CÓDIGO AQUI\n",
    "# AH - texto acusado de ter sido feito por ser humano\n",
    "# H - texto feito por ser humano"
   ]
  },
  {
   "cell_type": "code",
   "execution_count": 5,
   "metadata": {},
   "outputs": [],
   "source": [
    "Pessoas = 1000\n",
    "\n",
    "P_Hc = 0.02\n",
    "P_H = 1 - P_Hc\n",
    "\n",
    "P_AHc_dado_H = 0.05\n",
    "P_AH_dado_Hc = 0.1\n",
    "\n",
    "P_AHc_dado_Hc = 1 - P_AH_dado_Hc"
   ]
  },
  {
   "cell_type": "code",
   "execution_count": 10,
   "metadata": {},
   "outputs": [
    {
     "name": "stdout",
     "output_type": "stream",
     "text": [
      "67.0 pessoas serão acusadas de terem usado IA.\n"
     ]
    }
   ],
   "source": [
    "P_AHc_e_H = P_AHc_dado_H * P_H\n",
    "P_AHc_e_Hc = P_AHc_dado_Hc * P_Hc\n",
    "\n",
    "P_AHc = P_AHc_e_H + P_AHc_e_Hc\n",
    "\n",
    "print(f'{P_AHc * Pessoas} pessoas serão acusadas de terem usado IA.')"
   ]
  },
  {
   "cell_type": "markdown",
   "metadata": {},
   "source": [
    "<div id=\"p1b\"></div>\n",
    "\n",
    "**P1(b)(1,4 ponto)**<br>\n",
    "Quantas pessoas serão acusadas injustamente de terem usado IA?<br> "
   ]
  },
  {
   "cell_type": "code",
   "execution_count": null,
   "metadata": {},
   "outputs": [],
   "source": [
    "# P1-ITEM(b) ESCREVA SEU CÓDIGO AQUI"
   ]
  },
  {
   "cell_type": "code",
   "execution_count": 11,
   "metadata": {},
   "outputs": [
    {
     "name": "stdout",
     "output_type": "stream",
     "text": [
      "49.0 pessoas serão acusadas injustamente de terem usado IA\n"
     ]
    }
   ],
   "source": [
    "print(f'{P_AHc_e_H * Pessoas} pessoas serão acusadas injustamente de terem usado IA')"
   ]
  },
  {
   "cell_type": "markdown",
   "metadata": {},
   "source": [
    "[Volta ao Índice](#indice)"
   ]
  },
  {
   "cell_type": "markdown",
   "metadata": {},
   "source": [
    "___\n",
    "<div id=\"p2\"></div>\n",
    "\n",
    "# COMPONENTES COM DEFEITO 💥\n",
    "\n",
    "## PERGUNTA 2 (4,5 ponto)\n",
    "\n",
    "Uma empresa de produção de peças para automóveis fabrica um componente para motores. <br>\n",
    "\n",
    "Esses componentes podem apresentar defeitos de fabricação com probabilidade de 8%. <br>\n",
    "Nesse caso, se um componente apresenta defeito, esse pode ser remanufaturado com probabilidade de 60%; caso contrário, é descartado. <br>\n",
    "\n",
    "O custo de produção de cada componente é de 50 reais e, caso seja remanufaturado, há um adicional de 30 reais. <br>\n",
    "Cada componente é vendido por 120 reais, mas apenas os componentes não defeituosos ou remanufaturados são vendidos.\n",
    "\n",
    "<br>\n",
    "\n",
    "**Atenção:** \n",
    "  1. Declare as variáveis aleatórias conforme enunciado de cada item e use-as na resolução dos itens desta pergunta; e <br>\n",
    "  2. Faça sua resolução da maneira mais clara, apresentando a conta feita para obtenção de cada nova informação numérica a partir das ditas no enunciado.  "
   ]
  },
  {
   "cell_type": "markdown",
   "metadata": {},
   "source": [
    "<div id=\"p2a\"></div>\n",
    "\n",
    "**P2(a)(1,20 ponto)**<br>\n",
    "Qual é o lucro esperado por componente produzido pela empresa? E respectivo desvio padrão? <br>\n",
    "Justifique claramente todas as contas feitas para obtenção do resultado.\n",
    "\n"
   ]
  },
  {
   "cell_type": "code",
   "execution_count": null,
   "metadata": {},
   "outputs": [],
   "source": [
    "# P2-ITEM(a) ESCREVA SEU CÓDIGO AQUI"
   ]
  },
  {
   "cell_type": "code",
   "execution_count": 17,
   "metadata": {},
   "outputs": [
    {
     "data": {
      "text/html": [
       "<div>\n",
       "<style scoped>\n",
       "    .dataframe tbody tr th:only-of-type {\n",
       "        vertical-align: middle;\n",
       "    }\n",
       "\n",
       "    .dataframe tbody tr th {\n",
       "        vertical-align: top;\n",
       "    }\n",
       "\n",
       "    .dataframe thead th {\n",
       "        text-align: right;\n",
       "    }\n",
       "</style>\n",
       "<table border=\"1\" class=\"dataframe\">\n",
       "  <thead>\n",
       "    <tr style=\"text-align: right;\">\n",
       "      <th></th>\n",
       "      <th>Lucro/Prejuizo</th>\n",
       "      <th>Probabilidades</th>\n",
       "    </tr>\n",
       "  </thead>\n",
       "  <tbody>\n",
       "    <tr>\n",
       "      <th>0</th>\n",
       "      <td>70</td>\n",
       "      <td>0.920</td>\n",
       "    </tr>\n",
       "    <tr>\n",
       "      <th>1</th>\n",
       "      <td>40</td>\n",
       "      <td>0.048</td>\n",
       "    </tr>\n",
       "    <tr>\n",
       "      <th>2</th>\n",
       "      <td>-80</td>\n",
       "      <td>0.032</td>\n",
       "    </tr>\n",
       "  </tbody>\n",
       "</table>\n",
       "</div>"
      ],
      "text/plain": [
       "   Lucro/Prejuizo  Probabilidades\n",
       "0              70           0.920\n",
       "1              40           0.048\n",
       "2             -80           0.032"
      ]
     },
     "execution_count": 17,
     "metadata": {},
     "output_type": "execute_result"
    }
   ],
   "source": [
    "# Custo caso seja remanufaturado;\n",
    "# Venda caso tenha defeito e seja vendido;\n",
    "# Venda caso não tenha defeito\n",
    "\n",
    "# Custos\n",
    "Custo = 50\n",
    "Custo_defeito = 30\n",
    "\n",
    "# Preço de venda\n",
    "Venda = 120\n",
    "\n",
    "#  Lucros:\n",
    "L_nao_defeituoso = Venda - Custo\n",
    "L_defeituoso_reparado = Venda - Custo - Custo_defeito\n",
    "L_defeituoso_n_reparado = - Custo - Custo_defeito\n",
    "\n",
    "# Probabilidades\n",
    "P_defeito = 0.08\n",
    "P_defeitoC = 1 - P_defeito\n",
    "P_reparo_dado_defeito = 0.6\n",
    "P_defeito_e_reparo = P_reparo_dado_defeito * P_defeito\n",
    "\n",
    "P_reparoC_dado_defeito = 1 - P_reparo_dado_defeito\n",
    "P_reparoC_e_defeito = P_reparoC_dado_defeito * P_defeito\n",
    "\n",
    "Valores = [L_nao_defeituoso, L_defeituoso_reparado, L_defeituoso_n_reparado]\n",
    "Probs = [P_defeitoC, P_defeito_e_reparo, P_reparoC_e_defeito]\n",
    "\n",
    "df = pd.DataFrame(columns=['Lucro/Prejuizo', 'Probabilidades'])\n",
    "df['Lucro/Prejuizo'] = Valores\n",
    "df['Probabilidades'] = Probs\n",
    "df"
   ]
  },
  {
   "cell_type": "code",
   "execution_count": 23,
   "metadata": {},
   "outputs": [
    {
     "name": "stdout",
     "output_type": "stream",
     "text": [
      "A empresa espera ter um lucro médio de 63.76 R$\n"
     ]
    }
   ],
   "source": [
    "lucro_medio = sum(valor * prob for valor, prob in zip(df['Lucro/Prejuizo'], df['Probabilidades']))\n",
    "print(f'A empresa espera ter um lucro médio de {lucro_medio:.2f} R$')"
   ]
  },
  {
   "cell_type": "code",
   "execution_count": 98,
   "metadata": {},
   "outputs": [
    {
     "name": "stdout",
     "output_type": "stream",
     "text": [
      "A empresa espera ter um desvio padrão de 26.91 R$\n"
     ]
    }
   ],
   "source": [
    "desvpad = sum(pow(valor - lucro_medio, 2) * prob for valor, prob in zip(df['Lucro/Prejuizo'], df['Probabilidades']))\n",
    "desvpad = sqrt(desvpad)\n",
    "print(f'A empresa espera ter um desvio padrão de {desvpad:.2f} R$')"
   ]
  },
  {
   "cell_type": "markdown",
   "metadata": {},
   "source": [
    "<div id=\"p2b\"></div>\n",
    "\n",
    "**P2(b)(1,2 ponto)**<br>\n",
    "A empresa seleciona aleatoriamente 20 componentes da sua produção para verificar se apresentam defeitos de fabricação. <br>\n",
    "Considerando um cenário em que a empresa encontra componentes com defeito nessa seleção, qual é a probabilidade de encontrar menos de três componentes com defeito? <br>\n",
    "Justifique claramente todas as contas feitas para obtenção do resultado."
   ]
  },
  {
   "cell_type": "code",
   "execution_count": 97,
   "metadata": {},
   "outputs": [
    {
     "data": {
      "text/plain": [
       "1.6"
      ]
     },
     "execution_count": 97,
     "metadata": {},
     "output_type": "execute_result"
    }
   ],
   "source": [
    "selecao = 20\n",
    "componentes_defeito = selecao * (P_defeito_e_reparo + P_reparoC_e_defeito)\n",
    "prob_0 = 0\n",
    "prob_1 = 1 / 1.6"
   ]
  },
  {
   "cell_type": "code",
   "execution_count": null,
   "metadata": {},
   "outputs": [],
   "source": []
  },
  {
   "cell_type": "markdown",
   "metadata": {},
   "source": [
    "<div id=\"p2c\"></div>\n",
    "\n",
    "**P2(c)(0,70 ponto)**<br>\n",
    "A empresa tem conhecimento que o tempo de vida útil dos componentes vendidos segue uma distribuição exponencial com média de 248 horas.<br> \n",
    "Qual tempo de garantia deveria ser estabelecido pela empresa para que 75% dos componentes deixassem de funcionar após do término desse prazo?\n",
    "Justifique claramente todas as contas feitas para obtenção do resultado.\n"
   ]
  },
  {
   "cell_type": "code",
   "execution_count": 93,
   "metadata": {},
   "outputs": [
    {
     "name": "stdout",
     "output_type": "stream",
     "text": [
      "A empresa deve fornecer uma garantia com o tempo de 343.801 horas\n"
     ]
    }
   ],
   "source": [
    "P_Xmenor_75_porcent = stats.expon.ppf(0.75, loc=0, scale=248)\n",
    "print(f'A empresa deve fornecer uma garantia com o tempo de {P_Xmenor_75_porcent:.3f} horas')"
   ]
  },
  {
   "cell_type": "raw",
   "metadata": {},
   "source": [
    "Foi feita uma distribuição exponencial para abranger 75% das peças pensando que essas irão deixar de funcionar após o tempo de uso obtido."
   ]
  },
  {
   "cell_type": "markdown",
   "metadata": {},
   "source": [
    "<div id=\"p2d\"></div>\n",
    "\n",
    "**P2(d)(1,4 ponto)**<br>\n",
    "Independente das respostas obtidas nos itens anteriores, vamos assumir que apenas 5% dos componentes disponíveis para venda foram remanufaturados. <br>\n",
    "\n",
    "A empresa tem conhecimento de que o tempo de vida útil dos componentes vendidos remanufaturados segue uma distribuição exponencial com média igual a 210 horas.<br>\n",
    "Já o tempo de vida útil dos componentes vendidos que não precisaram ser remanufaturados segue uma distribuição uniforme entre 50 e 450 horas. <br>\n",
    "\n",
    "Se um componente vendido funciona no máximo 100 horas, qual a probabilidade desse componente ter sido um componente remanufaturado antes da venda? Como você utilizaria essa informação numérica na prática? <br>\n",
    "\n",
    "Justifique claramente todas as contas feitas para obtenção do resultado."
   ]
  },
  {
   "cell_type": "code",
   "execution_count": 96,
   "metadata": {},
   "outputs": [
    {
     "name": "stdout",
     "output_type": "stream",
     "text": [
      "0.0\n"
     ]
    }
   ],
   "source": [
    "P_exp = stats.expon.cdf(100, loc=0, scale=210)\n",
    "P_uni = stats.uniform.cdf(100, loc=210, scale=400)\n",
    "print(P_uni)"
   ]
  },
  {
   "cell_type": "raw",
   "metadata": {},
   "source": [
    "# P2-ITEM(d) ESCREVA SUA RESPOSTA AQUI"
   ]
  },
  {
   "cell_type": "code",
   "execution_count": null,
   "metadata": {},
   "outputs": [],
   "source": []
  },
  {
   "cell_type": "markdown",
   "metadata": {},
   "source": [
    "[Volta ao Índice](#indice)"
   ]
  },
  {
   "cell_type": "markdown",
   "metadata": {},
   "source": [
    "___\n",
    "<div id=\"p3\"></div>\n",
    "\n",
    "# DESEMPENHO DOS FUNCIONÁRIOS 👷\n",
    "\n",
    "## PERGUNTA 3 (2,7 pontos)\n",
    "\n",
    "Uma empresa de tecnologia deseja avaliar o desempenho de seus funcionários para tomar decisões estratégicas de recursos humanos. <br>\n",
    "Para isso, eles coletaram dados de diversos funcionários ao longo do último ano, os quais estão descritos pelas seguintes variáveis:\n",
    "\n",
    " * `AvaliacaoDesempenho`: pontuação de 0 a 10 que representa o desempenho de cada funcionário, onde 0 indica um desempenho muito baixo e 10 indica um desempenho excepcional. Esta pontuação é baseada em revisões regulares dos supervisores;\n",
    " * `TempoExperiencia`: número de anos que um funcionário tem de experiência na empresa;\n",
    " * `HorasTreinamento`: número de horas de treinamento que cada funcionário recebeu no último ano;\n",
    " * `Departamento`: departamento ao qual o funcionário está atribuído,que pode ser `Vendas`, `Desenvolvimento`, `Suporte` ou `Marketing`;\n",
    " * `TipoContrato`: tipo de contrato de trabalho do funcionário, que pode ser `Temporário` ou `Permanente`.\n",
    "\n",
    "<br>\n",
    "\n",
    "O arquivo `dados_AI.xlsx` contém essas informações."
   ]
  },
  {
   "cell_type": "markdown",
   "metadata": {},
   "source": [
    "<div id=\"dados\"></div>\n",
    "\n",
    "**ABRINDO A BASE DE DADOS:**"
   ]
  },
  {
   "cell_type": "code",
   "execution_count": 29,
   "metadata": {},
   "outputs": [
    {
     "name": "stdout",
     "output_type": "stream",
     "text": [
      "Esperamos trabalhar no diretório\n",
      "/Users/cauedagostinho/Documents/Insper/2˚sem/Cdados/CD2023_2_AI\n"
     ]
    }
   ],
   "source": [
    "print(\"Esperamos trabalhar no diretório\")\n",
    "print(os.getcwd())"
   ]
  },
  {
   "cell_type": "code",
   "execution_count": 31,
   "metadata": {},
   "outputs": [
    {
     "name": "stdout",
     "output_type": "stream",
     "text": [
      "Não encontrei o arquivo data/dados_AI.xlsx.\n",
      "O notebook e os arquivos de dados desta avaliação devem ser salvos dentro da mesma pasta no seu computador.\n",
      "\n"
     ]
    }
   ],
   "source": [
    "filename = 'data/dados_AI.xlsx'\n",
    "if filename in os.listdir():\n",
    "    print(f'Parece que o arquivo {filename} está na mesma pasta do notebook da avaliação, yay!\\n')\n",
    "    \n",
    "else:\n",
    "    print(f'Não encontrei o arquivo {filename}.\\n'\n",
    "          f'O notebook e os arquivos de dados desta avaliação devem ser salvos dentro da mesma pasta no seu computador.\\n')"
   ]
  },
  {
   "cell_type": "code",
   "execution_count": 32,
   "metadata": {
    "scrolled": true
   },
   "outputs": [
    {
     "data": {
      "text/html": [
       "<div>\n",
       "<style scoped>\n",
       "    .dataframe tbody tr th:only-of-type {\n",
       "        vertical-align: middle;\n",
       "    }\n",
       "\n",
       "    .dataframe tbody tr th {\n",
       "        vertical-align: top;\n",
       "    }\n",
       "\n",
       "    .dataframe thead th {\n",
       "        text-align: right;\n",
       "    }\n",
       "</style>\n",
       "<table border=\"1\" class=\"dataframe\">\n",
       "  <thead>\n",
       "    <tr style=\"text-align: right;\">\n",
       "      <th></th>\n",
       "      <th>ID</th>\n",
       "      <th>AvaliacaoDesempenho</th>\n",
       "      <th>TempoExperiencia</th>\n",
       "      <th>HorasTreinamento</th>\n",
       "      <th>Departamento</th>\n",
       "      <th>TipoContrato</th>\n",
       "    </tr>\n",
       "  </thead>\n",
       "  <tbody>\n",
       "    <tr>\n",
       "      <th>0</th>\n",
       "      <td>1</td>\n",
       "      <td>7.0</td>\n",
       "      <td>5</td>\n",
       "      <td>25</td>\n",
       "      <td>Marketing</td>\n",
       "      <td>Temporário</td>\n",
       "    </tr>\n",
       "    <tr>\n",
       "      <th>1</th>\n",
       "      <td>2</td>\n",
       "      <td>8.3</td>\n",
       "      <td>6</td>\n",
       "      <td>23</td>\n",
       "      <td>Desenvolvimento</td>\n",
       "      <td>Temporário</td>\n",
       "    </tr>\n",
       "    <tr>\n",
       "      <th>2</th>\n",
       "      <td>3</td>\n",
       "      <td>9.0</td>\n",
       "      <td>19</td>\n",
       "      <td>40</td>\n",
       "      <td>Desenvolvimento</td>\n",
       "      <td>Permanente</td>\n",
       "    </tr>\n",
       "    <tr>\n",
       "      <th>3</th>\n",
       "      <td>4</td>\n",
       "      <td>3.5</td>\n",
       "      <td>3</td>\n",
       "      <td>30</td>\n",
       "      <td>Desenvolvimento</td>\n",
       "      <td>Temporário</td>\n",
       "    </tr>\n",
       "    <tr>\n",
       "      <th>4</th>\n",
       "      <td>5</td>\n",
       "      <td>0.6</td>\n",
       "      <td>0</td>\n",
       "      <td>39</td>\n",
       "      <td>Vendas</td>\n",
       "      <td>Temporário</td>\n",
       "    </tr>\n",
       "  </tbody>\n",
       "</table>\n",
       "</div>"
      ],
      "text/plain": [
       "   ID  AvaliacaoDesempenho  TempoExperiencia  HorasTreinamento  \\\n",
       "0   1                  7.0                 5                25   \n",
       "1   2                  8.3                 6                23   \n",
       "2   3                  9.0                19                40   \n",
       "3   4                  3.5                 3                30   \n",
       "4   5                  0.6                 0                39   \n",
       "\n",
       "      Departamento TipoContrato  \n",
       "0        Marketing   Temporário  \n",
       "1  Desenvolvimento   Temporário  \n",
       "2  Desenvolvimento   Permanente  \n",
       "3  Desenvolvimento   Temporário  \n",
       "4           Vendas   Temporário  "
      ]
     },
     "execution_count": 32,
     "metadata": {},
     "output_type": "execute_result"
    }
   ],
   "source": [
    "dados = pd.read_excel(filename)\n",
    "for i in range(dados.shape[1]):\n",
    "    if dados.dtypes[i]=='O':\n",
    "        dados.iloc[:,i] = dados.iloc[:,i].astype('category')\n",
    "dados.head()"
   ]
  },
  {
   "cell_type": "markdown",
   "metadata": {},
   "source": [
    "**Caso queira consultar nomes das colunas do *dataframe* `dados`, use o comando abaixo:**"
   ]
  },
  {
   "cell_type": "code",
   "execution_count": 33,
   "metadata": {
    "scrolled": true
   },
   "outputs": [
    {
     "data": {
      "text/plain": [
       "Index(['ID', 'AvaliacaoDesempenho', 'TempoExperiencia', 'HorasTreinamento',\n",
       "       'Departamento', 'TipoContrato'],\n",
       "      dtype='object')"
      ]
     },
     "execution_count": 33,
     "metadata": {},
     "output_type": "execute_result"
    }
   ],
   "source": [
    "dados.columns "
   ]
  },
  {
   "cell_type": "markdown",
   "metadata": {},
   "source": [
    "**Caso queira consultar os rótulos de uma variável qualitativa, use o comando abaixo:**"
   ]
  },
  {
   "cell_type": "code",
   "execution_count": 34,
   "metadata": {},
   "outputs": [
    {
     "data": {
      "text/plain": [
       "Index(['Desenvolvimento', 'Marketing', 'Suporte', 'Vendas'], dtype='object')"
      ]
     },
     "execution_count": 34,
     "metadata": {},
     "output_type": "execute_result"
    }
   ],
   "source": [
    "dados['Departamento'].cat.categories"
   ]
  },
  {
   "cell_type": "markdown",
   "metadata": {},
   "source": [
    "<div id=\"p3a\"></div>\n",
    "\n",
    "**P3(a) (1,2 ponto)** \n",
    "\n",
    "*Afirmação:* <br>\n",
    "\"As variáveis tempo de experiência e desempenho são fortemente relacionadas quando considerados apenas os funcionários com contrato permanente. A mesma relação forte entre essas variáveis se dá quando considerados apenas os funcionários com contrato temporário.\" <br>\n",
    "\n",
    "Faça **uma análise GRÁFICA e também NUMÉRICA adequadamente** que permita **VALIDAR** ou **REFUTAR** a AFIRMAÇÃO acima. \n",
    "\n",
    "Usando o *output* gerado com suas linhas de código, justifique claramente porquê esse valida ou não a afirmação acima. "
   ]
  },
  {
   "cell_type": "code",
   "execution_count": null,
   "metadata": {},
   "outputs": [],
   "source": [
    "# P3-ITEM(a) ESCREVA SEU CÓDIGO AQUI"
   ]
  },
  {
   "cell_type": "code",
   "execution_count": 43,
   "metadata": {},
   "outputs": [
    {
     "data": {
      "image/png": "[encoded data removed]",
      "text/plain": [
       "<Figure size 1500x400 with 2 Axes>"
      ]
     },
     "metadata": {},
     "output_type": "display_data"
    }
   ],
   "source": [
    "contrato_perm = dados.loc[dados['TipoContrato'] == 'Permanente']\n",
    "contrato_temp = dados.loc[dados['TipoContrato'] == 'Temporário']\n",
    "\n",
    "plt.figure(figsize=(15, 4))\n",
    "\n",
    "plt.subplot(121)\n",
    "plt.scatter(contrato_perm['TempoExperiencia'], contrato_perm['AvaliacaoDesempenho'], norm=True)\n",
    "plt.ylabel('Avaliação Desempenho')\n",
    "plt.xlabel('Tempo de Experiencia')\n",
    "plt.title('Contrato permanente')\n",
    "\n",
    "plt.subplot(122)\n",
    "plt.scatter(contrato_temp['TempoExperiencia'], contrato_temp['AvaliacaoDesempenho'], norm=True)\n",
    "plt.ylabel('Avaliação Desempenho')\n",
    "plt.xlabel('Tempo de Experiencia')\n",
    "plt.title('Contrato temporário')\n",
    "\n",
    "plt.show()"
   ]
  },
  {
   "cell_type": "code",
   "execution_count": 56,
   "metadata": {},
   "outputs": [],
   "source": [
    "df_perm = contrato_perm[['AvaliacaoDesempenho', 'TempoExperiencia']].copy()"
   ]
  },
  {
   "cell_type": "code",
   "execution_count": 57,
   "metadata": {},
   "outputs": [
    {
     "data": {
      "text/html": [
       "<div>\n",
       "<style scoped>\n",
       "    .dataframe tbody tr th:only-of-type {\n",
       "        vertical-align: middle;\n",
       "    }\n",
       "\n",
       "    .dataframe tbody tr th {\n",
       "        vertical-align: top;\n",
       "    }\n",
       "\n",
       "    .dataframe thead th {\n",
       "        text-align: right;\n",
       "    }\n",
       "</style>\n",
       "<table border=\"1\" class=\"dataframe\">\n",
       "  <thead>\n",
       "    <tr style=\"text-align: right;\">\n",
       "      <th></th>\n",
       "      <th>AvaliacaoDesempenho</th>\n",
       "      <th>TempoExperiencia</th>\n",
       "    </tr>\n",
       "  </thead>\n",
       "  <tbody>\n",
       "    <tr>\n",
       "      <th>AvaliacaoDesempenho</th>\n",
       "      <td>1.000000</td>\n",
       "      <td>0.067769</td>\n",
       "    </tr>\n",
       "    <tr>\n",
       "      <th>TempoExperiencia</th>\n",
       "      <td>0.067769</td>\n",
       "      <td>1.000000</td>\n",
       "    </tr>\n",
       "  </tbody>\n",
       "</table>\n",
       "</div>"
      ],
      "text/plain": [
       "                     AvaliacaoDesempenho  TempoExperiencia\n",
       "AvaliacaoDesempenho             1.000000          0.067769\n",
       "TempoExperiencia                0.067769          1.000000"
      ]
     },
     "execution_count": 57,
     "metadata": {},
     "output_type": "execute_result"
    }
   ],
   "source": [
    "df_perm.corr()"
   ]
  },
  {
   "cell_type": "code",
   "execution_count": 58,
   "metadata": {},
   "outputs": [
    {
     "data": {
      "text/html": [
       "<div>\n",
       "<style scoped>\n",
       "    .dataframe tbody tr th:only-of-type {\n",
       "        vertical-align: middle;\n",
       "    }\n",
       "\n",
       "    .dataframe tbody tr th {\n",
       "        vertical-align: top;\n",
       "    }\n",
       "\n",
       "    .dataframe thead th {\n",
       "        text-align: right;\n",
       "    }\n",
       "</style>\n",
       "<table border=\"1\" class=\"dataframe\">\n",
       "  <thead>\n",
       "    <tr style=\"text-align: right;\">\n",
       "      <th></th>\n",
       "      <th>AvaliacaoDesempenho</th>\n",
       "      <th>TempoExperiencia</th>\n",
       "    </tr>\n",
       "  </thead>\n",
       "  <tbody>\n",
       "    <tr>\n",
       "      <th>AvaliacaoDesempenho</th>\n",
       "      <td>0.133925</td>\n",
       "      <td>0.049724</td>\n",
       "    </tr>\n",
       "    <tr>\n",
       "      <th>TempoExperiencia</th>\n",
       "      <td>0.049724</td>\n",
       "      <td>4.019865</td>\n",
       "    </tr>\n",
       "  </tbody>\n",
       "</table>\n",
       "</div>"
      ],
      "text/plain": [
       "                     AvaliacaoDesempenho  TempoExperiencia\n",
       "AvaliacaoDesempenho             0.133925          0.049724\n",
       "TempoExperiencia                0.049724          4.019865"
      ]
     },
     "execution_count": 58,
     "metadata": {},
     "output_type": "execute_result"
    }
   ],
   "source": [
    "df_perm.cov()"
   ]
  },
  {
   "cell_type": "code",
   "execution_count": 59,
   "metadata": {},
   "outputs": [],
   "source": [
    "df_temp = contrato_temp[['AvaliacaoDesempenho', 'TempoExperiencia']].copy()"
   ]
  },
  {
   "cell_type": "code",
   "execution_count": 60,
   "metadata": {},
   "outputs": [
    {
     "data": {
      "text/html": [
       "<div>\n",
       "<style scoped>\n",
       "    .dataframe tbody tr th:only-of-type {\n",
       "        vertical-align: middle;\n",
       "    }\n",
       "\n",
       "    .dataframe tbody tr th {\n",
       "        vertical-align: top;\n",
       "    }\n",
       "\n",
       "    .dataframe thead th {\n",
       "        text-align: right;\n",
       "    }\n",
       "</style>\n",
       "<table border=\"1\" class=\"dataframe\">\n",
       "  <thead>\n",
       "    <tr style=\"text-align: right;\">\n",
       "      <th></th>\n",
       "      <th>AvaliacaoDesempenho</th>\n",
       "      <th>TempoExperiencia</th>\n",
       "    </tr>\n",
       "  </thead>\n",
       "  <tbody>\n",
       "    <tr>\n",
       "      <th>AvaliacaoDesempenho</th>\n",
       "      <td>1.000000</td>\n",
       "      <td>0.873121</td>\n",
       "    </tr>\n",
       "    <tr>\n",
       "      <th>TempoExperiencia</th>\n",
       "      <td>0.873121</td>\n",
       "      <td>1.000000</td>\n",
       "    </tr>\n",
       "  </tbody>\n",
       "</table>\n",
       "</div>"
      ],
      "text/plain": [
       "                     AvaliacaoDesempenho  TempoExperiencia\n",
       "AvaliacaoDesempenho             1.000000          0.873121\n",
       "TempoExperiencia                0.873121          1.000000"
      ]
     },
     "execution_count": 60,
     "metadata": {},
     "output_type": "execute_result"
    }
   ],
   "source": [
    "df_temp.corr()"
   ]
  },
  {
   "cell_type": "code",
   "execution_count": 61,
   "metadata": {},
   "outputs": [
    {
     "data": {
      "text/html": [
       "<div>\n",
       "<style scoped>\n",
       "    .dataframe tbody tr th:only-of-type {\n",
       "        vertical-align: middle;\n",
       "    }\n",
       "\n",
       "    .dataframe tbody tr th {\n",
       "        vertical-align: top;\n",
       "    }\n",
       "\n",
       "    .dataframe thead th {\n",
       "        text-align: right;\n",
       "    }\n",
       "</style>\n",
       "<table border=\"1\" class=\"dataframe\">\n",
       "  <thead>\n",
       "    <tr style=\"text-align: right;\">\n",
       "      <th></th>\n",
       "      <th>AvaliacaoDesempenho</th>\n",
       "      <th>TempoExperiencia</th>\n",
       "    </tr>\n",
       "  </thead>\n",
       "  <tbody>\n",
       "    <tr>\n",
       "      <th>AvaliacaoDesempenho</th>\n",
       "      <td>6.405500</td>\n",
       "      <td>7.718774</td>\n",
       "    </tr>\n",
       "    <tr>\n",
       "      <th>TempoExperiencia</th>\n",
       "      <td>7.718774</td>\n",
       "      <td>12.200973</td>\n",
       "    </tr>\n",
       "  </tbody>\n",
       "</table>\n",
       "</div>"
      ],
      "text/plain": [
       "                     AvaliacaoDesempenho  TempoExperiencia\n",
       "AvaliacaoDesempenho             6.405500          7.718774\n",
       "TempoExperiencia                7.718774         12.200973"
      ]
     },
     "execution_count": 61,
     "metadata": {},
     "output_type": "execute_result"
    }
   ],
   "source": [
    "df_temp.cov()"
   ]
  },
  {
   "cell_type": "raw",
   "metadata": {},
   "source": [
    "É perceptível que os dados AvaliaçãoDesempenho e TempoExperiência estão bem mais correlacionados quando se trata do banco de dados filtrado pelo contrato temporário do que os dados filtrados pelo banco de dados de contrato permanente, isso pode ser observado somente pelos gráficos trazidos acima."
   ]
  },
  {
   "cell_type": "raw",
   "metadata": {},
   "source": [
    "Dessa forma, quando a afirmação diz que os dados estão muito relacionados quando se trata de Contrato Temporário, é uma afirmação verdadeira, porém, o outro caso é uma afirmação falsa, visto pelos números e pelo gráfico que não está condizente o que foi afirmado."
   ]
  },
  {
   "cell_type": "markdown",
   "metadata": {},
   "source": [
    "<div id=\"p3b\"></div>\n",
    "\n",
    "**P3(b) (0,8 ponto)**\n",
    "\n",
    "*Afirmação:* <br>\n",
    "\"O tempo de experiência, quando considerados apenas os funcionários com contrato temporário, tem assimetria a esquerda.\" <br>\n",
    "\n",
    "Faça **uma análise GRÁFICA adequadamente** que permita **VALIDAR** ou **REFUTAR** a AFIRMAÇÃO acima. \n",
    "\n",
    "Usando o *output* gerado com suas linhas de código, justifique claramente porquê esse valida ou não a afirmação acima. "
   ]
  },
  {
   "cell_type": "code",
   "execution_count": 99,
   "metadata": {},
   "outputs": [
    {
     "data": {
      "image/png": "[encoded data removed]",
      "text/plain": [
       "<Figure size 640x480 with 1 Axes>"
      ]
     },
     "metadata": {},
     "output_type": "display_data"
    }
   ],
   "source": [
    "faixa = np.arange(0, 13, 1)\n",
    "plt.hist(contrato_temp['TempoExperiencia'], bins=faixa, density=True)\n",
    "plt.ylabel('Densidade / Percentual dos funcionários')\n",
    "plt.xlabel('Tempo de Experiência (anos)')\n",
    "plt.title('Contrato Temporário')\n",
    "plt.show()"
   ]
  },
  {
   "cell_type": "raw",
   "metadata": {},
   "source": [
    "Essa afirmação é valida uma vez que, por meio de um histograma, foi possível observar justamente o comportamento descrito. Ou seja, dentre os funcionários com o contrato temporário, muitos possuem pouco tempo de experiência, enquanto poucos possuem muito tempo de experiência."
   ]
  },
  {
   "cell_type": "code",
   "execution_count": null,
   "metadata": {},
   "outputs": [],
   "source": []
  },
  {
   "cell_type": "markdown",
   "metadata": {},
   "source": [
    "<div id=\"p3c\"></div>\n",
    "\n",
    "**P3(c) (0,7 ponto)**\n",
    "\n",
    "*Afirmação:* <br>\n",
    "\"Considerando todos os funcionários, 25% desses receberam no mínimo 46 horas de treinamento no último ano.\" <br>\n",
    "\n",
    "Faça **uma análise NUMÉRICA adequadamente** que permita **VALIDAR** ou **REFUTAR** a AFIRMAÇÃO acima. \n",
    "\n",
    "Usando o *output* gerado com suas linhas de código, justifique claramente porquê esse valida ou não a afirmação acima. "
   ]
  },
  {
   "cell_type": "code",
   "execution_count": 75,
   "metadata": {},
   "outputs": [
    {
     "data": {
      "text/html": [
       "<div>\n",
       "<style scoped>\n",
       "    .dataframe tbody tr th:only-of-type {\n",
       "        vertical-align: middle;\n",
       "    }\n",
       "\n",
       "    .dataframe tbody tr th {\n",
       "        vertical-align: top;\n",
       "    }\n",
       "\n",
       "    .dataframe thead th {\n",
       "        text-align: right;\n",
       "    }\n",
       "</style>\n",
       "<table border=\"1\" class=\"dataframe\">\n",
       "  <thead>\n",
       "    <tr style=\"text-align: right;\">\n",
       "      <th></th>\n",
       "      <th>HorasTreinamento</th>\n",
       "    </tr>\n",
       "  </thead>\n",
       "  <tbody>\n",
       "    <tr>\n",
       "      <th>count</th>\n",
       "      <td>1000.000000</td>\n",
       "    </tr>\n",
       "    <tr>\n",
       "      <th>mean</th>\n",
       "      <td>39.488000</td>\n",
       "    </tr>\n",
       "    <tr>\n",
       "      <th>std</th>\n",
       "      <td>9.555478</td>\n",
       "    </tr>\n",
       "    <tr>\n",
       "      <th>min</th>\n",
       "      <td>9.000000</td>\n",
       "    </tr>\n",
       "    <tr>\n",
       "      <th>25%</th>\n",
       "      <td>33.000000</td>\n",
       "    </tr>\n",
       "    <tr>\n",
       "      <th>50%</th>\n",
       "      <td>39.000000</td>\n",
       "    </tr>\n",
       "    <tr>\n",
       "      <th>75%</th>\n",
       "      <td>46.000000</td>\n",
       "    </tr>\n",
       "    <tr>\n",
       "      <th>max</th>\n",
       "      <td>69.000000</td>\n",
       "    </tr>\n",
       "  </tbody>\n",
       "</table>\n",
       "</div>"
      ],
      "text/plain": [
       "       HorasTreinamento\n",
       "count       1000.000000\n",
       "mean          39.488000\n",
       "std            9.555478\n",
       "min            9.000000\n",
       "25%           33.000000\n",
       "50%           39.000000\n",
       "75%           46.000000\n",
       "max           69.000000"
      ]
     },
     "execution_count": 75,
     "metadata": {},
     "output_type": "execute_result"
    }
   ],
   "source": [
    "dados['HorasTreinamento'].describe().to_frame()"
   ]
  },
  {
   "cell_type": "raw",
   "metadata": {},
   "source": [
    "A afirmação está correta, uma vez que, por meio de um método de análise númerica, é possível observar que a carga mínima de horas dos 25% que mais tiveram horas de treinamento são exatas 46 horas."
   ]
  },
  {
   "cell_type": "code",
   "execution_count": null,
   "metadata": {},
   "outputs": [],
   "source": []
  },
  {
   "cell_type": "markdown",
   "metadata": {},
   "source": [
    "[Volta ao Índice](#indice)"
   ]
  }
 ],
 "metadata": {
  "kernelspec": {
   "display_name": "Python 3 (ipykernel)",
   "language": "python",
   "name": "python3"
  },
  "language_info": {
   "codemirror_mode": {
    "name": "ipython",
    "version": 3
   },
   "file_extension": ".py",
   "mimetype": "text/x-python",
   "name": "python",
   "nbconvert_exporter": "python",
   "pygments_lexer": "ipython3",
   "version": "3.9.13"
  }
 },
 "nbformat": 4,
 "nbformat_minor": 4
}
